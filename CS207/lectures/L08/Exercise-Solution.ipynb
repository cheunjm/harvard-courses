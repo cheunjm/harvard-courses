{
 "cells": [
  {
   "cell_type": "markdown",
   "metadata": {},
   "source": [
    "# Exercise: \"Private\" Methods and Names in Python\n",
    "\n",
    "## Background\n",
    "We will consider two extensions to the real numbers:  complex numbers and dual numbers.  A complex number is defined as $$z = a + ib$$ where $i^{2} = -1$.  $a$ is the real part and $b$ is the imaginary part.  The polar form of a complex number is $$z = \\left|z\\right|e^{i\\theta}$$ where $\\left|z\\right|^{2} = zz^{*} = a^{2} + b^{2}$ and $z^{*} = a - ib$ is the complex conjugate of $z$.  The angle between $a$ and $b$ is given by $$\\theta = \\tan^{-1}\\left(\\frac{b}{a}\\right).$$\n",
    "\n",
    "The dual numbers look similar.  We have $d = a + \\epsilon b$ where $\\epsilon$ is a number (not zero!) such that $\\epsilon^{2} = 0$.  Once again $a$ is the real part, but here $b$ is the dual part.  The polar form of this number is \n",
    "$$d = \\displaystyle a\\left(1 + \\epsilon \\frac{b}{a}\\right).$$  Note that the magnitude of the dual number $\\left|d\\right| = a$ since $dd^{*} = \\left(a + \\epsilon b\\right)\\left(a - \\epsilon b\\right) = a$ where $d^{*} = a - \\epsilon b$ is the conjugate of $d$.\n",
    "\n",
    "Dual numbers are a route to automatic differentiation.  We'll mention them again next week in the AD lectures.\n",
    "\n",
    "## Problem Description\n",
    "\n",
    "### Part 1\n",
    "For today, your task is to write a module called `mynumbers.py`.  The module should contain, at a minimum the following:\n",
    "* A base class called `RealExtensions` with a constructor that accepts $a$ and $b$.\n",
    "* A subclass called `Complex` (inherits from `RealExtensions`) that has the following methods:\n",
    "  * Compute the magnitude of the complex number\n",
    "    * **Note:** This method should be preceeded by a single underscore to indicate that it should not be accessed by a user.\n",
    "  * Compute the \"angle\" of the complex number\n",
    "    * **Note:** This method should be preceeded by a single underscore to indicate that it should not be accessed by a user.\n",
    "  * Compute the polar form of the complex number using `_magnitude()` and `_angle()`\n",
    "* A subclass called `Dual` (inherits from `RealExtensions`) that has methods for compute the magnitude and \"angle\" of the dual number.\n",
    "  * Compute the magnitude of the dual number\n",
    "    * **Note:** This method should be preceeded by a single underscore to indicate that it should not be accessed by a user.\n",
    "  * Compute the \"angle\" of the dual number\n",
    "    * **Note:** This method should be preceeded by a single underscore to indicate that it should not be accessed by a user.\n",
    "  * Compute the polar form of the dual number using `_magnitude()` and `_angle()`\n",
    "\n",
    "The choice of \"hiding\" the `magnitude()` and `angle()` methods may not be a good one.  The goal is to show that this is not really privacy; it's more of a contract between people using the code.  Note that a user can still access `_magnitude()` and `_angle()`.\n",
    "\n",
    "#### Import your module using `import mynumbers` and play around with creating complex and dual numbers.\n",
    "\n",
    "### Part 2\n",
    "Once you're happy with your module, make the following change:\n",
    "* Rename the `Complex` subclass as `_Complex`\n",
    "* Now import your module using `from mynumbers import *`\n",
    "* Try to create a complex number.  What happens?\n",
    "  * **Note:** You can use `dir()` to see what's in your namespace.\n",
    "\n",
    "### Part 3\n",
    "This part is open-ended.  Can you think of a situation in which you may want to use name-mangling for this problem?  Think about a case where a subclass might redefine a method or name from the superclass, but the superclass should still have access to the name."
   ]
  },
  {
   "cell_type": "markdown",
   "metadata": {},
   "source": [
    "## Solution"
   ]
  },
  {
   "cell_type": "markdown",
   "metadata": {},
   "source": [
    "### Part 1"
   ]
  },
  {
   "cell_type": "code",
   "execution_count": 1,
   "metadata": {},
   "outputs": [
    {
     "name": "stdout",
     "output_type": "stream",
     "text": [
      "2.0 1.0\n",
      "2.0 2.0\n",
      "2.23606797749979 0.46364760900080615\n",
      "2.0 1.0\n"
     ]
    }
   ],
   "source": [
    "import mynumbers as myn\n",
    "\n",
    "zc = myn.Complex(2.0,1.0) # complex number\n",
    "print(zc.real, zc.imag)\n",
    "\n",
    "zd = myn.Dual(2.0,2.0)\n",
    "print(zd.real, zd.dual)\n",
    "\n",
    "zc.polar_form()\n",
    "print(zc.r, zc.theta)\n",
    "\n",
    "zd.polar_form()\n",
    "print(zd.r, zd.theta)"
   ]
  },
  {
   "cell_type": "markdown",
   "metadata": {},
   "source": [
    "### Part 2"
   ]
  },
  {
   "cell_type": "code",
   "execution_count": 2,
   "metadata": {},
   "outputs": [
    {
     "ename": "NameError",
     "evalue": "name 'Complex' is not defined",
     "output_type": "error",
     "traceback": [
      "\u001b[0;31m---------------------------------------------------------------------------\u001b[0m",
      "\u001b[0;31mNameError\u001b[0m                                 Traceback (most recent call last)",
      "\u001b[0;32m<ipython-input-2-560129a6dd05>\u001b[0m in \u001b[0;36m<module>\u001b[0;34m()\u001b[0m\n\u001b[1;32m      1\u001b[0m \u001b[0;32mfrom\u001b[0m \u001b[0mmynumbers_p\u001b[0m \u001b[0;32mimport\u001b[0m \u001b[0;34m*\u001b[0m\u001b[0;34m\u001b[0m\u001b[0m\n\u001b[1;32m      2\u001b[0m \u001b[0;34m\u001b[0m\u001b[0m\n\u001b[0;32m----> 3\u001b[0;31m \u001b[0mzc\u001b[0m \u001b[0;34m=\u001b[0m \u001b[0mComplex\u001b[0m\u001b[0;34m(\u001b[0m\u001b[0;36m2.0\u001b[0m\u001b[0;34m,\u001b[0m \u001b[0;36m1.0\u001b[0m\u001b[0;34m)\u001b[0m\u001b[0;34m\u001b[0m\u001b[0m\n\u001b[0m",
      "\u001b[0;31mNameError\u001b[0m: name 'Complex' is not defined"
     ]
    }
   ],
   "source": [
    "from mynumbers_p import *\n",
    "\n",
    "zc = Complex(2.0, 1.0)"
   ]
  },
  {
   "cell_type": "markdown",
   "metadata": {},
   "source": [
    "The `Complex` class is not imported if it is preceeded by a single underscore.  In this way, `Complex` is \"private\"."
   ]
  },
  {
   "cell_type": "markdown",
   "metadata": {},
   "source": [
    "### Part 3\n",
    "For some reason you decide to store the components of your number in an immutable data structure.  You do this in the base class via a tuple.  You also decide to provide a method called `number` in a subclass which stores the number as a list (mutable).  If the user calls the `number` method, then you automatically store the number in an immutable data structure as specified in the base class constructor.  You use `super()` to call the base class constructor.  Meanwhile, you store the mutable list of numbers as an attribute in the subclass.  To avoid possible namespace collisions, you elect to mangle the names.\n",
    "\n",
    "See the module `mynumbers_m.py` for an example."
   ]
  },
  {
   "cell_type": "code",
   "execution_count": 5,
   "metadata": {},
   "outputs": [
    {
     "name": "stdout",
     "output_type": "stream",
     "text": [
      "(1, 1) [1, 1]\n"
     ]
    }
   ],
   "source": [
    "import mynumbers_m as myn_m\n",
    "\n",
    "z = myn_m.Complex(1,1)\n",
    "z.number()\n",
    "print(z._RealExtensions__number, z._Complex__number) "
   ]
  },
  {
   "cell_type": "code",
   "execution_count": 6,
   "metadata": {},
   "outputs": [
    {
     "ename": "AttributeError",
     "evalue": "'Complex' object has no attribute '__number'",
     "output_type": "error",
     "traceback": [
      "\u001b[0;31m---------------------------------------------------------------------------\u001b[0m",
      "\u001b[0;31mAttributeError\u001b[0m                            Traceback (most recent call last)",
      "\u001b[0;32m<ipython-input-6-d2bd663c5b75>\u001b[0m in \u001b[0;36m<module>\u001b[0;34m()\u001b[0m\n\u001b[0;32m----> 1\u001b[0;31m \u001b[0mprint\u001b[0m\u001b[0;34m(\u001b[0m\u001b[0mz\u001b[0m\u001b[0;34m.\u001b[0m\u001b[0m__number\u001b[0m\u001b[0;34m)\u001b[0m\u001b[0;34m\u001b[0m\u001b[0m\n\u001b[0m",
      "\u001b[0;31mAttributeError\u001b[0m: 'Complex' object has no attribute '__number'"
     ]
    }
   ],
   "source": [
    "print(z.__number)"
   ]
  }
 ],
 "metadata": {
  "kernelspec": {
   "display_name": "Python 3",
   "language": "python",
   "name": "python3"
  },
  "language_info": {
   "codemirror_mode": {
    "name": "ipython",
    "version": 3
   },
   "file_extension": ".py",
   "mimetype": "text/x-python",
   "name": "python",
   "nbconvert_exporter": "python",
   "pygments_lexer": "ipython3",
   "version": "3.6.5"
  }
 },
 "nbformat": 4,
 "nbformat_minor": 2
}
