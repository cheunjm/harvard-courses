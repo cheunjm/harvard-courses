{
 "cells": [
  {
   "cell_type": "markdown",
   "metadata": {
    "slideshow": {
     "slide_type": "slide"
    }
   },
   "source": [
    "# Lecture 5\n",
    "## Object Oriented Programming\n",
    "### Tuesday, September 18th 2018"
   ]
  },
  {
   "cell_type": "code",
   "execution_count": 1,
   "metadata": {
    "slideshow": {
     "slide_type": "skip"
    }
   },
   "outputs": [],
   "source": [
    "from IPython.display import HTML"
   ]
  },
  {
   "cell_type": "markdown",
   "metadata": {
    "slideshow": {
     "slide_type": "slide"
    }
   },
   "source": [
    "## Motiviation\n",
    "We would like to find a way to represent complex, structured data in the context of our programming language.\n",
    "\n",
    "For example, to represent a location, we might want to associate a `name`, a `latitude` and a `longitude` with it. \n",
    "\n",
    "Thus we would want to create a **compound data type** which carries this information.\n",
    "\n",
    "In C, for example, this is a struct:\n",
    "\n",
    "```C\n",
    "struct location {\n",
    "    float longitude;\n",
    "    float latitude;\n",
    "}\n",
    "```"
   ]
  },
  {
   "cell_type": "markdown",
   "metadata": {
    "slideshow": {
     "slide_type": "slide"
    }
   },
   "source": [
    "### REMEMBER: A language has 3 parts:\n",
    "\n",
    "- expressions and statements: how to structure simple computations\n",
    "- means of combination: how to structure complex computations\n",
    "- means of abstraction: how to build complex units"
   ]
  },
  {
   "cell_type": "markdown",
   "metadata": {
    "slideshow": {
     "slide_type": "slide"
    }
   },
   "source": [
    "## Review\n",
    "\n",
    "- When we write a function, we give it some sensible name which can then be used by a \"client\" programmer. We don't care about how this function is implemented.  We just want to know its signature (API) and use it."
   ]
  },
  {
   "cell_type": "markdown",
   "metadata": {
    "slideshow": {
     "slide_type": "subslide"
    }
   },
   "source": [
    "## Review\n",
    "\n",
    "- When we write a function, we give it some sensible name which can then be used by a \"client\" programmer. We don't care about how this function is implemented.  We just want to know its signature (API) and use it.\n",
    "\n",
    "- In a similar way, we want to *encapsulate* our data: we dont want to know how it is stored and all that.  We just want to be able to use it. This is one of the key ideas behind object oriented programming. "
   ]
  },
  {
   "cell_type": "markdown",
   "metadata": {
    "slideshow": {
     "slide_type": "subslide"
    }
   },
   "source": [
    "## Review\n",
    "\n",
    "- When we write a function, we give it some sensible name which can then be used by a \"client\" programmer. We don't care about how this function is implemented.  We just want to know its signature (API) and use it.\n",
    "\n",
    "- In a similar way, we want to *encapsulate* our data: we dont want to know how it is stored and all that.  We just want to be able to use it. This is one of the key ideas behind object oriented programming. \n",
    "\n",
    "- To do this, write **constructors** that make objects.  We also write other functions that access or change data on the object. These functions are called the \"methods\" of the object, and are what the client programmer uses."
   ]
  },
  {
   "cell_type": "markdown",
   "metadata": {
    "slideshow": {
     "slide_type": "slide"
    }
   },
   "source": [
    "# First Examples"
   ]
  },
  {
   "cell_type": "markdown",
   "metadata": {
    "slideshow": {
     "slide_type": "subslide"
    }
   },
   "source": [
    "### Objects thru tuples:  An object for complex numbers\n",
    "\n",
    "How might we implement such objects? First, lets think of tuples."
   ]
  },
  {
   "cell_type": "code",
   "execution_count": 2,
   "metadata": {
    "slideshow": {
     "slide_type": "fragment"
    }
   },
   "outputs": [],
   "source": [
    "def Complex(a, b): # constructor\n",
    "    return (a,b)\n",
    "\n",
    "def real(c): # method\n",
    "    return c[0]\n",
    "\n",
    "def imag(c):\n",
    "    return c[1]\n",
    "\n",
    "def str_complex(c):\n",
    "    return \"{0}+{1}i\".format(c[0], c[1])"
   ]
  },
  {
   "cell_type": "code",
   "execution_count": 3,
   "metadata": {
    "slideshow": {
     "slide_type": "fragment"
    }
   },
   "outputs": [
    {
     "name": "stdout",
     "output_type": "stream",
     "text": [
      "1       1+2i\n"
     ]
    }
   ],
   "source": [
    "c1 = Complex(1,2) # constructor\n",
    "print(real(c1), \"     \", str_complex(c1))"
   ]
  },
  {
   "cell_type": "markdown",
   "metadata": {
    "slideshow": {
     "slide_type": "subslide"
    }
   },
   "source": [
    "But things aren't hidden so I can get through the interface:"
   ]
  },
  {
   "cell_type": "code",
   "execution_count": 4,
   "metadata": {
    "slideshow": {
     "slide_type": "fragment"
    }
   },
   "outputs": [
    {
     "data": {
      "text/plain": [
       "1"
      ]
     },
     "execution_count": 4,
     "metadata": {},
     "output_type": "execute_result"
    }
   ],
   "source": [
    "c1[0]"
   ]
  },
  {
   "cell_type": "markdown",
   "metadata": {
    "slideshow": {
     "slide_type": "fragment"
    }
   },
   "source": [
    "Because I used a tuple, and a tuple is immutable, I can't change this complex number once it's created."
   ]
  },
  {
   "cell_type": "code",
   "execution_count": 5,
   "metadata": {
    "slideshow": {
     "slide_type": "fragment"
    }
   },
   "outputs": [
    {
     "ename": "TypeError",
     "evalue": "'tuple' object does not support item assignment",
     "output_type": "error",
     "traceback": [
      "\u001b[0;31m---------------------------------------------------------------------------\u001b[0m",
      "\u001b[0;31mTypeError\u001b[0m                                 Traceback (most recent call last)",
      "\u001b[0;32m<ipython-input-5-87998c7e6ab1>\u001b[0m in \u001b[0;36m<module>\u001b[0;34m()\u001b[0m\n\u001b[0;32m----> 1\u001b[0;31m \u001b[0mc1\u001b[0m\u001b[0;34m[\u001b[0m\u001b[0;36m0\u001b[0m\u001b[0;34m]\u001b[0m \u001b[0;34m=\u001b[0m \u001b[0;36m2\u001b[0m\u001b[0;34m\u001b[0m\u001b[0m\n\u001b[0m",
      "\u001b[0;31mTypeError\u001b[0m: 'tuple' object does not support item assignment"
     ]
    }
   ],
   "source": [
    "c1[0] = 2"
   ]
  },
  {
   "cell_type": "markdown",
   "metadata": {
    "slideshow": {
     "slide_type": "subslide"
    }
   },
   "source": [
    "### Objects thru closures\n",
    "\n",
    "Let's try an implementation that uses a closure to capture the value of arguments."
   ]
  },
  {
   "cell_type": "code",
   "execution_count": 6,
   "metadata": {
    "slideshow": {
     "slide_type": "fragment"
    }
   },
   "outputs": [],
   "source": [
    "def Complex2(a, b): # constructor\n",
    "    def dispatch(message): # capture a and b at constructor-run time\n",
    "        if message==\"real\":\n",
    "            return a\n",
    "        elif message==\"imag\":\n",
    "            return b\n",
    "        elif message==\"both\":\n",
    "            return \"{0}+{1}i\".format(a, b)\n",
    "    return dispatch"
   ]
  },
  {
   "cell_type": "code",
   "execution_count": 7,
   "metadata": {
    "slideshow": {
     "slide_type": "fragment"
    }
   },
   "outputs": [
    {
     "name": "stdout",
     "output_type": "stream",
     "text": [
      "1       2       1+2i\n"
     ]
    }
   ],
   "source": [
    "z = Complex2(1,2)\n",
    "print(z(\"real\"), \"     \", z(\"imag\"), \"     \", z(\"both\"))"
   ]
  },
  {
   "cell_type": "markdown",
   "metadata": {
    "slideshow": {
     "slide_type": "fragment"
    }
   },
   "source": [
    "This looks pretty good so far.\n",
    "\n",
    "The only problem is that we don't have a way to change the real and imaginary parts.\n",
    "\n",
    "For this, we need to add things called `setters`."
   ]
  },
  {
   "cell_type": "markdown",
   "metadata": {
    "slideshow": {
     "slide_type": "subslide"
    }
   },
   "source": [
    "### Objects with Setters"
   ]
  },
  {
   "cell_type": "code",
   "execution_count": 8,
   "metadata": {
    "slideshow": {
     "slide_type": "fragment"
    }
   },
   "outputs": [],
   "source": [
    "def Complex3(a, b):\n",
    "    def dispatch(message, value=None):\n",
    "        nonlocal a, b\n",
    "        if message=='set_real' and value != None:\n",
    "            a = value\n",
    "        elif message=='set_imag' and value != None:\n",
    "            b = value\n",
    "        elif message==\"real\":\n",
    "            return a\n",
    "        elif message=='imag':\n",
    "            return b\n",
    "        elif message==\"both\":\n",
    "            return \"{0}+{1}i\".format(a, b)\n",
    "    return dispatch"
   ]
  },
  {
   "cell_type": "code",
   "execution_count": 9,
   "metadata": {
    "slideshow": {
     "slide_type": "fragment"
    }
   },
   "outputs": [
    {
     "name": "stdout",
     "output_type": "stream",
     "text": [
      "1       2       1+2i\n"
     ]
    }
   ],
   "source": [
    "c3 = Complex3(1,2)\n",
    "print(c3(\"real\"), \"     \", c3(\"imag\"), \"     \", c3(\"both\"))"
   ]
  },
  {
   "cell_type": "code",
   "execution_count": 10,
   "metadata": {
    "slideshow": {
     "slide_type": "fragment"
    }
   },
   "outputs": [],
   "source": [
    "c3('set_real', 2)"
   ]
  },
  {
   "cell_type": "code",
   "execution_count": 11,
   "metadata": {
    "scrolled": true,
    "slideshow": {
     "slide_type": "fragment"
    }
   },
   "outputs": [
    {
     "name": "stdout",
     "output_type": "stream",
     "text": [
      "2       2       2+2i\n"
     ]
    }
   ],
   "source": [
    "print(c3(\"real\"), \"     \", c3(\"imag\"), \"     \", c3(\"both\"))"
   ]
  },
  {
   "cell_type": "markdown",
   "metadata": {
    "slideshow": {
     "slide_type": "subslide"
    }
   },
   "source": [
    "### Objects with Setters\n",
    "\n",
    "#### `nonlocal`\n",
    "We used `nonlocal` in order to reset a name that was bound in a different scope.\n",
    "\n",
    "You have a homework problem that uses the `nonlocal` keyword in which you are required to think through the mechanics of what is going on.\n",
    "\n",
    "[PEP 3104](https://www.python.org/dev/peps/pep-3104/) is a great resource on the `nonlocal` keyword."
   ]
  },
  {
   "cell_type": "markdown",
   "metadata": {
    "slideshow": {
     "slide_type": "slide"
    }
   },
   "source": [
    "### Python Classes and instance variables\n",
    "\n",
    "We constructed an object system above. But `Python` comes with its own.\n",
    "\n",
    "Classes allow us to define our own *types* in the `Python` type system."
   ]
  },
  {
   "cell_type": "code",
   "execution_count": 12,
   "metadata": {
    "slideshow": {
     "slide_type": "fragment"
    }
   },
   "outputs": [],
   "source": [
    "class ComplexClass():\n",
    "    \n",
    "    def __init__(self, a, b):\n",
    "        self.real = a\n",
    "        self.imaginary = b"
   ]
  },
  {
   "cell_type": "markdown",
   "metadata": {
    "slideshow": {
     "slide_type": "fragment"
    }
   },
   "source": [
    "`__init__` is a special method run automatically by `Python`.\n",
    "\n",
    "It is a *constructor*.\n",
    "\n",
    "`self` is the *instance* of the object.\n",
    "\n",
    "It acts like `this` in `C++` but `self` is explicit."
   ]
  },
  {
   "cell_type": "code",
   "execution_count": 13,
   "metadata": {
    "slideshow": {
     "slide_type": "subslide"
    }
   },
   "outputs": [
    {
     "data": {
      "text/html": [
       "<iframe width=\"800\" height=\"500\" frameborder=\"0\" src=\"http://pythontutor.com/iframe-embed.html#code=class%20ComplexClass%28%29%3A%0A%20%20%20%20%0A%20%20%20%20def%20__init__%28self,%20a,%20b%29%3A%0A%20%20%20%20%20%20%20%20self.real%20%3D%20a%0A%20%20%20%20%20%20%20%20self.imaginary%20%3D%20b%0A%0Ac1%20%3D%20ComplexClass%281,2%29&codeDivHeight=400&codeDivWidth=350&cumulative=false&curInstr=0&heapPrimitives=false&origin=opt-frontend.js&py=3&rawInputLstJSON=%5B%5D&textReferences=false\"> </iframe>"
      ],
      "text/plain": [
       "<IPython.core.display.HTML object>"
      ]
     },
     "execution_count": 13,
     "metadata": {},
     "output_type": "execute_result"
    }
   ],
   "source": [
    "HTML('<iframe width=\"800\" height=\"500\" frameborder=\"0\" src=\"http://pythontutor.com/iframe-embed.html#code=class%20ComplexClass%28%29%3A%0A%20%20%20%20%0A%20%20%20%20def%20__init__%28self,%20a,%20b%29%3A%0A%20%20%20%20%20%20%20%20self.real%20%3D%20a%0A%20%20%20%20%20%20%20%20self.imaginary%20%3D%20b%0A%0Ac1%20%3D%20ComplexClass%281,2%29&codeDivHeight=400&codeDivWidth=350&cumulative=false&curInstr=0&heapPrimitives=false&origin=opt-frontend.js&py=3&rawInputLstJSON=%5B%5D&textReferences=false\"> </iframe>')"
   ]
  },
  {
   "cell_type": "code",
   "execution_count": 14,
   "metadata": {
    "slideshow": {
     "slide_type": "subslide"
    }
   },
   "outputs": [
    {
     "name": "stdout",
     "output_type": "stream",
     "text": [
      "<__main__.ComplexClass object at 0x10a9f77f0>\n",
      "1\n"
     ]
    }
   ],
   "source": [
    "c1 = ComplexClass(1,2)\n",
    "print(c1)\n",
    "print(c1.real)"
   ]
  },
  {
   "cell_type": "code",
   "execution_count": 15,
   "metadata": {
    "slideshow": {
     "slide_type": "fragment"
    }
   },
   "outputs": [
    {
     "name": "stdout",
     "output_type": "stream",
     "text": [
      "{'real': 1, 'imaginary': 2}       <class '__main__.ComplexClass'>\n"
     ]
    }
   ],
   "source": [
    "print(vars(c1), \"     \",type(c1))"
   ]
  },
  {
   "cell_type": "code",
   "execution_count": 16,
   "metadata": {
    "slideshow": {
     "slide_type": "fragment"
    }
   },
   "outputs": [
    {
     "name": "stdout",
     "output_type": "stream",
     "text": [
      "<__main__.ComplexClass object at 0x10a9f77f0>       5.0       2\n"
     ]
    }
   ],
   "source": [
    "c1.real=5.0\n",
    "print(c1, \"     \", c1.real, \"     \", c1.imaginary)"
   ]
  },
  {
   "cell_type": "markdown",
   "metadata": {
    "slideshow": {
     "slide_type": "slide"
    }
   },
   "source": [
    "## Inheritance and Polymorphism"
   ]
  },
  {
   "cell_type": "markdown",
   "metadata": {
    "slideshow": {
     "slide_type": "subslide"
    }
   },
   "source": [
    "### Inheritance\n",
    "\n",
    "**Inheritance** is the idea that a \"Cat\" **is-a** \"Animal\" and a \"Dog\" **is-a** \"Animal\". \n",
    "\n",
    "Animals make sounds, but Cats Meow and Dogs Bark.\n",
    "\n",
    "Inheritance makes sure that *methods not defined in a child are found and used from a parent*."
   ]
  },
  {
   "cell_type": "markdown",
   "metadata": {
    "slideshow": {
     "slide_type": "subslide"
    }
   },
   "source": [
    "### Polymorphism\n",
    "\n",
    "**Polymorphism** is the idea that an **interface** is specified, but not necessarily implemented, by a superclass and then the interface is implemented in subclasses (differently).\n",
    "\n",
    "[Actually Polymorphism is much more complex and interesting than this, and this definition is really an outcome of polymorphism. But we'll come to this later.]"
   ]
  },
  {
   "cell_type": "markdown",
   "metadata": {
    "slideshow": {
     "slide_type": "subslide"
    }
   },
   "source": [
    "###  Example:  Super- and subclasses"
   ]
  },
  {
   "cell_type": "code",
   "execution_count": 17,
   "metadata": {
    "slideshow": {
     "slide_type": "fragment"
    }
   },
   "outputs": [],
   "source": [
    "class Animal():\n",
    "    \n",
    "    def __init__(self, name):\n",
    "        self.name = name\n",
    "        \n",
    "    def make_sound(self):\n",
    "        raise NotImplementedError\n",
    "    \n",
    "class Dog(Animal):\n",
    "    \n",
    "    def make_sound(self):\n",
    "        return \"Bark\"\n",
    "    \n",
    "class Cat(Animal):\n",
    "    \n",
    "    def __init__(self, name):\n",
    "        self.name = \"A very interesting cat: {}\".format(name)\n",
    "        \n",
    "    def make_sound(self):\n",
    "        return \"Meow\""
   ]
  },
  {
   "cell_type": "markdown",
   "metadata": {
    "slideshow": {
     "slide_type": "fragment"
    }
   },
   "source": [
    "* `Animal` is the superclass (a.k.a the base class).\n",
    "* `Dog` and `Cat` are both subclasses (a.k.a derived classes) of the `Animal` superclass."
   ]
  },
  {
   "cell_type": "markdown",
   "metadata": {
    "slideshow": {
     "slide_type": "subslide"
    }
   },
   "source": [
    "### Using the `Animal` class"
   ]
  },
  {
   "cell_type": "code",
   "execution_count": 18,
   "metadata": {
    "slideshow": {
     "slide_type": "fragment"
    }
   },
   "outputs": [
    {
     "name": "stdout",
     "output_type": "stream",
     "text": [
      "David\n"
     ]
    },
    {
     "ename": "NotImplementedError",
     "evalue": "",
     "output_type": "error",
     "traceback": [
      "\u001b[0;31m---------------------------------------------------------------------------\u001b[0m",
      "\u001b[0;31mNotImplementedError\u001b[0m                       Traceback (most recent call last)",
      "\u001b[0;32m<ipython-input-18-220932a3ec32>\u001b[0m in \u001b[0;36m<module>\u001b[0;34m()\u001b[0m\n\u001b[1;32m      1\u001b[0m \u001b[0ma0\u001b[0m \u001b[0;34m=\u001b[0m \u001b[0mAnimal\u001b[0m\u001b[0;34m(\u001b[0m\u001b[0;34m\"David\"\u001b[0m\u001b[0;34m)\u001b[0m\u001b[0;34m\u001b[0m\u001b[0m\n\u001b[1;32m      2\u001b[0m \u001b[0mprint\u001b[0m\u001b[0;34m(\u001b[0m\u001b[0ma0\u001b[0m\u001b[0;34m.\u001b[0m\u001b[0mname\u001b[0m\u001b[0;34m)\u001b[0m\u001b[0;34m\u001b[0m\u001b[0m\n\u001b[0;32m----> 3\u001b[0;31m \u001b[0ma0\u001b[0m\u001b[0;34m.\u001b[0m\u001b[0mmake_sound\u001b[0m\u001b[0;34m(\u001b[0m\u001b[0;34m)\u001b[0m\u001b[0;34m\u001b[0m\u001b[0m\n\u001b[0m",
      "\u001b[0;32m<ipython-input-17-e12de40d3394>\u001b[0m in \u001b[0;36mmake_sound\u001b[0;34m(self)\u001b[0m\n\u001b[1;32m      5\u001b[0m \u001b[0;34m\u001b[0m\u001b[0m\n\u001b[1;32m      6\u001b[0m     \u001b[0;32mdef\u001b[0m \u001b[0mmake_sound\u001b[0m\u001b[0;34m(\u001b[0m\u001b[0mself\u001b[0m\u001b[0;34m)\u001b[0m\u001b[0;34m:\u001b[0m\u001b[0;34m\u001b[0m\u001b[0m\n\u001b[0;32m----> 7\u001b[0;31m         \u001b[0;32mraise\u001b[0m \u001b[0mNotImplementedError\u001b[0m\u001b[0;34m\u001b[0m\u001b[0m\n\u001b[0m\u001b[1;32m      8\u001b[0m \u001b[0;34m\u001b[0m\u001b[0m\n\u001b[1;32m      9\u001b[0m \u001b[0;32mclass\u001b[0m \u001b[0mDog\u001b[0m\u001b[0;34m(\u001b[0m\u001b[0mAnimal\u001b[0m\u001b[0;34m)\u001b[0m\u001b[0;34m:\u001b[0m\u001b[0;34m\u001b[0m\u001b[0m\n",
      "\u001b[0;31mNotImplementedError\u001b[0m: "
     ]
    }
   ],
   "source": [
    "a0 = Animal(\"David\")\n",
    "print(a0.name)\n",
    "a0.make_sound()"
   ]
  },
  {
   "cell_type": "code",
   "execution_count": 19,
   "metadata": {
    "slideshow": {
     "slide_type": "subslide"
    }
   },
   "outputs": [
    {
     "name": "stdout",
     "output_type": "stream",
     "text": [
      "Snoopy\n",
      "True\n",
      "Bark\n",
      "--------\n",
      "A very interesting cat: Hello Kitty\n",
      "True\n",
      "Meow\n",
      "--------\n"
     ]
    }
   ],
   "source": [
    "a1 = Dog(\"Snoopy\")\n",
    "a2 = Cat(\"Hello Kitty\")\n",
    "animals = [a1, a2]\n",
    "for a in animals:\n",
    "    print(a.name)\n",
    "    print(isinstance(a, Animal))\n",
    "    print(a.make_sound())\n",
    "    print('--------')"
   ]
  },
  {
   "cell_type": "code",
   "execution_count": 20,
   "metadata": {
    "slideshow": {
     "slide_type": "fragment"
    }
   },
   "outputs": [
    {
     "name": "stdout",
     "output_type": "stream",
     "text": [
      "<bound method Dog.make_sound of <__main__.Dog object at 0x10aa08160>>\n",
      "<function Dog.make_sound at 0x10a9e06a8>\n"
     ]
    }
   ],
   "source": [
    "print(a1.make_sound)\n",
    "print(Dog.make_sound)"
   ]
  },
  {
   "cell_type": "code",
   "execution_count": 21,
   "metadata": {
    "slideshow": {
     "slide_type": "subslide"
    }
   },
   "outputs": [
    {
     "name": "stdout",
     "output_type": "stream",
     "text": [
      "Bark\n",
      "----\n",
      "Bark\n"
     ]
    }
   ],
   "source": [
    "print(a1.make_sound())\n",
    "print('----')\n",
    "print(Dog.make_sound(a1))"
   ]
  },
  {
   "cell_type": "code",
   "execution_count": 22,
   "metadata": {
    "scrolled": true,
    "slideshow": {
     "slide_type": "fragment"
    }
   },
   "outputs": [
    {
     "ename": "TypeError",
     "evalue": "make_sound() missing 1 required positional argument: 'self'",
     "output_type": "error",
     "traceback": [
      "\u001b[0;31m---------------------------------------------------------------------------\u001b[0m",
      "\u001b[0;31mTypeError\u001b[0m                                 Traceback (most recent call last)",
      "\u001b[0;32m<ipython-input-22-906531fce15c>\u001b[0m in \u001b[0;36m<module>\u001b[0;34m()\u001b[0m\n\u001b[0;32m----> 1\u001b[0;31m \u001b[0mDog\u001b[0m\u001b[0;34m.\u001b[0m\u001b[0mmake_sound\u001b[0m\u001b[0;34m(\u001b[0m\u001b[0;34m)\u001b[0m\u001b[0;34m\u001b[0m\u001b[0m\n\u001b[0m",
      "\u001b[0;31mTypeError\u001b[0m: make_sound() missing 1 required positional argument: 'self'"
     ]
    }
   ],
   "source": [
    "Dog.make_sound()"
   ]
  },
  {
   "cell_type": "markdown",
   "metadata": {
    "slideshow": {
     "slide_type": "slide"
    }
   },
   "source": [
    "### How does this all work?"
   ]
  },
  {
   "cell_type": "markdown",
   "metadata": {
    "slideshow": {
     "slide_type": "subslide"
    }
   },
   "source": [
    "```python\n",
    "class Animal():\n",
    "    def __init__(self, name):\n",
    "        self.name = name\n",
    "\n",
    "    def make_sound(self):\n",
    "        raise NotImplementedError\n",
    "\n",
    "class Dog(Animal):\n",
    "    def make_sound(self):\n",
    "        return \"Bark\"\n",
    "\n",
    "class Cat(Animal):\n",
    "\n",
    "     def __init__(self, name):\n",
    "         self.name = \"A very interesting cat: {}\".format(name)\n",
    "\n",
    "     def make_sound(self):\n",
    "         return \"Meow\"\n",
    "\n",
    "a1 = Dog(\"Snoopy\")\n",
    "a2 = Cat(\"Hello Kitty\")\n",
    "animals = [a1, a2]\n",
    "for a in animals:\n",
    "    print(a.name)\n",
    "    print(isinstance(a, Animal))\n",
    "    print(a.make_sound())\n",
    "    print('--------')\n",
    "```"
   ]
  },
  {
   "cell_type": "markdown",
   "metadata": {
    "slideshow": {
     "slide_type": "fragment"
    }
   },
   "source": [
    "[Cats and Dogs Example](https://goo.gl/EWMvAA)"
   ]
  },
  {
   "cell_type": "code",
   "execution_count": 23,
   "metadata": {
    "scrolled": false,
    "slideshow": {
     "slide_type": "skip"
    }
   },
   "outputs": [
    {
     "data": {
      "text/html": [
       "<iframe width=\"800\" height=\"500\" frameborder=\"0\" src=\"http://pythontutor.com/iframe-embed.html#code=class%20Animal%28%29%3A%0A%20%20%20%20%0A%20%20%20%20def%20__init__%28self,%20name%29%3A%0A%20%20%20%20%20%20%20%20self.name%20%3D%20name%0A%20%20%20%20%20%20%20%20%0A%20%20%20%20def%20make_sound%28self%29%3A%0A%20%20%20%20%20%20%20%20raise%20NotImplementedError%0A%20%20%20%20%0Aclass%20Dog%28Animal%29%3A%0A%20%20%20%20%0A%20%20%20%20def%20make_sound%28self%29%3A%0A%20%20%20%20%20%20%20%20return%20%22Bark%22%0A%20%20%20%20%0Aclass%20Cat%28Animal%29%3A%0A%20%20%20%20%0A%20%20%20%20def%20__init__%28self,%20name%29%3A%0A%20%20%20%20%20%20%20%20self.name%20%3D%20%22A%20very%20interesting%20cat%3A%20%7B%7D%22.format%28name%29%0A%20%20%20%20%20%20%20%20%0A%20%20%20%20def%20make_sound%28self%29%3A%0A%20%20%20%20%20%20%20%20return%20%22Meow%22%0A%0Aa1%20%3D%20Dog%28%22Snoopy%22%29%0Aa2%20%3D%20Cat%28%22Hello%20Kitty%22%29%0Aanimals%20%3D%20%5Ba1,%20a2%5D%0Afor%20a%20in%20animals%3A%0A%20%20%20%20print%28a.name%29%0A%20%20%20%20print%28isinstance%28a,%20Animal%29%29%0A%20%20%20%20print%28a.make_sound%28%29%29%0A%20%20%20%20print%28'--------'%29&codeDivHeight=400&codeDivWidth=350&cumulative=false&curInstr=0&heapPrimitives=false&origin=opt-frontend.js&py=3&rawInputLstJSON=%5B%5D&textReferences=false\"> </iframe>"
      ],
      "text/plain": [
       "<IPython.core.display.HTML object>"
      ]
     },
     "execution_count": 23,
     "metadata": {},
     "output_type": "execute_result"
    }
   ],
   "source": [
    "HTML('<iframe width=\"800\" height=\"500\" frameborder=\"0\" src=\"http://pythontutor.com/iframe-embed.html#code=class%20Animal%28%29%3A%0A%20%20%20%20%0A%20%20%20%20def%20__init__%28self,%20name%29%3A%0A%20%20%20%20%20%20%20%20self.name%20%3D%20name%0A%20%20%20%20%20%20%20%20%0A%20%20%20%20def%20make_sound%28self%29%3A%0A%20%20%20%20%20%20%20%20raise%20NotImplementedError%0A%20%20%20%20%0Aclass%20Dog%28Animal%29%3A%0A%20%20%20%20%0A%20%20%20%20def%20make_sound%28self%29%3A%0A%20%20%20%20%20%20%20%20return%20%22Bark%22%0A%20%20%20%20%0Aclass%20Cat%28Animal%29%3A%0A%20%20%20%20%0A%20%20%20%20def%20__init__%28self,%20name%29%3A%0A%20%20%20%20%20%20%20%20self.name%20%3D%20%22A%20very%20interesting%20cat%3A%20%7B%7D%22.format%28name%29%0A%20%20%20%20%20%20%20%20%0A%20%20%20%20def%20make_sound%28self%29%3A%0A%20%20%20%20%20%20%20%20return%20%22Meow%22%0A%0Aa1%20%3D%20Dog%28%22Snoopy%22%29%0Aa2%20%3D%20Cat%28%22Hello%20Kitty%22%29%0Aanimals%20%3D%20%5Ba1,%20a2%5D%0Afor%20a%20in%20animals%3A%0A%20%20%20%20print%28a.name%29%0A%20%20%20%20print%28isinstance%28a,%20Animal%29%29%0A%20%20%20%20print%28a.make_sound%28%29%29%0A%20%20%20%20print%28\\'--------\\'%29&codeDivHeight=400&codeDivWidth=350&cumulative=false&curInstr=0&heapPrimitives=false&origin=opt-frontend.js&py=3&rawInputLstJSON=%5B%5D&textReferences=false\"> </iframe>')"
   ]
  },
  {
   "cell_type": "markdown",
   "metadata": {
    "slideshow": {
     "slide_type": "slide"
    }
   },
   "source": [
    "### Calling a superclasses initializer\n",
    "\n",
    "* Say we dont want to do all the work of setting the name variable in the subclasses."
   ]
  },
  {
   "cell_type": "markdown",
   "metadata": {
    "slideshow": {
     "slide_type": "subslide"
    }
   },
   "source": [
    "### Calling a superclasses initializer\n",
    "\n",
    "* Say we dont want to do all the work of setting the name variable in the subclasses.\n",
    "\n",
    "* We can set this \"common\" work up in the superclass and use `super` to call the superclass's initializer from the subclass."
   ]
  },
  {
   "cell_type": "markdown",
   "metadata": {
    "slideshow": {
     "slide_type": "subslide"
    }
   },
   "source": [
    "### Calling a superclasses initializer\n",
    "\n",
    "* Say we dont want to do all the work of setting the name variable in the subclasses.\n",
    "\n",
    "* We can set this \"common\" work up in the superclass and use `super` to call the superclass's initializer from the subclass.\n",
    "\n",
    "* There's another way to think about this:\n",
    "  - A subclass method will be called instead of a superclass method if the method is in both the sub- and superclass and we call the subclass (polymorphism!).\n",
    "  - If we really want the superclass method, then we can use the `super` built-in function."
   ]
  },
  {
   "cell_type": "markdown",
   "metadata": {
    "slideshow": {
     "slide_type": "subslide"
    }
   },
   "source": [
    "### Calling a superclasses initializer\n",
    "\n",
    "* Say we dont want to do all the work of setting the name variable in the subclasses.\n",
    "\n",
    "* We can set this \"common\" work up in the superclass and use `super` to call the superclass's initializer from the subclass.\n",
    "\n",
    "* There's another way to think about this:\n",
    "  - A subclass method will be called instead of a superclass method if the method is in both the sub- and superclass and we call the subclass (polymorphism!).\n",
    "  - If we really want the superclass method, then we can use the `super` built-in function.\n",
    "\n",
    "* See https://rhettinger.wordpress.com/2011/05/26/super-considered-super/"
   ]
  },
  {
   "cell_type": "code",
   "execution_count": 24,
   "metadata": {
    "slideshow": {
     "slide_type": "subslide"
    }
   },
   "outputs": [
    {
     "name": "stdout",
     "output_type": "stream",
     "text": [
      "Name is Tom\n",
      "Created Tom as prey\n",
      "{'animaltype': 'prey', 'name': 'Tom'}\n",
      "Name is Jerry\n",
      "{'name': 'Jerry'}\n"
     ]
    }
   ],
   "source": [
    "class Animal():\n",
    "    def __init__(self, name):\n",
    "        self.name = name\n",
    "        print(\"Name is\", self.name)\n",
    "        \n",
    "class Mouse(Animal):\n",
    "    def __init__(self, name):\n",
    "        self.animaltype = \"prey\"\n",
    "        super().__init__(name)\n",
    "        print(\"Created %s as %s\" % (self.name, self.animaltype))\n",
    "    \n",
    "class Cat(Animal):\n",
    "    pass\n",
    "\n",
    "a1 = Mouse(\"Tom\")\n",
    "print(vars(a1))\n",
    "a2 = Cat(\"Jerry\")\n",
    "print(vars(a2))"
   ]
  },
  {
   "cell_type": "markdown",
   "metadata": {
    "slideshow": {
     "slide_type": "fragment"
    }
   },
   "source": [
    "[Tom and Jerry](https://goo.gl/WRM9uj)"
   ]
  },
  {
   "cell_type": "code",
   "execution_count": 25,
   "metadata": {
    "slideshow": {
     "slide_type": "skip"
    }
   },
   "outputs": [
    {
     "data": {
      "text/html": [
       "<iframe width=\"800\" height=\"500\" frameborder=\"0\" src=\"http://pythontutor.com/iframe-embed.html#code=class%20Animal%28%29%3A%0A%20%20%20%20%0A%20%20%20%20def%20__init__%28self,%20name%29%3A%0A%20%20%20%20%20%20%20%20self.name%3Dname%0A%20%20%20%20%20%20%20%20print%28%22Name%20is%22,%20self.name%29%0A%20%20%20%20%20%20%20%20%0Aclass%20Mouse%28Animal%29%3A%0A%20%20%20%20def%20__init__%28self,%20name%29%3A%0A%20%20%20%20%20%20%20%20self.animaltype%3D%22prey%22%0A%20%20%20%20%20%20%20%20super%28%29.__init__%28name%29%0A%20%20%20%20%20%20%20%20print%28%22Created%20%25s%20as%20%25s%22%20%25%20%28self.name,%20self.animaltype%29%29%0A%20%20%20%20%0Aclass%20Cat%28Animal%29%3A%0A%20%20%20%20pass%0A%0Aa1%20%3D%20Mouse%28%22Tom%22%29%0Aa2%20%3D%20Cat%28%22Jerry%22%29&codeDivHeight=400&codeDivWidth=350&cumulative=false&curInstr=0&heapPrimitives=false&origin=opt-frontend.js&py=3&rawInputLstJSON=%5B%5D&textReferences=false\"> </iframe>"
      ],
      "text/plain": [
       "<IPython.core.display.HTML object>"
      ]
     },
     "execution_count": 25,
     "metadata": {},
     "output_type": "execute_result"
    }
   ],
   "source": [
    "HTML('<iframe width=\"800\" height=\"500\" frameborder=\"0\" src=\"http://pythontutor.com/iframe-embed.html#code=class%20Animal%28%29%3A%0A%20%20%20%20%0A%20%20%20%20def%20__init__%28self,%20name%29%3A%0A%20%20%20%20%20%20%20%20self.name%3Dname%0A%20%20%20%20%20%20%20%20print%28%22Name%20is%22,%20self.name%29%0A%20%20%20%20%20%20%20%20%0Aclass%20Mouse%28Animal%29%3A%0A%20%20%20%20def%20__init__%28self,%20name%29%3A%0A%20%20%20%20%20%20%20%20self.animaltype%3D%22prey%22%0A%20%20%20%20%20%20%20%20super%28%29.__init__%28name%29%0A%20%20%20%20%20%20%20%20print%28%22Created%20%25s%20as%20%25s%22%20%25%20%28self.name,%20self.animaltype%29%29%0A%20%20%20%20%0Aclass%20Cat%28Animal%29%3A%0A%20%20%20%20pass%0A%0Aa1%20%3D%20Mouse%28%22Tom%22%29%0Aa2%20%3D%20Cat%28%22Jerry%22%29&codeDivHeight=400&codeDivWidth=350&cumulative=false&curInstr=0&heapPrimitives=false&origin=opt-frontend.js&py=3&rawInputLstJSON=%5B%5D&textReferences=false\"> </iframe>')"
   ]
  },
  {
   "cell_type": "markdown",
   "metadata": {
    "slideshow": {
     "slide_type": "slide"
    }
   },
   "source": [
    "## Interfaces\n",
    "\n",
    "* The above examples show inheritance and polymorphism.\n",
    "* Notice that we didn't actually need to set up the inheritance.\n",
    "* We could have just defined 2 different classes and have them both `make_sound`.\n",
    "* In `Java` and `C++` this is done more formally through Interfaces and  Abstract Base Classes, respectively, plus inheritance.\n",
    "* In Python, this agreement to define `make_sound` is called **duck typing**.\n",
    "  - *\"If it walks like a duck and quacks like a duck, it is a duck.\"*"
   ]
  },
  {
   "cell_type": "code",
   "execution_count": 26,
   "metadata": {
    "slideshow": {
     "slide_type": "fragment"
    }
   },
   "outputs": [
    {
     "name": "stdout",
     "output_type": "stream",
     "text": [
      "False       Bark\n",
      "False       Meow\n"
     ]
    }
   ],
   "source": [
    "# Both implement the \"Animal\" Protocol, which consists of the one make_sound function\n",
    "class Dog():\n",
    "    \n",
    "    def make_sound(self):\n",
    "        return \"Bark\"\n",
    "    \n",
    "class Cat():\n",
    "    \n",
    "    def make_sound(self):\n",
    "        return \"Meow\"  \n",
    "    \n",
    "a1 = Dog()\n",
    "a2 = Cat()\n",
    "animals = [a1, a2]\n",
    "for a in animals:\n",
    "    print(isinstance(a, Animal), \"     \", a.make_sound())"
   ]
  }
 ],
 "metadata": {
  "celltoolbar": "Slideshow",
  "kernelspec": {
   "display_name": "Python 3",
   "language": "python",
   "name": "python3"
  },
  "language_info": {
   "codemirror_mode": {
    "name": "ipython",
    "version": 3
   },
   "file_extension": ".py",
   "mimetype": "text/x-python",
   "name": "python",
   "nbconvert_exporter": "python",
   "pygments_lexer": "ipython3",
   "version": "3.6.5"
  }
 },
 "nbformat": 4,
 "nbformat_minor": 1
}
