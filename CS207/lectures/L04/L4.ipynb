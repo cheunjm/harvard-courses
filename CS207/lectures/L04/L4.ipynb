{
 "cells": [
  {
   "cell_type": "markdown",
   "metadata": {},
   "source": [
    "# Lecture 4:  Thursday, September 13th 2018\n",
    "## Towards Intermediate Python\n",
    "Topics:\n",
    "* Recap:  How does this stuff really work?\n",
    "* Nested environments\n",
    "* Closures\n",
    "* Decorators"
   ]
  },
  {
   "cell_type": "markdown",
   "metadata": {},
   "source": [
    "### Important Note\n",
    "Before working through this notebook, please look at the accompanying slides (L4-slides.ipynb).  To run the slides, type `jupyter nbconvert L4-slides.ipynb --to slides --post serve` into your terminal from the directory that has the slides."
   ]
  },
  {
   "cell_type": "markdown",
   "metadata": {},
   "source": [
    "## Nested Environments\n",
    "This section assumes you are familiar with `Python` and that you have already read through the accompanying slides (L4-slides.ipynb).\n",
    "\n",
    "You can nest the definitions of functions. When you do this, inner function definitions are not even evaluated until the outer function is called. These inner functions have access to the name bindings in the scope of the outer function. In the example below, in `make_statement`, both `s` and `key` will be defined. And in `key`, you have access to `s`. This sharing is called *lexical scoping*. "
   ]
  },
  {
   "cell_type": "code",
   "execution_count": 1,
   "metadata": {},
   "outputs": [
    {
     "name": "stdout",
     "output_type": "stream",
     "text": [
      "('name: ', 'Albert')\n",
      "('name: ', 'Emmy')\n"
     ]
    }
   ],
   "source": [
    "def make_statement(s):\n",
    "    def key(k):\n",
    "        c=(s, k)\n",
    "        return c\n",
    "    return key\n",
    "k = make_statement('name: ')\n",
    "#we have captured the first element of the tuple as a \"kind of state\"\n",
    "name = k('Albert')\n",
    "print(name)\n",
    "name2 = k('Emmy')\n",
    "print(name2)"
   ]
  },
  {
   "cell_type": "markdown",
   "metadata": {},
   "source": [
    "Here is a more explicit explanation:  In the line `k = make_statement('name: ')`, `make_statement()` has returned the inner function `key` and the inner function has been given the name `k`.  Now, when we call `k()` the inner function returns the desired tuple.\n",
    "\n",
    "The reason this works is that in addition to the environment in which a user-defined function is running, that function has access to a second environment: the environment in which the function was defined.  Here, `key` has access to the environment of `make_statement`. In this sense the environment of `make_statement` is the parent of the environment of `key`.\n",
    "\n",
    "This enables two things:\n",
    "\n",
    "1. Names inside the inner functions (or the outer ones for that matter) do not interfere with names in the global scope. Inside the outer and inner functions, the \"most lexically local\" names are the ones that matter\n",
    "2. An inner function can access the environment of its enclosing (outer) function"
   ]
  },
  {
   "cell_type": "markdown",
   "metadata": {},
   "source": [
    "#### By the way, you can read about [Albert](https://en.wikipedia.org/wiki/Albert_Einstein) and [Emmy](https://en.wikipedia.org/wiki/Emmy_Noether)."
   ]
  },
  {
   "cell_type": "markdown",
   "metadata": {},
   "source": [
    "### Closures\n",
    "\n",
    "Since the inner functions can \"capture\" information from an outer function's environment, the inner function is sometimes called a *closure*.\n",
    "\n",
    "Notice that `s`, once captured by the inner function, cannot now be changed: we have *lost direct access to its manipulation*. This process is called *encapsulation*, and is a cornerstone of *object oriented programming*."
   ]
  },
  {
   "cell_type": "markdown",
   "metadata": {},
   "source": [
    "---"
   ]
  },
  {
   "cell_type": "markdown",
   "metadata": {},
   "source": [
    "### Augmenting Functions\n",
    "\n",
    "Since functions are first class, we might want to augment them to put out, for example, call information, time information, etc."
   ]
  },
  {
   "cell_type": "markdown",
   "metadata": {},
   "source": [
    "### Example 1\n",
    "\n",
    "In the following, `timer()` accepts a function `f` as its argument and returns an inner function called `inner`.\n",
    "\n",
    "`inner` accepts a variable argument list and wraps the function `f` with timers to time how long it takes `f` to execute.\n",
    "\n",
    "Note that `f` is passed a variable argument list (try to recall what `Python` does with that and if you can't recall, please refer to the supplementary `Python` lectures)."
   ]
  },
  {
   "cell_type": "code",
   "execution_count": 2,
   "metadata": {},
   "outputs": [],
   "source": [
    "# First we write our timer function\n",
    "import time\n",
    "def timer(f):\n",
    "    def inner(*args):\n",
    "        t0 = time.time()\n",
    "        output = f(*args)\n",
    "        elapsed = time.time() - t0\n",
    "        print(\"Time Elapsed\", elapsed)\n",
    "        return output\n",
    "    return inner"
   ]
  },
  {
   "cell_type": "code",
   "execution_count": 3,
   "metadata": {},
   "outputs": [
    {
     "name": "stdout",
     "output_type": "stream",
     "text": [
      "Time Elapsed 0.038146018981933594\n",
      "Time Elapsed 0.24461007118225098\n"
     ]
    }
   ],
   "source": [
    "# Now we prepare to use our timer function\n",
    "\n",
    "import numpy as np # Import numpy\n",
    "\n",
    "# User-defined functions\n",
    "def allocate1(x, N):\n",
    "    return [x]*N\n",
    "\n",
    "def allocate2(x, N):\n",
    "    ones = np.ones(N)\n",
    "    return np.multiply(x, ones)\n",
    "\n",
    "x = 1.0\n",
    "\n",
    "# Time allocation with lists\n",
    "my_alloc = timer(allocate1)\n",
    "l1 = my_alloc(x, 10000000)\n",
    "\n",
    "# Time allocation with numpy array\n",
    "my_alloc2 = timer(allocate2)\n",
    "l2 = my_alloc2(x, 10000000)"
   ]
  },
  {
   "cell_type": "markdown",
   "metadata": {},
   "source": [
    "That seemed pretty useful.  We might want to do such things a lot (and not just for timing purposes)."
   ]
  },
  {
   "cell_type": "markdown",
   "metadata": {},
   "source": [
    "---"
   ]
  },
  {
   "cell_type": "markdown",
   "metadata": {},
   "source": [
    "Let's recap the pattern that was so useful.\n",
    "\n",
    "Basically, we wrote a nice function to \"decorate\" our function of interest.  In this case, we wrote a timer function whose closure wrapped up any function we gave to it in a timing construct.  In order to invoke our nice decorations, we had to pass a function to the timer function and get a new, decorated function back.  Then we called the decorated function.\n",
    "\n",
    "So the idea is as follows.  We have a decorator (here called `timer`) that sweetens up some function (call it `target`). \n",
    "```python\n",
    "def target():\n",
    "    pass\n",
    "decorated_target = decorator(target)\n",
    "```\n",
    "But `Python` provides what's called syntactic sugar.  Instead of writing all of that, we can just write:\n",
    "```python\n",
    "@decorator\n",
    "def target():\n",
    "    pass\n",
    "```\n",
    "Now `target` is decorated.  Let's see how this all works."
   ]
  },
  {
   "cell_type": "code",
   "execution_count": 4,
   "metadata": {
    "scrolled": true
   },
   "outputs": [
    {
     "name": "stdout",
     "output_type": "stream",
     "text": [
      "Time Elapsed 0.019623994827270508\n"
     ]
    }
   ],
   "source": [
    "@timer\n",
    "def allocate1(x, N):\n",
    "    return [x]*N\n",
    "\n",
    "x = 2.0\n",
    "l1 = allocate1(x, 10000000)"
   ]
  },
  {
   "cell_type": "markdown",
   "metadata": {},
   "source": [
    "Very nice!  Make sure you understand what happened here.  That syntactic sugar hides all of the details."
   ]
  },
  {
   "cell_type": "markdown",
   "metadata": {},
   "source": [
    "### Example 2\n",
    "We'll just create a demo decorator here."
   ]
  },
  {
   "cell_type": "code",
   "execution_count": null,
   "metadata": {},
   "outputs": [],
   "source": [
    "def decorate(f):\n",
    "    print(\"Let's decorate!\")\n",
    "    d = 1.0\n",
    "    def wrapper(*args):\n",
    "        print(\"Entering function.\")\n",
    "        output = f(*args)\n",
    "        print(\"Exited function.\")\n",
    "        if output > d :\n",
    "            print(\"My d is bigger than yours.\")\n",
    "        elif output < d:\n",
    "            print(\"Your d is bigger than mine.\")\n",
    "        else:\n",
    "            print(\"Our ds are the same size.\")\n",
    "    return wrapper\n",
    "\n",
    "@decorate\n",
    "def useful_f(a, b, c):\n",
    "    d1 = np.sqrt(a * a + b * b + c * c)\n",
    "    return d1\n",
    "\n",
    "d = useful_f(1.0, 2.0, 3.0)"
   ]
  },
  {
   "cell_type": "markdown",
   "metadata": {},
   "source": [
    "A key thing to remmember is that a decorator is run **right after** the function is defined, not when the function is called. Thus if you had the above decorator code in a module, it would print \"Let's decorate!\" when importing the module. Notice that the concept of a closure is used: the state ```d=1``` is captured into the decorated function above."
   ]
  }
 ],
 "metadata": {
  "kernelspec": {
   "display_name": "Python 3",
   "language": "python",
   "name": "python3"
  },
  "language_info": {
   "codemirror_mode": {
    "name": "ipython",
    "version": 3
   },
   "file_extension": ".py",
   "mimetype": "text/x-python",
   "name": "python",
   "nbconvert_exporter": "python",
   "pygments_lexer": "ipython3",
   "version": "3.6.5"
  }
 },
 "nbformat": 4,
 "nbformat_minor": 2
}
