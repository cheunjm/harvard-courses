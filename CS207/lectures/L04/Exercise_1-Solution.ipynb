{
 "cells": [
  {
   "cell_type": "markdown",
   "metadata": {},
   "source": [
    "# Exercise 1\n",
    "\n",
    "In this problem, you will write a closure to make writing messages easier.  Suppose you write the following message all the time: \n",
    "```python \n",
    "print(\"The correct answer is: {0:17.16f}\".format(answer))\n",
    "```\n",
    "Wouldn't it be nicer to just write \n",
    "```python \n",
    "correct_answer_is(answer)\n",
    "```\n",
    "and have the message?  Your task is to write a closure to accomplish that.  Here's how everything should work:\n",
    "```python\n",
    "correct_answer_is = my_message(message)\n",
    "correct_answer_is(answer)\n",
    "```\n",
    "The output should be: `The correct answer is:  42.0000000000000000.`\n",
    "\n",
    "Now change the message to something else.  Notice that you don't need to re-write everything.  You simply need to get a new message function from `my_message` and invoke your new function when you want to.\n",
    "\n",
    "You should feel free to modify this in any way you like.  Creativity is encouraged!"
   ]
  },
  {
   "cell_type": "markdown",
   "metadata": {},
   "source": [
    "## Solution"
   ]
  },
  {
   "cell_type": "code",
   "execution_count": 1,
   "metadata": {},
   "outputs": [],
   "source": [
    "# message\" closure\n",
    "def my_message(message):\n",
    "    def print_ans(answer):\n",
    "        print(message.format(answer))\n",
    "    return print_ans"
   ]
  },
  {
   "cell_type": "code",
   "execution_count": 2,
   "metadata": {},
   "outputs": [
    {
     "name": "stdout",
     "output_type": "stream",
     "text": [
      "The correct answer is: 1.0000000000000000\n"
     ]
    }
   ],
   "source": [
    "correct_answer_is = my_message(\"The correct answer is: {0:17.16f}\") # Instantiate message object\n",
    "\n",
    "# Perform some computations\n",
    "scalar = 1.0 # Synthetic answer\n",
    "\n",
    "correct_answer_is(scalar) # Use message object instance with answer"
   ]
  },
  {
   "cell_type": "code",
   "execution_count": 3,
   "metadata": {},
   "outputs": [
    {
     "name": "stdout",
     "output_type": "stream",
     "text": [
      "The algorithm found the following unique words:  ['fruit', 'outside', 'autumn']\n"
     ]
    }
   ],
   "source": [
    "word_search_returned = my_message(\"The algorithm found the following unique words:  {0}\") # Instantiate message object\n",
    "\n",
    "# Fancy algorithm on some data\n",
    "string = [\"fruit\", \"outside\", \"autumn\"] # Synthetic answer\n",
    "\n",
    "word_search_returned(string) # Use messgae object instance with answer"
   ]
  },
  {
   "cell_type": "markdown",
   "metadata": {},
   "source": [
    "#### Comments\n",
    "Note that we now have two examples (instantiations) of the `my_message` object.  These two examples both print out messasges, but they work with different data types."
   ]
  }
 ],
 "metadata": {
  "kernelspec": {
   "display_name": "Python 3",
   "language": "python",
   "name": "python3"
  },
  "language_info": {
   "codemirror_mode": {
    "name": "ipython",
    "version": 3
   },
   "file_extension": ".py",
   "mimetype": "text/x-python",
   "name": "python",
   "nbconvert_exporter": "python",
   "pygments_lexer": "ipython3",
   "version": "3.6.5"
  }
 },
 "nbformat": 4,
 "nbformat_minor": 2
}
