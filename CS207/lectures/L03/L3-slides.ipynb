{
 "cells": [
  {
   "cell_type": "markdown",
   "metadata": {
    "slideshow": {
     "slide_type": "slide"
    }
   },
   "source": [
    "# Lecture 3:  Branches in `Git`"
   ]
  },
  {
   "cell_type": "markdown",
   "metadata": {
    "slideshow": {
     "slide_type": "slide"
    }
   },
   "source": [
    "## Basic Branching"
   ]
  },
  {
   "cell_type": "markdown",
   "metadata": {
    "slideshow": {
     "slide_type": "subslide"
    }
   },
   "source": [
    "* We have encountered branches a few times so far but we haven't really said much about what they are or why they're important.  They are very important.  In fact, they form a core piece of the `Git` workflow.\n",
    "\n",
    "* A `Git` branch is a \"Sticky Note\" on the graph.  All branch work takes place within the same folder within your file system.  When you switch branches you are moving the \"Sticky Note\".\n",
    "\n",
    "* Suppose you have a newly initialized repository.  Your first commit is represented by the **A** block in the figure below. ![inital_commit](figs/initial_commit.png)\n",
    "\n",
    "A default branch is created and `Git` named it `master`.  The name `master` has no special meaning to `Git`."
   ]
  },
  {
   "cell_type": "markdown",
   "metadata": {
    "slideshow": {
     "slide_type": "subslide"
    }
   },
   "source": [
    "Now suppose we make a set of two commits (**B** and **C**).  The `master` branch (and our pointer) moves along. ![two_commits](figs/two_commits.png)"
   ]
  },
  {
   "cell_type": "markdown",
   "metadata": {
    "slideshow": {
     "slide_type": "subslide"
    }
   },
   "source": [
    "So far so good.  Suddenly we find a bug!  We could work on the bug in `master` but that's not really a good idea.  It would make a lot more sense to `branch` off of `master` and fix the bug on its own `branch`.  That way, we don't interfere with things on `master`.  We'll discuss the details of how to create branches in the lecture exercises.  For now, suppose we create a new branch called `bug1`.![bug1_branch](figs/bug1_branch.png)\n",
    "\n",
    "The new branch is a pointer to the same commit as the `master` branch (commit **C**) but the pointer moved from the `master` branch to the `bug1` branch."
   ]
  },
  {
   "cell_type": "markdown",
   "metadata": {
    "slideshow": {
     "slide_type": "subslide"
    }
   },
   "source": [
    "We do some work on the `bug1` branch and make two more commits.  The pointer and branch now move to commit **E**. ![bug1_commits](figs/bug1_commits.png)"
   ]
  },
  {
   "cell_type": "markdown",
   "metadata": {
    "collapsed": true,
    "slideshow": {
     "slide_type": "subslide"
    }
   },
   "source": [
    "* Now you decide that the bug you found has been fixed.\n",
    "* You've modified a file and maybe even added a new file.  \n",
    "* You can switch back to the `master` branch. ![switch_to_master](figs/switch_to_master.png)\n",
    "\n",
    "* What you'll see is that none of the files that you just fixed and/or created are in your working directory!  \n",
    "* The first couple of times you see this, it feels really uncomfortable.  \n",
    "* However, this is the correct `Git` workflow."
   ]
  },
  {
   "cell_type": "markdown",
   "metadata": {
    "slideshow": {
     "slide_type": "subslide"
    }
   },
   "source": [
    "* How do we get the bug fix into our `master` branch?\n",
    "\n",
    "* We already know the command.  From the `master` branch, just do `git merge bug1`.\n",
    "\n",
    "![git_merge_bug1](figs/git_merge_bug1.png)\n",
    "\n",
    "This looks really nice!  The `merge` brought the two change histories together prefectly."
   ]
  },
  {
   "cell_type": "markdown",
   "metadata": {
    "slideshow": {
     "slide_type": "subslide"
    }
   },
   "source": [
    "* The only thing left to do is to delete the `bug1` branch.  \n",
    "* We don't need it anymore and so we really don't want it floating around.  \n",
    "* To delete a branch you simply write `git branch -d bug1`.\n",
    "\n",
    "![git_delete_bug1](figs/git_delete_bug1.png)\n",
    "\n",
    "This looks like a nice clean tree now.  If only things were always this simple."
   ]
  },
  {
   "cell_type": "markdown",
   "metadata": {
    "slideshow": {
     "slide_type": "slide"
    }
   },
   "source": [
    "## Nonlinear Histories:  Workflow Choices"
   ]
  },
  {
   "cell_type": "markdown",
   "metadata": {
    "slideshow": {
     "slide_type": "subslide"
    }
   },
   "source": [
    "Another common scenario is as follows:\n",
    "* We created our \"story branch\" off of commit **C** to address some bug (not the same bug as before!).  Call this branch `bug2`.\n",
    "* However, some changes have happened in `master` since we branched off of **C**.  For example, `bug1` has been merged into `master`.\n",
    "* We have made a couple of commits on `bug2`.\n",
    "\n",
    "Here's the current graph: ![git_branch_bug2](figs/git_branch_bug2.png)"
   ]
  },
  {
   "cell_type": "markdown",
   "metadata": {
    "slideshow": {
     "slide_type": "subslide"
    }
   },
   "source": [
    "Once we're ready to merge our bug fix, we switch back to `master`. ![switch_to_master2](figs/switch_to_master2.png)"
   ]
  },
  {
   "cell_type": "markdown",
   "metadata": {
    "slideshow": {
     "slide_type": "subslide"
    }
   },
   "source": [
    "Now we attempt to merge.  Our attempted merge should connect the new version **H** to both **E** and **G** (**H** came from **E** and **G**).\n",
    "\n",
    "![git_merge_bug2](figs/git_merge_bug2.png)\n",
    "\n",
    "This merge can be quite unpleasant if there are conflicts."
   ]
  },
  {
   "cell_type": "markdown",
   "metadata": {
    "slideshow": {
     "slide_type": "subslide"
    }
   },
   "source": [
    "Now we delete the `bug2` branch since the bug fix has been successfully merged into `master`. ![git_delete_bug2](figs/git_delete_bug2.png)\n",
    "\n",
    "* The graph is now a bit of a mess.\n",
    "* The history is nonlinear.  \n",
    "* There's nothing particularly wrong about this.  \n",
    "* However, such a history makes it hard to see the changes independently.  \n",
    "* Things can get very messy over time.  What if another branch came off of **G**?  You could have multiple loops!"
   ]
  },
  {
   "cell_type": "markdown",
   "metadata": {
    "slideshow": {
     "slide_type": "subslide"
    }
   },
   "source": [
    "There is another way to do merges that helps \"linearize\" the graph.  Let's pick up with our `bug2` branch just before we switched to the `master` branch for a merge. ![git_branch_bug2](figs/git_branch_bug2.png)\n",
    "\n"
   ]
  },
  {
   "cell_type": "markdown",
   "metadata": {
    "slideshow": {
     "slide_type": "subslide"
    }
   },
   "source": [
    "This time, instead of starting the `merge` process right away, we'll first \"rebase\":  `git rebase master`. ![git_rebase_master](figs/git_rebase_master.png)\n",
    "\n",
    "What does `rebase` do?\n",
    "* Take the changes we made off of **C** and undo them, but remember what they were\n",
    "* Re-apply those changes on **E** instead"
   ]
  },
  {
   "cell_type": "markdown",
   "metadata": {
    "slideshow": {
     "slide_type": "subslide"
    }
   },
   "source": [
    "Now we proceed as usual:\n",
    "* git checkout master\n",
    "* git merge bug2\n",
    "![git_checkout_merge_bug2](figs/git_checkout_merge_bug2.png)\n",
    "\n",
    "* Now we get a nice linear flow.\n",
    "* Moreover, the actual change set ordering in the repo mirrors what actually happened.  That is, **F'** and **G'** came after **E** rather than in parallel to it.\n",
    "* Of course, we have re-written history; this is controversial."
   ]
  }
 ],
 "metadata": {
  "celltoolbar": "Slideshow",
  "kernelspec": {
   "display_name": "Python 3",
   "language": "python",
   "name": "python3"
  },
  "language_info": {
   "codemirror_mode": {
    "name": "ipython",
    "version": 3
   },
   "file_extension": ".py",
   "mimetype": "text/x-python",
   "name": "python",
   "nbconvert_exporter": "python",
   "pygments_lexer": "ipython3",
   "version": "3.6.1"
  }
 },
 "nbformat": 4,
 "nbformat_minor": 2
}
