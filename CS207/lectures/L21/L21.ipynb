{
 "cells": [
  {
   "cell_type": "markdown",
   "metadata": {},
   "source": [
    "# Lecture 21\n",
    "## Tuesday, November 13th 2018\n",
    "### Joins with `SQLite`, `pandas`"
   ]
  },
  {
   "cell_type": "markdown",
   "metadata": {},
   "source": [
    "## Starting Up\n",
    "You can connect to the saved database from last time if you want.  Alternatively, for extra practice, you can just recreate it from the datasets provided in the `.txt` files.  That's what I'll do."
   ]
  },
  {
   "cell_type": "code",
   "execution_count": null,
   "metadata": {},
   "outputs": [],
   "source": [
    "import sqlite3\n",
    "import numpy as np\n",
    "import pandas as pd\n",
    "import time\n",
    "pd.set_option('display.width', 500)\n",
    "pd.set_option('display.max_columns', 100)\n",
    "pd.set_option('display.notebook_repr_html', True)\n",
    "\n",
    "db = sqlite3.connect('L21DB_demo.sqlite')\n",
    "cursor = db.cursor()\n",
    "cursor.execute(\"DROP TABLE IF EXISTS candidates\")\n",
    "cursor.execute(\"DROP TABLE IF EXISTS contributors\")\n",
    "cursor.execute(\"PRAGMA foreign_keys=1\")\n",
    "\n",
    "cursor.execute('''CREATE TABLE candidates (\n",
    "               id INTEGER PRIMARY KEY NOT NULL, \n",
    "               first_name TEXT, \n",
    "               last_name TEXT, \n",
    "               middle_init TEXT, \n",
    "               party TEXT NOT NULL)''')\n",
    "\n",
    "db.commit() # Commit changes to the database\n",
    "\n",
    "cursor.execute('''CREATE TABLE contributors (\n",
    "          id INTEGER PRIMARY KEY AUTOINCREMENT NOT NULL, \n",
    "          last_name TEXT, \n",
    "          first_name TEXT, \n",
    "          middle_name TEXT, \n",
    "          street_1 TEXT, \n",
    "          street_2 TEXT, \n",
    "          city TEXT, \n",
    "          state TEXT, \n",
    "          zip TEXT, \n",
    "          amount REAL, \n",
    "          date DATETIME, \n",
    "          candidate_id INTEGER NOT NULL, \n",
    "          FOREIGN KEY(candidate_id) REFERENCES candidates(id))''')\n",
    "\n",
    "db.commit()\n",
    "\n",
    "with open (\"candidates.txt\") as candidates:\n",
    "    next(candidates) # jump over the header\n",
    "    for line in candidates.readlines():\n",
    "        cid, first_name, last_name, middle_name, party = line.strip().split('|')\n",
    "        vals_to_insert = (int(cid), first_name, last_name, middle_name, party)\n",
    "        cursor.execute('''INSERT INTO candidates \n",
    "                  (id, first_name, last_name, middle_init, party)\n",
    "                  VALUES (?, ?, ?, ?, ?)''', vals_to_insert)\n",
    "\n",
    "with open (\"contributors.txt\") as contributors:\n",
    "    next(contributors)\n",
    "    for line in contributors.readlines():\n",
    "        cid, last_name, first_name, middle_name, street_1, street_2, \\\n",
    "            city, state, zip_code, amount, date, candidate_id = line.strip().split('|')\n",
    "        vals_to_insert = (last_name, first_name, middle_name, street_1, street_2, \n",
    "                          city, state, int(zip_code), amount, date, candidate_id)\n",
    "        cursor.execute('''INSERT INTO contributors (last_name, first_name, middle_name, \n",
    "                           street_1, street_2, city, state, zip, amount, date, candidate_id) \n",
    "                           VALUES (?, ?, ?, ?, ?, ?, ?, ?, ?, ?, ?)''', vals_to_insert)\n",
    "\n",
    "candidate_cols = [col[1] for col in cursor.execute(\"PRAGMA table_info(candidates)\")]\n",
    "contributor_cols = [col[1] for col in cursor.execute(\"PRAGMA table_info(contributors)\")]\n",
    "\n",
    "def viz_tables(cols, query):\n",
    "    q = cursor.execute(query).fetchall()\n",
    "    framelist = dict()\n",
    "    for i, col_name in enumerate(cols):\n",
    "        framelist[col_name] = [col[i] for col in q]\n",
    "    return pd.DataFrame.from_dict(framelist)"
   ]
  },
  {
   "cell_type": "markdown",
   "metadata": {},
   "source": [
    "## Recap\n",
    "Last time, you played with a bunch of `SQLite` commands to query and update the tables in the database.\n",
    "\n",
    "One thing we didn't get to was how to query the contributors table based off of a query in the candidates table.  For example, suppose you want to query which contributors donated to Obama. You could use a nested `SELECT` statement to accomplish that."
   ]
  },
  {
   "cell_type": "code",
   "execution_count": null,
   "metadata": {},
   "outputs": [],
   "source": [
    "query = '''SELECT * FROM contributors WHERE candidate_id = (SELECT id from candidates WHERE last_name = \"Obama\")'''\n",
    "viz_tables(contributor_cols, query)"
   ]
  },
  {
   "cell_type": "markdown",
   "metadata": {},
   "source": [
    "# Joins\n",
    "The last example involved querying data from multiple tables.\n",
    "\n",
    "In particular, we combined columns from the two related tables (related through the `FOREIGN KEY`).\n",
    "\n",
    "This leads to the idea of *joining* multiple tables together.  `SQL` has a set of commands to handle different types of joins.  `SQLite` does not support the full suite of join commands offered by `SQL` but you should still be able to get the main ideas from the limited command set.\n",
    "\n",
    "We'll begin with the `INNER JOIN`."
   ]
  },
  {
   "cell_type": "markdown",
   "metadata": {},
   "source": [
    "## INNER JOIN\n",
    "The idea here is that you will combine the tables if the values of certain columns are the same between the two tables.  In our example, we will join the two tables based on the candidate id.  The result of the `INNER JOIN` will be a new table consisting of the columns we requested and containing the common data.  Since we are joining based off of the candidate id, we will not be excluding any rows.\n",
    "\n",
    "### Example\n",
    "\n",
    "Here are two tables.  Table A has the form:\n",
    "\n",
    "| nA   | attr  | idA |\n",
    "| :::: | ::::: | ::: |\n",
    "| s1   | 23    | 0   |\n",
    "| s2   | 7     | 2   |\n",
    "\n",
    "and table B has the form:\n",
    "\n",
    "| nB   | attr  | idB |\n",
    "| :::: | ::::: | ::: |\n",
    "| t1   | 60    | 0   |\n",
    "| t2   | 14    | 7   |\n",
    "| t3   | 22    | 2   |\n",
    "\n",
    "Table A is associated with Table B through a foreign key on the id column.\n",
    "\n",
    "If we join the two tables by comparing the id columns and selecting the nA, nB, and attr columns then we'll get \n",
    "\n",
    "| nA   | A.attr  | nB  | B.attr |\n",
    "| :::: | ::::::: | ::: | :::::: |\n",
    "| s1   | 23      | t1  | 60     |\n",
    "| s2   | 7       | t3  | 22     |\n",
    "\n",
    "\n",
    "The `SQLite` code to do this join would be \n",
    "\n",
    "```SQL\n",
    "SELECT nA, A.attr, nB, B.attr FROM A INNER JOIN B ON B.idB = A.idA\n",
    "```\n",
    "\n",
    "Notice that the second row in table B is gone because the id values are not the same.\n",
    "\n",
    "### Thoughts\n",
    "What is `SQL` doing with this operation?  It may help to visualize this with a Venn diagram.  Table A has rows with values corresponding to the `idA` attribute.  Column B has rows with values corresponding to the `idB` attribute.  The `INNER JOIN` will combine the two tables such that rows with common entries in the `id` attributes are included.  We essentially have the following Venn diagram.\n",
    "\n",
    "![](figs/inner_join.png)"
   ]
  },
  {
   "cell_type": "markdown",
   "metadata": {},
   "source": [
    "## Exercises\n",
    "1. Using an `INNER JOIN`, join the candidates and contributors tables by comparing the `candidate_id` and `candidates_id` columns.  Display your joined table with the columns `contributors.last_name`, `contributors.first_name`, and `candidates.last_name`.\n",
    "2. Do the same inner join as in the last part, but this time append a `WHERE` clause to select a specific candidate's last name."
   ]
  },
  {
   "cell_type": "markdown",
   "metadata": {},
   "source": [
    "## `LEFT JOIN` or `LEFT OUTER JOIN`\n",
    "There are many ways to combine two tables.  We just explored one possibility in which we combined the tables based upon the intersection of the two tables (the `INNER JOIN`).\n",
    "\n",
    "Now we'll talk about the `LEFT JOIN` or `LEFT OUTER JOIN`.\n",
    "\n",
    "In words, the `LEFT JOIN` is combining the tables based upon what is in the intersection of the two tables *and* what is in the \"reference\" table.\n",
    "\n",
    "We can consider our toy example in two guises:\n",
    "\n",
    "#### Example A\n",
    "Let's do a `LEFT JOIN` of table B from table A.  That is, we'd like to make a new table by putting table B into table A.  In this case, we'll consider table A our \"reference\" table.  We're comparing by the `id` column again.  We know that these two tables share ids 0 and 2 and table A doesn't have anything else in it.  The resulting table is:\n",
    "\n",
    "| nA   | A.attr  | nB  | B.attr |\n",
    "| :::: | ::::::: | ::: | :::::: |\n",
    "| s1   | 23      | t1  | 60     |\n",
    "| s2   | 7       | t3  | 22     |\n",
    "\n",
    "That's not very exciting.  It's the same result as from the `INNER JOIN`.  We can do another example that may be more enlightening.\n",
    "\n",
    "#### Example B\n",
    "Let's do a `LEFT JOIN` of table A from table B.  That is, we'd like to make a new table by putting table A into table B.  In this case, we'll consider table B our \"reference\" table.  Again, we use the `id` column from comparison.  We know that these two tables share ids 0 and 2.  This time, table B also contains the id 7, which is not shared by table A.  The resulting table is:\n",
    "\n",
    "| nA   | A.attr  | nB  | B.attr |\n",
    "| :::: | ::::::: | ::: | :::::: |\n",
    "| s1   | 23      | t1  | 60     |\n",
    "| None | NaN     | t2  | 14     |\n",
    "| s2   | 7       | t3  | 22     |\n",
    "\n",
    "Notice that `SQLite` filed in the missing entries for us.  This is necessary for completion of the requested join.\n",
    "\n",
    "The `SQLite` commands to accomplish all of this are:\n",
    "\n",
    "```SQL\n",
    "SELECT nA, A.attr, nB, B.attr FROM A LEFT JOIN B ON B.idB = A.idA\n",
    "```\n",
    "\n",
    "and\n",
    "\n",
    "```SQL\n",
    "SELECT nA, A.attr, nB, B.attr FROM B LEFT JOIN A ON A.idA = B.idB\n",
    "```\n",
    "\n",
    "Here is a visualization using Venn diagrams of the `LEFT JOIN`.\n",
    "\n",
    "![](figs/left_join.png)"
   ]
  },
  {
   "cell_type": "markdown",
   "metadata": {},
   "source": [
    "## Exercises\n",
    "Use the following two tables to do the first two exercises in this section. Table A has the form:\n",
    "\n",
    "| nA   | attr  | idA |\n",
    "| :::: | ::::: | ::: |\n",
    "| s1   | 23    | 0   |\n",
    "| s2   | 7     | 2   |\n",
    "| s3   | 15    | 2   |\n",
    "| s4   | 31    | 0   |\n",
    "\n",
    "and table B has the form:\n",
    "\n",
    "| nB   | attr  | idB |\n",
    "| :::: | ::::: | ::: |\n",
    "| t1   | 60    | 0   |\n",
    "| t2   | 14    | 7   |\n",
    "| t3   | 22    | 2   |\n",
    "\n",
    "1. Draw the table that would result from a `LEFT JOIN` using table A as the reference and the `id` columns for comparison.\n",
    "2. Draw the table that would result from a `LEFT JOIN` using table B as the reference and the `id` columns for comparison.\n",
    "3. Create a new table with the following form:\n",
    "\n",
    "| average contribution | number of contributors | candidate last name |\n",
    "| :::::::::::::::::::: | :::::::::::::::::::::: | ::::::::::::::::::: |\n",
    "|    ...               |   ...                  |    ...              |\n",
    "\n",
    "   The table should be created using the `LEFT JOIN` clause on the contributors table by joining the candidates table by the `id` column.  The `average contribution` column and `number of contributors` column should be obtained using the `AVG` and `COUNT` `SQL` functions.  Finally, you should use the `GROUP BY` clause on the candidates last name."
   ]
  },
  {
   "cell_type": "markdown",
   "metadata": {},
   "source": [
    "---"
   ]
  },
  {
   "cell_type": "markdown",
   "metadata": {},
   "source": [
    "# `pandas`"
   ]
  },
  {
   "cell_type": "markdown",
   "metadata": {},
   "source": [
    "We've been working with databases for the last few lectures and learning `SQLite` commands to work with and manipulate the databases.  There is a `Python` package called `pandas` that provides broad support for data structures.  It can be used to interact with relationsional databases through its own methods and even through `SQL` commands.\n",
    "\n",
    "In the last part of this lecture, you will get to redo a bunch of the database exercises using `pandas`.\n",
    "\n",
    "We won't be able to cover `pandas` from the ground up, but it's a well-documented library and is fairly easy to get up and running.  Here's the website:  [`pandas`](http://pandas.pydata.org/)."
   ]
  },
  {
   "cell_type": "markdown",
   "metadata": {},
   "source": [
    "## Reading a datafile into `pandas`"
   ]
  },
  {
   "cell_type": "code",
   "execution_count": null,
   "metadata": {},
   "outputs": [],
   "source": [
    "# Using pandas naming convention\n",
    "dfcand = pd.read_csv(\"candidates.txt\", sep=\"|\")\n",
    "dfcand"
   ]
  },
  {
   "cell_type": "code",
   "execution_count": null,
   "metadata": {},
   "outputs": [],
   "source": [
    "dfcontr = pd.read_csv(\"contributors.txt\", sep=\"|\")\n",
    "dfcontr"
   ]
  },
  {
   "cell_type": "markdown",
   "metadata": {},
   "source": [
    "Reading things in is quite easy with `pandas`.\n",
    "\n",
    "Notice that `pandas` populates empty fields with `NaN` values.\n",
    "\n",
    "The `id` column in the contributors dataset is superfluous.  Let's delete it."
   ]
  },
  {
   "cell_type": "code",
   "execution_count": null,
   "metadata": {},
   "outputs": [],
   "source": [
    "del dfcontr['id']\n",
    "dfcontr.head()"
   ]
  },
  {
   "cell_type": "markdown",
   "metadata": {},
   "source": [
    "Very nice!  And we used the `head` method to print out the first five rows."
   ]
  },
  {
   "cell_type": "markdown",
   "metadata": {},
   "source": [
    "## Creating a Table with `pandas`\n",
    "We can use `pandas` to create tables in a database.\n",
    "\n",
    "First, let's create a new database since we've already done a lot on our test database."
   ]
  },
  {
   "cell_type": "code",
   "execution_count": null,
   "metadata": {},
   "outputs": [],
   "source": [
    "dbp = sqlite3.connect('L21_pandas_DB.sqlite')\n",
    "csr = dbp.cursor()\n",
    "csr.execute(\"DROP TABLE IF EXISTS candidates\")\n",
    "csr.execute(\"DROP TABLE IF EXISTS contributors\")\n",
    "csr.execute(\"PRAGMA foreign_keys=1\")\n",
    "\n",
    "csr.execute('''CREATE TABLE candidates (\n",
    "               id INTEGER PRIMARY KEY NOT NULL, \n",
    "               first_name TEXT, \n",
    "               last_name TEXT, \n",
    "               middle_name TEXT, \n",
    "               party TEXT NOT NULL)''')\n",
    "\n",
    "dbp.commit() # Commit changes to the database\n",
    "\n",
    "csr.execute('''CREATE TABLE contributors (\n",
    "          id INTEGER PRIMARY KEY AUTOINCREMENT NOT NULL, \n",
    "          last_name TEXT, \n",
    "          first_name TEXT, \n",
    "          middle_name TEXT, \n",
    "          street_1 TEXT, \n",
    "          street_2 TEXT, \n",
    "          city TEXT, \n",
    "          state TEXT, \n",
    "          zip TEXT, \n",
    "          amount REAL, \n",
    "          date DATETIME, \n",
    "          candidate_id INTEGER NOT NULL, \n",
    "          FOREIGN KEY(candidate_id) REFERENCES candidates(id))''')\n",
    "\n",
    "dbp.commit()"
   ]
  },
  {
   "cell_type": "markdown",
   "metadata": {},
   "source": [
    "Last time, we opened the data files with `Python` and then manually used `SQLite` commands to populate the individual tables.  We can use `pandas` instead like so."
   ]
  },
  {
   "cell_type": "code",
   "execution_count": null,
   "metadata": {},
   "outputs": [],
   "source": [
    "dfcand.to_sql(\"candidates\", dbp, if_exists=\"append\", index=False)"
   ]
  },
  {
   "cell_type": "markdown",
   "metadata": {},
   "source": [
    "How big is our table?"
   ]
  },
  {
   "cell_type": "code",
   "execution_count": null,
   "metadata": {},
   "outputs": [],
   "source": [
    "dfcand.shape"
   ]
  },
  {
   "cell_type": "markdown",
   "metadata": {},
   "source": [
    "We can visualize the data in our `pandas`-populated table.  No surprises here except that `pandas` did everything for us."
   ]
  },
  {
   "cell_type": "code",
   "execution_count": null,
   "metadata": {
    "scrolled": true
   },
   "outputs": [],
   "source": [
    "query = '''SELECT * FROM candidates'''\n",
    "csr.execute(query).fetchall()"
   ]
  },
  {
   "cell_type": "markdown",
   "metadata": {},
   "source": [
    "## Querying a table with `pandas`"
   ]
  },
  {
   "cell_type": "markdown",
   "metadata": {},
   "source": [
    "### One Way"
   ]
  },
  {
   "cell_type": "code",
   "execution_count": null,
   "metadata": {},
   "outputs": [],
   "source": [
    "dfcand.query(\"first_name=='Mike' & party=='D'\")"
   ]
  },
  {
   "cell_type": "markdown",
   "metadata": {},
   "source": [
    "### Another Way"
   ]
  },
  {
   "cell_type": "code",
   "execution_count": null,
   "metadata": {},
   "outputs": [],
   "source": [
    "dfcand[(dfcand.first_name==\"Mike\") & (dfcand.party==\"D\")]"
   ]
  },
  {
   "cell_type": "markdown",
   "metadata": {},
   "source": [
    "### More Queries"
   ]
  },
  {
   "cell_type": "code",
   "execution_count": null,
   "metadata": {},
   "outputs": [],
   "source": [
    "dfcand[dfcand.middle_name.notnull()]"
   ]
  },
  {
   "cell_type": "code",
   "execution_count": null,
   "metadata": {},
   "outputs": [],
   "source": [
    "dfcand[dfcand.first_name.isin(['Mike', 'Hillary'])]"
   ]
  },
  {
   "cell_type": "markdown",
   "metadata": {},
   "source": [
    "## Exercises\n",
    "1. Use `pandas` to populate the contributors table.\n",
    "2. Query the contributors tables with the following:\n",
    "  1. List entries where the state is \"VA\" and the amount is less than $\\$400.00$.\n",
    "  2. List entries where the state is \"NULL\".\n",
    "  3. List entries for the states of Texas and Pennsylvania.\n",
    "  4. List entries where the amount contributed is between $\\$10.00$ and $\\$50.00$."
   ]
  },
  {
   "cell_type": "markdown",
   "metadata": {},
   "source": [
    "## Sorting"
   ]
  },
  {
   "cell_type": "code",
   "execution_count": null,
   "metadata": {},
   "outputs": [],
   "source": [
    "dfcand.sort_values(by='party')"
   ]
  },
  {
   "cell_type": "code",
   "execution_count": null,
   "metadata": {},
   "outputs": [],
   "source": [
    "dfcand.sort_values(by='party', ascending=False)"
   ]
  },
  {
   "cell_type": "markdown",
   "metadata": {},
   "source": [
    "## Selecting Columns"
   ]
  },
  {
   "cell_type": "code",
   "execution_count": null,
   "metadata": {
    "scrolled": true
   },
   "outputs": [],
   "source": [
    "dfcand[['last_name', 'party']]"
   ]
  },
  {
   "cell_type": "code",
   "execution_count": null,
   "metadata": {},
   "outputs": [],
   "source": [
    "dfcand[['last_name', 'party']].count()"
   ]
  },
  {
   "cell_type": "code",
   "execution_count": null,
   "metadata": {},
   "outputs": [],
   "source": [
    "dfcand[['first_name']].drop_duplicates()"
   ]
  },
  {
   "cell_type": "code",
   "execution_count": null,
   "metadata": {},
   "outputs": [],
   "source": [
    "dfcand[['first_name']].drop_duplicates().count()"
   ]
  },
  {
   "cell_type": "markdown",
   "metadata": {},
   "source": [
    "## Exercises\n",
    "1. Sort the contributors table by `amount` and order in *descending* order.\n",
    "2. Select the `first_name` and `amount` columns.\n",
    "3. Select the `last_name` and `first_name` columns and drop duplicates.\n",
    "4. Count how many there are after the duplicates have been dropped."
   ]
  },
  {
   "cell_type": "markdown",
   "metadata": {},
   "source": [
    "## Altering Tables"
   ]
  },
  {
   "cell_type": "markdown",
   "metadata": {},
   "source": [
    "Creating a new column is quite easy with `pandas`."
   ]
  },
  {
   "cell_type": "code",
   "execution_count": null,
   "metadata": {},
   "outputs": [],
   "source": [
    "dfcand['name'] = dfcand['last_name'] + \", \" + dfcand['first_name']\n",
    "dfcand"
   ]
  },
  {
   "cell_type": "markdown",
   "metadata": {},
   "source": [
    "We can change an existing field as well."
   ]
  },
  {
   "cell_type": "code",
   "execution_count": null,
   "metadata": {},
   "outputs": [],
   "source": [
    "dfcand.loc[dfcand.first_name == \"Mike\", \"name\"]"
   ]
  },
  {
   "cell_type": "code",
   "execution_count": null,
   "metadata": {},
   "outputs": [],
   "source": [
    "dfcand.loc[dfcand.first_name == \"Mike\", \"name\"] = \"Mikey\""
   ]
  },
  {
   "cell_type": "code",
   "execution_count": null,
   "metadata": {},
   "outputs": [],
   "source": [
    "dfcand.query(\"first_name == 'Mike'\")"
   ]
  },
  {
   "cell_type": "markdown",
   "metadata": {},
   "source": [
    "You may recall that `SQLite` doesn't have the functionality to drop a column.  It's a one-liner with `pandas`."
   ]
  },
  {
   "cell_type": "code",
   "execution_count": null,
   "metadata": {},
   "outputs": [],
   "source": [
    "del dfcand['name']\n",
    "dfcand"
   ]
  },
  {
   "cell_type": "markdown",
   "metadata": {},
   "source": [
    "## Exercises\n",
    "1. Create a name column for the contributors table with field entries of the form \"last name, first name\"\n",
    "2. For contributors from the state of \"PA\", change the name to \"X\".\n",
    "3. Delete the newly created name column."
   ]
  },
  {
   "cell_type": "markdown",
   "metadata": {},
   "source": [
    "## Aggregation\n",
    "We'd like to get information about the tables such as the maximum amount contributed to the candidates.  Here are a bunch of ways to describe the tables."
   ]
  },
  {
   "cell_type": "code",
   "execution_count": null,
   "metadata": {},
   "outputs": [],
   "source": [
    "dfcand.describe()"
   ]
  },
  {
   "cell_type": "markdown",
   "metadata": {},
   "source": [
    "It's not very interesting with the candidates table because the candidates table only has one numeric column."
   ]
  },
  {
   "cell_type": "markdown",
   "metadata": {},
   "source": [
    "## Exercise\n",
    "Use the `describe()` method on the `contributors` table."
   ]
  },
  {
   "cell_type": "markdown",
   "metadata": {},
   "source": [
    "I'll use the contributors table to do some demos now."
   ]
  },
  {
   "cell_type": "code",
   "execution_count": null,
   "metadata": {},
   "outputs": [],
   "source": [
    "dfcontr.amount.max()"
   ]
  },
  {
   "cell_type": "code",
   "execution_count": null,
   "metadata": {},
   "outputs": [],
   "source": [
    "dfcontr[dfcontr.amount==dfcontr.amount.max()]"
   ]
  },
  {
   "cell_type": "code",
   "execution_count": null,
   "metadata": {},
   "outputs": [],
   "source": [
    "dfcontr.groupby(\"state\").sum()"
   ]
  },
  {
   "cell_type": "code",
   "execution_count": null,
   "metadata": {},
   "outputs": [],
   "source": [
    "dfcontr.groupby(\"state\")[\"amount\"].sum()"
   ]
  },
  {
   "cell_type": "code",
   "execution_count": null,
   "metadata": {},
   "outputs": [],
   "source": [
    "dfcontr.state.unique()"
   ]
  },
  {
   "cell_type": "markdown",
   "metadata": {},
   "source": [
    "There is also a version of the `LIMIT` clause.  It's very intuitive with `pandas`."
   ]
  },
  {
   "cell_type": "code",
   "execution_count": null,
   "metadata": {},
   "outputs": [],
   "source": [
    "dfcand[0:3]"
   ]
  },
  {
   "cell_type": "markdown",
   "metadata": {},
   "source": [
    "The usual `Python` slicing works just fine!"
   ]
  },
  {
   "cell_type": "markdown",
   "metadata": {},
   "source": [
    "## Joins with `pandas`"
   ]
  },
  {
   "cell_type": "markdown",
   "metadata": {},
   "source": [
    "`pandas` has some some documentation on `joins`:  [Merge, join, and concatenate](http://pandas.pydata.org/pandas-docs/stable/merging.html).  If you want some more reinforcement on the concepts from earlier regarding `JOIN`, then the `pandas` documentation may be a good place to get it.\n",
    "\n",
    "You may also be interested in [a comparison with `SQL`](http://pandas.pydata.org/pandas-docs/stable/comparison_with_sql.html#compare-with-sql-join).\n",
    "\n",
    "To do joins with `pandas`, we use the `merge` command."
   ]
  },
  {
   "cell_type": "markdown",
   "metadata": {},
   "source": [
    "Here's an example of an explicit inner join:"
   ]
  },
  {
   "cell_type": "code",
   "execution_count": null,
   "metadata": {},
   "outputs": [],
   "source": [
    "cols_wanted = ['last_name_x', 'first_name_x', 'candidate_id', 'id', 'last_name_y']\n",
    "dfcontr.merge(dfcand, left_on=\"candidate_id\", right_on=\"id\")[cols_wanted]"
   ]
  },
  {
   "cell_type": "markdown",
   "metadata": {},
   "source": [
    "#### Somewhat organized example"
   ]
  },
  {
   "cell_type": "code",
   "execution_count": null,
   "metadata": {},
   "outputs": [],
   "source": [
    "dfcontr.merge(dfcand, left_on=\"candidate_id\", right_on=\"id\")[cols_wanted].groupby('last_name_y').describe()"
   ]
  },
  {
   "cell_type": "markdown",
   "metadata": {},
   "source": [
    "### Other Joins with `pandas`\n",
    "We didn't cover all possible joins because `SQLite` can only handle the few that we did discuss.  As mentioned, there are workarounds for some things in `SQLite`, but not evertyhing.  Fortunately, `pandas` can handle pretty much everything.  Here are a few joins that `pandas` can handle:\n",
    "* `LEFT OUTER` (already discussed)\n",
    "* `RIGHT OUTER` - Think of the \"opposite\" of a `LEFT OUTER` join (shade the intersection and *right* set in the Venn diagram).\n",
    "* `FULL OUTER` - Combine everything from both tables (shade the entire Venn diagram)"
   ]
  },
  {
   "cell_type": "markdown",
   "metadata": {},
   "source": [
    "#### Left Outer Join with `pandas`"
   ]
  },
  {
   "cell_type": "code",
   "execution_count": null,
   "metadata": {},
   "outputs": [],
   "source": [
    "dfcontr.merge(dfcand, left_on=\"candidate_id\", right_on=\"id\", how=\"left\")[cols_wanted]"
   ]
  },
  {
   "cell_type": "markdown",
   "metadata": {},
   "source": [
    "#### Right Outer Join with `pandas`"
   ]
  },
  {
   "cell_type": "code",
   "execution_count": null,
   "metadata": {},
   "outputs": [],
   "source": [
    "dfcontr.merge(dfcand, left_on=\"candidate_id\", right_on=\"id\", how=\"right\")[cols_wanted]"
   ]
  },
  {
   "cell_type": "markdown",
   "metadata": {},
   "source": [
    "#### Full Outer Join with `pandas`"
   ]
  },
  {
   "cell_type": "code",
   "execution_count": null,
   "metadata": {},
   "outputs": [],
   "source": [
    "dfcontr.merge(dfcand, left_on=\"candidate_id\", right_on=\"id\", how=\"outer\")[cols_wanted]"
   ]
  }
 ],
 "metadata": {
  "kernelspec": {
   "display_name": "Python 3",
   "language": "python",
   "name": "python3"
  },
  "language_info": {
   "codemirror_mode": {
    "name": "ipython",
    "version": 3
   },
   "file_extension": ".py",
   "mimetype": "text/x-python",
   "name": "python",
   "nbconvert_exporter": "python",
   "pygments_lexer": "ipython3",
   "version": "3.6.6"
  }
 },
 "nbformat": 4,
 "nbformat_minor": 2
}
