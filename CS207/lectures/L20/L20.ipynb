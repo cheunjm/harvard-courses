{
 "cells": [
  {
   "cell_type": "markdown",
   "metadata": {
    "slideshow": {
     "slide_type": "slide"
    }
   },
   "source": [
    "# Lecture 20\n",
    "## Thursday, November 8th, 2018\n",
    "### Databases with `SQlite`"
   ]
  },
  {
   "cell_type": "markdown",
   "metadata": {},
   "source": [
    "# `SQLite` Exercises\n",
    "Today you will work with the candidates and contributors datasets to create a database in `Python` using `SQLite`.\n",
    "\n",
    "The exercises will consist of a sequence of steps to help illustrate basic commands."
   ]
  },
  {
   "cell_type": "markdown",
   "metadata": {
    "slideshow": {
     "slide_type": "subslide"
    }
   },
   "source": [
    "<a id='deliverables'></a>\n",
    "# Exercise Deliverables\n",
    "1. Create a `Jupyter` notebook called `Exercises-Final.ipynb` inside the `L20` directory.  This is the one we will grade.\n",
    "2. For each step in this lecture, there are instructions labeled \"**Do the following:**\".  Put all the code from those instructions in a single `Jupyter` notebook cell.  It should look like a `Python` script.  You *must* comment where appropriate to demonstrate that you understand what you are doing.\n",
    "3. Save and close your database.  Be sure to upload your database with the lecture exercises.  You must name your database **`L20DB.sqlite`**."
   ]
  },
  {
   "cell_type": "markdown",
   "metadata": {},
   "source": [
    "## Table of Contents\n",
    "[Setting the Stage](#setting_the_stage)\n",
    "\n",
    "[Step 1](#step_1)\n",
    "\n",
    "[Interlude](#interlude): Not required but highly recommended.\n",
    "\n",
    "[Step 2](#step_2)\n",
    "\n",
    "[Step 3](#step_3)\n",
    "\n",
    "[Step 4](#step_4)\n",
    "\n",
    "[Step 5](#step_5)\n",
    "\n",
    "[Step 6](#step_6)\n",
    "\n",
    "[Step 7](#step_7)\n",
    "\n",
    "[Step 8](#step_8)"
   ]
  },
  {
   "cell_type": "markdown",
   "metadata": {},
   "source": [
    "---"
   ]
  },
  {
   "cell_type": "markdown",
   "metadata": {},
   "source": [
    "<a id='setting_the_stage'></a>\n",
    "# Setting the Stage\n",
    "You should import `sqlite3` again like last time."
   ]
  },
  {
   "cell_type": "code",
   "execution_count": null,
   "metadata": {},
   "outputs": [],
   "source": [
    "import sqlite3"
   ]
  },
  {
   "cell_type": "markdown",
   "metadata": {},
   "source": [
    "We will also use a basic a `pandas` feature to display tables in the database.  Although this lecture isn't on `pandas`, I will still have you use it a little bit."
   ]
  },
  {
   "cell_type": "code",
   "execution_count": null,
   "metadata": {},
   "outputs": [],
   "source": [
    "import pandas as pd\n",
    "pd.set_option('display.width', 500)\n",
    "pd.set_option('display.max_columns', 100)\n",
    "pd.set_option('display.notebook_repr_html', True)"
   ]
  },
  {
   "cell_type": "markdown",
   "metadata": {},
   "source": [
    "Now we create the tables in the database (just like last time)."
   ]
  },
  {
   "cell_type": "code",
   "execution_count": null,
   "metadata": {},
   "outputs": [],
   "source": [
    "db = sqlite3.connect('L20DB_demo.sqlite')\n",
    "cursor = db.cursor()\n",
    "cursor.execute(\"DROP TABLE IF EXISTS candidates\")\n",
    "cursor.execute(\"DROP TABLE IF EXISTS contributors\")\n",
    "cursor.execute(\"PRAGMA foreign_keys=1\")\n",
    "\n",
    "cursor.execute('''CREATE TABLE candidates (\n",
    "               id INTEGER PRIMARY KEY NOT NULL, \n",
    "               first_name TEXT, \n",
    "               last_name TEXT, \n",
    "               middle_init TEXT, \n",
    "               party TEXT NOT NULL)''')\n",
    "\n",
    "db.commit() # Commit changes to the database\n",
    "\n",
    "cursor.execute('''CREATE TABLE contributors (\n",
    "          id INTEGER PRIMARY KEY AUTOINCREMENT NOT NULL, \n",
    "          last_name TEXT, \n",
    "          first_name TEXT, \n",
    "          middle_name TEXT, \n",
    "          street_1 TEXT, \n",
    "          street_2 TEXT, \n",
    "          city TEXT, \n",
    "          state TEXT, \n",
    "          zip TEXT, \n",
    "          amount REAL, \n",
    "          date DATETIME, \n",
    "          candidate_id INTEGER NOT NULL, \n",
    "          FOREIGN KEY(candidate_id) REFERENCES candidates(id))''')\n",
    "\n",
    "db.commit()"
   ]
  },
  {
   "cell_type": "markdown",
   "metadata": {},
   "source": [
    "<a id='step_1'></a>\n",
    "# Step 1\n",
    "Read `candidates.txt` and `contributors.txt` and insert their values into the respective tables."
   ]
  },
  {
   "cell_type": "code",
   "execution_count": null,
   "metadata": {},
   "outputs": [],
   "source": [
    "with open (\"candidates.txt\") as candidates:\n",
    "    next(candidates) # jump over the header\n",
    "    for line in candidates.readlines():\n",
    "        cid, first_name, last_name, middle_name, party = line.strip().split('|')\n",
    "        vals_to_insert = (int(cid), first_name, last_name, middle_name, party)\n",
    "        cursor.execute('''INSERT INTO candidates \n",
    "                  (id, first_name, last_name, middle_init, party)\n",
    "                  VALUES (?, ?, ?, ?, ?)''', vals_to_insert)"
   ]
  },
  {
   "cell_type": "code",
   "execution_count": null,
   "metadata": {},
   "outputs": [],
   "source": [
    "with open (\"contributors.txt\") as contributors:\n",
    "    next(contributors)\n",
    "    for line in contributors.readlines():\n",
    "        cid, last_name, first_name, middle_name, street_1, street_2, \\\n",
    "            city, state, zip_code, amount, date, candidate_id = line.strip().split('|')\n",
    "        vals_to_insert = (last_name, first_name, middle_name, street_1, street_2, \n",
    "                          city, state, int(zip_code), amount, date, candidate_id)\n",
    "        cursor.execute('''INSERT INTO contributors (last_name, first_name, middle_name, \n",
    "                           street_1, street_2, city, state, zip, amount, date, candidate_id) \n",
    "                           VALUES (?, ?, ?, ?, ?, ?, ?, ?, ?, ?, ?)''', vals_to_insert)"
   ]
  },
  {
   "cell_type": "markdown",
   "metadata": {},
   "source": [
    "---"
   ]
  },
  {
   "cell_type": "markdown",
   "metadata": {},
   "source": [
    "<a id='interlude'></a>\n",
    "## Interlude\n",
    "Now that you have values in the tables of the database, it would be convenient to be able to visualize those tables in some way.  We'll write a little helper function to accomplish this."
   ]
  },
  {
   "cell_type": "code",
   "execution_count": null,
   "metadata": {},
   "outputs": [],
   "source": [
    "def viz_tables(cols, query):\n",
    "    q = cursor.execute(query).fetchall()\n",
    "    framelist = dict()\n",
    "    for i, col_name in enumerate(cols):\n",
    "        framelist[col_name] = [col[i] for col in q]\n",
    "    return pd.DataFrame.from_dict(framelist)"
   ]
  },
  {
   "cell_type": "markdown",
   "metadata": {},
   "source": [
    "Here's how we can use our helper function.  It gives a pretty nice visualization of our table.  You should do the same thing with the `contributors` table."
   ]
  },
  {
   "cell_type": "code",
   "execution_count": null,
   "metadata": {},
   "outputs": [],
   "source": [
    "candidate_cols = [col[1] for col in cursor.execute(\"PRAGMA table_info(candidates)\")]\n",
    "query = '''SELECT * FROM candidates'''\n",
    "viz_tables(candidate_cols, query)"
   ]
  },
  {
   "cell_type": "markdown",
   "metadata": {},
   "source": [
    "<a id='step_2'></a>\n",
    "# Step 2:  Various Queries\n",
    "We can query our database for entries with certain characteristics.  For example, we can query the `candidates` table for entries whose middle name fields are not empty."
   ]
  },
  {
   "cell_type": "code",
   "execution_count": null,
   "metadata": {},
   "outputs": [],
   "source": [
    "query = '''SELECT * FROM candidates WHERE middle_init <> \"\"'''\n",
    "viz_tables(candidate_cols, query)"
   ]
  },
  {
   "cell_type": "markdown",
   "metadata": {},
   "source": [
    "We can also see how many entries satisfy the query:"
   ]
  },
  {
   "cell_type": "code",
   "execution_count": null,
   "metadata": {},
   "outputs": [],
   "source": [
    "print(\"{} candidates have a middle initial.\".format(viz_tables(candidate_cols, query).shape[0]))"
   ]
  },
  {
   "cell_type": "markdown",
   "metadata": {},
   "source": [
    "### Do the following queries:\n",
    "* Display the contributors where the state is \"PA\"\n",
    "* Display the contributors where the amount contributed is greater than $\\$1000.00$.\n",
    "* Display the contributors from \"UT\" where the amount contributed is greater than $\\$1000.00$.\n",
    "* Display the contributors who didn't list their state\n",
    "  - **Hint**:  Match `state` to the empty string\n",
    "* Display the contributors from \"WA\" and \"PA\"\n",
    "  - **Hint**:  You will need to use `IN (\"WA\", \"PA\")` in your `SELECT` statement.\n",
    "* Display the contributors who contributed between $\\$100.00$ and $\\$200.00$.\n",
    "  - **Hint**: You can use the `BETWEEN 100.00 and 200.00` clause."
   ]
  },
  {
   "cell_type": "markdown",
   "metadata": {},
   "source": [
    "<a id='step_3'></a>\n",
    "# Step 3:  Sorting\n",
    "It could be beneficial to sort by one of the attributes in the database.  The following cell contains a basic sorting demo."
   ]
  },
  {
   "cell_type": "code",
   "execution_count": null,
   "metadata": {},
   "outputs": [],
   "source": [
    "query = '''SELECT * FROM candidates ORDER BY id DESC'''\n",
    "viz_tables(candidate_cols, query)"
   ]
  },
  {
   "cell_type": "markdown",
   "metadata": {},
   "source": [
    "### Do the following sorts on the `contributors` table:\n",
    "* Sort the `candidates` table by `last_name`.\n",
    "* Sort by the `amount` in decending order where `amount` is restricted to be between $\\$1000.00$ and $\\$5000.00$.\n",
    "* Sort the contributors who donted between $\\$1000.00$ and $\\$5000.00$ by `candidate_id` and then by `amount` in descending order.\n",
    "  - **Hint**:  Multiple orderings can be accomplished by separating requests after `ORDER BY` with commas.\n",
    "  - e.g. `ORDER BY amount ASC, last_name DESC`"
   ]
  },
  {
   "cell_type": "markdown",
   "metadata": {},
   "source": [
    "<a id='step_4'></a>\n",
    "# Step 4:  Selecting Columns\n",
    "So far, we've been selecting all columns from a table (i.e. `SELECT * FROM`).  Often, we just want to select specific columns (e.g. `SELECT amount FROM`)."
   ]
  },
  {
   "cell_type": "code",
   "execution_count": null,
   "metadata": {},
   "outputs": [],
   "source": [
    "query = '''SELECT last_name, party FROM candidates'''\n",
    "viz_tables(['last_name', 'party'], query)"
   ]
  },
  {
   "cell_type": "markdown",
   "metadata": {},
   "source": [
    "Using the `DISTINCT` clause, you remove duplicate rows."
   ]
  },
  {
   "cell_type": "code",
   "execution_count": null,
   "metadata": {
    "scrolled": true
   },
   "outputs": [],
   "source": [
    "query = '''SELECT DISTINCT party FROM candidates'''\n",
    "viz_tables(['party'], query)"
   ]
  },
  {
   "cell_type": "markdown",
   "metadata": {},
   "source": [
    "### Do the following:\n",
    "* Get the first and last name of contributors.  Make sure each row has distinct values."
   ]
  },
  {
   "cell_type": "markdown",
   "metadata": {},
   "source": [
    "<a id='step_5'></a>\n",
    "# Step 5:  Altering Tables\n",
    "The `ALTER` clause allows us to modify tables in our database.  Here, we add a new column to our candidates table called `full_name`."
   ]
  },
  {
   "cell_type": "code",
   "execution_count": null,
   "metadata": {},
   "outputs": [],
   "source": [
    "cursor.execute('''ALTER TABLE candidates ADD COLUMN full_name TEXT''')\n",
    "candidate_cols = [col[1] for col in cursor.execute(\"PRAGMA table_info(candidates)\")]\n",
    "viz_tables(candidate_cols, '''SELECT * FROM candidates''')"
   ]
  },
  {
   "cell_type": "markdown",
   "metadata": {},
   "source": [
    "What if we want to rename or delete a columm?  It can't be done with `SQLite` with a single command.  We need to follow some roundabout steps (see [`SQLite` ALTER TABLE](http://www.sqlitetutorial.net/sqlite-alter-table/)).  We won't consider this case at the moment."
   ]
  },
  {
   "cell_type": "markdown",
   "metadata": {},
   "source": [
    "For now, let's put a few commands together to populate the `full_name` column."
   ]
  },
  {
   "cell_type": "code",
   "execution_count": null,
   "metadata": {},
   "outputs": [],
   "source": [
    "candidate_cols = [col[1] for col in cursor.execute(\"PRAGMA table_info(candidates)\")] # regenerate columns with full_name\n",
    "query = '''SELECT id, last_name, first_name FROM candidates''' # Select a few columns\n",
    "full_name_and_id = [(attr[1] + \", \" + attr[2], attr[0]) for attr in cursor.execute(query).fetchall()] # List of tuples: (full_name, id)\n",
    "\n",
    "update = '''UPDATE candidates SET full_name = ? WHERE id = ?''' # Update the table\n",
    "for rows in full_name_and_id:\n",
    "    cursor.execute(update, rows)\n",
    "\n",
    "query = '''SELECT * FROM candidates'''\n",
    "viz_tables(candidate_cols, query)"
   ]
  },
  {
   "cell_type": "markdown",
   "metadata": {},
   "source": [
    "Here's another update, this time on an existing column."
   ]
  },
  {
   "cell_type": "code",
   "execution_count": null,
   "metadata": {},
   "outputs": [],
   "source": [
    "update = '''UPDATE candidates SET full_name = \"Eventual Winner\" WHERE last_name = \"Obama\"'''\n",
    "cursor.execute(update)\n",
    "update = '''UPDATE candidates SET full_name = \"Eventual Loser\" WHERE last_name = \"Romney\"'''\n",
    "cursor.execute(update)\n",
    "viz_tables(candidate_cols, query)"
   ]
  },
  {
   "cell_type": "markdown",
   "metadata": {},
   "source": [
    "### Do the following:\n",
    "* Add a new column to the contributors table called `full_name`.  The value in that column should be in the form `last_name, first_name`.\n",
    "* Change the value in the `full_name` column to the string `\"Too Much\"` if someone donated more than $\\$1000.00$."
   ]
  },
  {
   "cell_type": "markdown",
   "metadata": {},
   "source": [
    "<a id='step_6'></a>\n",
    "# Step 6: Aggregation\n",
    "You can perform some nice operations on the values in the database.  For example, you can compute the maximum, minimum, and sum of a set.  You can also count the number of items in a given set.  Here's a little example.  You can do the rest."
   ]
  },
  {
   "cell_type": "code",
   "execution_count": null,
   "metadata": {},
   "outputs": [],
   "source": [
    "contributor_cols = [col[1] for col in cursor.execute(\"PRAGMA table_info(contributors)\")] # You've already done this part.  I just need to do it here b/c I haven't yet.\n",
    "function = '''SELECT *, MAX(amount) AS max_amount FROM contributors'''\n",
    "viz_tables(contributor_cols, function)"
   ]
  },
  {
   "cell_type": "markdown",
   "metadata": {},
   "source": [
    "### Do the following:\n",
    "\n",
    "* Count how many donations there were above $\\$1000.00$.\n",
    "* Calculate the average donation.\n",
    "* Calculate the average contribution from each state and display in a table.\n",
    "  - **Hint**:  Use code that looks like: \n",
    "\n",
    "  ```python\n",
    "  \"SELECT state,SUM(amount) FROM contributors GROUP BY state\"\n",
    "  ```"
   ]
  },
  {
   "cell_type": "markdown",
   "metadata": {},
   "source": [
    "<a id='step_7'></a>\n",
    "# Step 7: DELETE\n",
    "We have already noted that `SQLite` can't drop columns in a straightfoward manner.  However, it can delete rows quite simply.  Here's the syntax:\n",
    "```python\n",
    "deletion = '''DELETE FROM table_name WHERE condition'''\n",
    "```\n",
    "\n",
    "### Do the following:\n",
    "* Delete rows in the `contributors` table with last name \"Ahrens\"."
   ]
  },
  {
   "cell_type": "markdown",
   "metadata": {},
   "source": [
    "<a id='step_8'></a>\n",
    "# Step 8:  LIMIT\n",
    "The `LIMIT` clause offers convenient functionality.  It allows you to constrain the number of rows returned by your query.  It shows up in many guises."
   ]
  },
  {
   "cell_type": "code",
   "execution_count": null,
   "metadata": {},
   "outputs": [],
   "source": [
    "query = '''SELECT * FROM candidates LIMIT 3'''\n",
    "viz_tables(candidate_cols, query)"
   ]
  },
  {
   "cell_type": "code",
   "execution_count": null,
   "metadata": {},
   "outputs": [],
   "source": [
    "query = '''SELECT * FROM candidates LIMIT 4 OFFSET 5'''\n",
    "viz_tables(candidate_cols, query)"
   ]
  },
  {
   "cell_type": "code",
   "execution_count": null,
   "metadata": {},
   "outputs": [],
   "source": [
    "query = '''SELECT * FROM candidates ORDER BY last_name LIMIT 4 OFFSET 5'''\n",
    "viz_tables(candidate_cols, query)"
   ]
  },
  {
   "cell_type": "markdown",
   "metadata": {},
   "source": [
    "### Do the following:\n",
    "* Query and display the ten most generous donors.\n",
    "* Query and display the ten least generous donors who donated a positive amount of money (since the data we have has some negative numbers in it...)."
   ]
  },
  {
   "cell_type": "markdown",
   "metadata": {},
   "source": [
    "# Save\n",
    "Don't forget to save all of these changes to your database using `db.commit()`.  Before closing shop, be sure to close the database connection with `db.close()`."
   ]
  }
 ],
 "metadata": {
  "kernelspec": {
   "display_name": "Python 3",
   "language": "python",
   "name": "python3"
  },
  "language_info": {
   "codemirror_mode": {
    "name": "ipython",
    "version": 3
   },
   "file_extension": ".py",
   "mimetype": "text/x-python",
   "name": "python",
   "nbconvert_exporter": "python",
   "pygments_lexer": "ipython3",
   "version": "3.6.6"
  }
 },
 "nbformat": 4,
 "nbformat_minor": 1
}
