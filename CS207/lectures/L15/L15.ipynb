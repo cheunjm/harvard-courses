{
 "cells": [
  {
   "cell_type": "markdown",
   "metadata": {
    "slideshow": {
     "slide_type": "slide"
    }
   },
   "source": [
    "# Lecture 15\n",
    "\n",
    "##  Data Structures I\n",
    "\n",
    "### Tuesday, October 23rd 2018"
   ]
  },
  {
   "cell_type": "markdown",
   "metadata": {
    "slideshow": {
     "slide_type": "slide"
    }
   },
   "source": [
    "# Data Structures\n",
    "\n",
    "* Computer programs don't only perform calculations; they also store and retrieve information \n",
    "* Data structures and the algorithms that operate on them is at the core of computer science \n",
    "* Data structures are quite general\n",
    "  - Any data representation and associated operations\n",
    "  - e.g. integers, floats, arrays, classes, ...\n",
    "* Need to develop a \"toolkit\" of data structures and know when/how to use the right one for a given problem"
   ]
  },
  {
   "cell_type": "markdown",
   "metadata": {
    "slideshow": {
     "slide_type": "subslide"
    }
   },
   "source": [
    "> Changing a data structure in a slow program can work the same way an organ transplant does in a sick patient. Important classes of abstract data types such as containers, dictionaries, and priority queues, have many different but functionally equivalent data structures that implement them. Changing the data structure does not change the correctness of the program, since we presumably replace a correct implementation with a different correct implementation. However, the new implementation of the data type realizes different tradeoffs in the time to execute various operations, so the total performance can improve dramatically. Like a patient in need of a transplant, only one part might need to be replaced in order to fix the problem.\n",
    "\n",
    "-Steven S Skiena. The Algorithm Design Manual"
   ]
  },
  {
   "cell_type": "markdown",
   "metadata": {
    "slideshow": {
     "slide_type": "subslide"
    }
   },
   "source": [
    "## Common data structures\n",
    "\n",
    "* Lists\n",
    "* Stacks/queues\n",
    "* Hashes \n",
    "* Heaps\n",
    "* Trees\n",
    "\n",
    "We'll focus on *lists* today."
   ]
  },
  {
   "cell_type": "markdown",
   "metadata": {
    "slideshow": {
     "slide_type": "subslide"
    }
   },
   "source": [
    "We'll tour some data structures in `Python`.\n",
    "\n",
    "First up:  sequences."
   ]
  },
  {
   "cell_type": "markdown",
   "metadata": {
    "slideshow": {
     "slide_type": "slide"
    }
   },
   "source": [
    "## Sequences and their Abstractions"
   ]
  },
  {
   "cell_type": "markdown",
   "metadata": {
    "slideshow": {
     "slide_type": "subslide"
    }
   },
   "source": [
    "## What is a sequence?\n",
    "\n",
    "Consider the notion of **Abstract Data Types**. \n",
    "\n",
    "The idea is that one data type might be implemented in terms of another, or some underlying code, not even in `Python`.\n",
    "\n",
    "As long as the interface and contract presented to the user is solid, we can change the implementation below. "
   ]
  },
  {
   "cell_type": "markdown",
   "metadata": {
    "slideshow": {
     "slide_type": "subslide"
    }
   },
   "source": [
    "The **dunder methods** in `Python` are used towards this purpose. \n",
    "\n",
    "In `Python` a sequence is something that follows the \"sequence protocol\". An example of this is a `Python` list. \n",
    "\n",
    "This entails defining the `__len__` and `__getitem__` methods, as we mentioned in previous lectures."
   ]
  },
  {
   "cell_type": "markdown",
   "metadata": {
    "slideshow": {
     "slide_type": "subslide"
    }
   },
   "source": [
    "### Example"
   ]
  },
  {
   "cell_type": "code",
   "execution_count": null,
   "metadata": {
    "slideshow": {
     "slide_type": "fragment"
    }
   },
   "outputs": [],
   "source": [
    "alist = [1,2,3,4]\n",
    "len(alist) # calls alist.__len__"
   ]
  },
  {
   "cell_type": "code",
   "execution_count": null,
   "metadata": {
    "slideshow": {
     "slide_type": "fragment"
    }
   },
   "outputs": [],
   "source": [
    "alist[2] # calls alist.__getitem__(2)"
   ]
  },
  {
   "cell_type": "markdown",
   "metadata": {
    "slideshow": {
     "slide_type": "subslide"
    }
   },
   "source": [
    "#### Lists also support slicing"
   ]
  },
  {
   "cell_type": "code",
   "execution_count": null,
   "metadata": {
    "slideshow": {
     "slide_type": "fragment"
    }
   },
   "outputs": [],
   "source": [
    "alist[2:4]"
   ]
  },
  {
   "cell_type": "markdown",
   "metadata": {
    "slideshow": {
     "slide_type": "fragment"
    }
   },
   "source": [
    "#### How does this work?"
   ]
  },
  {
   "cell_type": "markdown",
   "metadata": {
    "slideshow": {
     "slide_type": "subslide"
    }
   },
   "source": [
    "We will create a dummy sequence, which does not create any storage."
   ]
  },
  {
   "cell_type": "code",
   "execution_count": null,
   "metadata": {
    "slideshow": {
     "slide_type": "fragment"
    }
   },
   "outputs": [],
   "source": [
    "class DummySeq:\n",
    "    # It just implements the protocol.\n",
    "    def __len__(self):\n",
    "        return 42\n",
    "    \n",
    "    def __getitem__(self, index):\n",
    "        return index"
   ]
  },
  {
   "cell_type": "code",
   "execution_count": null,
   "metadata": {
    "slideshow": {
     "slide_type": "fragment"
    }
   },
   "outputs": [],
   "source": [
    "d = DummySeq()\n",
    "len(d)"
   ]
  },
  {
   "cell_type": "code",
   "execution_count": null,
   "metadata": {
    "slideshow": {
     "slide_type": "fragment"
    }
   },
   "outputs": [],
   "source": [
    "d[5]"
   ]
  },
  {
   "cell_type": "code",
   "execution_count": null,
   "metadata": {
    "slideshow": {
     "slide_type": "fragment"
    }
   },
   "outputs": [],
   "source": [
    "d[67:98]"
   ]
  },
  {
   "cell_type": "markdown",
   "metadata": {
    "slideshow": {
     "slide_type": "subslide"
    }
   },
   "source": [
    "#### The \"slice object\"\n",
    "\n",
    "Slicing creates a *slice object* for us of the form `slice(start, stop, step)` and then `Python` calls `seq.__getitem__(slice(start, stop, step))`.\n",
    "\n",
    "Two-dimensional slicing is also possible."
   ]
  },
  {
   "cell_type": "code",
   "execution_count": null,
   "metadata": {
    "slideshow": {
     "slide_type": "fragment"
    }
   },
   "outputs": [],
   "source": [
    "d[67:98:2,1]"
   ]
  },
  {
   "cell_type": "code",
   "execution_count": null,
   "metadata": {
    "slideshow": {
     "slide_type": "fragment"
    }
   },
   "outputs": [],
   "source": [
    "d[67:98:2,1:10]"
   ]
  },
  {
   "cell_type": "code",
   "execution_count": null,
   "metadata": {
    "slideshow": {
     "slide_type": "subslide"
    }
   },
   "outputs": [],
   "source": [
    "# Adapted from Example 10-6 from Fluent Python\n",
    "import numbers\n",
    "import reprlib # like repr but w/ limits on sizes of returned strings\n",
    "\n",
    "class NewSeq:\n",
    "    def __init__(self, iterator):\n",
    "        self._storage = list(iterator)\n",
    "        \n",
    "    def __repr__(self):\n",
    "        components = reprlib.repr(self._storage)\n",
    "        components = components[components.find('['):]\n",
    "        return 'NewSeq({0})'.format(components)\n",
    "\n",
    "    def __len__(self):\n",
    "        return len(self._storage)\n",
    "     \n",
    "    def __getitem__(self, index):\n",
    "        cls = type(self)\n",
    "        if isinstance(index, slice):\n",
    "            return cls(self._storage[index])\n",
    "        elif isinstance(index, numbers.Integral): \n",
    "            return self._storage[index]\n",
    "        else:\n",
    "            msg = '{cls.__name__} indices must be integers' \n",
    "            raise TypeError(msg.format(cls=cls))\n"
   ]
  },
  {
   "cell_type": "code",
   "execution_count": null,
   "metadata": {
    "slideshow": {
     "slide_type": "subslide"
    }
   },
   "outputs": [],
   "source": [
    "d2 = NewSeq(range(10))\n",
    "len(d2)"
   ]
  },
  {
   "cell_type": "code",
   "execution_count": null,
   "metadata": {
    "slideshow": {
     "slide_type": "fragment"
    }
   },
   "outputs": [],
   "source": [
    "repr(d2)"
   ]
  },
  {
   "cell_type": "code",
   "execution_count": null,
   "metadata": {
    "slideshow": {
     "slide_type": "fragment"
    }
   },
   "outputs": [],
   "source": [
    "d2"
   ]
  },
  {
   "cell_type": "code",
   "execution_count": null,
   "metadata": {
    "slideshow": {
     "slide_type": "fragment"
    }
   },
   "outputs": [],
   "source": [
    "d[4]"
   ]
  },
  {
   "cell_type": "code",
   "execution_count": null,
   "metadata": {
    "slideshow": {
     "slide_type": "subslide"
    }
   },
   "outputs": [],
   "source": [
    "d2[2:4]"
   ]
  },
  {
   "cell_type": "code",
   "execution_count": null,
   "metadata": {
    "slideshow": {
     "slide_type": "fragment"
    }
   },
   "outputs": [],
   "source": [
    "d2[1,4]"
   ]
  },
  {
   "cell_type": "markdown",
   "metadata": {
    "slideshow": {
     "slide_type": "slide"
    }
   },
   "source": [
    "## Linked Lists\n",
    "\n",
    "* Remember, a *name* in `Python` points to its value.\n",
    "* We've seen lists whose last element is actually a pointer to another list.\n",
    "* This leads to the idea of a *linked list*, which we'll use to illustrate sequences."
   ]
  },
  {
   "cell_type": "markdown",
   "metadata": {
    "slideshow": {
     "slide_type": "subslide"
    }
   },
   "source": [
    "#### Nested Pairs\n",
    "\n",
    "Stanford CS61a: [Nested Pairs](http://wla.berkeley.edu/~cs61a/fa11/lectures/objects.html#nested-pairs), this is the **box and pointer** notation.\n",
    "\n",
    "In `Python`:"
   ]
  },
  {
   "cell_type": "code",
   "execution_count": null,
   "metadata": {
    "slideshow": {
     "slide_type": "fragment"
    }
   },
   "outputs": [],
   "source": [
    "pair = (1,2)"
   ]
  },
  {
   "cell_type": "markdown",
   "metadata": {
    "slideshow": {
     "slide_type": "fragment"
    }
   },
   "source": [
    "This representation lacks a certain power. A few generalizations:\n",
    "* `pair = (1, (2, None))`\n",
    "* `linked_list = (1, (2, (3, (4, None))))`\n",
    "\n",
    "The second example leads to [Recursive Lists](http://wla.berkeley.edu/~cs61a/fa11/lectures/objects.html#recursive-lists)."
   ]
  },
  {
   "cell_type": "markdown",
   "metadata": {
    "slideshow": {
     "slide_type": "subslide"
    }
   },
   "source": [
    "Here's what things look like in `PythonTutor`:  [`PythonTutor` Example](https://goo.gl/fEgdyA)."
   ]
  },
  {
   "cell_type": "markdown",
   "metadata": {
    "slideshow": {
     "slide_type": "subslide"
    }
   },
   "source": [
    "#### Quick Linked List implementation"
   ]
  },
  {
   "cell_type": "code",
   "execution_count": null,
   "metadata": {
    "slideshow": {
     "slide_type": "fragment"
    }
   },
   "outputs": [],
   "source": [
    "empty_ll = None\n",
    "\n",
    "def make_ll(first, rest): # Make a linked list\n",
    "    return (first, rest)\n",
    "\n",
    "def first(ll): # Get the first entry of a linked list\n",
    "    return ll[0]\n",
    "\n",
    "def rest(ll): # Get the second entry of a linked list\n",
    "    return ll[1]\n",
    "\n",
    "ll_1 = make_ll(1, make_ll(2, make_ll(3, empty_ll))) # Recursively generate a linked list\n",
    "\n",
    "my_ll = make_ll(10,ll_1) # Make another one\n",
    "my_ll"
   ]
  },
  {
   "cell_type": "code",
   "execution_count": null,
   "metadata": {
    "scrolled": true,
    "slideshow": {
     "slide_type": "fragment"
    }
   },
   "outputs": [],
   "source": [
    "print(first(my_ll), \"     \", rest(my_ll), \"     \", first(rest(my_ll)))"
   ]
  },
  {
   "cell_type": "markdown",
   "metadata": {
    "slideshow": {
     "slide_type": "subslide"
    }
   },
   "source": [
    "#### Some reasons for linked lists:\n",
    "\n",
    "- You allocate memory only when you want to use it.\n",
    "- Inserting a new element is cheaper than in a fixed size array\n",
    "- Gateway to other pointer-like and hierarchical structures.\n",
    "\n",
    "#### Comments about linked lists:\n",
    "\n",
    "- Not so useful in `Python` but can be useful in `C/C++`\n",
    "- There are singly-linked lists and doubly-linked lists"
   ]
  }
 ],
 "metadata": {
  "celltoolbar": "Slideshow",
  "kernelspec": {
   "display_name": "Python 3",
   "language": "python",
   "name": "python3"
  },
  "language_info": {
   "codemirror_mode": {
    "name": "ipython",
    "version": 3
   },
   "file_extension": ".py",
   "mimetype": "text/x-python",
   "name": "python",
   "nbconvert_exporter": "python",
   "pygments_lexer": "ipython3",
   "version": "3.6.6"
  }
 },
 "nbformat": 4,
 "nbformat_minor": 1
}
