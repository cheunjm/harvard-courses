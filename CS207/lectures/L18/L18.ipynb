{
 "cells": [
  {
   "cell_type": "markdown",
   "metadata": {
    "slideshow": {
     "slide_type": "slide"
    }
   },
   "source": [
    "# Lecture 18\n",
    "\n",
    "## Thursday, November 1st 2018\n",
    "\n",
    "* Generators\n",
    "* How things work"
   ]
  },
  {
   "cell_type": "markdown",
   "metadata": {
    "slideshow": {
     "slide_type": "slide"
    }
   },
   "source": [
    "# Generators"
   ]
  },
  {
   "cell_type": "markdown",
   "metadata": {
    "slideshow": {
     "slide_type": "subslide"
    }
   },
   "source": [
    "## Example"
   ]
  },
  {
   "cell_type": "code",
   "execution_count": null,
   "metadata": {
    "slideshow": {
     "slide_type": "fragment"
    }
   },
   "outputs": [],
   "source": [
    "def mygen(N):\n",
    "    for i in range(N):\n",
    "        yield i**2\n",
    "\n",
    "for vals in mygen(7):\n",
    "    print(vals)"
   ]
  },
  {
   "cell_type": "markdown",
   "metadata": {
    "slideshow": {
     "slide_type": "slide"
    }
   },
   "source": [
    "* A generator function looks like a normal function, but yields values instead of returning them."
   ]
  },
  {
   "cell_type": "markdown",
   "metadata": {
    "slideshow": {
     "slide_type": "fragment"
    }
   },
   "source": [
    "* The syntax is the same otherwise ([PEP 255 -- Simple Generators](https://www.python.org/dev/peps/pep-0255/))."
   ]
  },
  {
   "cell_type": "markdown",
   "metadata": {
    "slideshow": {
     "slide_type": "fragment"
    }
   },
   "source": [
    "* A generator is different; when the function runs, it creates a generator."
   ]
  },
  {
   "cell_type": "markdown",
   "metadata": {
    "slideshow": {
     "slide_type": "fragment"
    }
   },
   "source": [
    "* The generator is an iterator and gets an internal implementation of `__iter__` and `__next__`."
   ]
  },
  {
   "cell_type": "markdown",
   "metadata": {
    "slideshow": {
     "slide_type": "subslide"
    }
   },
   "source": [
    "* When `next` is called on the generator, the function proceeds until the first `yield`."
   ]
  },
  {
   "cell_type": "markdown",
   "metadata": {
    "slideshow": {
     "slide_type": "fragment"
    }
   },
   "source": [
    "* The function body is now suspended and the value in the `yield` is then passed to the calling scope as the outcome of the `next`."
   ]
  },
  {
   "cell_type": "markdown",
   "metadata": {
    "slideshow": {
     "slide_type": "fragment"
    }
   },
   "source": [
    "* When next is called again, it gets `__next__` called again (implicitly) in the generator, and the next value is yielded."
   ]
  },
  {
   "cell_type": "markdown",
   "metadata": {
    "slideshow": {
     "slide_type": "fragment"
    }
   },
   "source": [
    "* This continues until we reach the end of the function, the return of which creates a `StopIteration` in next."
   ]
  },
  {
   "cell_type": "markdown",
   "metadata": {
    "slideshow": {
     "slide_type": "subslide"
    }
   },
   "source": [
    "Any Python function that has the `yield` keyword in its body is a generator function."
   ]
  },
  {
   "cell_type": "code",
   "execution_count": null,
   "metadata": {
    "slideshow": {
     "slide_type": "subslide"
    }
   },
   "outputs": [],
   "source": [
    "def gen123():\n",
    "    print(\"A\")\n",
    "    yield 1\n",
    "    print(\"B\")\n",
    "    yield 2\n",
    "    print(\"C\")\n",
    "    yield 3\n",
    "\n",
    "g = gen123()\n",
    "\n",
    "print(gen123)\n",
    "print(type(gen123))\n",
    "print(type(g))"
   ]
  },
  {
   "cell_type": "code",
   "execution_count": null,
   "metadata": {
    "slideshow": {
     "slide_type": "subslide"
    }
   },
   "outputs": [],
   "source": [
    "print(\"A generator is an iterator.\")\n",
    "print(\"It has {} and {}\".format(g.__iter__, g.__next__))"
   ]
  },
  {
   "cell_type": "code",
   "execution_count": null,
   "metadata": {
    "slideshow": {
     "slide_type": "subslide"
    }
   },
   "outputs": [],
   "source": [
    "print(next(g))"
   ]
  },
  {
   "cell_type": "code",
   "execution_count": null,
   "metadata": {},
   "outputs": [],
   "source": [
    "print(next(g))"
   ]
  },
  {
   "cell_type": "code",
   "execution_count": null,
   "metadata": {},
   "outputs": [],
   "source": [
    "print(next(g))"
   ]
  },
  {
   "cell_type": "code",
   "execution_count": null,
   "metadata": {},
   "outputs": [],
   "source": [
    "print(next(g))"
   ]
  },
  {
   "cell_type": "markdown",
   "metadata": {
    "slideshow": {
     "slide_type": "subslide"
    }
   },
   "source": [
    "### More notes on generators\n",
    "* Generators yield one item at a time\n",
    "* In this way, they feed the `for` loop one item at a time"
   ]
  },
  {
   "cell_type": "code",
   "execution_count": null,
   "metadata": {
    "slideshow": {
     "slide_type": "fragment"
    }
   },
   "outputs": [],
   "source": [
    "for i in gen123():\n",
    "    print(i, \"\\n\")"
   ]
  },
  {
   "cell_type": "markdown",
   "metadata": {
    "slideshow": {
     "slide_type": "subslide"
    }
   },
   "source": [
    "## Exercise 1\n",
    "\n",
    "#### Do the following exercise in a `.py` file called `sentence.py`.\n",
    "\n",
    "Create a `Sentence` iterator class that uses a generator.\n",
    "\n",
    "**Notes and Hints:** \n",
    "* You will write the generator in the `__iter__` special method.\n",
    "* The generator automatically gets `__next__` (no need to implement it).\n",
    "* Now you only need to create a single class."
   ]
  },
  {
   "cell_type": "markdown",
   "metadata": {
    "slideshow": {
     "slide_type": "subslide"
    }
   },
   "source": [
    "```python\n",
    "class SentenceIterator:\n",
    "    def __init__(self, words): \n",
    "        self.words = words \n",
    "        self.index = 0\n",
    "        \n",
    "    def __next__(self): \n",
    "        try:\n",
    "            word = self.words[self.index] \n",
    "        except IndexError:\n",
    "            raise StopIteration() \n",
    "        self.index += 1\n",
    "        return word \n",
    "\n",
    "    def __iter__(self):\n",
    "        return self\n",
    "\n",
    "class Sentence: # An iterable\n",
    "    def __init__(self, text): \n",
    "        self.text = text\n",
    "        self.words = text.split()\n",
    "        \n",
    "    def __iter__(self):\n",
    "        return SentenceIterator(self.words)\n",
    "    \n",
    "    def __repr__(self):\n",
    "        return 'Sentence(%s)' % reprlib.repr(self.text)\n",
    "```"
   ]
  },
  {
   "cell_type": "markdown",
   "metadata": {
    "slideshow": {
     "slide_type": "slide"
    }
   },
   "source": [
    "# How Things Work\n",
    "We've introduced some data structures and discussed why they're important.\n",
    "\n",
    "Now we'll go over where things live in the computer and how `Python` actually does things."
   ]
  },
  {
   "cell_type": "markdown",
   "metadata": {
    "slideshow": {
     "slide_type": "subslide"
    }
   },
   "source": [
    "## Process address space\n",
    "\n",
    "What do we mean when we say a program is \"in memory\"?\n",
    "\n",
    "- compiled code must be loaded from disk into memory. \n",
    "- once your program starts, it must create (reserve) space for the variables it will use and it must store and read values from those variables. \n",
    "\n",
    "The code, the reserved space, and the generated data all constitute a program's memory footprint.\n",
    "\n"
   ]
  },
  {
   "cell_type": "markdown",
   "metadata": {
    "slideshow": {
     "slide_type": "subslide"
    }
   },
   "source": [
    "Every operating system has a (different) convention for exactly where and how these different resources are actually laid out in memory. These conventions are called *object file formats*.\n",
    "\n",
    "In Linux, the most common object format is called `ELF`, short for \"Executable and Linkable Format\".\n",
    "\n",
    "A simplified view of our example program looks like this in memory: the `stack` and the `heap`\n",
    "  - [Stack and Heap](https://stackoverflow.com/questions/79923/what-and-where-are-the-stack-and-heap)."
   ]
  },
  {
   "cell_type": "markdown",
   "metadata": {
    "slideshow": {
     "slide_type": "subslide"
    }
   },
   "source": [
    "### The Stack\n",
    "\n",
    "The stack keeps track of function calls and their data. \n",
    "\n",
    "- Whenever a function is called, a new chunk of memory is reserved at the top of the stack in order to store variables for that function. "
   ]
  },
  {
   "cell_type": "markdown",
   "metadata": {
    "slideshow": {
     "slide_type": "fragment"
    }
   },
   "source": [
    "- This includes variables that you have defined inside your function and function parameters, but it also includes data that were generated automatically by the compiler. "
   ]
  },
  {
   "cell_type": "markdown",
   "metadata": {
    "slideshow": {
     "slide_type": "subslide"
    }
   },
   "source": [
    "- The most recognizable value in this latter category is the return address. When a function calls `return`, the computer starts executing instructions at the location that the function was originally called from."
   ]
  },
  {
   "cell_type": "markdown",
   "metadata": {
    "slideshow": {
     "slide_type": "fragment"
    }
   },
   "source": [
    "- When a function returns, it removes its stack frame from the stack. This means that at any given point, the stack contains a record of which functions the program is currently in."
   ]
  },
  {
   "cell_type": "markdown",
   "metadata": {
    "slideshow": {
     "slide_type": "fragment"
    }
   },
   "source": [
    "- Removing the function stack from the stack becomes a problem if you want to create space for variables and then access them after the function returns. "
   ]
  },
  {
   "cell_type": "markdown",
   "metadata": {
    "slideshow": {
     "slide_type": "subslide"
    }
   },
   "source": [
    "### The Heap\n",
    "- The heap is another memory location which is not reclaimed after a function returns. It is explicitly managed, which means that you need to ask to allocate a variable in it. What's more, when you're finished with that space, you need to say so."
   ]
  },
  {
   "cell_type": "markdown",
   "metadata": {
    "slideshow": {
     "slide_type": "fragment"
    }
   },
   "source": [
    "- This interface, explicitly requesting and releasing memory from the heap, is typically called *memory management*."
   ]
  },
  {
   "cell_type": "markdown",
   "metadata": {
    "slideshow": {
     "slide_type": "fragment"
    }
   },
   "source": [
    "- In `C` you do this directly using `malloc`/`free`. Python takes care of this for you using **garbage collection**."
   ]
  },
  {
   "cell_type": "markdown",
   "metadata": {
    "slideshow": {
     "slide_type": "subslide"
    }
   },
   "source": [
    "## How does Python manage memory?\n",
    "So far, when you create a list in `Python` (e.g. `a=[1,2,3,4,5]`), we have been thinking of it as an array of integers.\n",
    "\n",
    "But that is not actually the case.\n",
    "\n",
    "An array would be 5 contiguous integers with some book-keeping at the beginning either on the stack or the heap.\n",
    "\n",
    "You are all highly encouraged to read the eminently readable article [Why Python is Slow](https://jakevdp.github.io/blog/2014/05/09/why-python-is-slow/) from Jake Vanderplas's blog.  Most of the following points come from his discussion."
   ]
  },
  {
   "cell_type": "markdown",
   "metadata": {
    "slideshow": {
     "slide_type": "subslide"
    }
   },
   "source": [
    "### `Python` objects are allocated on the heap: an `int` is not an `int`\n",
    "An `int` is represented in `Python` as a `C` structure **allocated on the heap**.\n",
    "\n",
    "The picture of this `C` structure looks a little bit like this:\n",
    "\n",
    "![](http://jakevdp.github.io/images/cint_vs_pyint.png)"
   ]
  },
  {
   "cell_type": "markdown",
   "metadata": {
    "slideshow": {
     "slide_type": "subslide"
    }
   },
   "source": [
    "On Jake's blog, he shows how this integer is represented:\n",
    "\n",
    "```C\n",
    "struct _longobject {\n",
    "    long ob_refcnt; // in PyObject_HEAD\n",
    "    PyTypeObject *ob_type; // in PyObject_HEAD\n",
    "    size_t ob_size; // in PyObject_HEAD\n",
    "    long ob_digit[1];\n",
    "};\n",
    "```\n",
    "It's not just a simple integer!"
   ]
  },
  {
   "cell_type": "markdown",
   "metadata": {
    "slideshow": {
     "slide_type": "subslide"
    }
   },
   "source": [
    "### Boxing and unboxing (or why `Python` is slow)\n",
    "Because `int`s are stored in this scheme, a simple addition involves a lot of work!\n",
    "\n",
    "    \n",
    "So it's not a simple addition...there is all this machinery around it.\n",
    "\n",
    "And that example was just to add two `int`s where `binary_add` is optimized in `C`!\n",
    "\n",
    "If these were user-defined classes, there would be additional overhead from `dunder` methods for addition!"
   ]
  },
  {
   "cell_type": "markdown",
   "metadata": {
    "slideshow": {
     "slide_type": "subslide"
    }
   },
   "source": [
    "### What About Lists?\n",
    "\n",
    "A `Python` list is represented by the following `struct`:\n",
    "\n",
    "```C\n",
    "typedef struct {\n",
    "    long ob_refcnt;\n",
    "    PyTypeObject *ob_type;\n",
    "    Py_ssize_t ob_size;\n",
    "    PyObject **ob_item;\n",
    "    long allocated;\n",
    "} PyListObject;\n",
    "```\n",
    "\n",
    "Notice the `PyObject**`. This points to the contents of the list. What is this a list of? This is a list of `PyObject*`."
   ]
  },
  {
   "cell_type": "markdown",
   "metadata": {
    "slideshow": {
     "slide_type": "subslide"
    }
   },
   "source": [
    "Each of those pointers, when dereferenced, gives us an `IntStruct`. The `ob_size` tells us the number of items on the list.\n",
    "\n",
    "Thus this is **an array of pointers to heap allocated `IntStruct`**s: [Simple Example](https://goo.gl/jjfpNV)."
   ]
  },
  {
   "cell_type": "markdown",
   "metadata": {
    "slideshow": {
     "slide_type": "subslide"
    }
   },
   "source": [
    "## What do others do?\n",
    "\n",
    "`Julia`:\n",
    ">In the most general case, an array may contain objects of type Any. For most computational purposes, arrays should contain objects of a more specific type, such as Float64 or Int32.\n",
    "\n",
    "```julia\n",
    "a = Real[]    # typeof(a) = Array{Real,1}\n",
    "if (f = rand()) < .8\n",
    "    push!(a, f) # f will always be Float64\n",
    "end\n",
    "```"
   ]
  },
  {
   "cell_type": "markdown",
   "metadata": {
    "slideshow": {
     "slide_type": "subslide"
    }
   },
   "source": [
    "Because `a` is a an array of abstract type `Real`, it must be able to hold any `Real` value. Since `Real` objects can be of arbitrary size and structure, `a` must be represented as an array of pointers to individually allocated `Real` objects. We should instead use:\n",
    "\n",
    "```julia\n",
    "a = Float64[] # typeof(a) = Array{Float64,1}\n",
    "```\n",
    "\n",
    "which will create a contiguous block of 64-bit floating-point values."
   ]
  },
  {
   "cell_type": "markdown",
   "metadata": {
    "slideshow": {
     "slide_type": "fragment"
    }
   },
   "source": [
    "`C`:\n",
    "\n",
    "You allocate explicitly either on the heap or stack."
   ]
  },
  {
   "cell_type": "markdown",
   "metadata": {
    "slideshow": {
     "slide_type": "subslide"
    }
   },
   "source": [
    "In `Python` you can append to lists. So what's an `ob_size` doing in our struct then?\n",
    "\n",
    "```C\n",
    "typedef struct {\n",
    "    long ob_refcnt;\n",
    "    PyTypeObject *ob_type;\n",
    "    Py_ssize_t ob_size;\n",
    "    PyObject **ob_item;\n",
    "    long allocated;\n",
    "} PyListObject;\n",
    "```\n",
    "\n",
    "Turns out Python lists are implemented in something called a dynamic array."
   ]
  },
  {
   "cell_type": "markdown",
   "metadata": {
    "slideshow": {
     "slide_type": "subslide"
    }
   },
   "source": [
    "## Arrays\n",
    "\n",
    "A static array is a contiguous slab of memory of known size, such that `n` items can fit in.  This is a great data structure. Why?"
   ]
  },
  {
   "cell_type": "markdown",
   "metadata": {
    "slideshow": {
     "slide_type": "fragment"
    }
   },
   "source": [
    "- constant time index access: `a[i]` is $\\mathcal{O}(1)$\n",
    "  - Just seek `i * sizeof(int)`"
   ]
  },
  {
   "cell_type": "markdown",
   "metadata": {
    "slideshow": {
     "slide_type": "fragment"
    }
   },
   "source": [
    "- linear time traversal or search: $1$ unit / loop iteration means $\\mathcal{O}(n)$ in loop."
   ]
  },
  {
   "cell_type": "markdown",
   "metadata": {
    "slideshow": {
     "slide_type": "fragment"
    }
   },
   "source": [
    "- locality in memory: it's one `int` after another"
   ]
  },
  {
   "cell_type": "markdown",
   "metadata": {
    "slideshow": {
     "slide_type": "subslide"
    }
   },
   "source": [
    "Tuples in `Python` are fixed size, static arrays."
   ]
  },
  {
   "cell_type": "markdown",
   "metadata": {
    "slideshow": {
     "slide_type": "fragment"
    }
   },
   "source": [
    "But the big problem is, what if we want to add something more beyond the end of the array?"
   ]
  },
  {
   "cell_type": "markdown",
   "metadata": {
    "slideshow": {
     "slide_type": "fragment"
    }
   },
   "source": [
    "Then we must use dynamic arrays."
   ]
  },
  {
   "cell_type": "markdown",
   "metadata": {
    "slideshow": {
     "slide_type": "subslide"
    }
   },
   "source": [
    "## Dynamic Arrays\n",
    "What `Python` does is first create a fixed size array of these `Pyobject*` pointers on the heap. Then, as you append, it uses its own algorithm to figure out when to expand the size of the array.\n",
    "\n",
    "[`listobject.c`](https://svn.python.org/projects/python/trunk/Objects/listobject.c )\n",
    "\n",
    "```C\n",
    "/* This over-allocates proportional to the list size, making\n",
    " * room for additional growth.  The over-allocation is mild, \n",
    " * but is enough to give linear-time amortized behavior over a \n",
    " * long sequence of appends() in the presence of a poorly- \n",
    " * performing system realloc().  The growth pattern is:  0, 4, \n",
    " * 8, 16, 25, 35, 46, 58, 72, 88, ...\n",
    "*/\n",
    "new_allocated = (newsize >> 3) + (newsize < 9 ? 3 : 6);\n",
    "```"
   ]
  },
  {
   "cell_type": "markdown",
   "metadata": {
    "slideshow": {
     "slide_type": "subslide"
    }
   },
   "source": [
    "### Performance of Dynamic Arrays\n",
    "\n",
    "Lets assume we start with an array of size of $1$ (one slot) and then double the size each time. After $n$ doublings, we have an array with $2^n$ slots.  So, it then takes $lg(n)$ doublings for the array to have $n$ slots (note, $\\lg(n)$ means $\\log_{2}(n)$).\n",
    "\n",
    "Notice that we might not get the continuously allocated memory we want. So we'll have to recopy to a larger array."
   ]
  },
  {
   "cell_type": "markdown",
   "metadata": {
    "slideshow": {
     "slide_type": "subslide"
    }
   },
   "source": [
    "The last $n/2$ numbers in the array don't move at all (they're the new ones). The previous $n/4$ numbers in the array would have moved once, the previous $n/8$ twice, and so on.\n",
    "\n",
    "Therefore, the $i$-th chunk of numbers will have moved $$i \\dfrac{n}{2^{i+1}}$$ times.\n",
    "\n",
    "We need to add all these movements up."
   ]
  },
  {
   "cell_type": "markdown",
   "metadata": {
    "slideshow": {
     "slide_type": "subslide"
    }
   },
   "source": [
    "Thus the total number of movements is \n",
    "\n",
    "$$\\sum_{i=1}^{lg(n)} i\\frac{n}{2^{i+1}} \\leq \\frac{n}{2} \\sum_{i=1}^{\\infty} \\frac{i}{2^i} = n.$$\n",
    "\n",
    "\n",
    "This is an amazing result. The work of reallocation is still $\\mathcal{O}(n)$ on the average, as if a single array had been allocated in advance!"
   ]
  },
  {
   "cell_type": "markdown",
   "metadata": {
    "slideshow": {
     "slide_type": "subslide"
    }
   },
   "source": [
    "Here's the calculation.\n",
    "\n",
    "\\begin{align*}\n",
    "  \\sum_{i=0}^{\\infty}{\\left(i+1\\right)x^{i+1}} &= x\\sum_{i=0}^{\\infty}{\\left(i+1\\right)x^{i}} \\\\\n",
    "      &= x\\frac{\\mathrm{d}}{\\mathrm{d}x}\\sum_{i=0}^{\\infty}{x^{i+1}} \\\\\n",
    "      &= x\\frac{\\mathrm{d}}{\\mathrm{d}x}\\left[x\\sum_{i=0}^{\\infty}{x^{i}}\\right] \\\\\n",
    "      &= x\\frac{\\mathrm{d}}{\\mathrm{d}x}\\left[\\frac{x}{1-x}\\right] = \\frac{x}{\\left(1-x\\right)^{2}}.\n",
    "\\end{align*}"
   ]
  },
  {
   "cell_type": "markdown",
   "metadata": {
    "slideshow": {
     "slide_type": "subslide"
    }
   },
   "source": [
    "When $x = 1/2$ we have\n",
    "$$\\sum_{i=0}^{\\infty}{\\left(i+1\\right)x^{i+1}} = 2.$$\n",
    "From here we can easily get the result from the previous slide."
   ]
  },
  {
   "cell_type": "markdown",
   "metadata": {
    "slideshow": {
     "slide_type": "subslide"
    }
   },
   "source": [
    "## Containers  vs Flats\n",
    "\n",
    "Earlier we saw how `Python` lists contained references to integer (\"digit\")+metdata based structs on the heap. \n",
    "\n",
    "We call sequences that hold such \"references\" to objects on the heap **Container Sequences**. Examples of such container sequences are `list`, `tuple`, `collections.deque`.\n",
    "\n",
    "There are collections in `Python` which contain contiguous \"typed\" memory (which itself is allocated on the heap). We call these **Flat Sequences**. Such containers in `Python 3` are: `str`, `bytes`, `bytearray`, `memoryview`, `array.array`."
   ]
  },
  {
   "cell_type": "markdown",
   "metadata": {
    "slideshow": {
     "slide_type": "subslide"
    }
   },
   "source": [
    "You have probably extensively used a type of flat sequence not mentioned yet. This is `NumPy`'s ndarray: `np.array`.\n",
    "\n",
    "All of these are faster as they work with **contiguous blocks of uniformly formatted memory**.\n",
    "\n",
    "From Fluent Python:\n",
    "> Container sequences hold references to the objects they contain, which may be of any type, while flat sequences physically store the value of each item within its own memory space, and not as distinct objects. Thus, flat sequences are more compact, but they are limited to holding primitive values like characters, bytes, and numbers."
   ]
  },
  {
   "cell_type": "markdown",
   "metadata": {
    "slideshow": {
     "slide_type": "subslide"
    }
   },
   "source": [
    "This is also a more general way of thinking about data structures. \n",
    "\n",
    ">**Contiguously-allocated** structures are composed of single slabs of memory, and include arrays, matrices, heaps, and hash tables.\n",
    "\n",
    ">**Linked** data structures are composed of distinct chunks of memory bound together by pointers, and include lists, trees, and graph adjacency lists.\n",
    "\n",
    "(Steven S Skiena. The Algorithm Design Manual)"
   ]
  },
  {
   "cell_type": "markdown",
   "metadata": {
    "slideshow": {
     "slide_type": "subslide"
    }
   },
   "source": [
    "- A critical advantage of something like a contiguous memory array is that indexing is a constant time operation, as opposed to worst-case $\\mathcal{O}(n)$, as we saw in linked lists. \n",
    "- Other benefits include a tighter size and a locality of memory which benefits cache and general memory transport."
   ]
  },
  {
   "cell_type": "markdown",
   "metadata": {
    "slideshow": {
     "slide_type": "subslide"
    }
   },
   "source": [
    "## Mutable vs Immutable\n",
    "\n",
    "The mutability of objects has recurred often in this course.\n",
    "\n",
    "One can also study containers based on their mutability. \n",
    "\n",
    "**Mutable sequences** in `Python 3` are: `list, bytearray, array.array, collections.deque, memoryview`.\n",
    "\n",
    "**Immutable sequences** in `Python 3` are `tuple, str, bytes`.\n",
    "\n",
    "Lets learn about some of these collections in `Python`."
   ]
  },
  {
   "cell_type": "markdown",
   "metadata": {
    "slideshow": {
     "slide_type": "subslide"
    }
   },
   "source": [
    "### array.array\n",
    "The `list` type is nice and very flexible, but if you need to store many many (millions) of floating point variables, `array.array` is a better option.\n",
    "\n",
    "`array.array` stores just the bytes representing the type, so its just like a contiguous `C` array of things in RAM, and also just like a `numpy` array. \n",
    "\n",
    "`array.array` *is* mutable, and you don't need to allocate ahead of time (reallocation will be done)."
   ]
  },
  {
   "cell_type": "code",
   "execution_count": null,
   "metadata": {
    "slideshow": {
     "slide_type": "subslide"
    }
   },
   "outputs": [],
   "source": [
    "from array import array\n",
    "from random import random\n",
    "#generator expression instead of list comprehension\n",
    "floats_aa = array('d', (random() for i in range(10**8)))\n",
    "print(floats_aa.itemsize, \"   \", type(floats_aa), \"   \", floats_aa[5])"
   ]
  },
  {
   "cell_type": "markdown",
   "metadata": {
    "slideshow": {
     "slide_type": "subslide"
    }
   },
   "source": [
    "Now let's do the same thing with a list comprehension:"
   ]
  },
  {
   "cell_type": "code",
   "execution_count": null,
   "metadata": {
    "slideshow": {
     "slide_type": "fragment"
    }
   },
   "outputs": [],
   "source": [
    "floats_list = [random() for i in range(10**8)]"
   ]
  },
  {
   "cell_type": "code",
   "execution_count": null,
   "metadata": {
    "slideshow": {
     "slide_type": "fragment"
    }
   },
   "outputs": [],
   "source": [
    "%%time\n",
    "for f in floats_aa:\n",
    "    pass"
   ]
  },
  {
   "cell_type": "code",
   "execution_count": null,
   "metadata": {
    "slideshow": {
     "slide_type": "fragment"
    }
   },
   "outputs": [],
   "source": [
    "%%time\n",
    "for f in floats_list:\n",
    "    pass"
   ]
  },
  {
   "cell_type": "markdown",
   "metadata": {
    "slideshow": {
     "slide_type": "subslide"
    }
   },
   "source": [
    "### A Few Observations\n",
    "* Looks like a regular `Python` list on 100 million floats only costs double.\n",
    "* Why is accessing floats in an `array.array` so slow?\n",
    "  - Because each float is *boxed* by the `Python` runtime. You saw this earlier!\n",
    "\n",
    "In an `array.array` or in `Numpy` for that matter, when you \"iterate\" over the array, and use the `int`s you get, what `Python` does is to take that 32 bits or 64 bits from memory, wrap it up into one of these structs, and hand it to you. You asked for a `Python` `int` after all."
   ]
  },
  {
   "cell_type": "markdown",
   "metadata": {
    "slideshow": {
     "slide_type": "subslide"
    }
   },
   "source": [
    "Operations on `array.array` which can be done with `C` are fast; access into `Python` is slow. \n",
    "\n",
    "This is why `numpy.ndarray` is written in `C`, with operations like `numpy.dot` written in `C`. \n",
    "\n",
    "(None of the `array.array` functionality is exposed with any complex operations under the hood, so its current use remains limited.)"
   ]
  },
  {
   "cell_type": "markdown",
   "metadata": {
    "slideshow": {
     "slide_type": "fragment"
    }
   },
   "source": [
    "If you want to use numerical stuff, use `numpy` arrays. \n",
    "\n",
    "See https://www.python.org/doc/essays/list2str/ for a discussion on when it's a good idea to use `array.array`."
   ]
  },
  {
   "cell_type": "markdown",
   "metadata": {
    "slideshow": {
     "slide_type": "subslide"
    }
   },
   "source": [
    "### memoryviews\n",
    "Memoryviews, inspired by `NumPy` and `SciPy`, let you handle slices of arrays without expensively copying bytes.\n",
    "\n",
    "Travis Oliphant, as quoted in Fluent:\n",
    ">A memoryview is essentially a generalized NumPy array structure in Python itself (without the math). It allows you to share memory between data-structures (things like PIL images, SQLlite databases, NumPy arrays, etc.) without first copying. This is very important for large data sets."
   ]
  }
 ],
 "metadata": {
  "anaconda-cloud": {},
  "celltoolbar": "Slideshow",
  "kernelspec": {
   "display_name": "Python 3",
   "language": "python",
   "name": "python3"
  },
  "language_info": {
   "codemirror_mode": {
    "name": "ipython",
    "version": 3
   },
   "file_extension": ".py",
   "mimetype": "text/x-python",
   "name": "python",
   "nbconvert_exporter": "python",
   "pygments_lexer": "ipython3",
   "version": "3.6.6"
  }
 },
 "nbformat": 4,
 "nbformat_minor": 1
}
