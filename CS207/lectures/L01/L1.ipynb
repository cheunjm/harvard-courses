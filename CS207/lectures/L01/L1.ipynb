{
 "cells": [
  {
   "cell_type": "markdown",
   "metadata": {},
   "source": [
    "# Lecture 1:  Create a GitHub Account"
   ]
  },
  {
   "cell_type": "markdown",
   "metadata": {
    "collapsed": true
   },
   "source": [
    "Go to [https://github.com](https://github.com) and sign up for an account.\n",
    "\n",
    "Be sure to use your .edu email account.  Students get unlimited free private repositories.  We will be using private repositories a lot in this class.\n",
    "\n",
    "From your GitHub homepage, find the **New Repository** button:\n",
    "* Click the **New Repository** button\n",
    "* Name the repository **cs207_firstname_lastname**\n",
    "  - **Please use all lowercase letters.**\n",
    "* Select **Private** for the repository type\n",
    "* **Do Not**\n",
    "  - initialize with a README, \n",
    "  - add a .gitignore file, \n",
    "  - choose a license.\n",
    "* Select **Create Repository**\n",
    "* You will see four options.  Choose the one at the bottom of the page and click the ``Import code`` button\n",
    "* Enter ``https://github.com/IACS-CS-207/cs207-F18.git`` in the text field under ``Your old repository's clone URL``\n",
    "* Click the ``New repository`` button.\n",
    "\n",
    "#### Congrats!  You now have the course repo!"
   ]
  },
  {
   "cell_type": "markdown",
   "metadata": {},
   "source": [
    "---\n",
    "### Connecting to the main course repo:  Part 1\n",
    "\n",
    "You now have all the course content as it currently stands.  The problem is that you can't update it!\n",
    "\n",
    "We will be doing most of our work from the command line.\n",
    "\n",
    "#### Mac Instructions:\n",
    "* Open terminal\n",
    "* Type ``which git``.  If git is installed, you will see a path to git similar to ``/usr/bin/git``.\n",
    "* If git is not installed, you won't see anything.  Follow the instructions here to install it:  \n",
    "  [https://git-scm.com/book/en/v2/Getting-Started-Installing-Git.](https://git-scm.com/book/en/v2/Getting-Started-Installing-Git.)\n",
    "\n",
    "#### Windows Instructions\n",
    "You should install git BASH:  [https://git-for-windows.github.io](https://git-for-windows.github.io)"
   ]
  },
  {
   "cell_type": "markdown",
   "metadata": {},
   "source": [
    "---\n",
    "### Connecting to the repo part 2\n",
    "\n",
    "Okay.  Now you have git.  Hopefully you still have your new GitHub repo open in your browser.  If not, open it.\n",
    "* Click on the ``Clone or download`` button and copy the text\n",
    "* Open your terminal session (or git-BASH session)\n",
    "* Type ``git clone <url_to_repo_just_copied>``\n",
    "* Now you have a local copy of your repo!\n",
    "\n",
    "But how do you link your repo to the main course repo?"
   ]
  },
  {
   "cell_type": "markdown",
   "metadata": {},
   "source": [
    "---\n",
    "### Connecting to the main course repo part 3\n",
    "\n",
    "* Inside your local repo, type ``git remote -v``.  This tells you the remote repos that are known to you.\n",
    "* you want to add a new remote repo (the main course repo).\n",
    "* Type ``git remote add upstream https://github.com/IACS-CS-207/cs207-F18.git``.\n",
    "* You just added a new remote to the main course repo with the short name ``upstream``.\n",
    "* Type ``git remote -v`` again.  See the new repo?  It's short name is ``upstream``.\n",
    "* If you want to get updates from the main course repo, just type ``git pull upstream master``.  Try it!\n",
    "* That command says to ``fetch`` and ``merge`` changes from the master branch of the repo pointed to by ``upstream``.\n",
    "* Notice that everything is up to date.\n",
    "\n",
    "Now you have the main course repo on your GitHub page and you know how to get updates from the main repo to your personal repo!\n",
    "\n",
    "Next time, we'll start to dive into the details of exactly what this all means."
   ]
  }
 ],
 "metadata": {
  "kernelspec": {
   "display_name": "Python 3",
   "language": "python",
   "name": "python3"
  },
  "language_info": {
   "codemirror_mode": {
    "name": "ipython",
    "version": 3
   },
   "file_extension": ".py",
   "mimetype": "text/x-python",
   "name": "python",
   "nbconvert_exporter": "python",
   "pygments_lexer": "ipython3",
   "version": "3.6.5"
  }
 },
 "nbformat": 4,
 "nbformat_minor": 2
}
