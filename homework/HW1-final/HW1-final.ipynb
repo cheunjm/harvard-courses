{
 "cells": [
  {
   "cell_type": "markdown",
   "metadata": {},
   "source": [
    "# HW1 Final\n",
    "## Markdown Practice\n",
    "\n",
    "\t\n",
    "### Table\n",
    "\n",
    "| Tables   |      Test      |\n",
    "|----------|:-------------:|\n",
    "| col 1 is |  left-aligned |\n",
    "| col 2 is |    centered   |\n",
    "| col 3 is | right-aligned |\n",
    "\n",
    "### List\n",
    "1. Python\n",
    "2. C\n",
    "   * C#\n",
    "   * C++  \n",
    "\n",
    "### Link\n",
    "A [link](http://www.google.com) to google."
   ]
  },
  {
   "cell_type": "code",
   "execution_count": null,
   "metadata": {},
   "outputs": [],
   "source": []
  }
 ],
 "metadata": {
  "kernelspec": {
   "display_name": "Python 3",
   "language": "python",
   "name": "python3"
  },
  "language_info": {
   "codemirror_mode": {
    "name": "ipython",
    "version": 3
   },
   "file_extension": ".py",
   "mimetype": "text/x-python",
   "name": "python",
   "nbconvert_exporter": "python",
   "pygments_lexer": "ipython3",
   "version": "3.6.5"
  }
 },
 "nbformat": 4,
 "nbformat_minor": 2
}
