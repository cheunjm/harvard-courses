{
 "cells": [
  {
   "cell_type": "markdown",
   "metadata": {},
   "source": [
    "# Homework 5\n",
    "\n",
    "## Due Thursday, November 1st 2018 at 11:59 PM.\n",
    "\n",
    "### Be sure to push the final version of your notebook to your GitHub repo.  Follow the instructions on the course website.\n",
    "\n",
    "### Topics\n",
    "#### [Part 1](#part_1): Data Structures [90 points]\n",
    "- [Problem 1](#p1). Linked List Class [30 points]\n",
    "- [Problem 2](#p2). Binary Tree Class [40 points]\n",
    "- [Problem 3](#p3). Markov Chains [20 point]\n",
    "\n",
    "#### [Part 2](#part_2): Feedback [10 point]\n",
    "- [Problem 4](#p4). Course Evaluation [10 point]\n",
    "\n",
    "---"
   ]
  },
  {
   "cell_type": "markdown",
   "metadata": {},
   "source": [
    "<a id='part_1'></a>\n",
    "## Part 1: Data Structures [90 points]\n",
    "<a id='p1'></a>\n",
    "### Problem 1:  Linked List Class\n",
    "\n",
    "Write a linked list class called `LinkedList`.  Remember, a singly linked list is made up of nodes each of which contain a value and a pointer.  The first node is called the \"head node\".\n",
    "\n",
    "Here are the required methods:\n",
    "* `__init__(self, head)` where `head` is the value of the head node.  You could make the head node an attribute.\n",
    "* `__len__(self)`: Returns the number of elements in the linked list.\n",
    "* `__getitem__(self, index)` returns the value of the node corresponding to `index`.  Include checks to make sure that `index` is not out of range and that the user is not trying to index an empty list.\n",
    "* `__repr__(self)` returns `LinkedList(head_node)`.\n",
    "* `insert_front(self, element)` inserts a new node with value `element` at the beginning of the list.\n",
    "* `insert_back(self, element)` inserts a new node with value `element` at the end of the list.\n",
    "\n",
    "**Note:**  An alternative implementation is to create a `Node` class.  You are not required to make a `Node` class but you may if you prefer that implementation.  Please don't steal that implementation from the online forums.  I've seen those too and we'll know if you copied them.\n",
    "\n",
    "\n",
    "#### Basic Interface\n",
    "Here are a few examples on the expected behavior. Please make sure that the methods you implemented behave similarly.\n",
    "\n",
    "1.\n",
    "```python\n",
    "ll = LinkedList(1.0)\n",
    "print(ll, len(ll), ll._headNode)\n",
    "```\n",
    "```\n",
    "`LinkedList(1.0) 1 [1.0, None]`\n",
    "```\n",
    "2.\n",
    "```python\n",
    "ll.insert_front(-1.0)\n",
    "print(ll, len(ll), ll._headNode)\n",
    "```\n",
    "```\n",
    "`LinkedList(-1.0) 2 [-1.0, [1.0, None]]`\n",
    "```\n",
    "3.\n",
    "```python\n",
    "ll.insert_back(3.0)\n",
    "print(ll, len(ll), ll._headNode)\n",
    "```\n",
    "```\n",
    "`LinkedList(-1.0) 3 [-1.0, [1.0, [3.0, None]]]`\n",
    "```\n",
    "4.\n",
    "```python\n",
    "print(ll[0], ll[1], ll[2])\n",
    "```\n",
    "```\n",
    "`-1.0 1.0 3.0`\n",
    "```\n",
    "5.\n",
    "```python\n",
    "eval(repr(ll))\n",
    "```\n",
    "```\n",
    "`LinkedList(-1.0)`\n",
    "```\n",
    "---"
   ]
  },
  {
   "cell_type": "code",
   "execution_count": 1,
   "metadata": {
    "collapsed": true
   },
   "outputs": [],
   "source": [
    "import numbers\n",
    "import reprlib\n",
    "\n",
    "class LinkedList:\n",
    "    # 5 pts for correct implementation of the head node\n",
    "    def __init__(self, head=None):\n",
    "        if head is None:\n",
    "            self._headNode = None\n",
    "        else:\n",
    "            self._headNode = [head, None]\n",
    "    \n",
    "    # 5 pts\n",
    "    def insert_front(self, element):\n",
    "        new_node = [element, None]\n",
    "        new_node[1] = self._headNode\n",
    "        self._headNode = new_node\n",
    "      \n",
    "    # 5 pts\n",
    "    def insert_back(self, element):\n",
    "        new_node = [element, None]\n",
    "        curr_ptr = self._headNode\n",
    "        while curr_ptr[1] is not None:\n",
    "            curr_ptr = curr_ptr[1]\n",
    "        curr_ptr[1]= new_node\n",
    "     \n",
    "    # 5 pts\n",
    "    def __repr__(self):\n",
    "        # 2 pts for class name\n",
    "        class_name = type(self).__name__\n",
    "        # 3 pts for head node value\n",
    "        if len(self)==0:\n",
    "            components=\"\"\n",
    "        else:\n",
    "            components = reprlib.repr(self[0])\n",
    "        return '{}({})'.format(class_name,components)\n",
    "    \n",
    "    # 5 pts\n",
    "    def __len__(self):\n",
    "        curr_ptr = self._headNode\n",
    "        count = 0\n",
    "        if curr_ptr==None:\n",
    "            return 0\n",
    "        while 1:\n",
    "            count = count + 1\n",
    "            if curr_ptr[1] is None:\n",
    "                break\n",
    "            curr_ptr = curr_ptr[1]\n",
    "        return count    \n",
    "    \n",
    "    # 2 pts for sanity checks(not out of range, or indexing an empty list)\n",
    "    # 3 pts for returning the correct value\n",
    "    def __getitem__(self, index):\n",
    "        class_name = type(self).__name__\n",
    "        if isinstance(index, numbers.Integral): \n",
    "            curr_ptr = self._headNode\n",
    "            if curr_ptr==None:\n",
    "                msg = 'trying to index an empty {class_name}' \n",
    "                raise IndexError(msg.format(class_name=class_name))\n",
    "            next_ptr = self._headNode[1]\n",
    "            count = 0\n",
    "            while 1:\n",
    "                if index == count:\n",
    "                    return curr_ptr[0]\n",
    "                if curr_ptr[1] is None:\n",
    "                    msg = '{class_name} index out of range' \n",
    "                    raise IndexError(msg.format(class_name=class_name))       \n",
    "                count += 1\n",
    "                curr_ptr = curr_ptr[1]\n",
    "        else:\n",
    "            msg = '{class_name} indices must be integers' \n",
    "            raise TypeError(msg.format(class_name=class_name))"
   ]
  },
  {
   "cell_type": "code",
   "execution_count": 2,
   "metadata": {},
   "outputs": [
    {
     "name": "stdout",
     "output_type": "stream",
     "text": [
      "LinkedList(1.0) 1 [1.0, None]\n"
     ]
    }
   ],
   "source": [
    "ll = LinkedList(1.0)\n",
    "print(ll, len(ll), ll._headNode)"
   ]
  },
  {
   "cell_type": "code",
   "execution_count": 3,
   "metadata": {},
   "outputs": [
    {
     "name": "stdout",
     "output_type": "stream",
     "text": [
      "LinkedList(-1.0) 2 [-1.0, [1.0, None]]\n"
     ]
    }
   ],
   "source": [
    "ll.insert_front(-1.0)\n",
    "print(ll, len(ll), ll._headNode)"
   ]
  },
  {
   "cell_type": "code",
   "execution_count": 4,
   "metadata": {},
   "outputs": [
    {
     "name": "stdout",
     "output_type": "stream",
     "text": [
      "LinkedList(-1.0) 3 [-1.0, [1.0, [3.0, None]]]\n"
     ]
    }
   ],
   "source": [
    "ll.insert_back(3.0)\n",
    "print(ll, len(ll), ll._headNode)"
   ]
  },
  {
   "cell_type": "code",
   "execution_count": 5,
   "metadata": {},
   "outputs": [
    {
     "name": "stdout",
     "output_type": "stream",
     "text": [
      "-1.0 1.0 3.0\n"
     ]
    }
   ],
   "source": [
    "print(ll[0], ll[1], ll[2])"
   ]
  },
  {
   "cell_type": "code",
   "execution_count": 6,
   "metadata": {},
   "outputs": [
    {
     "data": {
      "text/plain": [
       "LinkedList(-1.0)"
      ]
     },
     "execution_count": 6,
     "metadata": {},
     "output_type": "execute_result"
    }
   ],
   "source": [
    "eval(repr(ll))"
   ]
  },
  {
   "cell_type": "code",
   "execution_count": 7,
   "metadata": {},
   "outputs": [
    {
     "data": {
      "text/plain": [
       "'LinkedList(-1.0)'"
      ]
     },
     "execution_count": 7,
     "metadata": {},
     "output_type": "execute_result"
    }
   ],
   "source": [
    "repr(ll)"
   ]
  },
  {
   "cell_type": "markdown",
   "metadata": {},
   "source": [
    "<a id='p2'></a>\n",
    "### Problem 2:  Binary Tree Class\n",
    "\n",
    "A binary search tree is a binary tree with the invariant that for any particular node the left child is smaller and the right child is larger. Create the class `BinaryTree` with the following specifications:\n",
    "\n",
    "* `__init__(self)`: Constructor takes no additional arguments\n",
    "* `insert(self, val)`: This method will insert `val` into the tree\n",
    "* `remove(self, val)`: This will remove `val` from the tree. If the node to be deleted has no children then just remove it. If the node to be deleted has only one child, remove the node and replace it with its child. If the node to be deleted has two children, replace the node to be deleted with the maximum value in the left subtree. Finally, delete the node with the maximum value in the left-subtree.\n",
    "* `getValues(self, depth)`: Return a list of the entire row of nodes at the specified depth with `None` at the index if there is no value in the tree. The length of the list should therefore be $2^{\\text{depth}}$.\n",
    "\n",
    "Here is a sample output:\n",
    "\n",
    "```python\n",
    "bt = BinaryTree()\n",
    "arr = [20, 10, 17, 14, 3, 0]\n",
    "for i in arr:\n",
    "    bt.insert(i)\n",
    "\n",
    "print(\"Height of binary tree is {}.\\n\".format(len(bt)))\n",
    "for i in range(len(bt)):\n",
    "    print(\"Level {0} values: {1}\".format(i, bt.getValues(i)))\n",
    "```\n",
    "\n",
    "```\n",
    "Height of binary tree is 4.\n",
    "\n",
    "Level 0 values: [20]\n",
    "Level 1 values: [10, None]\n",
    "Level 2 values: [3, 17, None, None]\n",
    "Level 3 values: [0, None, 14, None, None, None, None, None]\n",
    "```\n",
    "\n",
    "Note that you do not need to format your output in this way.  Nor are you required to implement a `__len__` method to compute the height of the tree.  I did this because it was convenient for illustration purposes.  This example is simply meant to show you some output at each level of the tree.\n",
    "\n",
    "**Please provide a demo for your binary tree class. You should show how you will use each class method you have implemented and print out the tree as shown in the sample output.**\n",
    "\n",
    "---"
   ]
  },
  {
   "cell_type": "code",
   "execution_count": 8,
   "metadata": {
    "collapsed": true
   },
   "outputs": [],
   "source": [
    "class Node:\n",
    "    def __init__(self, val):\n",
    "        self.val = val\n",
    "        self.left = None\n",
    "        self.right = None\n",
    "\n",
    "class BinaryTree:\n",
    "    def __init__(self):\n",
    "        self.root = None\n",
    "    \n",
    "    # 10 pts\n",
    "    def insert(self, val):\n",
    "        if self.root:\n",
    "            self.insert_recursion(val, self.root)\n",
    "        else:\n",
    "            self.root = Node(val)          \n",
    "            \n",
    "    def insert_recursion(self, val, node):\n",
    "        if val < node.val:\n",
    "            if node.left:\n",
    "                self.insert_recursion(val, node.left)\n",
    "            else:\n",
    "                node.left = Node(val)\n",
    "        else:\n",
    "            if node.right:\n",
    "                self.insert_recursion(val, node.right)\n",
    "            else:\n",
    "                node.right = Node(val)\n",
    "    \n",
    "    # 10 pts\n",
    "    def getValues(self, depth):\n",
    "        prev = [self.root]\n",
    "        d = 0\n",
    "        while d < depth:\n",
    "            curr = []\n",
    "            for i in prev:\n",
    "                if i:\n",
    "                    curr.append(i.left)\n",
    "                    curr.append(i.right)\n",
    "                else:\n",
    "                    curr.append(None)\n",
    "                    curr.append(None)\n",
    "            d +=1\n",
    "            if all(curr) is None:\n",
    "                raise ValueError(\"Invalid depth.\")\n",
    "            prev = curr\n",
    "        ans = []\n",
    "        for j in prev:\n",
    "            if j:\n",
    "                ans.append(j.val)\n",
    "            else:\n",
    "                ans.append(None)\n",
    "        return ans\n",
    "    \n",
    "    # 10 pts\n",
    "    def remove(self, val):\n",
    "        curr = self.root\n",
    "        left = True\n",
    "        prev = None\n",
    "        while val != curr.val:\n",
    "            prev = curr\n",
    "            if val < curr.val:\n",
    "                curr = curr.left\n",
    "            else:\n",
    "                left = False\n",
    "                curr = curr.right\n",
    "        if (not curr.left) and (not curr.right):\n",
    "            if left:\n",
    "                prev.left = None\n",
    "            else:\n",
    "                prev.right = None\n",
    "        elif curr.left and (not curr.right):\n",
    "            if left:\n",
    "                prev.left = curr.left\n",
    "            else:\n",
    "                prev.right = curr.left\n",
    "        elif (not curr.left) and curr.right:\n",
    "            if left:\n",
    "                prev.left = curr.right\n",
    "            else:\n",
    "                prev.right = curr.right\n",
    "        else:\n",
    "            prev = curr\n",
    "            curr = curr.left\n",
    "            temp = None\n",
    "            while curr.right:\n",
    "                temp = curr\n",
    "                curr = curr.right\n",
    "            prev.val = curr.val\n",
    "            if temp:\n",
    "                temp.right = None"
   ]
  },
  {
   "cell_type": "code",
   "execution_count": 9,
   "metadata": {},
   "outputs": [
    {
     "name": "stdout",
     "output_type": "stream",
     "text": [
      "Level 0 values: [13]\n",
      "Level 1 values: [7, 19]\n",
      "Level 2 values: [3, 11, 17, 29]\n",
      "Level 3 values: [2, 5, None, None, None, None, None, 31]\n"
     ]
    }
   ],
   "source": [
    "# 10 pts for correct demo\n",
    "new_tree = BinaryTree()\n",
    "ar = [13,7,19,17,3,29,5,31,2,11]\n",
    "for i in ar:\n",
    "    new_tree.insert(i)\n",
    "for i in range(4):\n",
    "    print(\"Level {0} values: {1}\".format(i, new_tree.getValues(i)))"
   ]
  },
  {
   "cell_type": "code",
   "execution_count": 10,
   "metadata": {},
   "outputs": [
    {
     "name": "stdout",
     "output_type": "stream",
     "text": [
      "Level 0 values: [13]\n",
      "Level 1 values: [7, 19]\n",
      "Level 2 values: [3, 11, 17, 29]\n",
      "Level 3 values: [2, None, None, None, None, None, None, 31]\n",
      "Level 0 values: [11]\n",
      "Level 1 values: [7, 19]\n",
      "Level 2 values: [3, None, 17, 29]\n",
      "Level 3 values: [2, None, None, None, None, None, None, 31]\n"
     ]
    }
   ],
   "source": [
    "new_tree.remove(5)\n",
    "for i in range(4):\n",
    "    print(\"Level {0} values: {1}\".format(i, new_tree.getValues(i)))\n",
    "new_tree.remove(13)\n",
    "for i in range(4):\n",
    "    print(\"Level {0} values: {1}\".format(i, new_tree.getValues(i)))"
   ]
  },
  {
   "cell_type": "markdown",
   "metadata": {},
   "source": [
    "<a id='p3'></a>\n",
    "### Problem 3: Markov Chains\n",
    "\n",
    "[Markov Chains](https://en.wikipedia.org/wiki/Markov_chain) are widely used to model and predict discrete events. Underlying Markov chains are Markov processes which make the assumption that the outcome of a future event only depends on the event immediately preceeding it. \n",
    "\n",
    "In this problem, we will be assuming that weather has Markov properties (e.g. today's weather is dependent only on yesterday's weather). We will use the Markov assumption to create a basic model for predicting weather.\n",
    "\n",
    "To begin, let's suppose weather can be categorized into $6$ types: \n",
    "1. sunny\n",
    "2. cloudy\n",
    "3. rainy\n",
    "4. snowy\n",
    "5. windy\n",
    "6. hailing\n",
    "\n",
    "In the `weather.csv` file accompanying this homework, each row corresponds to one type of weather (in the order given above) and each column is the probability of one type of weather occurring the following day (also in the order given above).\n",
    "\n",
    "The $(i,j)$ element is the probability that the $j$th weather type occurs after the $i$th weather type. For example, the $(1,2)$ element is the probability that a cloudy day occurs after a sunny day.\n",
    "\n",
    "Take a look at the data. Make sure you see how if the previous day was sunny, the following day will have a $0.4$ probability of being sunny as well. If the previous day was raining (index $i = 3$), then the following day (index $j$) has a $0.05$ probability of being windy ($j = 5$)."
   ]
  },
  {
   "cell_type": "markdown",
   "metadata": {},
   "source": [
    "### Part 1:  Parse the `.csv` file into a `Numpy` array"
   ]
  },
  {
   "cell_type": "code",
   "execution_count": 1,
   "metadata": {},
   "outputs": [
    {
     "data": {
      "text/plain": [
       "array([[0.4 , 0.3 , 0.1 , 0.05, 0.1 , 0.05],\n",
       "       [0.3 , 0.4 , 0.1 , 0.1 , 0.08, 0.02],\n",
       "       [0.2 , 0.3 , 0.35, 0.05, 0.05, 0.05],\n",
       "       [0.1 , 0.2 , 0.25, 0.3 , 0.1 , 0.05],\n",
       "       [0.15, 0.2 , 0.1 , 0.15, 0.3 , 0.1 ],\n",
       "       [0.1 , 0.2 , 0.35, 0.1 , 0.05, 0.2 ]])"
      ]
     },
     "execution_count": 1,
     "metadata": {},
     "output_type": "execute_result"
    }
   ],
   "source": [
    "import numpy as np\n",
    "# 5 pts for loading the file into an array\n",
    "# Load CSV file -- hint: you can use np.genfromtxt()\n",
    "weather = np.genfromtxt('weather.csv', delimiter=',')\n",
    "weather"
   ]
  },
  {
   "cell_type": "markdown",
   "metadata": {},
   "source": [
    "### Part 2:  Create a class called `Markov` that has the following methods:\n",
    "\n",
    "* `load_data(array)`: loads the Numpy 2D array and stores it as a class variable.\n",
    "* `get_prob(previous_day, following_day)`: returns the probability of `following_day` weather given `previous_day` weather. \n",
    "\n",
    "**Note:** `previous_day` and `following_day` should be passed in string form (e.g. \"sunny\"), as opposed to an index (e.g. 0). \n",
    "\n",
    "Here is a use-case example:\n",
    "```python\n",
    "weather_today = Markov()\n",
    "weather_today.load_data(weather)\n",
    "print(weather_today.get_prob('sunny', 'cloudy'))\n",
    "```\n",
    "```\n",
    "`0.3`\n",
    "```\n"
   ]
  },
  {
   "cell_type": "code",
   "execution_count": 2,
   "metadata": {
    "collapsed": true
   },
   "outputs": [],
   "source": [
    "import numpy as np \n",
    "\n",
    "class Markov:\n",
    "    def __init__(self):\n",
    "        # implement here\n",
    "        self.weather = {'sunny':0, 'cloudy':1, 'rainy':2, \n",
    "                        'snowy':3, 'windy':4, 'hailing':5}\n",
    "        self.dat = np.array([])\n",
    "    \n",
    "    # 5 pts\n",
    "    def load_data(self, array):\n",
    "        # implement here\n",
    "        self.dat = array\n",
    "    \n",
    "    # 10 pts\n",
    "    def get_prob(self, previous_day, following_day):\n",
    "        # implement here -- returns a probability\n",
    "        return self.dat[self.weather[previous_day]][self.weather[following_day]]"
   ]
  },
  {
   "cell_type": "code",
   "execution_count": 4,
   "metadata": {},
   "outputs": [
    {
     "name": "stdout",
     "output_type": "stream",
     "text": [
      "0.3\n"
     ]
    }
   ],
   "source": [
    "weather_today = Markov()\n",
    "weather_today.load_data(weather)\n",
    "print(weather_today.get_prob('sunny', 'cloudy'))"
   ]
  },
  {
   "cell_type": "markdown",
   "metadata": {},
   "source": [
    "---"
   ]
  },
  {
   "cell_type": "markdown",
   "metadata": {},
   "source": [
    "<a id='part_2'></a>\n",
    "## Part 2: Feedback [10 point]\n",
    "<a id='p4'></a>\n",
    "### Problem 4:  Course Evaluation\n",
    "Please take the [Course Evaluation](https://goo.gl/forms/SOkk1MAmi0pRVbNi1)."
   ]
  }
 ],
 "metadata": {
  "kernelspec": {
   "display_name": "Python 3",
   "language": "python",
   "name": "python3"
  },
  "language_info": {
   "codemirror_mode": {
    "name": "ipython",
    "version": 3
   },
   "file_extension": ".py",
   "mimetype": "text/x-python",
   "name": "python",
   "nbconvert_exporter": "python",
   "pygments_lexer": "ipython3",
   "version": "3.6.3"
  }
 },
 "nbformat": 4,
 "nbformat_minor": 2
}
