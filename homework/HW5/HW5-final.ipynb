{
 "cells": [
  {
   "cell_type": "markdown",
   "metadata": {},
   "source": [
    "# Homework 5\n",
    "\n",
    "## Due Thursday, November 1st 2018 at 11:59 PM.\n",
    "\n",
    "### Be sure to push the final version of your notebook to your GitHub repo.  Follow the instructions on the course website.\n",
    "\n",
    "### Topics\n",
    "#### [Part 1](#part_1): Data Structures [90 points]\n",
    "- [Problem 1](#p1). Linked List Class [30 points]\n",
    "- [Problem 2](#p2). Binary Tree Class [40 points]\n",
    "- [Problem 3](#p3). Markov Chains [20 point]\n",
    "\n",
    "#### [Part 2](#part_2): Feedback [10 point]\n",
    "- [Problem 4](#p4). Course Evaluation [10 point]\n",
    "\n",
    "---"
   ]
  },
  {
   "cell_type": "code",
   "execution_count": 85,
   "metadata": {},
   "outputs": [],
   "source": [
    "import numpy as np"
   ]
  },
  {
   "cell_type": "markdown",
   "metadata": {},
   "source": [
    "<a id='part_1'></a>\n",
    "## Part 1: Data Structures [90 points]\n",
    "<a id='p1'></a>\n",
    "### Problem 1:  Linked List Class\n",
    "\n",
    "Write a linked list class called `LinkedList`.  Remember, a singly linked list is made up of nodes each of which contain a value and a pointer.  The first node is called the \"head node\".\n",
    "\n",
    "Here are the required methods:\n",
    "* `__init__(self, head)` where `head` is the value of the head node.  You could make the head node an attribute.\n",
    "* `__len__(self)`: Returns the number of elements in the linked list.\n",
    "* `__getitem__(self, index)` returns the value of the node corresponding to `index`.  Include checks to make sure that `index` is not out of range and that the user is not trying to index an empty list.\n",
    "* `__repr__(self)` returns `LinkedList(head_node)`.\n",
    "* `insert_front(self, element)` inserts a new node with value `element` at the beginning of the list.\n",
    "* `insert_back(self, element)` inserts a new node with value `element` at the end of the list.\n",
    "\n",
    "**Note:**  An alternative implementation is to create a `Node` class.  You are not required to make a `Node` class but you may if you prefer that implementation.  Please don't steal that implementation from the online forums.  I've seen those too and we'll know if you copied them.\n",
    "\n",
    "\n",
    "#### Basic Interface\n",
    "Here are a few examples on the expected behavior. Please make sure that the methods you implemented behave similarly.\n",
    "\n",
    "1.\n",
    "```python\n",
    "ll = LinkedList(1.0)\n",
    "print(ll, len(ll), ll._headNode)\n",
    "```\n",
    "```\n",
    "`LinkedList(1.0) 1 [1.0, None]`\n",
    "```\n",
    "2.\n",
    "```python\n",
    "ll.insert_front(-1.0)\n",
    "print(ll, len(ll), ll._headNode)\n",
    "```\n",
    "```\n",
    "`LinkedList(-1.0) 2 [-1.0, [1.0, None]]`\n",
    "```\n",
    "3.\n",
    "```python\n",
    "ll.insert_back(3.0)\n",
    "print(ll, len(ll), ll._headNode)\n",
    "```\n",
    "```\n",
    "`LinkedList(-1.0) 3 [-1.0, [1.0, [3.0, None]]]`\n",
    "```\n",
    "4.\n",
    "```python\n",
    "print(ll[0], ll[1], ll[2])\n",
    "```\n",
    "```\n",
    "`-1.0 1.0 3.0`\n",
    "```\n",
    "5.\n",
    "```python\n",
    "eval(repr(ll))\n",
    "```\n",
    "```\n",
    "`LinkedList(-1.0)`\n",
    "```\n",
    "---"
   ]
  },
  {
   "cell_type": "code",
   "execution_count": 108,
   "metadata": {},
   "outputs": [],
   "source": [
    "class LinkedList:\n",
    "    def __init__(self, head):\n",
    "        \"\"\" head is the value of the head node. You could make the head node an attribute.\n",
    "        \"\"\"\n",
    "        self._headNode = [head, None]\n",
    "        \n",
    "    def __len__(self):\n",
    "        \"\"\" Returns the number of elements in the linked list.\n",
    "        \"\"\"\n",
    "        count = 1\n",
    "        temp = self._headNode\n",
    "        while temp[1] is not None:\n",
    "            count += 1\n",
    "            temp = temp[1]\n",
    "        return count\n",
    "        \n",
    "    def __getitem__(self, index):\n",
    "        \"\"\" Returns the value of the node corresponding to index. \n",
    "        Include checks to make sure that index is not out of range \n",
    "        and that the user is not trying to index an empty list.\n",
    "        \"\"\"\n",
    "        if index not in range(self.__len__()):\n",
    "            print(\"Error: index is out of range\")\n",
    "            return\n",
    "        temp = self._headNode\n",
    "        for i in range(index):\n",
    "            temp = temp[1]\n",
    "        return temp[0]\n",
    "    \n",
    "    def __repr__(self):\n",
    "        \"\"\" returns LinkedList(head_node).\n",
    "        \"\"\"\n",
    "        return f\"LinkedList({self._headNode[0]})\"\n",
    "    \n",
    "    def insert_front(self, element):\n",
    "        \"\"\" inserts a new node with value element at the beginning of the list.\n",
    "        \"\"\"\n",
    "        self._headNode = [element, self._headNode]\n",
    "        return self._headNode\n",
    "    \n",
    "    def insert_back(self, element):\n",
    "        \"\"\" inserts a new node with value element at the end of the list.\n",
    "        \"\"\"\n",
    "        temp = self._headNode\n",
    "        while temp[1] is not None:\n",
    "            temp = temp[1]\n",
    "        temp[1] = [element, None]\n",
    "        return self._headNode"
   ]
  },
  {
   "cell_type": "code",
   "execution_count": 109,
   "metadata": {},
   "outputs": [
    {
     "name": "stdout",
     "output_type": "stream",
     "text": [
      "LinkedList(1.0) 1 [1.0, None]\n"
     ]
    }
   ],
   "source": [
    "ll = LinkedList(1.0)\n",
    "print(ll, len(ll), ll._headNode)\n",
    "# `LinkedList(1.0) 1 [1.0, None]`"
   ]
  },
  {
   "cell_type": "code",
   "execution_count": 110,
   "metadata": {},
   "outputs": [
    {
     "name": "stdout",
     "output_type": "stream",
     "text": [
      "LinkedList(-1.0) 2 [-1.0, [1.0, None]]\n"
     ]
    }
   ],
   "source": [
    "ll.insert_front(-1.0)\n",
    "print(ll, len(ll), ll._headNode)\n",
    "# `LinkedList(-1.0) 2 [-1.0, [1.0, None]]`"
   ]
  },
  {
   "cell_type": "code",
   "execution_count": 111,
   "metadata": {},
   "outputs": [
    {
     "name": "stdout",
     "output_type": "stream",
     "text": [
      "LinkedList(-1.0) 3 [-1.0, [1.0, [3.0, None]]]\n"
     ]
    }
   ],
   "source": [
    "ll.insert_back(3.0)\n",
    "print(ll, len(ll), ll._headNode)\n",
    "# `LinkedList(-1.0) 3 [-1.0, [1.0, [3.0, None]]]`"
   ]
  },
  {
   "cell_type": "code",
   "execution_count": 112,
   "metadata": {},
   "outputs": [
    {
     "name": "stdout",
     "output_type": "stream",
     "text": [
      "-1.0 1.0 3.0\n"
     ]
    }
   ],
   "source": [
    "print(ll[0], ll[1], ll[2])\n",
    "# `-1.0 1.0 3.0`"
   ]
  },
  {
   "cell_type": "code",
   "execution_count": 113,
   "metadata": {},
   "outputs": [
    {
     "data": {
      "text/plain": [
       "LinkedList(-1.0)"
      ]
     },
     "execution_count": 113,
     "metadata": {},
     "output_type": "execute_result"
    }
   ],
   "source": [
    "eval(repr(ll))\n",
    "# `LinkedList(-1.0)`"
   ]
  },
  {
   "cell_type": "markdown",
   "metadata": {},
   "source": [
    "<a id='p2'></a>\n",
    "### Problem 2:  Binary Tree Class\n",
    "\n",
    "A binary search tree is a binary tree with the invariant that for any particular node the left child is smaller and the right child is larger. Create the class `BinaryTree` with the following specifications:\n",
    "\n",
    "`__init__(self)`: Constructor takes no additional arguments\n",
    "\n",
    "`insert(self, val)`: This method will insert `val` into the tree\n",
    "\n",
    "`remove(self, val)`: This will remove `val` from the tree. If the node to be deleted has no children then just remove it. If the node to be deleted has only one child, remove the node and replace it with its child. If the node to be deleted has two children, replace the node to be deleted with the maximum value in the left subtree. Finally, delete the node with the maximum value in the left-subtree.\n",
    "\n",
    "`getValues(self, depth)`: Return a list of the entire row of nodes at the specified depth with `None` at the index if there is no value in the tree. The length of the list should therefore be $2^{\\text{depth}}$.\n",
    "\n",
    "Here is an example usage and output:\n",
    "\n",
    "```python\n",
    "bt = BinaryTree()\n",
    "arr = [20, 10, 17, 14, 3, 0]\n",
    "for i in arr:\n",
    "    bt.insert(i)\n",
    "\n",
    "print(\"Height of binary tree is {}.\\n\".format(len(bt)))\n",
    "for i in range(len(bt)):\n",
    "    print(\"Level {0} values: {1}\".format(i, bt.getValues(i)))\n",
    "```\n",
    "\n",
    "```\n",
    "Height of binary tree is 4.\n",
    "\n",
    "Level 0 values: [20]\n",
    "Level 1 values: [10, None]\n",
    "Level 2 values: [3, 17, None, None]\n",
    "Level 3 values: [0, None, 14, None, None, None, None, None]\n",
    "```\n",
    "\n",
    "Note that you do not need to format your output in this way.  Nor are you required to implement a `__len__` method to compute the height of the tree.  I did this because it was convenient for illustration purposes.  This example is simply meant to show you some output at each level of the tree.\n",
    "\n",
    "#### Please provide a demo for your binary tree class. You should show how you will use each class method you have implemented and print out the tree as shown in the sample output.\n",
    "---"
   ]
  },
  {
   "cell_type": "markdown",
   "metadata": {},
   "source": [
    "We first define our Node class."
   ]
  },
  {
   "cell_type": "code",
   "execution_count": 114,
   "metadata": {},
   "outputs": [],
   "source": [
    "class Node:\n",
    "    def __init__(self, val, left=None, right=None):\n",
    "        self.val = val\n",
    "        self.left = left\n",
    "        self.right = right"
   ]
  },
  {
   "cell_type": "markdown",
   "metadata": {},
   "source": [
    "Below is my implementation of BinaryTree."
   ]
  },
  {
   "cell_type": "code",
   "execution_count": 115,
   "metadata": {},
   "outputs": [],
   "source": [
    "class BinaryTree:\n",
    "    def __init__(self):\n",
    "        self.root = None\n",
    "        \n",
    "    def insert(self, val):\n",
    "        \"\"\" This method will insert val into the tree\n",
    "        \"\"\"\n",
    "        if not self.root:\n",
    "            self.root = Node(val)\n",
    "        else:\n",
    "            self.insert_helper(val, self.root)\n",
    "                    \n",
    "    def insert_helper(self, val, node):\n",
    "        if val > node.val:\n",
    "            if node.right:\n",
    "                self.insert_helper(val, node.right)\n",
    "            else:\n",
    "                node.right = Node(val)\n",
    "        else:\n",
    "            if node.left:\n",
    "                self.insert_helper(val, node.left)\n",
    "            else:\n",
    "                node.left = Node(val)\n",
    "                \n",
    "    def remove(self, val):\n",
    "        \"\"\" This will remove val from the tree. \n",
    "        If the node to be deleted has no children then just remove it.\n",
    "        If the node to be deleted has only one child, \n",
    "        remove the node and replace it with its child. \n",
    "        If the node to be deleted has two children, \n",
    "        replace the node to be deleted with the maximum value in the left subtree. \n",
    "        Finally, delete the node with the maximum value in the left-subtree.\n",
    "        \"\"\"\n",
    "        if val is not None:\n",
    "            self.root = self.remove_helper(val, self.root)\n",
    "        \n",
    "    def remove_helper(self, val, node):\n",
    "        if node is None or node.val is None :\n",
    "            return node\n",
    "        if val > node.val:\n",
    "            node.right = self.remove_helper(val, node.right)\n",
    "        if val <  node.val:\n",
    "            node.left = self.remove_helper(val, node.left)\n",
    "        if val == node.val:\n",
    "            # If the node to be deleted has no children then just remove it.\n",
    "            if node.right is None and node.left is None:\n",
    "                node.val = None\n",
    "            # If the node to be deleted has two children, \n",
    "            elif node.right is not None and node.left is not None:\n",
    "                temp = node.left\n",
    "                max_value = temp.val\n",
    "                while temp.right:\n",
    "                    temp = temp.right\n",
    "                    max_value = temp.val\n",
    "                # replace the node to be deleted with the maximum value in the left subtree. \n",
    "                # Finally, delete the node with the maximum value in the left-subtree.\n",
    "                node.val = max_value\n",
    "                node.left = self.remove_helper(max_value, node.left)\n",
    "            # If the node to be deleted has only one child, \n",
    "            # remove the node and replace it with its child.\n",
    "            elif node.right is not None:\n",
    "                node = node.right\n",
    "            elif node.left is not None:\n",
    "                node = node.left\n",
    "        return node\n",
    "        \n",
    "    def getValues(self, depth):\n",
    "        \"\"\" Return a list of the entire row of nodes at the specified depth \n",
    "        with None at the index if there is no value in the tree. \n",
    "        The length of the list should therefore be  2**depth .\n",
    "        \"\"\"\n",
    "        if depth >= 0:\n",
    "            return self.getValues_helper(depth, self.root)\n",
    "        else:\n",
    "            return(\"Error: depth has to be greater or equal to 0\")\n",
    "        \n",
    "    def getValues_helper(self, depth, node):\n",
    "        current_nodes, result = [node], []\n",
    "        d = 0\n",
    "        while current_nodes and d <= depth:\n",
    "            current_values, next_nodes = [], []\n",
    "            for node in current_nodes:\n",
    "                if node:\n",
    "                    current_values.append(node.val)\n",
    "                    next_nodes.append(node.left)\n",
    "                    next_nodes.append(node.right)\n",
    "                else:\n",
    "                    current_values.append(None)\n",
    "                    next_nodes.append(None)\n",
    "                    next_nodes.append(None)\n",
    "            current_nodes = next_nodes\n",
    "            result = current_values\n",
    "            d += 1\n",
    "        return result"
   ]
  },
  {
   "cell_type": "markdown",
   "metadata": {},
   "source": [
    "We first test whether or not the insert method works as we want."
   ]
  },
  {
   "cell_type": "code",
   "execution_count": 116,
   "metadata": {},
   "outputs": [
    {
     "name": "stdout",
     "output_type": "stream",
     "text": [
      "Level 0 values: [20]\n",
      "Level 1 values: [10, None]\n",
      "Level 2 values: [3, 17, None, None]\n",
      "Level 3 values: [0, None, 14, None, None, None, None, None]\n"
     ]
    }
   ],
   "source": [
    "bt = BinaryTree()\n",
    "arr = [20, 10, 17, 14, 3, 0]\n",
    "for i in arr:\n",
    "    bt.insert(i)\n",
    "\n",
    "# print(\"Height of binary tree is {}.\\n\".format(len(bt)))\n",
    "for i in range(4):\n",
    "    print(\"Level {0} values: {1}\".format(i, bt.getValues(i)))"
   ]
  },
  {
   "cell_type": "markdown",
   "metadata": {},
   "source": [
    "As you can see, the insert method work. We now test some cases of remove method."
   ]
  },
  {
   "cell_type": "markdown",
   "metadata": {},
   "source": [
    "We first remove 0."
   ]
  },
  {
   "cell_type": "code",
   "execution_count": 117,
   "metadata": {},
   "outputs": [
    {
     "name": "stdout",
     "output_type": "stream",
     "text": [
      "Level 0 values: [20]\n",
      "Level 1 values: [10, None]\n",
      "Level 2 values: [3, 17, None, None]\n",
      "Level 3 values: [None, None, 14, None, None, None, None, None]\n"
     ]
    }
   ],
   "source": [
    "bt.remove(0)\n",
    "# print(\"Height of binary tree is {}.\\n\".format(len(bt)))\n",
    "for i in range(4):\n",
    "    print(\"Level {0} values: {1}\".format(i, bt.getValues(i)))"
   ]
  },
  {
   "cell_type": "markdown",
   "metadata": {},
   "source": [
    "We again try to remove 0. Note that nothing changes."
   ]
  },
  {
   "cell_type": "code",
   "execution_count": 118,
   "metadata": {},
   "outputs": [
    {
     "name": "stdout",
     "output_type": "stream",
     "text": [
      "Level 0 values: [20]\n",
      "Level 1 values: [10, None]\n",
      "Level 2 values: [3, 17, None, None]\n",
      "Level 3 values: [None, None, 14, None, None, None, None, None]\n"
     ]
    }
   ],
   "source": [
    "bt.remove(0)\n",
    "# print(\"Height of binary tree is {}.\\n\".format(len(bt)))\n",
    "for i in range(4):\n",
    "    print(\"Level {0} values: {1}\".format(i, bt.getValues(i)))"
   ]
  },
  {
   "cell_type": "markdown",
   "metadata": {},
   "source": [
    "We now remove 20, which is at the root of the tree."
   ]
  },
  {
   "cell_type": "code",
   "execution_count": 119,
   "metadata": {},
   "outputs": [
    {
     "name": "stdout",
     "output_type": "stream",
     "text": [
      "Level 0 values: [10]\n",
      "Level 1 values: [3, 17]\n",
      "Level 2 values: [None, None, 14, None]\n"
     ]
    }
   ],
   "source": [
    "bt.remove(20)\n",
    "# print(\"Height of binary tree is {}.\\n\".format(len(bt)))\n",
    "for i in range(3):\n",
    "    print(\"Level {0} values: {1}\".format(i, bt.getValues(i)))"
   ]
  },
  {
   "cell_type": "markdown",
   "metadata": {},
   "source": [
    "<a id='p3'></a>\n",
    "### Problem 3: Markov Chains\n",
    "\n",
    "[Markov Chains](https://en.wikipedia.org/wiki/Markov_chain) are widely used to model and predict discrete events. Underlying Markov chains are Markov processes which make the assumption that the outcome of a future event only depends on the event immediately preceeding it. \n",
    "\n",
    "In this problem, we will be assuming that weather has Markov properties (e.g. today's weather is dependent only on yesterday's weather). We will use the Markov assumption to create a basic model for predicting weather.\n",
    "\n",
    "To begin, let's suppose weather can be categorized into $6$ types: \n",
    "1. sunny\n",
    "2. cloudy\n",
    "3. rainy\n",
    "4. snowy\n",
    "5. windy\n",
    "6. hailing\n",
    "\n",
    "In the `weather.csv` file accompanying this homework, each row corresponds to one type of weather (in the order given above) and each column is the probability of one type of weather occurring the following day (also in the order given above).\n",
    "\n",
    "The $(i,j)$ element is the probability that the $j$th weather type occurs after the $i$th weather type. For example, the $(1,2)$ element is the probability that a cloudy day occurs after a sunny day.\n",
    "\n",
    "Take a look at the data. Make sure you see how if the previous day was sunny, the following day will have a $0.4$ probability of being sunny as well. If the previous day was raining (index $i = 3$), then the following day (index $j$) has a $0.05$ probability of being windy ($j = 5$)."
   ]
  },
  {
   "cell_type": "markdown",
   "metadata": {},
   "source": [
    "### Part 1:  Parse the `.csv` file into a `numpy` array"
   ]
  },
  {
   "cell_type": "code",
   "execution_count": 98,
   "metadata": {},
   "outputs": [],
   "source": [
    "# Load CSV file -- hint: you can use np.genfromtxt()\n",
    "weather = np.genfromtxt('weather.csv', delimiter=',')"
   ]
  },
  {
   "cell_type": "code",
   "execution_count": 99,
   "metadata": {},
   "outputs": [
    {
     "data": {
      "text/plain": [
       "array([[0.4 , 0.3 , 0.1 , 0.05, 0.1 , 0.05],\n",
       "       [0.3 , 0.4 , 0.1 , 0.1 , 0.08, 0.02],\n",
       "       [0.2 , 0.3 , 0.35, 0.05, 0.05, 0.05],\n",
       "       [0.1 , 0.2 , 0.25, 0.3 , 0.1 , 0.05],\n",
       "       [0.15, 0.2 , 0.1 , 0.15, 0.3 , 0.1 ],\n",
       "       [0.1 , 0.2 , 0.35, 0.1 , 0.05, 0.2 ]])"
      ]
     },
     "execution_count": 99,
     "metadata": {},
     "output_type": "execute_result"
    }
   ],
   "source": [
    "weather"
   ]
  },
  {
   "cell_type": "markdown",
   "metadata": {},
   "source": [
    "### Part 2:  Create a class called `Markov` that has the following methods:\n",
    "\n",
    "* `load_data(array)`: loads the Numpy 2D array and stores it as a class variable.\n",
    "* `get_prob(previous_day, following_day)`: returns the probability of `following_day` weather given `previous_day` weather. \n",
    "\n",
    "**Note:** `previous_day` and `following_day` should be passed in string form (e.g. \"sunny\"), as opposed to an index (e.g. 0). \n",
    "\n",
    "Here is a use-case example:\n",
    "```python\n",
    "weather_today = Markov()\n",
    "weather_today.load_data(weather) # note that weather was read in Part 1\n",
    "print(weather_today.get_prob('sunny', 'cloudy'))\n",
    "```\n",
    "```\n",
    "`0.3`\n",
    "```"
   ]
  },
  {
   "cell_type": "code",
   "execution_count": 105,
   "metadata": {},
   "outputs": [],
   "source": [
    "class Markov:\n",
    "    def __init__(self):\n",
    "        # Initialize the weather category\n",
    "        self.weather_dict = {\n",
    "            'sunny': 0,\n",
    "            'cloudy': 1,\n",
    "            'rainy': 2,\n",
    "            'snowy': 3,\n",
    "            'windy': 4,\n",
    "            'hailing': 5,\n",
    "        }\n",
    "        \n",
    "        self.prob_map  = []\n",
    "        \n",
    "    def load_data(self, array):\n",
    "        # implement here\n",
    "        self.prob_map = array\n",
    "    \n",
    "    def get_prob(self, previous_day, following_day):\n",
    "        # implement here -- returns a probability\n",
    "        # Check if data is loaded\n",
    "            try:\n",
    "                i, j = self.weather_dict[previous_day], self.weather_dict[following_day]\n",
    "                return self.prob_map[i,j]\n",
    "            except (TypeError, KeyError):\n",
    "                return (f'Error: Wrong weather or the data is not loaded')\n",
    "            \n",
    "                "
   ]
  },
  {
   "cell_type": "code",
   "execution_count": 107,
   "metadata": {},
   "outputs": [
    {
     "name": "stdout",
     "output_type": "stream",
     "text": [
      "0.3\n"
     ]
    }
   ],
   "source": [
    "weather_today = Markov()\n",
    "weather_today.load_data(weather) # note that weather was read in Part 1\n",
    "print(weather_today.get_prob('sunny', 'cloudy'))"
   ]
  },
  {
   "cell_type": "markdown",
   "metadata": {},
   "source": [
    "---"
   ]
  },
  {
   "cell_type": "markdown",
   "metadata": {},
   "source": [
    "<a id='part_2'></a>\n",
    "## Part 2: Feedback [10 point]\n",
    "<a id='p4'></a>\n",
    "### Problem 4:  Course Evaluation\n",
    "Please take the [Mid-Course Evaluation](https://goo.gl/forms/ZUrkKubzklktTSTy2).\n",
    "\n",
    "---"
   ]
  },
  {
   "cell_type": "code",
   "execution_count": null,
   "metadata": {},
   "outputs": [],
   "source": []
  }
 ],
 "metadata": {
  "kernelspec": {
   "display_name": "Python 3",
   "language": "python",
   "name": "python3"
  },
  "language_info": {
   "codemirror_mode": {
    "name": "ipython",
    "version": 3
   },
   "file_extension": ".py",
   "mimetype": "text/x-python",
   "name": "python",
   "nbconvert_exporter": "python",
   "pygments_lexer": "ipython3",
   "version": "3.6.5"
  }
 },
 "nbformat": 4,
 "nbformat_minor": 2
}
