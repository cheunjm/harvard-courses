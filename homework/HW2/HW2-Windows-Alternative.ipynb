{
 "cells": [
  {
   "cell_type": "markdown",
   "metadata": {},
   "source": [
    "## An Alternative for Windows Users\n",
    "In homework 2, problems 1 and 2 ask you to execute some `git` commands from your `Jupyter` homework notebook.  On Macs and other Linux-like distributions, this works fine.  If you are on one of those platforms, please stop here; there is no need for you to use the following work-around.\n",
    "\n",
    "On Windows machines, execution of `bash` commands from the notebook has posed some challenges for a couple of students (not seen by the teaching staff in our original tests).  For this homework, **if you are on a Windows machine**, you may do the `git` problems in your `git-bash` terminal.  But, in order to get full credit, you *must* following the follow instructions."
   ]
  },
  {
   "cell_type": "markdown",
   "metadata": {},
   "source": [
    "### Instructions for Problem 1 and 2 Submission\n",
    "The problem statement asks you to execute different commands in different cells.  For example, Problem 1 asks you to change to the `/tmp` directory and clone your `playground` repo.\n",
    "\n",
    "You may execute those commands in your `git-bash` terminal.  Then, take a screen shot and include that screen shot as an image in a markdown cell.  That image will be your answer to Problem 1a on homework 2.\n",
    "\n",
    "For example, the cell below contains a screen shot of my answer for Problem 1a on homework 2."
   ]
  },
  {
   "cell_type": "markdown",
   "metadata": {},
   "source": [
    "### Problem 1, Part a\n",
    "![](HW2-P1-a.png)"
   ]
  },
  {
   "cell_type": "markdown",
   "metadata": {},
   "source": [
    "Notice that I labeled the cell with the part of the homework problem.  The screen shot clearly shows the answer to the first part."
   ]
  },
  {
   "cell_type": "markdown",
   "metadata": {},
   "source": [
    "### IMPORTANT\n",
    "- Only use this approach for Problems 1 and 2 in your homework submission.\n",
    "- The remainder of your notebook should contain your answers to the other questions\n",
    "- If you are able to get the `bash` commands to work in your `Jupyter` notebook, then you don't need to follow this work-around."
   ]
  }
 ],
 "metadata": {
  "kernelspec": {
   "display_name": "Python 3",
   "language": "python",
   "name": "python3"
  },
  "language_info": {
   "codemirror_mode": {
    "name": "ipython",
    "version": 3
   },
   "file_extension": ".py",
   "mimetype": "text/x-python",
   "name": "python",
   "nbconvert_exporter": "python",
   "pygments_lexer": "ipython3",
   "version": "3.6.5"
  }
 },
 "nbformat": 4,
 "nbformat_minor": 2
}
