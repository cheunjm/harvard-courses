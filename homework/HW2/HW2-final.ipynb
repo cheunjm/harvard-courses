{
 "cells": [
  {
   "cell_type": "markdown",
   "metadata": {},
   "source": [
    "# Homework 2\n",
    "\n",
    "## Due Thursday, September 20th 2018 at 11:59 PM.\n",
    "\n",
    "### Be sure to push the final version of your notebook to your GitHub repo.  Follow the instructions on the course website.\n",
    "\n",
    "### Topics\n",
    "\n",
    "#### [Part 1](#part_1): Get Familiar with `git`\n",
    "- [Problem 1](#p1). Git and recovering from a mistake\n",
    "- [Problem 2](#p2). Git and checking out a single file\n",
    "\n",
    "#### [Part 2](#part_2): Python Basics\n",
    "- [Problem 3](#p3). Count and plot\n",
    "- [Problem 4](#p4). Average area of the circles (part 1)\n",
    "\n",
    "#### [Part 3](#part_3): Closure and Decorators\n",
    "- [Problem 5](#p5). Simple bank account withdraw system\n",
    "- [Problem 6](#p6). Average area of the circles (part 2)\n",
    "- [Problem 7](#p7). Positivity\n",
    "\n",
    "---"
   ]
  },
  {
   "cell_type": "markdown",
   "metadata": {},
   "source": [
    "---\n",
    "<a id='part_1'></a>\n",
    "## Part 1 [10 pts]: Get Familiar with GitHub\n",
    "**Note:** Start this problem after Lecture 3.\n",
    "\n",
    "<a id='p1'></a>\n",
    "### Problem 1 [5 pts]:  `Git` and recovering from a mistake\n",
    "Here's the scenario for this problem.  In Lecture, you created a branch in your `playground` repo called `mybranch1`.  You worked on `mybranch1` and created a file called `books.md`, but you never merged that file into your `master` branch.  In fact, we'll operate under the assumption that you really *don't* want to merge `books.md` into `master` yet.  However, being human, you are bound to make mistakes.  In this problem, you will clone `playground` and forget to switch to `mybranch1`.  You will accidentally pull `books.md` into `master`.  Then, you will recover from this mistake by reverting `master` to an earlier state; one that doesn't have `books.md`.\n",
    "\n",
    "You will do this problem in the `Jupyter` notebook so we can see your output.  Once again, you will work with your `playground` repository (created and explored in Lectures 2 and 3).\n",
    "\n",
    "**NOTE:** At the beginning of each `Jupyter` notebook cell, you MUST type `%%bash`.  If you don't do that then you will not be able to work with the necessary bash commands.\n",
    "\n",
    "Follow the following steps for this problem:\n",
    "\n",
    "1. First cell:\n",
    "  1. Type `cd /tmp` to enter the temporary directory\n",
    "  2. `git clone <url to your playground repo>` <br>\n",
    "  **Note:** If you want to re-clone the repo (after you already cloned it), make sure you delete the old repo using `rm -r /tmp/playground`.\n",
    "2. Second cell:\n",
    "  1. Go into your local `playground` directory (`cd /tmp/playground`)\n",
    "  2. Type `git pull origin mybranch1`\n",
    "  3. `ls` <br>\n",
    "  Uh oh!  `books.md` is now in your `master` branch!\n",
    "3. Third cell:\n",
    "  1. Go into your local `playground` directory (`cd /tmp/playground`)\n",
    "  2. Type `git status` <br>\n",
    "  Your local `master` branch is now ahead of the remote `master`!\n",
    "4. Fourth cell:\n",
    "  1. Go into your local `playground` directory (`cd /tmp/playground`)\n",
    "  2. Type `git reset --hard origin/master`\n",
    "  3. `ls` <br>\n",
    "  `books.md` is gone!\n",
    "5. Fifth cell:\n",
    "  1. Go into your local `playground` directory (`cd /tmp/playground`)\n",
    "  2. Type `git status` <br>\n",
    "  Everything is back to normal.\n",
    "\n",
    "The whole point of this problem was to show you how to get your local repo back to an earlier state.  In this exercise, you accidentally merged something to `master` that you didn't want.  Rather than starting to delete things all over the place, you can simply reset your `HEAD` to a previous commit.\n",
    "\n",
    "**IMPORTANT!** This is a proper `git` workflow.  DO NOT start deleting, rebasing, or re-cloning everything.  Take one step at a time, think about the decisions you're making, and execute deliberately.  It will take a little practice in the beginning, but time spent now will translate to lots of time saved later."
   ]
  },
  {
   "cell_type": "code",
   "execution_count": 41,
   "metadata": {},
   "outputs": [
    {
     "name": "stderr",
     "output_type": "stream",
     "text": [
      "Cloning into 'playground'...\n"
     ]
    }
   ],
   "source": [
    "%%bash\n",
    "cd /tmp\n",
    "rm -rf playground #remove if it exists\n",
    "git clone https://github.com/cheunjm/playground.git"
   ]
  },
  {
   "cell_type": "code",
   "execution_count": 42,
   "metadata": {},
   "outputs": [
    {
     "name": "stdout",
     "output_type": "stream",
     "text": [
      "Merge made by the 'recursive' strategy.\n",
      " books.md | 1 +\n",
      " 1 file changed, 1 insertion(+)\n",
      " create mode 100644 books.md\n",
      "README.md\n",
      "books.md\n",
      "feature.txt\n",
      "messages.md\n",
      "world.md\n"
     ]
    },
    {
     "name": "stderr",
     "output_type": "stream",
     "text": [
      "From https://github.com/cheunjm/playground\n",
      " * branch            mybranch1  -> FETCH_HEAD\n"
     ]
    }
   ],
   "source": [
    "%%bash\n",
    "cd /tmp/playground\n",
    "git pull origin mybranch1\n",
    "ls"
   ]
  },
  {
   "cell_type": "code",
   "execution_count": 43,
   "metadata": {},
   "outputs": [
    {
     "name": "stdout",
     "output_type": "stream",
     "text": [
      "On branch master\n",
      "Your branch is ahead of 'origin/master' by 2 commits.\n",
      "  (use \"git push\" to publish your local commits)\n",
      "nothing to commit, working tree clean\n"
     ]
    }
   ],
   "source": [
    "%%bash\n",
    "cd /tmp/playground\n",
    "git status"
   ]
  },
  {
   "cell_type": "code",
   "execution_count": 44,
   "metadata": {},
   "outputs": [
    {
     "name": "stdout",
     "output_type": "stream",
     "text": [
      "HEAD is now at cc7d9c1 Update README\n",
      "README.md\n",
      "feature.txt\n",
      "messages.md\n",
      "world.md\n"
     ]
    }
   ],
   "source": [
    "%%bash\n",
    "cd /tmp/playground\n",
    "git reset --hard origin/master\n",
    "ls"
   ]
  },
  {
   "cell_type": "code",
   "execution_count": 45,
   "metadata": {},
   "outputs": [
    {
     "name": "stdout",
     "output_type": "stream",
     "text": [
      "On branch master\n",
      "Your branch is up-to-date with 'origin/master'.\n",
      "nothing to commit, working tree clean\n"
     ]
    }
   ],
   "source": [
    "%%bash\n",
    "cd /tmp/playground\n",
    "git status"
   ]
  },
  {
   "cell_type": "markdown",
   "metadata": {},
   "source": [
    "---\n",
    "<a id='p2'></a>\n",
    "### Problem 2 [5 pts]:  `Git` and checking out a single file\n",
    "Sometimes you don't want to merge an entire branch from the upstream but just one file from it. There is a direct use case for such a situation. Suppose I've made an error in this homework (or a lecture) and want to correct it. I fix the mistake in the upstream repo. In the meantime you have edited some other files and you really don't want to manually ignore my older copies of those files. Rather, you want to fix just one file from this new branch. This is how you do it.\n",
    "\n",
    "As usual, be sure to type in `%%bash` before you write any `bash` commands in a cell.\n",
    "\n",
    "**Note:** The steps below assume that you have already cloned the `playground` repo in this notebook.\n",
    "\n",
    "1. First cell:\n",
    "  1. Go into the `playground` repo and fetch the changes from the master branch of the `course` remote.\n",
    "2. Second cell:\n",
    "  1. `git checkout course/master -- README.md`.  The `--` means that `README.md` is a file (as opposed to a `branch`).\n",
    "  2. `cat README.md`.  This just looks at the updated file.\n",
    "3. Third cell:\n",
    "  1. `git status`\n",
    "  2. Commit the changes to your local repo with an appropriate commit message.\n",
    "  3. `git status`\n",
    "  4. Push the changes to your remote repo."
   ]
  },
  {
   "cell_type": "code",
   "execution_count": 46,
   "metadata": {},
   "outputs": [
    {
     "name": "stderr",
     "output_type": "stream",
     "text": [
      "From https://github.com/IACS-CS-207/playground\n",
      " * [new branch]      master     -> course/master\n"
     ]
    }
   ],
   "source": [
    "%%bash\n",
    "cd /tmp/playground\n",
    "git remote add course https://github.com/IACS-CS-207/playground.git\n",
    "git fetch course"
   ]
  },
  {
   "cell_type": "code",
   "execution_count": 47,
   "metadata": {},
   "outputs": [
    {
     "name": "stdout",
     "output_type": "stream",
     "text": [
      "# Playground Repo\n",
      "\n",
      "A new Fall 2018 message.\n"
     ]
    }
   ],
   "source": [
    "%%bash\n",
    "cd /tmp/playground\n",
    "git checkout course/master -- README.md\n",
    "cat README.md"
   ]
  },
  {
   "cell_type": "code",
   "execution_count": 48,
   "metadata": {},
   "outputs": [
    {
     "name": "stdout",
     "output_type": "stream",
     "text": [
      "On branch master\n",
      "Your branch is up-to-date with 'origin/master'.\n",
      "nothing to commit, working tree clean\n",
      "On branch master\n",
      "Your branch is up-to-date with 'origin/master'.\n",
      "nothing to commit, working tree clean\n",
      "On branch master\n",
      "Your branch is up-to-date with 'origin/master'.\n",
      "nothing to commit, working tree clean\n"
     ]
    },
    {
     "name": "stderr",
     "output_type": "stream",
     "text": [
      "Everything up-to-date\n"
     ]
    }
   ],
   "source": [
    "%%bash\n",
    "cd /tmp/playground\n",
    "git status\n",
    "git add README.md\n",
    "git commit -m \"Update README\"\n",
    "git status\n",
    "git push\n"
   ]
  },
  {
   "cell_type": "markdown",
   "metadata": {},
   "source": [
    "---\n",
    "<a id='part_2'></a>\n",
    "## Part 2 [20 pts]: Python Basics\n",
    "<a id='p3'></a>\n",
    "### Problem 3 [10 pts]: Count and Plot\n",
    "In this problem, you will make a bar plot of the computer languages that students who take CS207 know.  The file `languages.txt` contains all the languages that students listed as their primary language in the course survey from a previous iteration of the course.\n",
    "\n",
    "Do the following:\n",
    "* Load the language strings from the file into a list.\n",
    "* Use the `Counter` method from the `collections` library to count the number of occurrences of each element of the list.  **Print out your answer to the screen.**\n",
    "* Create a bar plot to display the frequency of each language.  Be sure to label the x-axis!\n",
    "  + Remember, to create plots in the notebook you must put the line `%matplotlib inline` at the beginning of your notebook.  You may also want to check out `%matplotlib notebook`.\n",
    "  + Be sure to import matplotlib:  `import matplotlib.pyplot as plt`.\n",
    "  + To generate the bar plot write `plt.bar(x_coords, freqs)`.  You need to define `x_coords` and `freqs`.\n",
    "  + **Hint:** You may want to use the `numpy` `arange` function to create `x_coords`.  Remember, `x_coords` is the x-axis and it should have points for each distinct language.\n",
    "  + **Hint:** To get `freqs`, you may want to use the `values()` method on your result from step 3.  That is, `freqs = result_from_3.values()`.\n",
    "  + **Hint:** To label the x-axis you should use `plt.xticks(x_coords, labels)` where labels can be accessed through the `keys()` method on your result from step 3."
   ]
  },
  {
   "cell_type": "code",
   "execution_count": 50,
   "metadata": {},
   "outputs": [
    {
     "name": "stdout",
     "output_type": "stream",
     "text": [
      "Counter({'Python': 25, 'Java': 7, 'C++': 6, 'Other': 2, 'SQL': 2, 'C': 1, 'C#': 1, 'VB': 1})\n"
     ]
    },
    {
     "data": {
      "image/png": "[encoded data removed]",
      "text/plain": [
       "<Figure size 432x288 with 1 Axes>"
      ]
     },
     "metadata": {},
     "output_type": "display_data"
    }
   ],
   "source": [
    "from collections import Counter\n",
    "import numpy as np\n",
    "import matplotlib.pyplot as plt\n",
    "%matplotlib inline\n",
    "\n",
    "with open('languages.txt', 'r') as f:\n",
    "    # Load the language strings from the file into a list\n",
    "    lines = f.read().splitlines()\n",
    "    \n",
    "    # Count the number occurrences of each element of the list\n",
    "    freqs = Counter(lines)\n",
    "    print(freqs)\n",
    "    \n",
    "    # Createa bar plot to display the frequency of each language\n",
    "    labels, values = zip(*Counter(lines).items())\n",
    "    x_coords = np.arange(len(labels))\n",
    "\n",
    "    plt.bar(x_coords, values, 0.5)\n",
    "    plt.xticks(x_coords, labels)\n",
    "    plt.show()"
   ]
  },
  {
   "cell_type": "markdown",
   "metadata": {},
   "source": [
    "---\n",
    "<a id='p4'></a>\n",
    "### Problem 4 [10 pts]: Average Area of the Circles (Part 1)\n",
    "The file `circles.txt` contains measurements of circle radii.  Your task is to write a script that reports the average area of the circles.  You will **not** use the `numpy` `mean` function.  Here are the requirements:\n",
    "1. Open `circles.txt`, read in the data, and convert the data to floats. Store in a list.\n",
    "2. Write a function that computes the area of a circle.  The argument should be a single `float`.\n",
    "3. Write a function, called `myave`, that computes the average of the areas of the circles.\n",
    "   - At the very least, `myave` should accept the list of radii as one argument and the circle function that you wrote in step 2 as another argument.\n",
    "   - **Note:** There are other ways of doing this task, but I want you to do it this way.\n",
    "4. Print out the result."
   ]
  },
  {
   "cell_type": "code",
   "execution_count": 51,
   "metadata": {},
   "outputs": [],
   "source": [
    "data = []\n",
    "with open('circles.txt', 'r') as f:\n",
    "    # Convert the data to floats and store in a list\n",
    "    data = [float(item) for item in f.read().splitlines()]"
   ]
  },
  {
   "cell_type": "code",
   "execution_count": 52,
   "metadata": {},
   "outputs": [
    {
     "name": "stdout",
     "output_type": "stream",
     "text": [
      "3.1958990970819956\n"
     ]
    }
   ],
   "source": [
    "from collections import Counter\n",
    "import math\n",
    "\n",
    "# Write a function that ocmputes the area of a circle\n",
    "def circle_area(radius):\n",
    "    return math.pi * radius * radius\n",
    "\n",
    "# Write a function that computes the average of the areas of the circle\n",
    "def myave(radii, f):\n",
    "    areas = [f(radius) for radius in radii]\n",
    "    return sum(areas) / float(len(areas))\n",
    "\n",
    "print(myave(data, circle_area))"
   ]
  },
  {
   "cell_type": "markdown",
   "metadata": {},
   "source": [
    "---\n",
    "<a id='part_3'></a>\n",
    "## Part 3 [30 pts]: Closures and Decorators\n",
    "<a id='p5'></a>\n",
    "### Problem 5 [10 pts]: Simple Bank Account Withdraw System\n",
    "The goal of this problem is to write a simple bank account withdraw system.  The problem is based off of a problem in _Structure and Interpretation of Computer Programs_.\n",
    "\n",
    "**Instructions:** Do each part in a different cell block and clearly label each part."
   ]
  },
  {
   "cell_type": "markdown",
   "metadata": {},
   "source": [
    "**a).**\n",
    "Write a closure to make withdraws from a bank account.  The outer function should be accept the initial balance as an argument (I'll refer to this argument as `balance` in this problem statement, but you can call it whatever you want).  The inner function should accept the withdraw amount as an argument and return the new balance.\n",
    "\n",
    "**NOTE 1:** For this part, do not try to reassign `balance` in the inner function.  Just see what happens when you return a new balance.  You can store the new balance in a new name (call it `new_bal` if you want) or just return the new balance directly.\n",
    "\n",
    "**NOTE 2:** You should check for basic exceptions (e.g. attempting to withdraw more than the current balance).\n",
    "\n",
    "Once you write your functions, demo them in your notebook as follows:\n",
    "\n",
    "```python\n",
    "wd = make_withdraw(init_balance)\n",
    "wd(withdraw_amount)\n",
    "wd(new_withdraw_amount)\n",
    "```\n",
    "\n",
    "You should observe that this does not behave correctly.  **Explain why not.**"
   ]
  },
  {
   "cell_type": "code",
   "execution_count": 53,
   "metadata": {},
   "outputs": [
    {
     "data": {
      "text/plain": [
       "800"
      ]
     },
     "execution_count": 53,
     "metadata": {},
     "output_type": "execute_result"
    }
   ],
   "source": [
    "### part a\n",
    "def make_withdraw(balance):\n",
    "    def update_balance(withdraw_amount):\n",
    "        new_balance = balance - withdraw_amount\n",
    "        if new_balance < 0:\n",
    "            print(\"You have not enough balance\")\n",
    "            return\n",
    "        return new_balance\n",
    "    return update_balance\n",
    "\n",
    "# Initialize variables\n",
    "init_balance = 1000\n",
    "withdraw_amount = 100\n",
    "new_withdraw_amount = 200\n",
    "\n",
    "# Demo functions\n",
    "wd = make_withdraw(init_balance)\n",
    "wd(withdraw_amount)\n",
    "wd(new_withdraw_amount)\n"
   ]
  },
  {
   "cell_type": "markdown",
   "metadata": {},
   "source": [
    "We want the new balance after withdrawing 200 to be 1000 - 100 - 200 = 700, but as we can see, the new balance is 800. This is because everytime update_balance is called, balance is equal to 1000, the init_balance."
   ]
  },
  {
   "cell_type": "markdown",
   "metadata": {},
   "source": [
    "**b).**\n",
    "You can fix things up by updating `balance` within the inner function.  But this won't work.  Try it out and explain why it doesn't work.  Try to use the language that we used in lecture.  \n",
    "\n",
    "  * **Hint:** [Python Execution Model](https://docs.python.org/3/reference/executionmodel.html)."
   ]
  },
  {
   "cell_type": "code",
   "execution_count": 54,
   "metadata": {},
   "outputs": [
    {
     "ename": "UnboundLocalError",
     "evalue": "local variable 'balance' referenced before assignment",
     "output_type": "error",
     "traceback": [
      "\u001b[0;31m---------------------------------------------------------------------------\u001b[0m",
      "\u001b[0;31mUnboundLocalError\u001b[0m                         Traceback (most recent call last)",
      "\u001b[0;32m<ipython-input-54-8ecc8cc27173>\u001b[0m in \u001b[0;36m<module>\u001b[0;34m()\u001b[0m\n\u001b[1;32m     16\u001b[0m \u001b[0;31m# Demo functions\u001b[0m\u001b[0;34m\u001b[0m\u001b[0;34m\u001b[0m\u001b[0m\n\u001b[1;32m     17\u001b[0m \u001b[0mwd\u001b[0m \u001b[0;34m=\u001b[0m \u001b[0mmake_withdraw\u001b[0m\u001b[0;34m(\u001b[0m\u001b[0minit_balance\u001b[0m\u001b[0;34m)\u001b[0m\u001b[0;34m\u001b[0m\u001b[0m\n\u001b[0;32m---> 18\u001b[0;31m \u001b[0mwd\u001b[0m\u001b[0;34m(\u001b[0m\u001b[0mwithdraw_amount\u001b[0m\u001b[0;34m)\u001b[0m\u001b[0;34m\u001b[0m\u001b[0m\n\u001b[0m\u001b[1;32m     19\u001b[0m \u001b[0mwd\u001b[0m\u001b[0;34m(\u001b[0m\u001b[0mnew_withdraw_amount\u001b[0m\u001b[0;34m)\u001b[0m\u001b[0;34m\u001b[0m\u001b[0m\n",
      "\u001b[0;32m<ipython-input-54-8ecc8cc27173>\u001b[0m in \u001b[0;36mupdate_balance\u001b[0;34m(withdraw_amount)\u001b[0m\n\u001b[1;32m      2\u001b[0m \u001b[0;32mdef\u001b[0m \u001b[0mmake_withdraw\u001b[0m\u001b[0;34m(\u001b[0m\u001b[0mbalance\u001b[0m\u001b[0;34m)\u001b[0m\u001b[0;34m:\u001b[0m\u001b[0;34m\u001b[0m\u001b[0m\n\u001b[1;32m      3\u001b[0m     \u001b[0;32mdef\u001b[0m \u001b[0mupdate_balance\u001b[0m\u001b[0;34m(\u001b[0m\u001b[0mwithdraw_amount\u001b[0m\u001b[0;34m)\u001b[0m\u001b[0;34m:\u001b[0m\u001b[0;34m\u001b[0m\u001b[0m\n\u001b[0;32m----> 4\u001b[0;31m         \u001b[0mbalance\u001b[0m \u001b[0;34m=\u001b[0m \u001b[0mbalance\u001b[0m \u001b[0;34m-\u001b[0m \u001b[0mwithdraw_amount\u001b[0m\u001b[0;34m\u001b[0m\u001b[0m\n\u001b[0m\u001b[1;32m      5\u001b[0m         \u001b[0;32mif\u001b[0m \u001b[0mbalance\u001b[0m \u001b[0;34m<\u001b[0m \u001b[0;36m0\u001b[0m\u001b[0;34m:\u001b[0m\u001b[0;34m\u001b[0m\u001b[0m\n\u001b[1;32m      6\u001b[0m             \u001b[0mprint\u001b[0m\u001b[0;34m(\u001b[0m\u001b[0;34m\"You have not enough balance\"\u001b[0m\u001b[0;34m)\u001b[0m\u001b[0;34m\u001b[0m\u001b[0m\n",
      "\u001b[0;31mUnboundLocalError\u001b[0m: local variable 'balance' referenced before assignment"
     ]
    }
   ],
   "source": [
    "### part b\n",
    "def make_withdraw(balance):\n",
    "    def update_balance(withdraw_amount):\n",
    "        balance = balance - withdraw_amount\n",
    "        if balance < 0:\n",
    "            print(\"You have not enough balance\")\n",
    "            return\n",
    "        return balance\n",
    "    return update_balance\n",
    "\n",
    "# Initialize variables\n",
    "init_balance = 1000\n",
    "withdraw_amount = 100\n",
    "new_withdraw_amount = 200\n",
    "\n",
    "# Demo functions\n",
    "wd = make_withdraw(init_balance)\n",
    "wd(withdraw_amount)\n",
    "wd(new_withdraw_amount)\n"
   ]
  },
  {
   "cell_type": "markdown",
   "metadata": {},
   "source": [
    "As we can see, `balance` cannot be updated within the inner function. As mentioned in the lecture, it is because as soon as `balance` is captured by the inner function, it cannot be changed: \"we have lost direct access to its manipulation.\" This is called encapsulation."
   ]
  },
  {
   "cell_type": "markdown",
   "metadata": {},
   "source": [
    "**c).**\n",
    "Now make just one small change to your code from Part b.  Declare `balance` as a nonlocal variable using the `nonlocal` keyword.  That is, before you get to the inner function, say `nonlocal balance`.  Here's some information on the `nonlocal` statement:  [`nonlocal`](https://docs.python.org/3/reference/simple_stmts.html#nonlocal).\n",
    "\n",
    "Now test things out like you did in Part a.  It should be behaving correctly now."
   ]
  },
  {
   "cell_type": "code",
   "execution_count": 55,
   "metadata": {},
   "outputs": [
    {
     "data": {
      "text/plain": [
       "700"
      ]
     },
     "execution_count": 55,
     "metadata": {},
     "output_type": "execute_result"
    }
   ],
   "source": [
    "### part c\n",
    "def make_withdraw(balance):\n",
    "    def update_balance(withdraw_amount):\n",
    "        # Declare balance as a nonlocal variable\n",
    "        nonlocal balance\n",
    "        if balance < withdraw_amount:\n",
    "            print(\"You have not enough balance\")\n",
    "            return\n",
    "        balance = balance - withdraw_amount\n",
    "        return balance\n",
    "    return update_balance\n",
    "\n",
    "# Initialize variables\n",
    "init_balance = 1000\n",
    "withdraw_amount = 100\n",
    "new_withdraw_amount = 200\n",
    "\n",
    "# Demo functions\n",
    "wd = make_withdraw(init_balance)\n",
    "wd(withdraw_amount)\n",
    "wd(new_withdraw_amount)\n"
   ]
  },
  {
   "cell_type": "markdown",
   "metadata": {},
   "source": [
    "\n",
    "**d).**\n",
    "Finally, visualize your code with [Python Tutor](http://pythontutor.com/) and embed your visualization in your notebook.  Pay attention to the variable `balance`."
   ]
  },
  {
   "cell_type": "code",
   "execution_count": 56,
   "metadata": {},
   "outputs": [
    {
     "data": {
      "text/html": [
       "<iframe width=\"800\" height=\"500\" frameborder=\"0\" src=\"http://pythontutor.com/iframe-embed.html#code=%23%23%23%20part%20c%0Adef%20make_withdraw%28balance%29%3A%0A%20%20%20%20def%20update_balance%28withdraw_amount%29%3A%0A%20%20%20%20%20%20%20%20%23%20Declare%20balance%20as%20a%20nonlocal%20variable%0A%20%20%20%20%20%20%20%20nonlocal%20balance%0A%20%20%20%20%20%20%20%20if%20balance%20%3C%20withdraw_amount%3A%0A%20%20%20%20%20%20%20%20%20%20%20%20print%28%22You%20have%20not%20enough%20balance%22%29%0A%20%20%20%20%20%20%20%20%20%20%20%20return%0A%20%20%20%20%20%20%20%20balance%20%3D%20balance%20-%20withdraw_amount%0A%20%20%20%20%20%20%20%20return%20balance%0A%20%20%20%20return%20update_balance%0A%0A%23%20Initialize%20variables%0Ainit_balance%20%3D%201000%0Awithdraw_amount%20%3D%20100%0Anew_withdraw_amount%20%3D%20200%0A%0A%23%20Demo%20functions%0Awd%20%3D%20make_withdraw%28init_balance%29%0Awd%28withdraw_amount%29%0Awd%28new_withdraw_amount%29%0A&codeDivHeight=400&codeDivWidth=350&cumulative=false&curInstr=0&heapPrimitives=nevernest&origin=opt-frontend.js&py=3&rawInputLstJSON=%5B%5D&textReferences=false\"> </iframe>"
      ],
      "text/plain": [
       "<IPython.core.display.HTML object>"
      ]
     },
     "metadata": {},
     "output_type": "display_data"
    }
   ],
   "source": [
    "from IPython.core.display import display, HTML\n",
    "\n",
    "display(HTML('<iframe width=\"800\" height=\"500\" frameborder=\"0\" src=\"http://pythontutor.com/iframe-embed.html#code=%23%23%23%20part%20c%0Adef%20make_withdraw%28balance%29%3A%0A%20%20%20%20def%20update_balance%28withdraw_amount%29%3A%0A%20%20%20%20%20%20%20%20%23%20Declare%20balance%20as%20a%20nonlocal%20variable%0A%20%20%20%20%20%20%20%20nonlocal%20balance%0A%20%20%20%20%20%20%20%20if%20balance%20%3C%20withdraw_amount%3A%0A%20%20%20%20%20%20%20%20%20%20%20%20print%28%22You%20have%20not%20enough%20balance%22%29%0A%20%20%20%20%20%20%20%20%20%20%20%20return%0A%20%20%20%20%20%20%20%20balance%20%3D%20balance%20-%20withdraw_amount%0A%20%20%20%20%20%20%20%20return%20balance%0A%20%20%20%20return%20update_balance%0A%0A%23%20Initialize%20variables%0Ainit_balance%20%3D%201000%0Awithdraw_amount%20%3D%20100%0Anew_withdraw_amount%20%3D%20200%0A%0A%23%20Demo%20functions%0Awd%20%3D%20make_withdraw%28init_balance%29%0Awd%28withdraw_amount%29%0Awd%28new_withdraw_amount%29%0A&codeDivHeight=400&codeDivWidth=350&cumulative=false&curInstr=0&heapPrimitives=nevernest&origin=opt-frontend.js&py=3&rawInputLstJSON=%5B%5D&textReferences=false\"> </iframe>'))"
   ]
  },
  {
   "cell_type": "markdown",
   "metadata": {},
   "source": [
    "---\n",
    "<a id='p6'></a>\n",
    "### Problem 6 [10 pts]: Average Area of the Circles (part 2)\n",
    "Let's return to the data from Problem 4.  \n",
    "\n",
    "Write two functions: \n",
    "1. The first function should return the average circle radius (you can re-use the one you already wrote if you'd like, but you might need to update it slightly for this problem).\n",
    "2. The second function should just use `numpy` to compute the average.\n",
    "\n",
    "Write a decorator to time the evaluation of each function.  You can use the timing decorator from lecture.\n",
    "\n",
    "#### Notes and Hints\n",
    "1. Be fair!\n",
    "2. To be as fair as possible, do the following:\n",
    "  1. Create an `areas` list/array _outside_ of your averaging functions.  This means that you should do a loop over the radii you read in from `circles.txt`, compute the area from each point, and store that area in an array.  Do you know why this is more fair?  If not, think about it make sure you understand.  Also, do not use `append`.  Instead, preallocate space for your `area` list/array.\n",
    "  2. Your `my_ave` function should accept your areas data as a list.  Remember, to allocate a list you should do `[0.0]*N`: if you use such a construct your list will be filled in with $N$ zeros.\n",
    "  3. Your `np_ave` function should accept your areas data as a `numpy` array.  To allocate a `numpy` array do `areas_np = np.zeros(len(radii))`.\n",
    "  4. Now both functions are using the best data types possible for their tasks."
   ]
  },
  {
   "cell_type": "code",
   "execution_count": 57,
   "metadata": {},
   "outputs": [],
   "source": [
    "from collections import Counter\n",
    "import math\n",
    "\n",
    "radii = []\n",
    "with open('circles.txt', 'r') as f:\n",
    "    # Convert the data to floats and store in a list\n",
    "    radii = [float(item) for item in f.read().splitlines()]"
   ]
  },
  {
   "cell_type": "code",
   "execution_count": 58,
   "metadata": {},
   "outputs": [],
   "source": [
    "# Timer function from lecture 4\n",
    "import time\n",
    "def timer(f):\n",
    "    def inner(*args):\n",
    "        t0 = time.time()\n",
    "        output = f(*args)\n",
    "        elapsed = time.time() - t0\n",
    "        print(\"Time Elapsed\", elapsed)\n",
    "        return output\n",
    "    return inner"
   ]
  },
  {
   "cell_type": "code",
   "execution_count": 59,
   "metadata": {},
   "outputs": [],
   "source": [
    "# function that computes the area of a circle\n",
    "def circle_area(radius):\n",
    "    return math.pi * radius * radius\n",
    "\n",
    "areas = [0.0] * len(radii)\n",
    "areas = [circle_area(radius) for radius in radii]\n",
    "\n",
    "areas_np = np.zeros(len(radii))\n",
    "areas_np = np.array(areas)"
   ]
  },
  {
   "cell_type": "code",
   "execution_count": 60,
   "metadata": {},
   "outputs": [
    {
     "name": "stdout",
     "output_type": "stream",
     "text": [
      "Time Elapsed 1.1920928955078125e-05\n",
      "Time Elapsed 8.988380432128906e-05\n"
     ]
    },
    {
     "data": {
      "text/plain": [
       "3.195899097081994"
      ]
     },
     "execution_count": 60,
     "metadata": {},
     "output_type": "execute_result"
    }
   ],
   "source": [
    "@timer\n",
    "def myave(areas):\n",
    "    return sum(areas) / float(len(areas))\n",
    "\n",
    "@timer\n",
    "def npave(areas):\n",
    "    return np.mean(areas)\n",
    "\n",
    "myave(areas)\n",
    "npave(areas_np)"
   ]
  },
  {
   "cell_type": "markdown",
   "metadata": {},
   "source": [
    "---\n",
    "<a id='p7'></a>\n",
    "### Problem 7 [10 pts]: Positivity\n",
    "Write a decorator to check if a quantity returned from a function is positive.  An exception should be raised if the quantity is not positive.\n",
    "\n",
    "Write three functions and decorate them with your decorator:\n",
    "1. A function that returns the discriminant $\\displaystyle d = b^{2} - 4ac$\n",
    "2. A function that computes the absolute value (you must write this yourself...do not use built-ins)\n",
    "3. A function of your own choosing.\n",
    "\n",
    "Show that your decorator behaves correctly.  That is, for each function, show two cases (where applicable):\n",
    "1. A case where positivity is not violated\n",
    "2. A case where positivity is violated"
   ]
  },
  {
   "cell_type": "code",
   "execution_count": 61,
   "metadata": {},
   "outputs": [],
   "source": [
    "# Decorator to check if a quntity returned from a function is positive\n",
    "def check_positivity(f):\n",
    "    def inner(*args):\n",
    "        output = f(*args)\n",
    "        if output < 0:\n",
    "            raise ValueError('Output is not positive')\n",
    "        return output\n",
    "    return inner"
   ]
  },
  {
   "cell_type": "code",
   "execution_count": 62,
   "metadata": {},
   "outputs": [],
   "source": [
    "# A function that returns the discriminant\n",
    "@check_positivity\n",
    "def calc_discriminant(a,b,c):\n",
    "    return b * b - 4 * a * c\n",
    "\n",
    "# A function that computes the absolute value\n",
    "@check_positivity\n",
    "def calc_absolute(a):\n",
    "    if a >= 0:\n",
    "        return a\n",
    "    else:\n",
    "        return -a\n",
    "\n",
    "# A function that computes the sum of two values\n",
    "@check_positivity\n",
    "def calc_sum(a,b):\n",
    "    return a + b"
   ]
  },
  {
   "cell_type": "code",
   "execution_count": 63,
   "metadata": {},
   "outputs": [],
   "source": [
    "import unittest\n",
    "\n",
    "class Test(unittest.TestCase):\n",
    "\n",
    "    # Test cases where functions will not raise exceptions\n",
    "    def test_success(self):\n",
    "        # Test discriminant\n",
    "        self.assertEqual(calc_discriminant(0,0,0), 0)\n",
    "        self.assertEqual(calc_discriminant(1,1,0), 1)\n",
    "        self.assertEqual(calc_discriminant(1,2,1), 0)\n",
    "        \n",
    "        # Test absolute value\n",
    "        self.assertEqual(calc_absolute(0), 0)\n",
    "        self.assertEqual(calc_absolute(1), 1)\n",
    "        self.assertEqual(calc_absolute(-1), 1)\n",
    "        \n",
    "        # Test sum\n",
    "        self.assertEqual(calc_sum(0, 0), 0)\n",
    "        self.assertEqual(calc_sum(1, 0), 1)\n",
    "        self.assertEqual(calc_sum(2, -1), 1)\n",
    "\n",
    "    # Test cases where functions will raise exceptions\n",
    "    def test_error(self):\n",
    "        # Test discriminant\n",
    "        self.assertRaises(ValueError, calc_discriminant, 1, 0, 1)\n",
    "        self.assertRaises(ValueError, calc_discriminant, 1, 1, 1)\n",
    "        self.assertRaises(ValueError, calc_discriminant, 1, -1, 1)\n",
    "        \n",
    "        # Test sum\n",
    "        self.assertRaises(ValueError, calc_sum, -3, 0)\n",
    "        self.assertRaises(ValueError, calc_sum, -1, -1)\n",
    "        self.assertRaises(ValueError, calc_sum, -2, 1)\n",
    "\n"
   ]
  },
  {
   "cell_type": "code",
   "execution_count": 64,
   "metadata": {},
   "outputs": [
    {
     "name": "stderr",
     "output_type": "stream",
     "text": [
      "..\n",
      "----------------------------------------------------------------------\n",
      "Ran 2 tests in 0.002s\n",
      "\n",
      "OK\n"
     ]
    }
   ],
   "source": [
    "if __name__ == '__main__':\n",
    "    unittest.main(argv=['first-arg-is-ignored'], exit=False)"
   ]
  }
 ],
 "metadata": {
  "kernelspec": {
   "display_name": "Python 3",
   "language": "python",
   "name": "python3"
  },
  "language_info": {
   "codemirror_mode": {
    "name": "ipython",
    "version": 3
   },
   "file_extension": ".py",
   "mimetype": "text/x-python",
   "name": "python",
   "nbconvert_exporter": "python",
   "pygments_lexer": "ipython3",
   "version": "3.6.5"
  }
 },
 "nbformat": 4,
 "nbformat_minor": 2
}
