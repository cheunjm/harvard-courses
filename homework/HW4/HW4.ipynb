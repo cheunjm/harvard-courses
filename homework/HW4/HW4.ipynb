{
 "cells": [
  {
   "cell_type": "markdown",
   "metadata": {},
   "source": [
    "# Homework 4\n",
    "## Due Date:  Tuesday, October 18th at 11:59 PM\n",
    "\n",
    "### Be sure to push the final version of your notebook to your GitHub repo.  Follow the instructions on the course website.\n",
    "\n",
    "### Topics\n",
    "\n",
    "#### [Part 1](#part_1): Automatic Differentiation [30 pts]\n",
    "- [Problem 1](#p1). Basics\n",
    "- [Problem 2](#p2). AD with dual numbers\n",
    "- [Problem 3](#p3). Toy problem\n",
    "\n",
    "#### [Part 2](#part_2): Continuous Integration and Coverage [15 pts]\n",
    "- [Problem 4](#p4). Setup\n",
    "- [Problem 5](#p5). Create an account on Travis CI and Start Building\n",
    "- [Problem 6](#p6). Coveralls Integration\n",
    "\n",
    "#### [Part 3](#part_3): GitHub Organization [5 pts]\n",
    "- [Problem 7](#p7). Create organization\n",
    "\n",
    "\n",
    "## IMPORTANT!\n",
    "Don't forget to work on Milestone 1: [Milestone 1 README](https://github.com/IACS-CS-207/cs207-F18/blob/master/project/Milestone1/README.md)."
   ]
  },
  {
   "cell_type": "markdown",
   "metadata": {},
   "source": [
    "<a id='part_1'></a>\n",
    "# Part 1: Automatic Differentiation [30 pts]"
   ]
  },
  {
   "cell_type": "markdown",
   "metadata": {},
   "source": [
    "<a id='p1'></a>\n",
    "## Problem 1:  Basics\n",
    "In this problem, you will work with the following function,\n",
    "$$f\\left(x, y, z\\right) = \\dfrac{1}{xyz} + \\sin\\left(\\dfrac{1}{x} + \\dfrac{1}{y} + \\dfrac{1}{z}\\right).$$\n",
    "\n",
    "Do the following:\n",
    "1. Make a [markdown table](https://github.com/adam-p/markdown-here/wiki/Markdown-Cheatsheet#tables) that shows the evaluation procedure for $f\\left(a\\right)$ where $a = \\left(1, 2, 3\\right)$.  The final row should contain the value of $f\\left(1, 2, 3\\right)$.\n",
    "  - Feel free to write out the computational graph if you'd like.  However, that is not necessary to get full credit for this exercise.\n",
    "  \n",
    "2. Extend the markdown table to include columns for $\\dfrac{\\partial f}{\\partial x}$, $\\dfrac{\\partial f}{\\partial y}$, and $\\dfrac{\\partial f}{\\partial z}$ and fill in with the values (also evaluated at $a = \\left(1, 2, 3\\right)$.\n",
    "  - **You must use the forward mode.**\n",
    "\n",
    "\n",
    "**Hint:**\n",
    "Here is an example table with one row filled in (note that it includes columns for part 1 and part 2):\n",
    "\n",
    "| Trace | Elementary Function | Current Value | Elementary Function Derivative | $\\nabla_{x}$ Value  | $\\nabla_{y}$ Value  | $\\nabla_{z}$ Value  |\n",
    "| :---: | :-----------------: | :-----------: | :----------------------------: | :-----------------: | :-----------------: | :-----------------: |\n",
    "| $x_{4}$ | $1/x_{1}$ | 1 | $-\\dot{x}_{1}/x_{1}^{2}$ | $-1$ | $0$ | $0$ | "
   ]
  },
  {
   "cell_type": "markdown",
   "metadata": {},
   "source": [
    "<a id='p2'></a>\n",
    "## Problem 2:  AD with dual numbers\n",
    "Use dual numbers to calculate the derivative of $$f\\left(x\\right) = \\dfrac{1}{x} + \\sin\\left(\\dfrac{1}{x}\\right)$$ at the point $x = a$.\n",
    "\n",
    "**Hints:**\n",
    "* Use the identity $$\\sin\\left(\\alpha + \\beta \\epsilon\\right) = \\sin\\left(\\alpha\\right) + \\cos\\left(\\alpha\\right)\\beta\\epsilon$$\n",
    "* To divide by a dual number, multiply the numerator and denominator by the conjugate.  That is $$\\dfrac{1}{\\alpha + \\beta\\epsilon} = \\dfrac{\\alpha - \\beta\\epsilon}{\\left(\\alpha + \\beta\\epsilon\\right)\\left(\\alpha - \\beta\\epsilon\\right)}.$$  Be sure to simplify.\n",
    "\n",
    "#### Latex commands\n",
    "\n",
    "| Latex             | Formula           |\n",
    "| :---------:       | :--------------:  |\n",
    "| \\frac{1}{x}       | $\\frac{1}{x}$     |\n",
    "| \\frac{1}{x^{2}}   | $\\frac{1}{x^{2}}$ |\n",
    "| \\sin(x)           | $\\sin(x)$         |\n",
    "| \\cos(x)           | $\\cos(x)$         |\n",
    "| x^{\\prime}        | $x^{\\prime}$      |\n",
    "| \\epsilon          | $\\epsilon$        |\n",
    "\n",
    "* To render latex inline with the next, you must put your Latex formula in-between dollar signs, like so: $latex formula$.\n",
    "* To create readable equations, I recommend using the *align* environment:\n",
    "```latex\n",
    "\\begin{align}\n",
    "  y &= x + y \\\\\n",
    "    &= x + \\sin\\left(\\dfrac{1}{a}\\right)\n",
    "\\end{align}\n",
    "```\n",
    "  This will render like so\n",
    "\\begin{align}\n",
    "  y &= x + y \\\\\n",
    "    &= x + \\sin\\left(\\dfrac{1}{a}\\right).\n",
    "\\end{align}\n",
    "The ampersand on the equals sign makes sure the equations are aligned at the equals sign.  The double backslash indicates a line break in the equation."
   ]
  },
  {
   "cell_type": "markdown",
   "metadata": {},
   "source": [
    "<a id='p3'></a>\n",
    "## Problem 3:  Toy forward mode problem\n",
    "\n",
    "You will write a toy forward automatic differentiation class.  Write a class called `AutoDiffToy` that can return the derivative of functions of the form $$f = \\alpha x + 3$$ for $\\alpha \\in \\mathbb{R}$.\n",
    "\n",
    "#### Interface\n",
    "* Must contain a constructor that sets the value of the function and derivative\n",
    "  - This would be like the first row in the evaluation trace tables that we've been making\n",
    "* Must overload functions where appropriate\n",
    "* Handle exceptions appropriately.\n",
    "  - This is a good place to practice duck-typing.  For example, rather than checking if an argument to a special method is an instance of the object, instead use a `try-except` block, catch an `AttributeError` and do the appropriate calculation\n",
    "  - **Hint:** [Asking Forgiveness](https://softwareengineering.stackexchange.com/questions/175655/python-forgiveness-vs-permission-and-duck-typing)\n",
    "\n",
    "#### Use Case\n",
    "```python\n",
    "a = 2.0 # Value to evaluate at\n",
    "x = AutoDiffToy(a)\n",
    "\n",
    "alpha = 2.0\n",
    "f = alpha * x + 3.0\n",
    "```\n",
    "\n",
    "#### Output\n",
    "```python\n",
    "print(f.val, f.der)\n",
    "7.0 2.0\n",
    "```\n",
    "\n",
    "#### Requirements\n",
    "* Implementation must be robust enough to handle functions written in the form\n",
    "```python\n",
    "f = alpha * x + 3.0\n",
    "f = x * alpha + 3.0\n",
    "f = 3.0 + alpha * x\n",
    "f = 3.0 + x * alpha\n",
    "```"
   ]
  },
  {
   "cell_type": "markdown",
   "metadata": {},
   "source": [
    "<a id='part_2'></a>\n",
    "# Part 2 [15 pts]: Continuous Integration\n",
    "\n",
    "We discussed documentation and testing in lecture and also briefly touched on code coverage.  You must write tests for your code in your final project (and in life).  There is a nice way to automate the testing process called continuous integration (CI). This problem will walk you through the basics of CI and show you how to get up and running with some CI software."
   ]
  },
  {
   "cell_type": "markdown",
   "metadata": {},
   "source": [
    "The idea behind continuous integration is to automate aspects of the testing process. \n",
    "\n",
    "The basic workflow goes something like this:\n",
    "\n",
    "1. You work on your part of the code in your own branch or fork\n",
    "2. On every commit you make and push to GitHub, your code is automatically tested by an external service (e.g. Travis CI). This ensures that there are no specific dependencies on the structure of your machine that your code needs to run and also ensures that your changes are sane\n",
    "3. When you want to merge your changes with the master / production branch you submit a pull request to `master` in the main repo (the one you're hoping to contribute to). The repo manager creates a branch off `master`. \n",
    "4. This branch is also set to run tests on Travis. If all tests pass, then the pull request is accepted and your code becomes part of master.\n",
    "\n",
    "We use GitHub to integrate our roots library with Travis CI and Coveralls. Note that this is not the only workflow people use. Google git..github..workflow and feel free to choose another one for your group."
   ]
  },
  {
   "cell_type": "markdown",
   "metadata": {},
   "source": [
    "<a id='p4'></a>\n",
    "## Problem 4:  Setup\n",
    "\n",
    "### Part A:\n",
    "Create a public GitHub repo called `cs207test` and clone it to your local machine.\n",
    "\n",
    "**Note:** No need to do this in Jupyter."
   ]
  },
  {
   "cell_type": "markdown",
   "metadata": {},
   "source": [
    "### Part B:\n",
    "\n",
    "Use the example from lecture 11 to create a file called `roots.py`, which contains the `quad_roots` and `linear_roots` functions (along with their documentation). Now, also create a file called `test_roots.py`, which contains the tests from lecture.\n",
    "\n",
    "All of these files should be in your newly created `cs207test` repo.  **Don't push yet!!!**"
   ]
  },
  {
   "cell_type": "markdown",
   "metadata": {},
   "source": [
    "<a id='p5'></a>\n",
    "## Problem 5:  Create an account on Travis CI and Start Building\n",
    "\n",
    "### Part A:\n",
    "Create an account on Travis CI and set your `cs207test` repo up for continuous integration once this repo can be seen on Travis.\n",
    "\n",
    "### Part B:\n",
    "Create an instruction to Travis to make sure that\n",
    "\n",
    "1. python 3.6 is installed\n",
    "2. pytest is installed\n",
    "\n",
    "The file should be called `.travis.yml` and should have the contents:\n",
    "```yml\n",
    "language: python\n",
    "python:\n",
    "    - \"3.6\"\n",
    "before_install:\n",
    "    - pip install pytest pytest-cov\n",
    "script:\n",
    "    - pytest\n",
    "```\n",
    "\n",
    "You should also create a configuration file called `setup.cfg`:\n",
    "```cfg\n",
    "[tool:pytest]\n",
    "addopts = --doctest-modules --cov-report term-missing --cov roots\n",
    "```\n",
    "\n",
    "### Part C:\n",
    "Push the new changes to your `cs207test` repo.\n",
    "\n",
    "At this point you should be able to see your build on Travis and if and how your tests pass."
   ]
  },
  {
   "cell_type": "markdown",
   "metadata": {},
   "source": [
    "<a id='p6'></a>\n",
    "## Problem 6:  Coveralls Integration\n",
    "In class, we also discussed code coverage.  Just like Travis CI runs tests automatically for you, Coveralls automatically checks your code coverage.  One minor drawback of Coveralls is that it can only work with public GitHub accounts.  However, this isn't too big of a problem since your projects will be public.\n",
    "\n",
    "### Part A:\n",
    "Create an account on [`Coveralls`](https://coveralls.zendesk.com/hc/en-us), connect your GitHub, and turn Coveralls integration on.\n",
    "\n",
    "### Part B:\n",
    "Update your the `.travis.yml` file as follows:\n",
    "```yml\n",
    "language: python\n",
    "python:\n",
    "    - \"3.6\"\n",
    "before_install:\n",
    "    - pip install pytest pytest-cov\n",
    "    - pip install coveralls\n",
    "script:\n",
    "    - py.test\n",
    "after_success:\n",
    "    - coveralls\n",
    "```\n",
    "\n",
    "Be sure to push the latest changes to your new repo."
   ]
  },
  {
   "cell_type": "markdown",
   "metadata": {},
   "source": [
    "### Part C:\n",
    "You can have your GitHub repo reflect the build status on Travis CI and the code coverage status from Coveralls.  To do this, you should modify the `README.md` file in your repo to include some badges.  Put the following at the top of your `README.md` file:\n",
    "\n",
    "```\n",
    "[![Build Status](https://travis-ci.org/dsondak/cs207testing.svg?branch=master)](https://travis-ci.org/dsondak/cs207testing.svg?branch=master)\n",
    "\n",
    "[![Coverage Status](https://coveralls.io/repos/github/dsondak/cs207testing/badge.svg?branch=master)](https://coveralls.io/github/dsondak/cs207testing?branch=master)\n",
    "```\n",
    "\n",
    "Of course, you need to make sure that the links are to your repo and not mine.  You can find embed code on the Coveralls and Travis CI sites."
   ]
  },
  {
   "cell_type": "markdown",
   "metadata": {},
   "source": [
    "---\n",
    "<a id='part_3'></a>\n",
    "# Part 3 [5 pts]: GitHub Organization Account\n",
    "\n",
    "<a id='p7'></a>\n",
    "## Problem 7:  Create organization\n",
    "\n",
    "Get together with your project team, form a GitHub organization (with a descriptive team name), and give the teaching staff access.  You can have has many repositories as you like within your organization.  However, we will grade the repository called **`cs207-FinalProject`**.\n",
    "\n",
    "Within the `cs207-FinalProject` repo, you must set up Travis CI and Coveralls.  Make sure your `README.md` file includes badges indicating how many tests are passing and the coverage of your code.\n",
    "\n",
    "Provide a link to your GitHub organization below"
   ]
  },
  {
   "cell_type": "code",
   "execution_count": null,
   "metadata": {},
   "outputs": [],
   "source": []
  }
 ],
 "metadata": {
  "kernelspec": {
   "display_name": "Python 3",
   "language": "python",
   "name": "python3"
  },
  "language_info": {
   "codemirror_mode": {
    "name": "ipython",
    "version": 3
   },
   "file_extension": ".py",
   "mimetype": "text/x-python",
   "name": "python",
   "nbconvert_exporter": "python",
   "pygments_lexer": "ipython3",
   "version": "3.6.5"
  }
 },
 "nbformat": 4,
 "nbformat_minor": 2
}
