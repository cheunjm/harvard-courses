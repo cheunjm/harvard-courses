{
 "cells": [
  {
   "cell_type": "markdown",
   "metadata": {},
   "source": [
    "# Homework 3\n",
    "## Due Date:  Thursday, October 4th at 11:59 PM\n",
    "### There are 3 parts to this homework.\n",
    "   [Problem 1](#p1) Writing a Linear regression class using Object Oriented Programming (OOP) paradigm [40pts]<br>\n",
    "   [Problem 2](#p2) Toy module [10pts] <br>\n",
    "   [Problem 3](#p3) Writing Bank Account software using Object Oriented Programming (OOP) paradigm [50pts]\n",
    "    \n",
    "---"
   ]
  },
  {
   "cell_type": "markdown",
   "metadata": {},
   "source": [
    "<a id='p1'></a>\n",
    "## Problem 1:  Linear Regression Class [40pts]\n",
    "\n",
    "In this problem, you will create custom `Python` classes for two related types of linear regression: Ordinary Least Squares Linear Regression and Ridge Regression.\n",
    "\n",
    "You are prohibited from using standard regression libraries in `Python` such as `sklearn`.  These classes must be your own.  However, you *are* permitted to check your answers against standard libraries."
   ]
  },
  {
   "cell_type": "markdown",
   "metadata": {},
   "source": [
    "### Background\n",
    "\n",
    "Consider the multivariate linear model:\n",
    "$$y = X\\beta + \\epsilon$$\n",
    "where $y$ is a length $n$ vector, $X$ is an $m \\times p$ matrix, and $\\beta$ is a $p$ length vector of coefficients.\n",
    "\n",
    "The goal is to find the coefficients $\\beta$ so that the linear model fits the data the best.  There are many approaches to this, but in this problem you will only consider two.\n",
    "\n",
    "#### Ordinary Least Squares Linear Regression\n",
    "\n",
    "[OLS Regression](https://en.wikipedia.org/wiki/Ordinary_least_squares) seeks to minimize the following cost function:\n",
    "\n",
    "$$\\|y - \\beta X\\|^{2}.$$\n",
    "\n",
    "The best fit coefficients are given by:\n",
    "\n",
    "$$\\widehat{\\beta} = (X^T X)^{-1}X^Ty$$\n",
    "\n",
    "where $X^T$ is the transpose of the matrix $X$ and $X^{-1}$ is the inverse of the matrix $X$.\n",
    "\n",
    "#### Ridge Regression\n",
    "\n",
    "[Ridge Regression](https://en.wikipedia.org/wiki/Tikhonov_regularization) introduces an $L_{2}$ regularization so the new cost function is:\n",
    "\n",
    "$$\\|y - \\beta X\\|^{2}+\\|\\Gamma \\beta \\|^{2}.$$\n",
    "\n",
    "where $\\Gamma = \\alpha I$ for some constant $\\alpha$ and $I$ is the identity matrix.\n",
    "\n",
    "The best fit coefficients for this case are given by:\n",
    "$$\\hat{\\beta} = (X^T X+\\Gamma^T\\Gamma)^{-1}X^Ty.$$\n",
    "\n",
    "#### $R^2$ score\n",
    "You will use the [$R^{2}$ metric](https://en.wikipedia.org/wiki/Coefficient_of_determination) to assess the performance of the models.  The $R^2$ score is defined as:\n",
    "$$\\displaystyle R^{2} = 1-\\dfrac{SS_{E}}{SS_{T}}$$\n",
    "where\n",
    "$$SS_{T}=\\sum_{i}{\\left(y_{i}-\\overline{y}\\right)^2}$$ and $$SS_{E}=\\sum_{i}{\\left(y_{i} - \\widehat{y_i}\\right)^2}.$$\n",
    "\n",
    "The ${y_i}$ are the original data values, $\\widehat{y_i}$ are the predicted values, and $\\overline{y_i}$ is the mean of the original data values."
   ]
  },
  {
   "cell_type": "markdown",
   "metadata": {},
   "source": [
    "### Part 1:  Base Class\n",
    "Write a class called `Regression` with the following methods:\n",
    "\n",
    "`__init__()`: Initializez an empty dictionary called `params`.\n",
    "\n",
    "`fit(X, y)`: Fits linear model to $X$ and $y$.  Stores best-fit parameters in the dictionary attribute called `params`.  The first key should be the coefficients (not including the intercept) and the second key should be the intercept.\n",
    "\n",
    "`get_params()`: Returns $\\widehat{\\beta}$ for the fitted model.  Note that the `fit` method already stored the dictionary in `params`, so all you need to do is return that dictionary.\n",
    "\n",
    "`predict(X)`: Predict new values with the fitted model given $X$.\n",
    "\n",
    "`score(X, y)`: Returns the $R^2$ value of the fitted model.\n",
    "\n",
    "`set_params()`: Manually set parameters of the linear model.  The method should accept variable keyword arguments (`**kwargs`) containing model parameters.  In this problem, it will be used to set the reguarization coefficient $\\alpha$ in the ridge regression model.\n",
    "\n",
    "This parent class should throw a `NotImplementedError` for methods that are intended to be implemented by subclasses.\n",
    "\n",
    "Here is the interface for the `Regression` class:"
   ]
  },
  {
   "cell_type": "code",
   "execution_count": null,
   "metadata": {
    "collapsed": true
   },
   "outputs": [],
   "source": [
    "class Regression(object):\n",
    "    \n",
    "    def __init__(self):\n",
    "        # your code\n",
    "    \n",
    "    def get_params(self):\n",
    "        # your code\n",
    "    \n",
    "    def set_params(self, **kwargs):\n",
    "        # your code\n",
    "        \n",
    "    def fit(self, X, y):\n",
    "        # your code\n",
    "        \n",
    "    def predict(self, X):\n",
    "        # your code\n",
    "        \n",
    "    def score(self, X, y):\n",
    "        # your code"
   ]
  },
  {
   "cell_type": "markdown",
   "metadata": {},
   "source": [
    "### Part 2: OLS Linear Regression\n",
    "\n",
    "Write a class called `LinearRegression` that implements the OLS Regression model described above and inherits the `Regression` class.\n",
    "\n",
    "**Hints:**\n",
    "* Note that the linear model $\\beta X$ can also include an intercept term (e.g. $\\displaystyle \\beta_{1} x_{1} + \\beta_{0}$).  This is handled by appending a column of ones to the feature matrix $X$.  See the [`numpy.append`](https://docs.scipy.org/doc/numpy/reference/generated/numpy.append.html) documentation.  You may want to consider doing the append inside your `fit` method.\n",
    "* The best-fit coefficients $\\widehat{\\beta}$ are determined by forming the inverse of $\\displaystyle X^{T}X$.  Rather than using the `numpy.linalg.inv` method, it would be better to use the [pseudo-inverse](https://docs.scipy.org/doc/numpy/reference/generated/numpy.linalg.pinv.html)."
   ]
  },
  {
   "cell_type": "markdown",
   "metadata": {},
   "source": [
    "### Part 3: Ridge Regression\n",
    "\n",
    "Write a class called `RidgeRegression` that implements Ridge Regression and inherits the `LinearRegression` class."
   ]
  },
  {
   "cell_type": "markdown",
   "metadata": {},
   "source": [
    "### Part 4: Model Scoring\n",
    "You will use the [Boston dataset](http://scikit-learn.org/stable/modules/generated/sklearn.datasets.load_boston.html) for this part.\n",
    "\n",
    "Instantiate each of the two models above.  Using a for loop, fit (on the training data) and score (on the testing data) each model on the Boston dataset.\n",
    "\n",
    "**Note 1:** Some of you may not be familiar with the train-test split pattern from the statistics world.  All this means is that you take your dataset and split it into two parts, a training part and test part (often 80-20 split).  You perform the analysis on the training data in order to determine the best-fit parameters in your model.  Then, you use that model to make a prediction using data from the test set.  Finally, you assess the performance of the model on the test set.\n",
    "\n",
    "Print out the $R^2$ value for each model and the parameters for the best model using the `get_params()` method.  Use an $\\alpha$ value of 0.1.\n",
    "\n",
    "**Hint:**  The code below demonstrates how to do a train-test split.  It also demos the way a user should interact with your classes.  Note that the demo uses the diabetes dataset, which you should change to the Boston dataset. "
   ]
  },
  {
   "cell_type": "code",
   "execution_count": null,
   "metadata": {
    "collapsed": true
   },
   "outputs": [],
   "source": [
    "import numpy as np\n",
    "from sklearn import datasets\n",
    "from collections import Counter\n",
    "import matplotlib.pyplot as plt\n",
    "from sklearn.model_selection import train_test_split\n",
    "\n",
    "%matplotlib inline\n",
    "\n",
    "dataset = datasets.load_diabetes()\n",
    "X_train, X_test, y_train, y_test = train_test_split(dataset['data'], \n",
    "                                                    dataset['target'], \n",
    "                                                    test_size=0.2, \n",
    "                                                    random_state=42)\n",
    "\n",
    "alpha = 0.1\n",
    "models = [LinearRegression(),\n",
    "          RidgeRegression(alpha),\n",
    "          LassoRegression(alpha)]\n",
    "\n",
    "for model in models:\n",
    "    model.fit(X_train, y_train)\n",
    "    print (model.score(X_test, y_test))"
   ]
  },
  {
   "cell_type": "markdown",
   "metadata": {},
   "source": [
    "### Part 5: Visualize Model Performance\n",
    "\n",
    "Evaluate how the models perform for various values of $\\alpha$.\n",
    "* Calculate the $R^2$ scores for each model \n",
    "* Use $\\alpha \\in [0.05, 1]$ for the Ridge regression model\n",
    "* Plot the two lines on the same graph.\n",
    "* To change the parameters, use the `set_params()` method that you wrote.\n",
    "\n",
    "**Be sure to create a readable and interpretable plot!**.  This means axes labels should be present and readable and the plot should have a legend."
   ]
  },
  {
   "cell_type": "markdown",
   "metadata": {},
   "source": [
    "<a id='p2'></a>\n",
    "# Problem 2 [10pts]\n",
    "We discussed how to create `Python` modules in lecture.  In this problem, you will create an very basic module and demonstrate some basic functionality.  The purpose of this exercise is to get you familiar with the essence of modules."
   ]
  },
  {
   "cell_type": "markdown",
   "metadata": {},
   "source": [
    "### Module\n",
    "So far, we have only been writing short `Python` scripts. However, when your code base starts to get bigger, you might want to organize your function and class definitions. The idea behind modules is to split your function and class definitions into multiple, logical units.  When you want to use a function or class you simply import it from the module.  In essence, a module is a file containing `Python` definitions and statements."
   ]
  },
  {
   "cell_type": "markdown",
   "metadata": {},
   "source": [
    "### Part 1:  Create a module\n",
    "Create a file called `MathCS207.py` inside your HW3 directory and include the following functions and names.  Please fill out the definition body.  `MathCS207.py` is now a module."
   ]
  },
  {
   "cell_type": "code",
   "execution_count": null,
   "metadata": {
    "collapsed": true
   },
   "outputs": [],
   "source": [
    "def add(a,b):\n",
    "    # your code here\n",
    "    \n",
    "def subtract(a,b):\n",
    "    # your code here\n",
    "    \n",
    "def multiply(a,b):\n",
    "    # your code here\n",
    "\n",
    "def divide(a,b):\n",
    "    # your code here\n"
   ]
  },
  {
   "cell_type": "markdown",
   "metadata": {},
   "source": [
    "### Part 2:  Import a whole module and use it\n",
    "Import the whole module you just created above and use the module's functions to perform addition, subtration, multiplication and division of the following numbers: \n",
    "\n",
    "<br><br>\n",
    "$$a = 10$$\n",
    "$$b = 2$$\n"
   ]
  },
  {
   "cell_type": "code",
   "execution_count": null,
   "metadata": {
    "collapsed": true
   },
   "outputs": [],
   "source": [
    "# your code here"
   ]
  },
  {
   "cell_type": "markdown",
   "metadata": {},
   "source": [
    "### Part 3:  Import a single function from a module and use it\n",
    "Import the \"add\" from the `MathCS207` module and use it to add the following numbers:\n",
    "\n",
    "<br><br>\n",
    "$$a = 10$$\n",
    "$$b = 2$$"
   ]
  },
  {
   "cell_type": "code",
   "execution_count": null,
   "metadata": {
    "collapsed": true
   },
   "outputs": [],
   "source": [
    "# your code here"
   ]
  },
  {
   "cell_type": "markdown",
   "metadata": {},
   "source": [
    "### Part 4:  Import a module by creating an alias of it and then use the alias\n",
    "Import the `MathCS207` module as `mathcs` and use it to add the following numbers:\n",
    "\n",
    "<br><br>\n",
    "$$a = 10$$\n",
    "$$b = 2$$"
   ]
  },
  {
   "cell_type": "code",
   "execution_count": null,
   "metadata": {
    "collapsed": true
   },
   "outputs": [],
   "source": [
    "# your code here"
   ]
  },
  {
   "cell_type": "markdown",
   "metadata": {},
   "source": [
    "### Part 5:  List every function definition inside the module `MathCS207`\n",
    "Import the `MathCS207` module and list every function that can be accessed through this module by using a `Python` built-in function."
   ]
  },
  {
   "cell_type": "code",
   "execution_count": null,
   "metadata": {
    "collapsed": true
   },
   "outputs": [],
   "source": [
    "# your code here"
   ]
  },
  {
   "cell_type": "markdown",
   "metadata": {},
   "source": [
    "---\n",
    "<a id='p3'></a>\n",
    "# Problem 3: Bank Account Revisited [50pts]\n",
    "\n",
    "We are going to redo the bank account closure problem from homework 2, only this time developing a formal class for a Bank User and Bank Account to use in our closure (recall previously we just had a nonlocal variable amount that we changed).\n",
    "\n",
    "### IMPORTANT\n",
    "We will be grading this problem with a test suite. Put the `enum`, classes, and closure in a single file named `Bank.py`. It is very important that the class and method specifications we provide in the problem description are used (with the same capitalization), otherwise you will receive no credit."
   ]
  },
  {
   "cell_type": "markdown",
   "metadata": {},
   "source": [
    "### Some Preliminaries:\n",
    "First define two types of bank accounts.  Use the code below to do this:"
   ]
  },
  {
   "cell_type": "code",
   "execution_count": null,
   "metadata": {
    "collapsed": true
   },
   "outputs": [],
   "source": [
    "from enum import Enum\n",
    "class AccountType(Enum):\n",
    "    SAVINGS = 1\n",
    "    CHECKING = 2"
   ]
  },
  {
   "cell_type": "markdown",
   "metadata": {},
   "source": [
    "Now, just to orient you, let's expore this class a little bit."
   ]
  },
  {
   "cell_type": "code",
   "execution_count": null,
   "metadata": {
    "collapsed": true
   },
   "outputs": [],
   "source": [
    "AccountType.SAVINGS"
   ]
  },
  {
   "cell_type": "markdown",
   "metadata": {},
   "source": [
    "returns a `Python` representation of an enumeration.\n",
    "\n",
    "You can compare these account types:"
   ]
  },
  {
   "cell_type": "code",
   "execution_count": null,
   "metadata": {
    "collapsed": true
   },
   "outputs": [],
   "source": [
    "AccountType.SAVINGS == AccountType.SAVINGS"
   ]
  },
  {
   "cell_type": "code",
   "execution_count": null,
   "metadata": {
    "collapsed": true
   },
   "outputs": [],
   "source": [
    "AccountType.SAVINGS == AccountType.CHECKING"
   ]
  },
  {
   "cell_type": "markdown",
   "metadata": {},
   "source": [
    "Note that to get a string representation of an `Enum`, you can use:"
   ]
  },
  {
   "cell_type": "code",
   "execution_count": null,
   "metadata": {
    "collapsed": true
   },
   "outputs": [],
   "source": [
    "AccountType.SAVINGS.name"
   ]
  },
  {
   "cell_type": "markdown",
   "metadata": {},
   "source": [
    "### Part 1: Create a BankAccount class with the following specification:\n",
    "\n",
    "Constructor is `BankAccount(self, owner, accountType)` where `owner` is a string representing the name of the account owner and `accountType` is one of the AccountType `enums`\n",
    "\n",
    "Methods `withdraw(self, amount)` and `deposit(self, amount)` to modify the account balance of the account.\n",
    "\n",
    "Override methods `__str__` to write an informative string of the account owner and the type of account, and `__len__` to return the balance of the account"
   ]
  },
  {
   "cell_type": "markdown",
   "metadata": {},
   "source": [
    "### Part 2:  Write a class BankUser with the following specification:\n",
    "\n",
    "Constructor `BankUser(self, owner)` where `owner` is the name of the account.\n",
    "\n",
    "Method `addAccount(self, accountType)` - to start, a user will have no accounts when the BankUser object is created. `addAccount` will add a new account to the user of the `accountType` specified. **Only one savings/checking account per user, return appropriate error otherwise.**\n",
    "\n",
    "Methods `getBalance(self, accountType)`, `deposit(self, accountType, amount)`, and `withdraw(self, accountType, amount)` for a specific `AccountType`.\n",
    "\n",
    "Override `__str__` to have an informative summary of user's accounts."
   ]
  },
  {
   "cell_type": "markdown",
   "metadata": {},
   "source": [
    "Write some simple tests to make sure this is working. Think of edge scenarios a user might try to do."
   ]
  },
  {
   "cell_type": "markdown",
   "metadata": {},
   "source": [
    "### Part 3:  ATM Closure\n",
    "\n",
    "Finally, we are going to rewrite a closure to use our bank account. We will make use of the [input function](http://anh.cs.luc.edu/python/hands-on/3.1/handsonHtml/io.html) which takes user input to decide what actions to take.\n",
    "\n",
    "Write a closure called `ATMSession(bankUser)` which takes in a `BankUser` object. It should return a method called `Interface` that, when called, would provide the following interface:\n",
    "\n",
    "First screen for user will look like:\n",
    "\n",
    "\n",
    "**Enter Option:**\n",
    "\n",
    "**1)Exit**\n",
    "\n",
    "**2)Create Account**\n",
    "\n",
    "**3)Check Balance**\n",
    "\n",
    "**4)Deposit**\n",
    "\n",
    "**5)Withdraw**\n",
    "\n",
    "\n",
    "Pressing 1 will exit, any other option will show the options:\n",
    "\n",
    "\n",
    "\n",
    "**Enter Option:**\n",
    "\n",
    "**1)Checking**\n",
    "\n",
    "**2)Savings**\n",
    "\n",
    "\n",
    "If a deposit or withdraw was chosen, then there must be a third screen:\n",
    "\n",
    "\n",
    "\n",
    "**Enter Integer Amount, Cannot Be Negative:**\n",
    "\n",
    "This is to keep the code relatively simple, if you'd like you can also curate the options depending on the `BankUser` object (for example, if the user has no accounts then only show the Create Account option), but this is up to you. In any case, you must handle any input from the user in a reasonable way that an actual bank would be okay with, and give the user a proper response to the action specified.\n",
    "\n",
    "Upon finishing a transaction or viewing balance, it should go back to the original screen."
   ]
  },
  {
   "cell_type": "markdown",
   "metadata": {},
   "source": [
    "### Part 4:  Put everything in a module Bank.py\n",
    "\n",
    "We will be grading this problem with a test suite. Put the enum, classes, and closure in a single file named Bank.py. It is very important that the class and method specifications we provided are used (with the same capitalization), otherwise you will receive no credit.\n",
    "\n",
    "---"
   ]
  }
 ],
 "metadata": {
  "kernelspec": {
   "display_name": "Python 3",
   "language": "python",
   "name": "python3"
  },
  "language_info": {
   "codemirror_mode": {
    "name": "ipython",
    "version": 3
   },
   "file_extension": ".py",
   "mimetype": "text/x-python",
   "name": "python",
   "nbconvert_exporter": "python",
   "pygments_lexer": "ipython3",
   "version": "3.6.3"
  }
 },
 "nbformat": 4,
 "nbformat_minor": 2
}
