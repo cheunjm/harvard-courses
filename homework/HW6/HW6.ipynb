{
 "cells": [
  {
   "cell_type": "markdown",
   "metadata": {},
   "source": [
    "# Homework 6\n",
    "\n",
    "## Due Thursday, November 15th 2018 at 11:59 PM.\n",
    "\n",
    "### Be sure to push the final version of your notebook to your GitHub repo.  Follow the instructions on the course website.\n",
    "\n",
    "### Topics\n",
    "####  [Part 1](#part_1):  Binary Search Tree (BST) [25 points]\n",
    "- [Problem 1](#p1.1). BST Traversal[25 points]\n",
    "\n",
    "####  [Part 2](#part_2):  Markov Chain Iterators [20 points]\n",
    "- [Problem 1](#p2.1). Markov Chain Iterators [10 points]\n",
    "- [Problem 2](#p2.2). Prediction using Markov Chain. [10 points]\n",
    "\n",
    "####  [Part 3](#part_3):  Evaluation [5 pts]\n",
    "\n",
    "---"
   ]
  },
  {
   "cell_type": "markdown",
   "metadata": {},
   "source": [
    "<a id='part_1'></a>\n",
    "# Part 1:  BST Traversal\n",
    "\n",
    "<a id='p1.1'></a>\n",
    "## Problem 1\n",
    "This problem builds on Problem 2 of Homework 5 in which you wrote a binary search tree.  This time, you will write a class to perform traversals of the BST.\n",
    "\n",
    "Write an iterator class called `DFSTraversal` with the following specifications:\n",
    "\n",
    "* `__init__(self, tree, traversalType)`: Constructor takes a `BinaryTree` object and one of the enums from `DFSTraversalTypes`\n",
    "\n",
    "```python\n",
    "from enum import Enum\n",
    "\n",
    "class DFSTraversalTypes(Enum):\n",
    "    PREORDER = 1\n",
    "    INORDER = 2\n",
    "    POSTORDER = 3\n",
    "```\n",
    "\n",
    "* `changeTraversalType(self, traversalType)`: Change the traversal type\n",
    "* `__iter__(self)`: This is the initialization of an iterator\n",
    "* `__next__(self)`: This is called in the iterator for getting the next value\n",
    "\n",
    "### Reminder\n",
    "In lecture, we discussed three types of depth-first traversal: preorder, inorder, and postorder.  In addition to the lecture notes, here is another reference: [Tree Traversal](https://en.wikipedia.org/wiki/Tree_traversal#Depth-first_search).\n",
    "\n",
    "### Demo of  `DFSTraveral`\n",
    "Here's how you might use your `DFSTraversal` class:\n",
    "\n",
    "```python\n",
    "input_array = [3, 9, 2, 11]\n",
    "bt = BinaryTree()\n",
    "for val in input_array:\n",
    "    bt.insert(val)\n",
    "traversal = DFSTraversal(bt, DFSTraversalTypes.INORDER)\n",
    "for val in traversal:\n",
    "    print(val)\n",
    "2\n",
    "3\n",
    "9\n",
    "11\n",
    "```\n",
    "\n",
    "\n",
    "#### Put your `BinaryTree` class (from homework 5) and your `DFSTraversal` class in a file titled `TreeTraversal.py`. Failure to follow this instruction will result in point deduction.  We provide a skeleton class below.\n",
    "\n",
    "***IMPORTANT***\n",
    "\n",
    "You should start from your own `BinaryTree` class (from HW5).  However, if parts of your implementation from HW5 were incorrect, you may use the methods from the solution we provided."
   ]
  },
  {
   "cell_type": "markdown",
   "metadata": {
    "collapsed": true
   },
   "source": [
    "```python\n",
    "class DFSTraversal():\n",
    "    def __init__(self, tree, traversalType):\n",
    "        # implement here\n",
    "\n",
    "    def changeTraversalType(self, traversalType):\n",
    "        # implement here\n",
    "        \n",
    "    def __iter__(self):\n",
    "        # implement here\n",
    "     \n",
    "    def __next__(self):\n",
    "        # implement here\n",
    "    \n",
    "    def inorder(self, bt):\n",
    "        # implement here\n",
    "        # bt is an instance of BinaryTree class from previous hw\n",
    "        return\n",
    "\n",
    "    def preorder(self, bt):\n",
    "        # implement here\n",
    "        # bt is an instance of BinaryTree class from previous hw\n",
    "        return\n",
    "    \n",
    "    def postorder(self, bt):\n",
    "        # implement here\n",
    "        # bt is an instance of BinaryTree class from previous hw\n",
    "        return\n",
    "```"
   ]
  },
  {
   "cell_type": "markdown",
   "metadata": {},
   "source": [
    "<a id='part_2'></a>\n",
    "# Part 2: Iterators"
   ]
  },
  {
   "cell_type": "markdown",
   "metadata": {},
   "source": [
    "Iterators are a convenient way to walk along your Markov chain.\n",
    "\n",
    "<a id='p2.1'></a>\n",
    "## Problem 1: \n",
    "Using your `Markov` class from the previous homework (HW5, problem 3), write `Markov` as an iterator by implementing the `__iter__()` and `__next__()` methods.\n",
    "\n",
    "**Remember:** \n",
    "* `__iter__()` should return the iterator object.\n",
    "* The `__next()__` method should return the next value.\n",
    "  - Each 'next' step should be stochastic (i.e. randomly selected based on the relative probabilities of the following day weather types) and should return the next day's weather as a string (e.g. \"sunny\") rather than an index (e.g. 0).\n",
    "\n",
    "#### Hints\n",
    "* You may want to use `np.random.choice()` in your `__next__()` implementation.  Note that `np.random.choice()` allows you to specify an array (called `a` in the documentation) from which to generate samples.  `np.random.choice()` also takes an argument (called `p` in the documentation) that associates a probability with each entry in `a`.\n",
    "\n",
    "We provide a skeleton class. Please be sure to fill out every method below.\n",
    "\n",
    "***IMPORTANT***\n",
    "\n",
    "You should start from your own `Markov` class (from HW5).  However, if parts of your implementation from HW5 were incorrect, you may use the methods from the solution we provided."
   ]
  },
  {
   "cell_type": "markdown",
   "metadata": {
    "collapsed": true
   },
   "source": [
    "```python\n",
    "import random\n",
    "\n",
    "class Markov:\n",
    "    def __init__(self, first_day):\n",
    "        # implement here. You may copy and paste from previous homework\n",
    "            \n",
    "    def load_data(self, array):\n",
    "        # implement here. You may copy and paste from previous homework\n",
    "    \n",
    "    def get_prob(self, previous_day, following_day):\n",
    "        # implement here. You may copy and paste from previous homework\n",
    "        # Returns a probability\n",
    "    \n",
    "    def __iter__(self):\n",
    "        # implement your iter method here\n",
    "        # should return the iterator object\n",
    "    \n",
    "    def __next__(self):        \n",
    "        # Implement your __next__ here\n",
    "        # method should return the next value.\n",
    "```"
   ]
  },
  {
   "cell_type": "markdown",
   "metadata": {},
   "source": [
    "<a id='p2.2'></a>\n",
    "## Problem 2\n",
    "We want to predict what weather will be like in a week for 5 different cities.  Now that we have our `Markov` iterator, we can try to predict what the weather will be like seven days from now.\n",
    "\n",
    "#### Your Task\n",
    "Given each city's current weather (provided in the dictionary `city_weather` below), simulate what the weather will be like 7 days from now.  Rather than just producing one prediction per city, simulate 100 such predictions per city and store the most commonly occuring prediction.\n",
    "\n",
    "#### New methods in your class\n",
    "* `get_weather_for_day(self, day)`:  `day` is an integer representing how far from the current day we want to predict.  For example, if we want to predict the weather 5 days from now, `day` would be equal to 5.\n",
    "\n",
    "#### Outputs\n",
    "In your submission, print a dictionary `city_weather_predictions` that has each city as a key and the most commonly predicted weather (as a string) as the corresponding value.\n",
    "\n",
    "**Note**: Don't worry if your values don't seem to make intuitive sense.  We made up the weather probabilities."
   ]
  },
  {
   "cell_type": "code",
   "execution_count": null,
   "metadata": {
    "collapsed": true
   },
   "outputs": [],
   "source": [
    "city_weather = {\n",
    "    'New York': 'rainy',\n",
    "    'Chicago': 'snowy',\n",
    "    'Seattle': 'rainy',\n",
    "    'Boston': 'hailing',\n",
    "    'Miami': 'windy',\n",
    "    'Los Angeles': 'cloudy',\n",
    "    'San Fransisco': 'windy'\n",
    "}"
   ]
  },
  {
   "cell_type": "markdown",
   "metadata": {},
   "source": [
    "<a id='part_3'></a>\n",
    "\n",
    "# Part 3:  Peer Evaluations\n",
    "Your TF sent you a link to the `Milestone Peer Evaluation` form.  You must fill the form out as part of this homework.  Evaluate your group members based on their contributions to milestones 1 and 2.  Contributions here are not only intellectual contributions.  They also include receptivity to ideas from other group members and overall participation.\n",
    "\n",
    "**Instructions:**\n",
    "* Please review each member of your group.\n",
    "* You must review yourself.\n",
    "* Do not leave any question unanswered.  An unanswer question is recorded as a zero."
   ]
  }
 ],
 "metadata": {
  "kernelspec": {
   "display_name": "Python 3",
   "language": "python",
   "name": "python3"
  },
  "language_info": {
   "codemirror_mode": {
    "name": "ipython",
    "version": 3
   },
   "file_extension": ".py",
   "mimetype": "text/x-python",
   "name": "python",
   "nbconvert_exporter": "python",
   "pygments_lexer": "ipython3",
   "version": "3.6.6"
  }
 },
 "nbformat": 4,
 "nbformat_minor": 2
}
