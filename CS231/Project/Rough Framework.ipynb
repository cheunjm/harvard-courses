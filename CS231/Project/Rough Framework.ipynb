{
 "cells": [
  {
   "cell_type": "code",
   "execution_count": 1,
   "metadata": {
    "colab": {},
    "colab_type": "code",
    "id": "pB3PUMVhdUBY"
   },
   "outputs": [],
   "source": [
    "import pandas as pd"
   ]
  },
  {
   "cell_type": "markdown",
   "metadata": {
    "colab_type": "text",
    "id": "sQ9HFUz8eilc"
   },
   "source": [
    "## INTRODUCTION"
   ]
  },
  {
   "cell_type": "markdown",
   "metadata": {
    "colab_type": "text",
    "id": "FGk5j7-Uej5q"
   },
   "source": [
    "## BASIC ETHICAL ISSUES"
   ]
  },
  {
   "cell_type": "markdown",
   "metadata": {
    "colab_type": "text",
    "id": "Dt3F1Udid0fi"
   },
   "source": [
    "## DATA IMPORTING:"
   ]
  },
  {
   "cell_type": "markdown",
   "metadata": {
    "colab_type": "text",
    "id": "V17K8EnDf1bK"
   },
   "source": [
    "### TODO: Import data from csv into pandas dataframe"
   ]
  },
  {
   "cell_type": "code",
   "execution_count": 4,
   "metadata": {},
   "outputs": [
    {
     "data": {
      "text/html": [
       "<div>\n",
       "<style scoped>\n",
       "    .dataframe tbody tr th:only-of-type {\n",
       "        vertical-align: middle;\n",
       "    }\n",
       "\n",
       "    .dataframe tbody tr th {\n",
       "        vertical-align: top;\n",
       "    }\n",
       "\n",
       "    .dataframe thead th {\n",
       "        text-align: right;\n",
       "    }\n",
       "</style>\n",
       "<table border=\"1\" class=\"dataframe\">\n",
       "  <thead>\n",
       "    <tr style=\"text-align: right;\">\n",
       "      <th></th>\n",
       "      <th>INCIDENT_NUMBER</th>\n",
       "      <th>OFFENSE_CODE</th>\n",
       "      <th>OFFENSE_CODE_GROUP</th>\n",
       "      <th>OFFENSE_DESCRIPTION</th>\n",
       "      <th>DISTRICT</th>\n",
       "      <th>REPORTING_AREA</th>\n",
       "      <th>SHOOTING</th>\n",
       "      <th>OCCURRED_ON_DATE</th>\n",
       "      <th>YEAR</th>\n",
       "      <th>MONTH</th>\n",
       "      <th>DAY_OF_WEEK</th>\n",
       "      <th>HOUR</th>\n",
       "      <th>UCR_PART</th>\n",
       "      <th>STREET</th>\n",
       "      <th>Lat</th>\n",
       "      <th>Long</th>\n",
       "      <th>Location</th>\n",
       "    </tr>\n",
       "  </thead>\n",
       "  <tbody>\n",
       "    <tr>\n",
       "      <th>0</th>\n",
       "      <td>I192029187</td>\n",
       "      <td>3402</td>\n",
       "      <td>Service</td>\n",
       "      <td>ANIMAL INCIDENTS</td>\n",
       "      <td>C11</td>\n",
       "      <td>392</td>\n",
       "      <td>NaN</td>\n",
       "      <td>2019-04-20 20:04:00</td>\n",
       "      <td>2019</td>\n",
       "      <td>4</td>\n",
       "      <td>Saturday</td>\n",
       "      <td>20</td>\n",
       "      <td>Part Three</td>\n",
       "      <td>BEAUMONT ST</td>\n",
       "      <td>42.285367</td>\n",
       "      <td>-71.057504</td>\n",
       "      <td>(42.28536673, -71.05750386)</td>\n",
       "    </tr>\n",
       "    <tr>\n",
       "      <th>1</th>\n",
       "      <td>I192029173</td>\n",
       "      <td>3802</td>\n",
       "      <td>Motor Vehicle Accident Response</td>\n",
       "      <td>M/V ACCIDENT - PROPERTY  DAMAGE</td>\n",
       "      <td>NaN</td>\n",
       "      <td></td>\n",
       "      <td>NaN</td>\n",
       "      <td>2019-04-20 16:37:00</td>\n",
       "      <td>2019</td>\n",
       "      <td>4</td>\n",
       "      <td>Saturday</td>\n",
       "      <td>16</td>\n",
       "      <td>Part Three</td>\n",
       "      <td>NaN</td>\n",
       "      <td>NaN</td>\n",
       "      <td>NaN</td>\n",
       "      <td>(0.00000000, 0.00000000)</td>\n",
       "    </tr>\n",
       "    <tr>\n",
       "      <th>2</th>\n",
       "      <td>I192029172</td>\n",
       "      <td>3114</td>\n",
       "      <td>Investigate Property</td>\n",
       "      <td>INVESTIGATE PROPERTY</td>\n",
       "      <td>E13</td>\n",
       "      <td>574</td>\n",
       "      <td>NaN</td>\n",
       "      <td>2019-04-20 16:00:00</td>\n",
       "      <td>2019</td>\n",
       "      <td>4</td>\n",
       "      <td>Saturday</td>\n",
       "      <td>16</td>\n",
       "      <td>Part Three</td>\n",
       "      <td>WASHINGTON ST</td>\n",
       "      <td>42.309719</td>\n",
       "      <td>-71.104294</td>\n",
       "      <td>(42.30971857, -71.10429432)</td>\n",
       "    </tr>\n",
       "    <tr>\n",
       "      <th>3</th>\n",
       "      <td>I192029171</td>\n",
       "      <td>3831</td>\n",
       "      <td>Motor Vehicle Accident Response</td>\n",
       "      <td>M/V - LEAVING SCENE - PROPERTY DAMAGE</td>\n",
       "      <td>B3</td>\n",
       "      <td>447</td>\n",
       "      <td>NaN</td>\n",
       "      <td>2019-04-20 21:26:00</td>\n",
       "      <td>2019</td>\n",
       "      <td>4</td>\n",
       "      <td>Saturday</td>\n",
       "      <td>21</td>\n",
       "      <td>Part Three</td>\n",
       "      <td>PARK ST</td>\n",
       "      <td>NaN</td>\n",
       "      <td>NaN</td>\n",
       "      <td>(0.00000000, 0.00000000)</td>\n",
       "    </tr>\n",
       "    <tr>\n",
       "      <th>4</th>\n",
       "      <td>I192029170</td>\n",
       "      <td>3201</td>\n",
       "      <td>Property Lost</td>\n",
       "      <td>PROPERTY - LOST</td>\n",
       "      <td>NaN</td>\n",
       "      <td></td>\n",
       "      <td>NaN</td>\n",
       "      <td>2019-04-20 18:50:00</td>\n",
       "      <td>2019</td>\n",
       "      <td>4</td>\n",
       "      <td>Saturday</td>\n",
       "      <td>18</td>\n",
       "      <td>Part Three</td>\n",
       "      <td>NaN</td>\n",
       "      <td>NaN</td>\n",
       "      <td>NaN</td>\n",
       "      <td>(0.00000000, 0.00000000)</td>\n",
       "    </tr>\n",
       "  </tbody>\n",
       "</table>\n",
       "</div>"
      ],
      "text/plain": [
       "  INCIDENT_NUMBER  OFFENSE_CODE               OFFENSE_CODE_GROUP  \\\n",
       "0      I192029187          3402                          Service   \n",
       "1      I192029173          3802  Motor Vehicle Accident Response   \n",
       "2      I192029172          3114             Investigate Property   \n",
       "3      I192029171          3831  Motor Vehicle Accident Response   \n",
       "4      I192029170          3201                    Property Lost   \n",
       "\n",
       "                     OFFENSE_DESCRIPTION DISTRICT REPORTING_AREA SHOOTING  \\\n",
       "0                       ANIMAL INCIDENTS      C11            392      NaN   \n",
       "1        M/V ACCIDENT - PROPERTY  DAMAGE      NaN                     NaN   \n",
       "2                   INVESTIGATE PROPERTY      E13            574      NaN   \n",
       "3  M/V - LEAVING SCENE - PROPERTY DAMAGE       B3            447      NaN   \n",
       "4                        PROPERTY - LOST      NaN                     NaN   \n",
       "\n",
       "      OCCURRED_ON_DATE  YEAR  MONTH DAY_OF_WEEK  HOUR    UCR_PART  \\\n",
       "0  2019-04-20 20:04:00  2019      4    Saturday    20  Part Three   \n",
       "1  2019-04-20 16:37:00  2019      4    Saturday    16  Part Three   \n",
       "2  2019-04-20 16:00:00  2019      4    Saturday    16  Part Three   \n",
       "3  2019-04-20 21:26:00  2019      4    Saturday    21  Part Three   \n",
       "4  2019-04-20 18:50:00  2019      4    Saturday    18  Part Three   \n",
       "\n",
       "          STREET        Lat       Long                     Location  \n",
       "0    BEAUMONT ST  42.285367 -71.057504  (42.28536673, -71.05750386)  \n",
       "1            NaN        NaN        NaN     (0.00000000, 0.00000000)  \n",
       "2  WASHINGTON ST  42.309719 -71.104294  (42.30971857, -71.10429432)  \n",
       "3        PARK ST        NaN        NaN     (0.00000000, 0.00000000)  \n",
       "4            NaN        NaN        NaN     (0.00000000, 0.00000000)  "
      ]
     },
     "execution_count": 4,
     "metadata": {},
     "output_type": "execute_result"
    }
   ],
   "source": [
    "df = pd.read_csv('data/crime_data.csv')\n",
    "df.head(5)"
   ]
  },
  {
   "cell_type": "markdown",
   "metadata": {
    "colab_type": "text",
    "id": "cWpqzeYqhnZZ"
   },
   "source": [
    "### TODO: Augment weather data (Not important at this point)"
   ]
  },
  {
   "cell_type": "markdown",
   "metadata": {
    "colab_type": "text",
    "id": "Cv1UkMxNd9u3"
   },
   "source": [
    "## DATA CLEANING"
   ]
  },
  {
   "cell_type": "markdown",
   "metadata": {
    "colab_type": "text",
    "id": "175y8XBdf_ZT"
   },
   "source": [
    "### TODO: Remove NA Values"
   ]
  },
  {
   "cell_type": "markdown",
   "metadata": {
    "colab_type": "text",
    "id": "L62MtsfsgBp3"
   },
   "source": [
    "### TODO: Break Boston up into grid"
   ]
  },
  {
   "cell_type": "markdown",
   "metadata": {
    "colab_type": "text",
    "id": "6kN1B8AfdajN"
   },
   "source": [
    "## EDA: "
   ]
  },
  {
   "cell_type": "markdown",
   "metadata": {
    "colab_type": "text",
    "id": "_Jv2q4wtgGaM"
   },
   "source": [
    "### TODO: Distribution of crimes"
   ]
  },
  {
   "cell_type": "markdown",
   "metadata": {
    "colab_type": "text",
    "id": "sY7gHficgJup"
   },
   "source": [
    "### TODO: Decide which crime to focus on"
   ]
  },
  {
   "cell_type": "markdown",
   "metadata": {
    "colab_type": "text",
    "id": "HCnIVruIeATy"
   },
   "source": [
    "## BASELINE MODELS"
   ]
  },
  {
   "cell_type": "markdown",
   "metadata": {
    "colab_type": "text",
    "id": "x6X4jd2pgL_N"
   },
   "source": [
    "### TODO: Random Forest"
   ]
  },
  {
   "cell_type": "markdown",
   "metadata": {
    "colab_type": "text",
    "id": "HTsQ1VJigNiG"
   },
   "source": [
    "### TODO: Naives Bayes"
   ]
  },
  {
   "cell_type": "markdown",
   "metadata": {
    "colab_type": "text",
    "id": "lVrZ7e4ogPU1"
   },
   "source": [
    "### TODO: SVM"
   ]
  },
  {
   "cell_type": "markdown",
   "metadata": {
    "colab_type": "text",
    "id": "nLIC8rTVeDP2"
   },
   "source": [
    "## FANCY NETWORK:"
   ]
  },
  {
   "cell_type": "markdown",
   "metadata": {
    "colab_type": "text",
    "id": "18T8w1g4gcUk"
   },
   "source": [
    "### TODO: Decide on Model"
   ]
  },
  {
   "cell_type": "markdown",
   "metadata": {
    "colab_type": "text",
    "id": "_sNseiy6geaJ"
   },
   "source": [
    "### TODO: Train"
   ]
  },
  {
   "cell_type": "markdown",
   "metadata": {
    "colab_type": "text",
    "id": "E0IUiCeJggIT"
   },
   "source": [
    "### TODO: Evaluation"
   ]
  },
  {
   "cell_type": "markdown",
   "metadata": {
    "colab_type": "text",
    "id": "QN2M0Y1XeYR7"
   },
   "source": [
    "## PREDICTION ON TOP OF SOME MAP"
   ]
  },
  {
   "cell_type": "markdown",
   "metadata": {
    "colab_type": "text",
    "id": "gEwz9EDse6G5"
   },
   "source": [
    "## EVALUATION / COMPARSION"
   ]
  },
  {
   "cell_type": "markdown",
   "metadata": {
    "colab_type": "text",
    "id": "vzGW1xIVeoOh"
   },
   "source": [
    "## CONCLUSION WITH MORE DISCUSSIONS ON ETHICAL ISSUES"
   ]
  },
  {
   "cell_type": "markdown",
   "metadata": {
    "colab_type": "text",
    "id": "THcBn0GufFcu"
   },
   "source": [
    "## REFERENCES"
   ]
  },
  {
   "cell_type": "code",
   "execution_count": 0,
   "metadata": {
    "colab": {},
    "colab_type": "code",
    "id": "BhEMI9uOenxE"
   },
   "outputs": [],
   "source": []
  },
  {
   "cell_type": "code",
   "execution_count": 0,
   "metadata": {
    "colab": {},
    "colab_type": "code",
    "id": "aXQokSJVeF0v"
   },
   "outputs": [],
   "source": []
  }
 ],
 "metadata": {
  "accelerator": "GPU",
  "colab": {
   "collapsed_sections": [],
   "name": "Rough Framework.ipynb",
   "provenance": [],
   "toc_visible": true,
   "version": "0.3.2"
  },
  "kernelspec": {
   "display_name": "Python 3",
   "language": "python",
   "name": "python3"
  },
  "language_info": {
   "codemirror_mode": {
    "name": "ipython",
    "version": 3
   },
   "file_extension": ".py",
   "mimetype": "text/x-python",
   "name": "python",
   "nbconvert_exporter": "python",
   "pygments_lexer": "ipython3",
   "version": "3.7.0"
  }
 },
 "nbformat": 4,
 "nbformat_minor": 1
}
