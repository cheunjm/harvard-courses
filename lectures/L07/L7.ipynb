{
 "cells": [
  {
   "cell_type": "markdown",
   "metadata": {
    "slideshow": {
     "slide_type": "slide"
    }
   },
   "source": [
    "# Lecture 7\n",
    "## Object Oriented Programming III\n",
    "### Tuesday, September 25th 2018"
   ]
  },
  {
   "cell_type": "markdown",
   "metadata": {
    "slideshow": {
     "slide_type": "slide"
    }
   },
   "source": [
    "## Last Time\n",
    "* Inheritance\n",
    "* Super class initializers\n",
    "* Special methods (the dunder methods)\n",
    "* Interfaces\n",
    "* The `Python` Data Model\n",
    "\n",
    "## Today\n",
    "* More on the `Python` Data Model\n",
    "* Class methods, static methods, instance methods\n",
    "* More details on inheritance\n",
    "* Modules"
   ]
  },
  {
   "cell_type": "code",
   "execution_count": 1,
   "metadata": {
    "slideshow": {
     "slide_type": "skip"
    }
   },
   "outputs": [],
   "source": [
    "from IPython.display import HTML"
   ]
  },
  {
   "cell_type": "markdown",
   "metadata": {
    "slideshow": {
     "slide_type": "slide"
    }
   },
   "source": [
    "## Python's power comes from the data model, composition, and delegation\n",
    "\n",
    "The data model is used (from **Fluent Python**) to provide a:\n",
    "\n",
    ">description of the interfaces of the building blocks of the language itself, such as sequences, iterators, functions, classes...."
   ]
  },
  {
   "cell_type": "markdown",
   "metadata": {
    "slideshow": {
     "slide_type": "subslide"
    }
   },
   "source": [
    "## Python's power comes from the data model, composition, and delegation\n",
    "\n",
    "The data model is used (from **Fluent Python**) to provide a:\n",
    "\n",
    ">description of the interfaces of the building blocks of the language itself, such as sequences, iterators, functions, classes....\n",
    "\n",
    "The special \"dunder\" methods we talk about are invoked by the `Python` interpreter to perform basic operations."
   ]
  },
  {
   "cell_type": "markdown",
   "metadata": {
    "slideshow": {
     "slide_type": "subslide"
    }
   },
   "source": [
    "## Python's power comes from the data model, composition, and delegation\n",
    "\n",
    "The data model is used (from **Fluent Python**) to provide a:\n",
    "\n",
    ">description of the interfaces of the building blocks of the language itself, such as sequences, iterators, functions, classes....\n",
    "\n",
    "The special \"dunder\" methods we talk about are invoked by the `Python` interpreter to perform basic operations. \n",
    "\n",
    "For example, `__getitem__` gets an item in a sequence. This is used to do something like `a[3]`. "
   ]
  },
  {
   "cell_type": "markdown",
   "metadata": {
    "slideshow": {
     "slide_type": "subslide"
    }
   },
   "source": [
    "## Python's power comes from the data model, composition, and delegation\n",
    "\n",
    "The data model is used (from **Fluent Python**) to provide a:\n",
    "\n",
    ">description of the interfaces of the building blocks of the language itself, such as sequences, iterators, functions, classes....\n",
    "\n",
    "The special \"dunder\" methods we talk about are invoked by the `Python` interpreter to perform basic operations. \n",
    "\n",
    "For example, `__getitem__` gets an item in a sequence. This is used to do something like `a[3]`. \n",
    "\n",
    "`__len__` is used to say how long a sequence is. Its invoked by the `len` built-in function. "
   ]
  },
  {
   "cell_type": "markdown",
   "metadata": {
    "slideshow": {
     "slide_type": "subslide"
    }
   },
   "source": [
    "## Python's power comes from the data model, composition, and delegation\n",
    "\n",
    "The data model is used (from **Fluent Python**) to provide a:\n",
    "\n",
    ">description of the interfaces of the building blocks of the language itself, such as sequences, iterators, functions, classes....\n",
    "\n",
    "The special \"dunder\" methods we talk about are invoked by the `Python` interpreter to perform basic operations. \n",
    "\n",
    "For example, `__getitem__` gets an item in a sequence. This is used to do something like `a[3]`. \n",
    "\n",
    "`__len__` is used to say how long a sequence is. Its invoked by the `len` built-in function. \n",
    "\n",
    "A **sequence**, for example,  must implement `__len__` and `__getitem__`. That's it."
   ]
  },
  {
   "cell_type": "markdown",
   "metadata": {
    "slideshow": {
     "slide_type": "subslide"
    }
   },
   "source": [
    "## Python's power comes from the data model, composition, and delegation\n",
    "\n",
    "The data model is used (from **Fluent Python**) to provide a:\n",
    "\n",
    ">description of the interfaces of the building blocks of the language itself, such as sequences, iterators, functions, classes....\n",
    "\n",
    "The special \"dunder\" methods we talk about are invoked by the `Python` interpreter to perform basic operations. \n",
    "\n",
    "For example, `__getitem__` gets an item in a sequence. This is used to do something like `a[3]`. \n",
    "\n",
    "`__len__` is used to say how long a sequence is. Its invoked by the `len` built-in function. \n",
    "\n",
    "A **sequence**, for example,  must implement `__len__` and `__getitem__`. That's it.\n",
    "\n",
    "The original reference for this data model is: https://docs.python.org/3/reference/datamodel.html ."
   ]
  },
  {
   "cell_type": "markdown",
   "metadata": {
    "slideshow": {
     "slide_type": "subslide"
    }
   },
   "source": [
    "## Tuple\n",
    "\n",
    "An example of a sequence in `Python` is the tuple. Since a tuple is a sequence, it must support indexing and be able to tell us its length."
   ]
  },
  {
   "cell_type": "code",
   "execution_count": 2,
   "metadata": {
    "slideshow": {
     "slide_type": "fragment"
    }
   },
   "outputs": [
    {
     "data": {
      "text/plain": [
       "1"
      ]
     },
     "execution_count": 2,
     "metadata": {},
     "output_type": "execute_result"
    }
   ],
   "source": [
    "a = (1,2)\n",
    "a[0] # indexing"
   ]
  },
  {
   "cell_type": "code",
   "execution_count": 3,
   "metadata": {
    "slideshow": {
     "slide_type": "fragment"
    }
   },
   "outputs": [
    {
     "data": {
      "text/plain": [
       "2"
      ]
     },
     "execution_count": 3,
     "metadata": {},
     "output_type": "execute_result"
    }
   ],
   "source": [
    "len(a) # length"
   ]
  },
  {
   "cell_type": "markdown",
   "metadata": {
    "slideshow": {
     "slide_type": "fragment"
    }
   },
   "source": [
    "Great.  That worked out nicely.  Let's take a look at some \"enhanced\" tuples."
   ]
  },
  {
   "cell_type": "markdown",
   "metadata": {
    "slideshow": {
     "slide_type": "subslide"
    }
   },
   "source": [
    "## NamedTuples\n",
    "\n",
    "#### [`collections.namedtuple`](https://docs.python.org/3/library/collections.html#collections.namedtuple)\n",
    "* Produces subclasses of tuples\n",
    "* The tuples are enhanced with field names and a class name.\n",
    "\n",
    "Consider the example from **Fluent Python** (Example 1-1):"
   ]
  },
  {
   "cell_type": "code",
   "execution_count": 4,
   "metadata": {
    "slideshow": {
     "slide_type": "fragment"
    }
   },
   "outputs": [
    {
     "data": {
      "text/plain": [
       "\"<class '__main__.Cards'>\""
      ]
     },
     "execution_count": 4,
     "metadata": {},
     "output_type": "execute_result"
    }
   ],
   "source": [
    "import collections\n",
    "Card = collections.namedtuple('Cards', ['rank', 'suit'])\n",
    "repr(Card)"
   ]
  },
  {
   "cell_type": "code",
   "execution_count": 5,
   "metadata": {
    "slideshow": {
     "slide_type": "fragment"
    }
   },
   "outputs": [
    {
     "name": "stdout",
     "output_type": "stream",
     "text": [
      "Cards(rank='3', suit='diamonds')\n",
      "<class '__main__.Cards'>\n",
      "3\n"
     ]
    }
   ],
   "source": [
    "my_card = Card('3', 'diamonds')\n",
    "print(my_card)\n",
    "print(type(my_card))\n",
    "print(my_card.rank)"
   ]
  },
  {
   "cell_type": "markdown",
   "metadata": {
    "slideshow": {
     "slide_type": "subslide"
    }
   },
   "source": [
    "#### A Custom Sequence\n",
    "\n",
    "Let's create a `FrenchDeck` as an example of something that follows `Python`'s *Sequence* protocol. Remember, the sequence protocol requires implementation of two methods: `__len__` and `__getitem__`. That's it."
   ]
  },
  {
   "cell_type": "code",
   "execution_count": 6,
   "metadata": {
    "slideshow": {
     "slide_type": "skip"
    }
   },
   "outputs": [
    {
     "data": {
      "text/plain": [
       "[Cards(rank='2', suit='spade'),\n",
       " Cards(rank='3', suit='spade'),\n",
       " Cards(rank='4', suit='spade'),\n",
       " Cards(rank='5', suit='spade'),\n",
       " Cards(rank='6', suit='spade'),\n",
       " Cards(rank='7', suit='spade'),\n",
       " Cards(rank='8', suit='spade'),\n",
       " Cards(rank='9', suit='spade'),\n",
       " Cards(rank='10', suit='spade'),\n",
       " Cards(rank='J', suit='spade'),\n",
       " Cards(rank='K', suit='spade'),\n",
       " Cards(rank='Q', suit='spade'),\n",
       " Cards(rank='A', suit='spade'),\n",
       " Cards(rank='2', suit='diamond'),\n",
       " Cards(rank='3', suit='diamond'),\n",
       " Cards(rank='4', suit='diamond'),\n",
       " Cards(rank='5', suit='diamond'),\n",
       " Cards(rank='6', suit='diamond'),\n",
       " Cards(rank='7', suit='diamond'),\n",
       " Cards(rank='8', suit='diamond'),\n",
       " Cards(rank='9', suit='diamond'),\n",
       " Cards(rank='10', suit='diamond'),\n",
       " Cards(rank='J', suit='diamond'),\n",
       " Cards(rank='K', suit='diamond'),\n",
       " Cards(rank='Q', suit='diamond'),\n",
       " Cards(rank='A', suit='diamond'),\n",
       " Cards(rank='2', suit='club'),\n",
       " Cards(rank='3', suit='club'),\n",
       " Cards(rank='4', suit='club'),\n",
       " Cards(rank='5', suit='club'),\n",
       " Cards(rank='6', suit='club'),\n",
       " Cards(rank='7', suit='club'),\n",
       " Cards(rank='8', suit='club'),\n",
       " Cards(rank='9', suit='club'),\n",
       " Cards(rank='10', suit='club'),\n",
       " Cards(rank='J', suit='club'),\n",
       " Cards(rank='K', suit='club'),\n",
       " Cards(rank='Q', suit='club'),\n",
       " Cards(rank='A', suit='club'),\n",
       " Cards(rank='2', suit='heart'),\n",
       " Cards(rank='3', suit='heart'),\n",
       " Cards(rank='4', suit='heart'),\n",
       " Cards(rank='5', suit='heart'),\n",
       " Cards(rank='6', suit='heart'),\n",
       " Cards(rank='7', suit='heart'),\n",
       " Cards(rank='8', suit='heart'),\n",
       " Cards(rank='9', suit='heart'),\n",
       " Cards(rank='10', suit='heart'),\n",
       " Cards(rank='J', suit='heart'),\n",
       " Cards(rank='K', suit='heart'),\n",
       " Cards(rank='Q', suit='heart'),\n",
       " Cards(rank='A', suit='heart')]"
      ]
     },
     "execution_count": 6,
     "metadata": {},
     "output_type": "execute_result"
    }
   ],
   "source": [
    "[Card(rank, suit) for suit in \"spade diamond club heart\".split() for rank in [str(n) for n in range(2,11)] + list('JKQA')]"
   ]
  },
  {
   "cell_type": "code",
   "execution_count": 7,
   "metadata": {
    "slideshow": {
     "slide_type": "fragment"
    }
   },
   "outputs": [],
   "source": [
    "class FrenchDeck:\n",
    "    ranks = [str(n) for n in range(2,11)] + list('JKQA')\n",
    "    suits = \"spade diamond club heart\".split()\n",
    "    \n",
    "    def __init__(self):\n",
    "        # composition: there are items IN this class that constitute its structure\n",
    "        # delegation: the storage for this class is DELEGATED to this list below\n",
    "        self._cards = [Card(rank, suit) for suit in self.suits for rank in self.ranks]\n",
    "        \n",
    "    def __len__(self):\n",
    "        return len(self._cards)\n",
    "    \n",
    "    def __getitem__(self, position):\n",
    "        return self._cards[position]"
   ]
  },
  {
   "cell_type": "code",
   "execution_count": 8,
   "metadata": {
    "slideshow": {
     "slide_type": "subslide"
    }
   },
   "outputs": [],
   "source": [
    "class FrenchDeck:\n",
    "    ranks = [str(n) for n in range(2,11)] + list('JKQA')\n",
    "    suits=\"spade diamond club heart\".split()\n",
    "    \n",
    "    def __init__(self):\n",
    "        # composition: there are items IN this class that constutute its structure\n",
    "        # delegation: the storage for this class is DELEGATED to this list below\n",
    "        self._cards = [Card(rank, suit) for suit in self.suits for rank in self.ranks]\n",
    "        \n",
    "    def __len__(self):\n",
    "        return len(self._cards)\n",
    "    \n",
    "    def __getitem__(self, position):\n",
    "        return self._cards[position]"
   ]
  },
  {
   "cell_type": "code",
   "execution_count": 9,
   "metadata": {
    "slideshow": {
     "slide_type": "fragment"
    }
   },
   "outputs": [
    {
     "data": {
      "text/plain": [
       "52"
      ]
     },
     "execution_count": 9,
     "metadata": {},
     "output_type": "execute_result"
    }
   ],
   "source": [
    "deck = FrenchDeck()\n",
    "len(deck)"
   ]
  },
  {
   "cell_type": "code",
   "execution_count": 10,
   "metadata": {
    "slideshow": {
     "slide_type": "fragment"
    }
   },
   "outputs": [
    {
     "data": {
      "text/plain": [
       "(Cards(rank='2', suit='spade'),\n",
       " Cards(rank='A', suit='heart'),\n",
       " Cards(rank='5', suit='spade'))"
      ]
     },
     "execution_count": 10,
     "metadata": {},
     "output_type": "execute_result"
    }
   ],
   "source": [
    "deck[0], deck[-1], deck[3]"
   ]
  },
  {
   "cell_type": "code",
   "execution_count": 11,
   "metadata": {
    "slideshow": {
     "slide_type": "fragment"
    }
   },
   "outputs": [
    {
     "data": {
      "text/plain": [
       "[Cards(rank='K', suit='spade'),\n",
       " Cards(rank='Q', suit='spade'),\n",
       " Cards(rank='A', suit='spade'),\n",
       " Cards(rank='2', suit='diamond'),\n",
       " Cards(rank='3', suit='diamond')]"
      ]
     },
     "execution_count": 11,
     "metadata": {},
     "output_type": "execute_result"
    }
   ],
   "source": [
    "deck[10:15]"
   ]
  },
  {
   "cell_type": "markdown",
   "metadata": {
    "slideshow": {
     "slide_type": "subslide"
    }
   },
   "source": [
    "* The `FrenchDeck` class supports the sequence protocol\n",
    "* As a result, we can use functions like [`random.choice`](https://docs.python.org/3/library/random.html#functions-for-sequences) *directly* on instances of `FrenchDeck`. \n",
    "* This is the power of interfaces and the data model."
   ]
  },
  {
   "cell_type": "code",
   "execution_count": 12,
   "metadata": {
    "slideshow": {
     "slide_type": "fragment"
    }
   },
   "outputs": [
    {
     "data": {
      "text/plain": [
       "Cards(rank='3', suit='heart')"
      ]
     },
     "execution_count": 12,
     "metadata": {},
     "output_type": "execute_result"
    }
   ],
   "source": [
    "from random import choice\n",
    "choice(deck)"
   ]
  },
  {
   "cell_type": "markdown",
   "metadata": {
    "slideshow": {
     "slide_type": "slide"
    }
   },
   "source": [
    "## Building out our class: instances and classmethods\n",
    "At this point, you should feel comfortable with classes, special methods, and the `python` data model.\n",
    "\n",
    "We will take a short excursion to enhance our classes using `classmethods`.  We will also see `staticmethods` and regular `instance` methods.\n",
    "\n",
    "This part of the lecture is fully hands-on.  Please read and do the examples on your own and answer the questions at the end of the section."
   ]
  },
  {
   "cell_type": "markdown",
   "metadata": {
    "slideshow": {
     "slide_type": "subslide"
    }
   },
   "source": [
    "### A Favorite Example"
   ]
  },
  {
   "cell_type": "code",
   "execution_count": 13,
   "metadata": {
    "slideshow": {
     "slide_type": "fragment"
    }
   },
   "outputs": [],
   "source": [
    "class ComplexClass():\n",
    "    def __init__(self, a, b):\n",
    "        self.real = a\n",
    "        self.imaginary = b\n",
    "        \n",
    "    @classmethod\n",
    "    def make_complex(cls, a, b):\n",
    "        return cls(a, b)\n",
    "        \n",
    "    def __repr__(self):\n",
    "        class_name = type(self).__name__\n",
    "        return \"%s(real=%r, imaginary=%r)\" % (class_name, self.real, self.imaginary)\n",
    "        \n",
    "    def __eq__(self, other):\n",
    "        return (self.real == other.real) and (self.imaginary == other.imaginary)"
   ]
  },
  {
   "cell_type": "code",
   "execution_count": 14,
   "metadata": {
    "slideshow": {
     "slide_type": "fragment"
    }
   },
   "outputs": [
    {
     "data": {
      "text/plain": [
       "ComplexClass(real=1, imaginary=2)"
      ]
     },
     "execution_count": 14,
     "metadata": {},
     "output_type": "execute_result"
    }
   ],
   "source": [
    "c1 = ComplexClass(1,2)\n",
    "c1"
   ]
  },
  {
   "cell_type": "code",
   "execution_count": 15,
   "metadata": {
    "slideshow": {
     "slide_type": "subslide"
    }
   },
   "outputs": [],
   "source": [
    "class ComplexClass():\n",
    "    def __init__(self, a, b):\n",
    "        self.real = a\n",
    "        self.imaginary = b\n",
    "        \n",
    "    @classmethod\n",
    "    def make_complex(cls, a, b):\n",
    "        return cls(a, b)\n",
    "        \n",
    "    def __repr__(self):\n",
    "        class_name = type(self).__name__\n",
    "        return \"%s(real=%r, imaginary=%r)\" % (class_name, self.real, self.imaginary)\n",
    "        \n",
    "    def __eq__(self, other):\n",
    "        return (self.real == other.real) and (self.imaginary == other.imaginary)"
   ]
  },
  {
   "cell_type": "markdown",
   "metadata": {
    "slideshow": {
     "slide_type": "fragment"
    }
   },
   "source": [
    "`make_complex` is a class method. See how its signature is different above. It is a factory to produce instances."
   ]
  },
  {
   "cell_type": "code",
   "execution_count": 16,
   "metadata": {
    "slideshow": {
     "slide_type": "fragment"
    }
   },
   "outputs": [
    {
     "data": {
      "text/plain": [
       "ComplexClass(real=1, imaginary=2)"
      ]
     },
     "execution_count": 16,
     "metadata": {},
     "output_type": "execute_result"
    }
   ],
   "source": [
    "c2 = ComplexClass.make_complex(1,2)\n",
    "c2"
   ]
  },
  {
   "cell_type": "code",
   "execution_count": 17,
   "metadata": {
    "slideshow": {
     "slide_type": "fragment"
    }
   },
   "outputs": [
    {
     "data": {
      "text/plain": [
       "True"
      ]
     },
     "execution_count": 17,
     "metadata": {},
     "output_type": "execute_result"
    }
   ],
   "source": [
    "c1 == c2"
   ]
  },
  {
   "cell_type": "markdown",
   "metadata": {
    "slideshow": {
     "slide_type": "subslide"
    }
   },
   "source": [
    "#### The take-away\n",
    "* A `classmethod` has access to the actual class, but not the instance of the class"
   ]
  },
  {
   "cell_type": "markdown",
   "metadata": {
    "slideshow": {
     "slide_type": "subslide"
    }
   },
   "source": [
    "### Static Methods, Class Methods, Instance Methods\n",
    "\n",
    "What's really going on under the hood here?"
   ]
  },
  {
   "cell_type": "code",
   "execution_count": 18,
   "metadata": {
    "slideshow": {
     "slide_type": "subslide"
    }
   },
   "outputs": [],
   "source": [
    "# From fluent python\n",
    "class Demo():\n",
    "    @classmethod\n",
    "    def klassmeth(*args): # Class methods do not have to return an instance of the class\n",
    "        return args\n",
    "    \n",
    "    @staticmethod\n",
    "    def statmeth(*args): # This is just a regular function\n",
    "        return args\n",
    "    \n",
    "    def instmeth(*args): # This is a true blue instance method\n",
    "        return args\n",
    "    "
   ]
  },
  {
   "cell_type": "code",
   "execution_count": 19,
   "metadata": {
    "slideshow": {
     "slide_type": "fragment"
    }
   },
   "outputs": [
    {
     "name": "stdout",
     "output_type": "stream",
     "text": [
      "<class 'tuple'>\n"
     ]
    },
    {
     "data": {
      "text/plain": [
       "(1, 2)"
      ]
     },
     "execution_count": 19,
     "metadata": {},
     "output_type": "execute_result"
    }
   ],
   "source": [
    "sm = Demo.statmeth(1,2)\n",
    "print(type(sm))\n",
    "sm"
   ]
  },
  {
   "cell_type": "code",
   "execution_count": 20,
   "metadata": {
    "slideshow": {
     "slide_type": "subslide"
    }
   },
   "outputs": [],
   "source": [
    "# From fluent python\n",
    "class Demo():\n",
    "    @classmethod\n",
    "    def klassmeth(*args): # Class methods do not have to return an instance of the class\n",
    "        return args\n",
    "    \n",
    "    @staticmethod\n",
    "    def statmeth(*args): # This is just a regular function\n",
    "        return args\n",
    "    \n",
    "    def instmeth(*args): # This is a true blue instance method\n",
    "        return args"
   ]
  },
  {
   "cell_type": "code",
   "execution_count": 21,
   "metadata": {
    "slideshow": {
     "slide_type": "fragment"
    }
   },
   "outputs": [
    {
     "name": "stdout",
     "output_type": "stream",
     "text": [
      "<class 'tuple'>\n"
     ]
    },
    {
     "data": {
      "text/plain": [
       "(__main__.Demo, 1, 2)"
      ]
     },
     "execution_count": 21,
     "metadata": {},
     "output_type": "execute_result"
    }
   ],
   "source": [
    "cm = Demo.klassmeth(1,2)\n",
    "print(type(cm))\n",
    "cm"
   ]
  },
  {
   "cell_type": "code",
   "execution_count": 22,
   "metadata": {
    "slideshow": {
     "slide_type": "fragment"
    }
   },
   "outputs": [
    {
     "data": {
      "text/plain": [
       "(<__main__.Demo at 0x10bbd50f0>, 1, 2)"
      ]
     },
     "execution_count": 22,
     "metadata": {},
     "output_type": "execute_result"
    }
   ],
   "source": [
    "ademo = Demo()\n",
    "Demo.instmeth(ademo, 1,2)"
   ]
  },
  {
   "cell_type": "code",
   "execution_count": 23,
   "metadata": {
    "slideshow": {
     "slide_type": "fragment"
    }
   },
   "outputs": [
    {
     "data": {
      "text/plain": [
       "(<__main__.Demo at 0x10bbd50f0>, 1, 2)"
      ]
     },
     "execution_count": 23,
     "metadata": {},
     "output_type": "execute_result"
    }
   ],
   "source": [
    "ademo.instmeth(1,2)"
   ]
  },
  {
   "cell_type": "markdown",
   "metadata": {
    "slideshow": {
     "slide_type": "fragment"
    }
   },
   "source": [
    "[PythonTutor Example](https://goo.gl/Q9UNK2)"
   ]
  },
  {
   "cell_type": "markdown",
   "metadata": {
    "slideshow": {
     "slide_type": "subslide"
    }
   },
   "source": [
    "### Class variables and instance variables\n",
    "\n"
   ]
  },
  {
   "cell_type": "code",
   "execution_count": 24,
   "metadata": {
    "scrolled": true,
    "slideshow": {
     "slide_type": "fragment"
    }
   },
   "outputs": [
    {
     "name": "stdout",
     "output_type": "stream",
     "text": [
      "1 1\n",
      "1 2\n"
     ]
    }
   ],
   "source": [
    "class Demo2():\n",
    "    classvar = 1\n",
    "      \n",
    "ademo2 = Demo2()\n",
    "print(Demo2.classvar, ademo2.classvar)\n",
    "\n",
    "ademo2.classvar = 2 # Different from the classvar above\n",
    "print(Demo2.classvar, ademo2.classvar)"
   ]
  },
  {
   "cell_type": "markdown",
   "metadata": {
    "slideshow": {
     "slide_type": "fragment"
    }
   },
   "source": [
    "[PythonTutor Example](https://goo.gl/3HnEGZ)"
   ]
  },
  {
   "cell_type": "markdown",
   "metadata": {
    "slideshow": {
     "slide_type": "subslide"
    }
   },
   "source": [
    "### Exercise Statement\n",
    "You have a `Dog` class as shown below.  The constructor sets up an instance of the class and specifies a list of dog colors and any special abilities.  For example, a black lab color list would simply read `['black']` and the special abilities might be the string `'retrieving'`."
   ]
  },
  {
   "cell_type": "code",
   "execution_count": 25,
   "metadata": {
    "slideshow": {
     "slide_type": "fragment"
    }
   },
   "outputs": [],
   "source": [
    "class Dog:\n",
    "    def __init__(self, breed, colors, special=None):\n",
    "        self.breed = breed\n",
    "        self.colors = colors\n",
    "        self.special = special"
   ]
  },
  {
   "cell_type": "markdown",
   "metadata": {
    "slideshow": {
     "slide_type": "fragment"
    }
   },
   "source": [
    "Suppose you're reading in some data about dog breeds and for some reason you want to create instances of each breed.  You might do something like:"
   ]
  },
  {
   "cell_type": "code",
   "execution_count": 26,
   "metadata": {
    "slideshow": {
     "slide_type": "fragment"
    }
   },
   "outputs": [
    {
     "data": {
      "text/plain": [
       "{'breed': 'lab', 'colors': ['black'], 'special': 'retrieving'}"
      ]
     },
     "execution_count": 26,
     "metadata": {},
     "output_type": "execute_result"
    }
   ],
   "source": [
    "my_dog = Dog('lab', ['black'], 'retrieving')\n",
    "vars(my_dog)"
   ]
  },
  {
   "cell_type": "markdown",
   "metadata": {
    "slideshow": {
     "slide_type": "fragment"
    }
   },
   "source": [
    "Of course, every time you need a `lab` instance, you would need to remember these arguments.  Instead, you could use `classmethods` as a factory to generate objects that you want.  This may be useful as a pre-processing step in some workflow."
   ]
  },
  {
   "cell_type": "markdown",
   "metadata": {
    "slideshow": {
     "slide_type": "subslide"
    }
   },
   "source": [
    "### Exercise Task\n",
    "Include a `classmethod` in the `Dog` class for a beagle (or any other dog of your choosing).  Here's how it should work:\n",
    "```python\n",
    "my_dog = Dog.beagle()\n",
    "print((my_dog)) # returns <__main__.Dog object at 0x10a4bc320>\n",
    "print(vars(my_dog)) # returns {'colors': ['black', 'white', 'brown'], 'special': 'hunting'}\n",
    "```"
   ]
  },
  {
   "cell_type": "markdown",
   "metadata": {
    "slideshow": {
     "slide_type": "slide"
    }
   },
   "source": [
    "## Code and Data for objects"
   ]
  },
  {
   "cell_type": "code",
   "execution_count": 29,
   "metadata": {
    "slideshow": {
     "slide_type": "fragment"
    }
   },
   "outputs": [],
   "source": [
    "class A(object):\n",
    "    \n",
    "    def __init__(self, x):\n",
    "        self.x = x\n",
    "        \n",
    "    def doit(self, y):\n",
    "        return self.x + y"
   ]
  },
  {
   "cell_type": "markdown",
   "metadata": {
    "slideshow": {
     "slide_type": "subslide"
    }
   },
   "source": [
    "`dir` for classes contains the names of its attributes, and recursively of the attributes of its bases."
   ]
  },
  {
   "cell_type": "code",
   "execution_count": 30,
   "metadata": {
    "slideshow": {
     "slide_type": "fragment"
    }
   },
   "outputs": [
    {
     "data": {
      "text/plain": [
       "['__class__',\n",
       " '__delattr__',\n",
       " '__dict__',\n",
       " '__dir__',\n",
       " '__doc__',\n",
       " '__eq__',\n",
       " '__format__',\n",
       " '__ge__',\n",
       " '__getattribute__',\n",
       " '__gt__',\n",
       " '__hash__',\n",
       " '__init__',\n",
       " '__init_subclass__',\n",
       " '__le__',\n",
       " '__lt__',\n",
       " '__module__',\n",
       " '__ne__',\n",
       " '__new__',\n",
       " '__reduce__',\n",
       " '__reduce_ex__',\n",
       " '__repr__',\n",
       " '__setattr__',\n",
       " '__sizeof__',\n",
       " '__str__',\n",
       " '__subclasshook__',\n",
       " '__weakref__',\n",
       " 'doit']"
      ]
     },
     "execution_count": 30,
     "metadata": {},
     "output_type": "execute_result"
    }
   ],
   "source": [
    "dir(A)"
   ]
  },
  {
   "cell_type": "markdown",
   "metadata": {
    "slideshow": {
     "slide_type": "subslide"
    }
   },
   "source": [
    "`vars` on an object gets the contents of a special attribute called `__dict__`."
   ]
  },
  {
   "cell_type": "code",
   "execution_count": 31,
   "metadata": {
    "slideshow": {
     "slide_type": "fragment"
    }
   },
   "outputs": [
    {
     "data": {
      "text/plain": [
       "mappingproxy({'__dict__': <attribute '__dict__' of 'A' objects>,\n",
       "              '__doc__': None,\n",
       "              '__init__': <function __main__.A.__init__>,\n",
       "              '__module__': '__main__',\n",
       "              '__weakref__': <attribute '__weakref__' of 'A' objects>,\n",
       "              'doit': <function __main__.A.doit>})"
      ]
     },
     "execution_count": 31,
     "metadata": {},
     "output_type": "execute_result"
    }
   ],
   "source": [
    "vars(A)"
   ]
  },
  {
   "cell_type": "markdown",
   "metadata": {
    "slideshow": {
     "slide_type": "subslide"
    }
   },
   "source": [
    "Let's make an instance of `A`."
   ]
  },
  {
   "cell_type": "code",
   "execution_count": 32,
   "metadata": {
    "slideshow": {
     "slide_type": "fragment"
    }
   },
   "outputs": [],
   "source": [
    "a = A(5)"
   ]
  },
  {
   "cell_type": "markdown",
   "metadata": {
    "slideshow": {
     "slide_type": "subslide"
    }
   },
   "source": [
    "`dir` again:"
   ]
  },
  {
   "cell_type": "code",
   "execution_count": 33,
   "metadata": {
    "slideshow": {
     "slide_type": "fragment"
    }
   },
   "outputs": [
    {
     "data": {
      "text/plain": [
       "['__class__',\n",
       " '__delattr__',\n",
       " '__dict__',\n",
       " '__dir__',\n",
       " '__doc__',\n",
       " '__eq__',\n",
       " '__format__',\n",
       " '__ge__',\n",
       " '__getattribute__',\n",
       " '__gt__',\n",
       " '__hash__',\n",
       " '__init__',\n",
       " '__init_subclass__',\n",
       " '__le__',\n",
       " '__lt__',\n",
       " '__module__',\n",
       " '__ne__',\n",
       " '__new__',\n",
       " '__reduce__',\n",
       " '__reduce_ex__',\n",
       " '__repr__',\n",
       " '__setattr__',\n",
       " '__sizeof__',\n",
       " '__str__',\n",
       " '__subclasshook__',\n",
       " '__weakref__',\n",
       " 'doit',\n",
       " 'x']"
      ]
     },
     "execution_count": 33,
     "metadata": {},
     "output_type": "execute_result"
    }
   ],
   "source": [
    "dir(a)"
   ]
  },
  {
   "cell_type": "markdown",
   "metadata": {
    "slideshow": {
     "slide_type": "subslide"
    }
   },
   "source": [
    "`var` again:"
   ]
  },
  {
   "cell_type": "code",
   "execution_count": 34,
   "metadata": {
    "slideshow": {
     "slide_type": "fragment"
    }
   },
   "outputs": [
    {
     "data": {
      "text/plain": [
       "{'x': 5}"
      ]
     },
     "execution_count": 34,
     "metadata": {},
     "output_type": "execute_result"
    }
   ],
   "source": [
    "vars(a)"
   ]
  },
  {
   "cell_type": "markdown",
   "metadata": {
    "slideshow": {
     "slide_type": "subslide"
    }
   },
   "source": [
    "There is some kind of a table implementation for Python objects (it's written in C). \n",
    "\n",
    "This implementation allows us to look for attributes and methods, and if not found look elsewhere. \n",
    "\n",
    "The exact details are complex, using descriptors and other lookups, and we'll tackle them in more detail later (hopefully). \n",
    "\n",
    "But currently it suffices us to know that lookup first happens in the instance table, followed by the class table (methods) and if not there somewhere up in the inheritance hierarchy."
   ]
  },
  {
   "cell_type": "code",
   "execution_count": 35,
   "metadata": {
    "slideshow": {
     "slide_type": "skip"
    }
   },
   "outputs": [
    {
     "data": {
      "text/plain": [
       "(type, __main__.A)"
      ]
     },
     "execution_count": 35,
     "metadata": {},
     "output_type": "execute_result"
    }
   ],
   "source": [
    "A.__class__, a.__class__"
   ]
  },
  {
   "cell_type": "markdown",
   "metadata": {
    "slideshow": {
     "slide_type": "slide"
    }
   },
   "source": [
    "# Creating Packages from `Python` Code"
   ]
  },
  {
   "cell_type": "markdown",
   "metadata": {
    "slideshow": {
     "slide_type": "subslide"
    }
   },
   "source": [
    "## Module Recap\n",
    "* Import a module with the `import` statement\n",
    "  ```python\n",
    "     import mymod\n",
    "  ```"
   ]
  },
  {
   "cell_type": "markdown",
   "metadata": {
    "slideshow": {
     "slide_type": "fragment"
    }
   },
   "source": [
    "* Here's how `Python` searches for a module once it's imported:\n",
    "  1. The interpreter searches for a built-in module with that name.\n",
    "  2. If no built-in module exists with that name, then the interpreter searches for the name in the list of directories in the `sys.path` variable.\n",
    "  3. If the requested name can't be found, an `ImportError` exception is thrown."
   ]
  },
  {
   "cell_type": "markdown",
   "metadata": {
    "slideshow": {
     "slide_type": "subslide"
    }
   },
   "source": [
    "## The Many Ways to Import\n",
    "Suppose your module contains some methods called `myf1`, `myf2`, and so on.\n",
    "\n",
    "There are a variety of ways to import the module and its methods.  Here are a few along with their uses:\n",
    "\n",
    "```python\n",
    "import mymod as new_name # rename mymod\n",
    "new_name.myf1() # access myf1() method in mymod via new_name\n",
    "```"
   ]
  },
  {
   "cell_type": "markdown",
   "metadata": {
    "slideshow": {
     "slide_type": "fragment"
    }
   },
   "source": [
    "```python\n",
    "from mymod import myf1 # Just import myf1() from mymod\n",
    "myf1() # Direct use\n",
    "```"
   ]
  },
  {
   "cell_type": "markdown",
   "metadata": {
    "slideshow": {
     "slide_type": "fragment"
    }
   },
   "source": [
    "```python\n",
    "from mymod import myf1 as new_f # Import myf1 from mymod and rename\n",
    "new_f() # Direct use\n",
    "```"
   ]
  },
  {
   "cell_type": "markdown",
   "metadata": {
    "slideshow": {
     "slide_type": "fragment"
    }
   },
   "source": [
    "```python\n",
    "from mymod import * # Make all methods and objects in mymod directly accessible!\n",
    "myf2()              # (Except for objects with leading underscores)\n",
    "```"
   ]
  },
  {
   "cell_type": "markdown",
   "metadata": {
    "slideshow": {
     "slide_type": "subslide"
    }
   },
   "source": [
    "## Comments on Importing\n",
    "* Generally a very bad idea to do `from mymod import *`.  Can lead to name clashes!\n",
    "* `from mymod import myf1` is also dangerous if you're not careful."
   ]
  },
  {
   "cell_type": "markdown",
   "metadata": {
    "slideshow": {
     "slide_type": "fragment"
    }
   },
   "source": [
    "* Recommendation:  Just do `import mymod` or `import mymod as new_name` unless you have a very good reason for doing otherwise."
   ]
  },
  {
   "cell_type": "markdown",
   "metadata": {
    "slideshow": {
     "slide_type": "fragment"
    }
   },
   "source": [
    "Where to put the `import` statements?  A common convention is:\n",
    "\n",
    "* After the module's documentation.\n",
    "* First import standard library modules.\n",
    "* Then import their-party library modules.\n",
    "* Then import your own modules."
   ]
  },
  {
   "cell_type": "markdown",
   "metadata": {
    "slideshow": {
     "slide_type": "subslide"
    }
   },
   "source": [
    "## Modules and Packages\n",
    "* So far, you made a toy module in your homework."
   ]
  },
  {
   "cell_type": "markdown",
   "metadata": {
    "slideshow": {
     "slide_type": "fragment"
    }
   },
   "source": [
    "* For larger projects, you will have multiple modules."
   ]
  },
  {
   "cell_type": "markdown",
   "metadata": {
    "slideshow": {
     "slide_type": "fragment"
    }
   },
   "source": [
    "* A collection of multiple modules is called a package."
   ]
  },
  {
   "cell_type": "markdown",
   "metadata": {
    "slideshow": {
     "slide_type": "subslide"
    }
   },
   "source": [
    "### Why multiple modules?\n",
    "Having multiple modules helps with code organization.\n",
    "```\n",
    "physics_code/\n",
    "             __init__.py  \n",
    "             preprocessing/\n",
    "                           __init__.py\n",
    "                           parse_xml_inputs.py\n",
    "                           parse_txt_inputs.py\n",
    "                           ...\n",
    "             solvers/\n",
    "                     __init__.py\n",
    "                     time_integrators.py\n",
    "                     discretization.py\n",
    "                     linear_solvers.py\n",
    "                     ...\n",
    "             postprocessing/\n",
    "                            __init__.py\n",
    "                            write_hdf5.py\n",
    "                            write_txt.py\n",
    "                            ...\n",
    "                            stat_utils/\n",
    "                                       __init__.py\n",
    "                                       ...\n",
    "                            viz/\n",
    "                                __init__.py\n",
    "                                line_plots.py\n",
    "                                ...\n",
    "             tests/\n",
    "                   ...\n",
    "```"
   ]
  },
  {
   "cell_type": "markdown",
   "metadata": {
    "slideshow": {
     "slide_type": "subslide"
    }
   },
   "source": [
    "## What is `__init__.py`?"
   ]
  },
  {
   "cell_type": "markdown",
   "metadata": {
    "slideshow": {
     "slide_type": "fragment"
    }
   },
   "source": [
    "* Used for package initialization-time actions."
   ]
  },
  {
   "cell_type": "markdown",
   "metadata": {
    "slideshow": {
     "slide_type": "fragment"
    }
   },
   "source": [
    "* Generates a module namespace for a directory."
   ]
  },
  {
   "cell_type": "markdown",
   "metadata": {
    "slideshow": {
     "slide_type": "fragment"
    }
   },
   "source": [
    "* Implements the `from *` behavior.\n",
    "  - This is done using `__all__` lists.\n",
    "  - e.g. include the line `__all__ = [\"mod1\", \"mod2\", ..., \"modN\"]`"
   ]
  },
  {
   "cell_type": "markdown",
   "metadata": {
    "slideshow": {
     "slide_type": "subslide"
    }
   },
   "source": [
    "### More Practical Comments on `__init__.py`\n",
    "* Usually completely empty"
   ]
  },
  {
   "cell_type": "markdown",
   "metadata": {
    "slideshow": {
     "slide_type": "fragment"
    }
   },
   "source": [
    "* They help prevent diretories with common names from hiding true modules"
   ]
  },
  {
   "cell_type": "markdown",
   "metadata": {
    "slideshow": {
     "slide_type": "fragment"
    }
   },
   "source": [
    "* The first time `Python` imports through a directory, it runs the code in `__init__.py`."
   ]
  },
  {
   "cell_type": "markdown",
   "metadata": {
    "slideshow": {
     "slide_type": "subslide"
    }
   },
   "source": [
    "## Working With Packages\n",
    "* Once you have your directory structure set up (with the `__init_.py` files), you are ready to use the package."
   ]
  },
  {
   "cell_type": "markdown",
   "metadata": {
    "slideshow": {
     "slide_type": "fragment"
    }
   },
   "source": [
    "* Suppose your directory structure is:\n",
    "```\n",
    "dir\\\n",
    "     driver.py\n",
    "     package\\\n",
    "             __init__.py\n",
    "             subdir1\\\n",
    "                     __init__.py\n",
    "                     s1mod1.py\n",
    "                     s1mod2.py\n",
    "             subdir2\\\n",
    "                     __init__.py\n",
    "                     s2mod1.py\n",
    "                     s2mod2.py\n",
    "```\n",
    "* Now, `driver.py` can make use of the package by simple imports."
   ]
  },
  {
   "cell_type": "markdown",
   "metadata": {
    "slideshow": {
     "slide_type": "fragment"
    }
   },
   "source": [
    "```python\n",
    "# driver.py\n",
    "import package.subdir1.s1mod1.py as s1mod1\n",
    "s1mod1.method()\n",
    "...\n",
    "```"
   ]
  },
  {
   "cell_type": "markdown",
   "metadata": {
    "slideshow": {
     "slide_type": "subslide"
    }
   },
   "source": [
    "### Notes on `__name__`\n",
    "* The variable `__name__` is created whenever a `.py` file is run and is set to the string `\"__main__\"`.\n",
    "* However, when a module is imported, `__name__` is set to the module's name.\n",
    "* Hence, if the module is not being run as a `Python` script, the `if` statement will not be executed."
   ]
  },
  {
   "cell_type": "markdown",
   "metadata": {
    "slideshow": {
     "slide_type": "subslide"
    }
   },
   "source": [
    "### Additional Information\n",
    "As with most things `Python`, you can simply consult the excellent documentation:  [`Python` Modules](https://docs.python.org/3/tutorial/modules.html).\n",
    "* Absolute vs. Relative imports\n",
    "* Compiled `Python` files"
   ]
  },
  {
   "cell_type": "markdown",
   "metadata": {
    "slideshow": {
     "slide_type": "subslide"
    }
   },
   "source": [
    "## Illustrative Example\n",
    "Consider the following directory structure:\n",
    "```\n",
    "dir1\\\n",
    "     __init__.py\n",
    "     dir2/\n",
    "          __init__.py\n",
    "          mymod.py\n",
    "```"
   ]
  },
  {
   "cell_type": "markdown",
   "metadata": {
    "slideshow": {
     "slide_type": "fragment"
    }
   },
   "source": [
    "Here is what is in each file:\n",
    "\n",
    "```python\n",
    "# dir1/__init__.py\n",
    "print(\"Initializing dir1/\")\n",
    "```\n",
    "\n",
    "```python\n",
    "# dir2/__init__.py\n",
    "print(\"Initializing dir2/\")\n",
    "```\n",
    "\n",
    "```python\n",
    "# dir2/mod.py\n",
    "my_name = \"David\"\n",
    "```"
   ]
  },
  {
   "cell_type": "markdown",
   "metadata": {
    "slideshow": {
     "slide_type": "subslide"
    }
   },
   "source": [
    "### Outputs\n",
    "* If I work from the command line in the container of `dir1`, I can see various things happen.\n",
    "\n",
    "```\n",
    ">>> import dir1.dir2.mod\n",
    "Initializing dir1/\n",
    "Initializing dir2/\n",
    ">>> dir1.dir2.mod.name\n",
    "'David'\n",
    ">>> import dir1.dir2.mod as mod\n",
    ">>> mod.name\n",
    "'David'\n",
    "```"
   ]
  },
  {
   "cell_type": "markdown",
   "metadata": {
    "slideshow": {
     "slide_type": "subslide"
    }
   },
   "source": [
    "## Creating and Distributing Packages\n",
    "At this point, you know how to create packages in `Python` and the basics of how things fit together."
   ]
  },
  {
   "cell_type": "markdown",
   "metadata": {
    "slideshow": {
     "slide_type": "fragment"
    }
   },
   "source": [
    "Ultimately, you want to be able to distribute your package to other people."
   ]
  },
  {
   "cell_type": "markdown",
   "metadata": {
    "slideshow": {
     "slide_type": "fragment"
    }
   },
   "source": [
    "There are a number of ways to do this:\n",
    "* [PyScaffold](https://pyscaffold.readthedocs.io/en/v2.5.8/index.html)\n",
    "  - It sets up the entire infrastructure for you.\n",
    "  - That's great, but you might not understand all the details.\n",
    "* [Packaging and Distributing Projects](https://packaging.python.org/tutorials/distributing-packages/)\n",
    "  - Fantastic documentation covering the meaning of everything.\n",
    "* [How To Package Your Python Code](http://python-packaging.readthedocs.io/en/latest/index.html)\n",
    "  - Excellent tutorial on packaging.\n",
    "* [Tensor Basis Neural Network](https://github.com/tbnn/tbnn)\n",
    "  - Real world example.\n",
    "* [How to package a python application to make it pip-installable](https://marthall.github.io/blog/how-to-package-a-python-app/)\n",
    "  - Bare-bones example.\n",
    "* [Submitting a Python package with GitHub and PyPI](http://sherifsoliman.com/2016/09/30/Python-package-with-GitHub-PyPI/)\n",
    "  - Contains some extra details."
   ]
  },
  {
   "cell_type": "markdown",
   "metadata": {
    "slideshow": {
     "slide_type": "subslide"
    }
   },
   "source": [
    "### There Are So Many Options!\n",
    "* As you can see, you have many options on how to set up and distribute your package."
   ]
  },
  {
   "cell_type": "markdown",
   "metadata": {
    "slideshow": {
     "slide_type": "fragment"
    }
   },
   "source": [
    "* I will give you broad freedom in how you do this, but your project *must* be easily installable."
   ]
  },
  {
   "cell_type": "markdown",
   "metadata": {
    "slideshow": {
     "slide_type": "fragment"
    }
   },
   "source": [
    "#### What does \"easiliy installable\" mean?\n",
    "* Using `pip` is great!  This would be the easiest for the user.\n",
    "* You are also welcome to host your project on `GitHub` and have the user manually install and test with `setup.py`.\n",
    "* Either way, your package should be installable *and* the user should be able to run the tests."
   ]
  }
 ],
 "metadata": {
  "celltoolbar": "Slideshow",
  "kernelspec": {
   "display_name": "Python 3",
   "language": "python",
   "name": "python3"
  },
  "language_info": {
   "codemirror_mode": {
    "name": "ipython",
    "version": 3
   },
   "file_extension": ".py",
   "mimetype": "text/x-python",
   "name": "python",
   "nbconvert_exporter": "python",
   "pygments_lexer": "ipython3",
   "version": "3.6.5"
  }
 },
 "nbformat": 4,
 "nbformat_minor": 1
}
