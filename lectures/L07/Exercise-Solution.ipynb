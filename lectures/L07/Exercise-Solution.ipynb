{
 "cells": [
  {
   "cell_type": "markdown",
   "metadata": {},
   "source": [
    "### Exercise Statement\n",
    "You have a `Dog` class as shown below.  The constructor sets up an instance of the class and specifies a list of dog colors and any special abilities.  For example, a black lab color list would simply read `['black']` and the special abilities might be the string `'retrieving'`."
   ]
  },
  {
   "cell_type": "code",
   "execution_count": 1,
   "metadata": {},
   "outputs": [],
   "source": [
    "class Dog:\n",
    "    def __init__(self, breed, colors, special=None):\n",
    "        self.breed = breed\n",
    "        self.colors = colors\n",
    "        self.special = special"
   ]
  },
  {
   "cell_type": "markdown",
   "metadata": {},
   "source": [
    "Suppose you're reading in some data about dog breeds and for some reason you want to create instances of each breed.  You might do something like:"
   ]
  },
  {
   "cell_type": "code",
   "execution_count": 2,
   "metadata": {},
   "outputs": [
    {
     "data": {
      "text/plain": [
       "{'breed': 'lab', 'colors': ['black'], 'special': 'retrieving'}"
      ]
     },
     "execution_count": 2,
     "metadata": {},
     "output_type": "execute_result"
    }
   ],
   "source": [
    "my_dog = Dog('lab', ['black'], 'retrieving')\n",
    "vars(my_dog)"
   ]
  },
  {
   "cell_type": "markdown",
   "metadata": {},
   "source": [
    "Of course, every time you need a `lab` instance, you would need to remember these arguments.  Instead, you could use `classmethods` as a factory to generate objects that you want.  This may be useful as a pre-processing step in some workflow."
   ]
  },
  {
   "cell_type": "markdown",
   "metadata": {},
   "source": [
    "### Exercise Task\n",
    "Include a `classmethod` in the `Dog` class for a beagle (or any other dog of your choosing).  Here's how it should work:\n",
    "```python\n",
    "my_dog = Dog.beagle()\n",
    "print((my_dog)) # returns <__main__.Dog object at 0x10a4bc320>\n",
    "print(vars(my_dog)) # returns {'colors': ['black', 'white', 'brown'], 'special': 'hunting'}\n",
    "```"
   ]
  },
  {
   "cell_type": "markdown",
   "metadata": {},
   "source": [
    "## Solution"
   ]
  },
  {
   "cell_type": "code",
   "execution_count": 1,
   "metadata": {},
   "outputs": [],
   "source": [
    "class Dog:\n",
    "    def __init__(self, breed, colors, special=None):\n",
    "        self.breed = breed\n",
    "        self.colors = colors\n",
    "        self.special = special\n",
    "    \n",
    "    @classmethod\n",
    "    def border_collie(cls):\n",
    "        return cls('border collie', ['black', 'white', 'brown', 'merle'], 'herding')\n",
    "    \n",
    "    @classmethod\n",
    "    def beagle(cls):\n",
    "        return cls('beagle', ['black', 'white', 'brown'], 'hunting')"
   ]
  },
  {
   "cell_type": "code",
   "execution_count": 2,
   "metadata": {},
   "outputs": [
    {
     "name": "stdout",
     "output_type": "stream",
     "text": [
      "<__main__.Dog object at 0x10d909630>\n",
      "{'breed': 'beagle', 'colors': ['black', 'white', 'brown'], 'special': 'hunting'}\n"
     ]
    }
   ],
   "source": [
    "my_dog = Dog.beagle()\n",
    "print((my_dog)) # returns <__main__.Dog object at 0x10a4bc320>\n",
    "print(vars(my_dog))"
   ]
  }
 ],
 "metadata": {
  "kernelspec": {
   "display_name": "Python 3",
   "language": "python",
   "name": "python3"
  },
  "language_info": {
   "codemirror_mode": {
    "name": "ipython",
    "version": 3
   },
   "file_extension": ".py",
   "mimetype": "text/x-python",
   "name": "python",
   "nbconvert_exporter": "python",
   "pygments_lexer": "ipython3",
   "version": "3.6.5"
  }
 },
 "nbformat": 4,
 "nbformat_minor": 2
}
