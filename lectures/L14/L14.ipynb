{
 "cells": [
  {
   "cell_type": "markdown",
   "metadata": {
    "slideshow": {
     "slide_type": "slide"
    }
   },
   "source": [
    "# Lecture 14\n",
    "\n",
    "## Thursday, October 18th 2018\n",
    "\n",
    "* Comments on security\n",
    "* Input Files\n",
    "  * XML\n",
    "  * YAML\n",
    "  * JSON\n",
    "* Comments on *pickling*"
   ]
  },
  {
   "cell_type": "code",
   "execution_count": null,
   "metadata": {
    "slideshow": {
     "slide_type": "skip"
    }
   },
   "outputs": [],
   "source": [
    "from IPython.display import HTML"
   ]
  },
  {
   "cell_type": "markdown",
   "metadata": {
    "slideshow": {
     "slide_type": "slide"
    }
   },
   "source": [
    "# Brief Comments on Security\n",
    "* Digital security is a HUGE field encompassing protection of identity, assests, and technology among other things\n",
    "* We will briefly discuss authentication, which touches on identity protection\n",
    "* How do you keep your, potentially sensitive, code secure?\n",
    "* It's not enough to make your repo private; someone could steal your password and get access to all your secret recipes\n",
    "* Multi-factor authentication is a proposed solution"
   ]
  },
  {
   "cell_type": "markdown",
   "metadata": {
    "slideshow": {
     "slide_type": "subslide"
    }
   },
   "source": [
    "## Multi-Factor Authentication\n",
    "* The basic motivation is centered on how to confirm someone's identity\n",
    "* Before a user is granted access to a resource, they must provided two or more pieces of evidence to an authentication mechanism\n",
    "* **Two-factor** authentication requires just two pieces of evidence\n",
    "  - Password\n",
    "  - Authentication code sent to the user from the authentication system\n",
    "* There are pros and cons to multi-factor authentication"
   ]
  },
  {
   "cell_type": "markdown",
   "metadata": {
    "slideshow": {
     "slide_type": "subslide"
    }
   },
   "source": [
    "## Comments on Two-Factor Authentication\n",
    "* Most of you have used two-factor authentication one way or another\n",
    "* *Gmail* now requires two-factor authentication for signing into email\n",
    "* Supercomputers often require two-factor authentication to login to the machine\n",
    "* Typical workflow:\n",
    "  - Enter password\n",
    "  - Receive a new passcode on your mobile device through an app that is connected to the authentication mechanism used by the service\n",
    "  - Enter new passcode to gain entry to the system"
   ]
  },
  {
   "cell_type": "markdown",
   "metadata": {
    "slideshow": {
     "slide_type": "subslide"
    }
   },
   "source": [
    "## Some pros and cons\n",
    "\n",
    "**Pros**\n",
    "* Provides an extra layer of security\n",
    "* As long as you have your phone, you can receive a secure passcode\n",
    "* Passcodes are randomly generated, so they change every time you want to login\n",
    "\n",
    "**Cons**: Relating to the common use of authentication via mobile phone\n",
    "* SMS messages can be intercepted\n",
    "* People lose their mobile phones; phones can also be stolen\n",
    "* Mobile phones aren't the most secure devices (e.g. email is always logged in)"
   ]
  },
  {
   "cell_type": "markdown",
   "metadata": {
    "slideshow": {
     "slide_type": "subslide"
    }
   },
   "source": [
    "## Two-factor authentication on `GitHub`\n",
    "* You may want to consider setting up two-factor authenticaton (2FA) for your `GitHub` account\n",
    "* Will help to start thinking about security in the real world\n",
    "* Here are some resources:\n",
    "  - [Securing your account with two-factor authentication (2FA)](https://help.github.com/articles/securing-your-account-with-two-factor-authentication-2fa/)\n",
    "  - [Two-factor authentication](https://blog.github.com/2013-09-03-two-factor-authentication/)\n",
    "  - [About two-factor authentication](https://help.github.com/articles/about-two-factor-authentication/)"
   ]
  },
  {
   "cell_type": "markdown",
   "metadata": {
    "slideshow": {
     "slide_type": "slide"
    }
   },
   "source": [
    "# Input Files and Parsing\n",
    "\n",
    "We usually want to read data into our software:\n",
    "* Input parameters to the code (e.g. time step, linear algebra solvers, physical parameters, etc)\n",
    "* Input fields (e.g. fields to visualize)\n",
    "* Calibration data\n",
    "* $\\vdots$\n",
    "\n",
    "This data can be provided by us, or the client, or come from a database somewhere.\n",
    "\n",
    "There are *many* ways of reading in and parsing data.  In fact, this is often a non-trivial exercise depending on the quality of the data as well as its size."
   ]
  },
  {
   "cell_type": "markdown",
   "metadata": {
    "slideshow": {
     "slide_type": "subslide"
    }
   },
   "source": [
    "## XML Intro"
   ]
  },
  {
   "cell_type": "markdown",
   "metadata": {
    "slideshow": {
     "slide_type": "fragment"
    }
   },
   "source": [
    "```xml\n",
    "<?xml version=\"1.0\"?>\n",
    "\n",
    "<ctml>\n",
    "\n",
    "    <reactionData id=\"test_mechanism\">\n",
    "\n",
    "        <!-- reaction 01  -->\n",
    "        <reaction reversible=\"yes\" type=\"Elementary\" id=\"reaction01\">\n",
    "            <equation>H + O2 [=] OH + O</equation>\n",
    "            <rateCoeff>\n",
    "                <Kooij>\n",
    "                    <A units=\"cm3/mol/s\">3.52e+16</A>\n",
    "                    <b>-0.7</b>\n",
    "                    <E units=\"kJ/mol\">71.4</E>\n",
    "                </Kooij>\n",
    "            </rateCoeff>\n",
    "            <reactants>H:1 O2:1</reactants>\n",
    "            <products>OH:1 O:1</products>\n",
    "        </reaction>\n",
    "\n",
    "        <!-- reaction 02 -->\n",
    "        <reaction reversible=\"yes\" type=\"Elementary\" id=\"reaction02\">\n",
    "            <equation>H2 + O [=] OH + H</equation>\n",
    "            <rateCoeff>\n",
    "                <Kooij>\n",
    "                    <A units=\"cm3/mol/s\">5.06e+4</A>\n",
    "                    <b>2.7</b>\n",
    "                    <E units=\"kJ/mol\">26.3</E>\n",
    "                </Kooij>\n",
    "            </rateCoeff>\n",
    "            <reactants>H2:1 O:1</reactants>\n",
    "            <products>OH:1 H:1</products>\n",
    "        </reaction>\n",
    "\n",
    "    </reactionData>\n",
    "\n",
    "</ctml>\n",
    "```"
   ]
  },
  {
   "cell_type": "markdown",
   "metadata": {
    "slideshow": {
     "slide_type": "subslide"
    }
   },
   "source": [
    "## What is XML?\n",
    "\n",
    "**Note:** Material presented here taken from the following sources\n",
    "* [https://www.w3schools.com/xml/default.asp](w3schools XML tutorial)\n",
    "* [https://docs.python.org/2/library/xml.etree.elementtree.html](`Python` `xml.etree.ElementTree` documentation)\n",
    "* [https://www.w3.org/TR/2008/REC-xml-20081126/](`XML` Documentation)\n",
    "* [https://en.wikipedia.org/wiki/XML](`XML` Wikipedia Page)\n",
    "\n",
    "Some basic `XML` comments:\n",
    "* XML stands for `Extensible Markup Language`\n",
    "* XML is just information wrapped in tags\n",
    "* It doesn't *do* anything per se\n",
    "* Its format is both machine- and human-readable"
   ]
  },
  {
   "cell_type": "markdown",
   "metadata": {
    "slideshow": {
     "slide_type": "subslide"
    }
   },
   "source": [
    "## Some Basic `XML` Anatomy\n",
    "\n",
    "```xml\n",
    "<!-- This is an XML comment -->\n",
    "<?xml version=\"1.0\" encoding=\"UTF-8\"?> <!-- This is the optional XML prolog -->\n",
    "\n",
    "<dogshelter> <!-- This is the root element -->\n",
    "    <dog id=\"dog1\"> <!-- This is the first child element.\n",
    "                         It has a `id` attribute -->\n",
    "        <name> Cloe </name> <!-- First subchild element -->\n",
    "        <age> 3 </age> <!-- Second subchild element -->\n",
    "        <breed> Border Collie </breed>\n",
    "        <playgroup> Yes </playgroup>\n",
    "    </dog>\n",
    "    <dog id=\"dog2\"> \n",
    "        <name> Karl </name> \n",
    "        <age> 7 </age>\n",
    "        <breed> Beagle </breed>\n",
    "        <playgroup> Yes </playgroup>\n",
    "    </dog>\n",
    "</dogshelter>\n",
    "```\n",
    "\n",
    "Note that all `XML` elements have a closing tag!"
   ]
  },
  {
   "cell_type": "markdown",
   "metadata": {
    "slideshow": {
     "slide_type": "subslide"
    }
   },
   "source": [
    "## Some More Basic `XML` Anatomy\n",
    "See [https://www.w3schools.com/xml/default.asp](w3schools XML tutorial) for a very nice summary of the essential `XML` rules.\n",
    "\n",
    "`XML` elements:  a few things to be aware of:\n",
    "* Elements can contain text, attributes, and other elements\n",
    "* `XML` names are case sensitive and cannot contain spaces\n",
    "* Be consistent in your naming convention\n",
    "\n",
    "`XML` attributes:  a few things to be aware of:\n",
    "* `XML` attributes must be in quotes\n",
    "* There are no rules about when to use elements or attributes\n",
    "  - You could make an attribute an element and it might read better\n",
    "* Rule of thumb:  Data should be stored as elements.  Metadata should be stored as attributes."
   ]
  },
  {
   "cell_type": "markdown",
   "metadata": {
    "slideshow": {
     "slide_type": "slide"
    }
   },
   "source": [
    "## Python and `XML`\n",
    "We will use the `ElementTree` class to read in and parse `XML` input files in `Python`.\n",
    "\n",
    "A very nice tutorial can be found in the [https://docs.python.org/2/library/xml.etree.elementtree.html#module-xml.etree.ElementTree](`Python` `ElementTree` documentation).\n",
    "\n",
    "We'll work with the `shelterdogs.xml` file to start."
   ]
  },
  {
   "cell_type": "code",
   "execution_count": null,
   "metadata": {
    "scrolled": true,
    "slideshow": {
     "slide_type": "fragment"
    }
   },
   "outputs": [],
   "source": [
    "import xml.etree.ElementTree as ET\n",
    "tree = ET.parse('shelterdogs.xml')\n",
    "dogshelter = tree.getroot()\n",
    "\n",
    "\n",
    "print(dogshelter)\n",
    "print(dogshelter.tag)\n",
    "print(dogshelter.attrib)"
   ]
  },
  {
   "cell_type": "markdown",
   "metadata": {
    "slideshow": {
     "slide_type": "subslide"
    }
   },
   "source": [
    "### Looping Over Child Elements"
   ]
  },
  {
   "cell_type": "code",
   "execution_count": null,
   "metadata": {
    "scrolled": true,
    "slideshow": {
     "slide_type": "fragment"
    }
   },
   "outputs": [],
   "source": [
    "for child in dogshelter:\n",
    "    print(child.tag, child.attrib)"
   ]
  },
  {
   "cell_type": "markdown",
   "metadata": {
    "slideshow": {
     "slide_type": "subslide"
    }
   },
   "source": [
    "### Accessing Children by Index"
   ]
  },
  {
   "cell_type": "code",
   "execution_count": null,
   "metadata": {
    "slideshow": {
     "slide_type": "fragment"
    }
   },
   "outputs": [],
   "source": [
    "print(dogshelter[0][0].text)"
   ]
  },
  {
   "cell_type": "code",
   "execution_count": null,
   "metadata": {
    "slideshow": {
     "slide_type": "fragment"
    }
   },
   "outputs": [],
   "source": [
    "print(dogshelter[1][0].text)"
   ]
  },
  {
   "cell_type": "code",
   "execution_count": null,
   "metadata": {
    "scrolled": true,
    "slideshow": {
     "slide_type": "fragment"
    }
   },
   "outputs": [],
   "source": [
    "print(dogshelter[0][2].text)"
   ]
  },
  {
   "cell_type": "markdown",
   "metadata": {
    "slideshow": {
     "slide_type": "subslide"
    }
   },
   "source": [
    "### The `Element.iter()` Method\n",
    "From the documentation:\n",
    "> Creates a tree iterator with the current element as the root. The iterator iterates over this element and all elements below it, in document (depth first) order. "
   ]
  },
  {
   "cell_type": "code",
   "execution_count": null,
   "metadata": {
    "slideshow": {
     "slide_type": "fragment"
    }
   },
   "outputs": [],
   "source": [
    "for age in dogshelter.iter('age'):\n",
    "    print(age.text)"
   ]
  },
  {
   "cell_type": "markdown",
   "metadata": {
    "slideshow": {
     "slide_type": "subslide"
    }
   },
   "source": [
    "### The `Element.findall()` Method\n",
    "From the documentation:\n",
    "> Finds all matching subelements, by tag name or path. Returns a list containing all matching elements in document order."
   ]
  },
  {
   "cell_type": "code",
   "execution_count": null,
   "metadata": {
    "scrolled": true,
    "slideshow": {
     "slide_type": "fragment"
    }
   },
   "outputs": [],
   "source": [
    "print(dogshelter.findall('dog'))"
   ]
  },
  {
   "cell_type": "code",
   "execution_count": null,
   "metadata": {
    "slideshow": {
     "slide_type": "subslide"
    }
   },
   "outputs": [],
   "source": [
    "for dog in dogshelter.findall('dog'): # Iterate over each child\n",
    "    print('ID:  {}'.format(dog.get('id'))) # Use the get() method to get the attribute of the child\n",
    "    print('----------')\n",
    "    \n",
    "    print('Name:  {}'.format(dog.find('name').text)) # Use the find() method to find a specific subchild\n",
    "\n",
    "    age = float(dog.find('age').text)\n",
    "    if (dog.find('age').attrib == 'months'):\n",
    "        years = age / 12.0\n",
    "        print('Age: {} years'.format(years))\n",
    "    else:\n",
    "        print('Age: {} years'.format(age))\n",
    "    \n",
    "    print('Breed: {}'.format(dog.find('breed').text))\n",
    "    \n",
    "    if (dog.find('playgroup').text.split()[0] == 'Yes'):\n",
    "        print('PLAYGROUP')\n",
    "    else:\n",
    "        print('NO PLAYGROUP')\n",
    "    print('\\n::::::::::::::::::::\\n')"
   ]
  },
  {
   "cell_type": "markdown",
   "metadata": {
    "slideshow": {
     "slide_type": "slide"
    }
   },
   "source": [
    "# What is JSON?\n",
    "* Stands for **JavaScript Object Notation**\n",
    "* It's actually language agnostic\n",
    "  - No need to learn JavaScript to use it\n",
    "* Like XML, it's a human-readable format"
   ]
  },
  {
   "cell_type": "markdown",
   "metadata": {
    "slideshow": {
     "slide_type": "subslide"
    }
   },
   "source": [
    "## Some Basic `JSON` Anatomy\n",
    "\n",
    "```json\n",
    "{\n",
    "    \"dogShelter\": \"MSPCA-Angell\",\n",
    "    \"dogs\": [\n",
    "        {\n",
    "            \"name\": \"Cloe\",\n",
    "            \"age\": 3,\n",
    "            \"breed\": \"Border Collie\",\n",
    "            \"attendPlaygroup\": \"Yes\"\n",
    "        },\n",
    "        {\n",
    "            \"name\": \"Karl\",\n",
    "            \"age\": 7,\n",
    "            \"breed\": \"Beagle\",\n",
    "            \"attendPlaygroup\": \"Yes\"\n",
    "        }\n",
    "    ]\n",
    "}\n",
    "\n",
    "```"
   ]
  },
  {
   "cell_type": "markdown",
   "metadata": {
    "slideshow": {
     "slide_type": "subslide"
    }
   },
   "source": [
    "## `JSON` and `Python`\n",
    "* `Python` supports `JSON` natively\n",
    "* Saving `Python` data to `JSON` format is called *serialization*\n",
    "* Loading a `JSON` file into `Python` data is called *deserialization*"
   ]
  },
  {
   "cell_type": "markdown",
   "metadata": {
    "slideshow": {
     "slide_type": "subslide"
    }
   },
   "source": [
    "## Deserialization\n",
    "Since we're interested in reading in some fancy input file, we'll begin by discussing deserialization.\n",
    "\n",
    "We'll work with the `shelterdogs.json` file."
   ]
  },
  {
   "cell_type": "code",
   "execution_count": null,
   "metadata": {
    "slideshow": {
     "slide_type": "fragment"
    }
   },
   "outputs": [],
   "source": [
    "import json\n",
    "with open (\"shelterdogs.json\", \"r\") as shelterdogs_file:\n",
    "    shelterdogs = json.load(shelterdogs_file)"
   ]
  },
  {
   "cell_type": "code",
   "execution_count": null,
   "metadata": {
    "slideshow": {
     "slide_type": "fragment"
    }
   },
   "outputs": [],
   "source": [
    "print(shelterdogs[\"dogs\"])"
   ]
  },
  {
   "cell_type": "code",
   "execution_count": null,
   "metadata": {
    "slideshow": {
     "slide_type": "fragment"
    }
   },
   "outputs": [],
   "source": [
    "print(type(shelterdogs))"
   ]
  },
  {
   "cell_type": "markdown",
   "metadata": {
    "slideshow": {
     "slide_type": "subslide"
    }
   },
   "source": [
    "### Comments on Deserialization\n",
    "That was pretty nice!  We got a `Python` dictionary out.  We sure know how to work with `Python` dictionaries."
   ]
  },
  {
   "cell_type": "markdown",
   "metadata": {
    "slideshow": {
     "slide_type": "subslide"
    }
   },
   "source": [
    "## Serialization\n",
    "You can also write data out to `JSON` format.  Let's just do a brief example."
   ]
  },
  {
   "cell_type": "code",
   "execution_count": null,
   "metadata": {
    "slideshow": {
     "slide_type": "fragment"
    }
   },
   "outputs": [],
   "source": [
    "somedogs = {\"shelterDogs\": [{\"name\": \"Cloe\", \"age\": 3, \"breed\": \"Border Collie\", \"attendPlaygroup\": \"Yes\"}, \n",
    "                           {\"name\": \"Karl\", \"age\": 7, \"breed\": \"Beagle\", \"attendPlaygroup\": \"Yes\"}]}"
   ]
  },
  {
   "cell_type": "code",
   "execution_count": null,
   "metadata": {
    "slideshow": {
     "slide_type": "fragment"
    }
   },
   "outputs": [],
   "source": [
    "with open(\"shelterdogs_write.json\", \"w\") as write_dogs:\n",
    "    json.dump(somedogs, write_dogs, indent=4)"
   ]
  },
  {
   "cell_type": "markdown",
   "metadata": {
    "slideshow": {
     "slide_type": "subslide"
    }
   },
   "source": [
    "## Some `JSON` References\n",
    "* [www.json.org](https://www.json.org/)\n",
    "* [Wikipedia page](https://en.wikipedia.org/wiki/JSON)\n",
    "* [Working with `JSON` data in `Python`](https://realpython.com/python-json/)\n",
    "* [w3schools `JSON` syntax](https://www.w3schools.com/js/js_json_syntax.asp)"
   ]
  },
  {
   "cell_type": "markdown",
   "metadata": {
    "slideshow": {
     "slide_type": "subslide"
    }
   },
   "source": [
    "# What is `YAML`?\n",
    "* The official website: [`YAML`](http://yaml.org/)\n",
    "* From the official website:\n",
    "  - `YAML` stands for YAML Ain't Markup Language\n",
    "    * Example of a [*recursive acronym*](https://en.wikipedia.org/wiki/Recursive_acronym) (like Linux!)\n",
    "  - \"What It Is:  YAML is a human friendly data serialization standard for all programming languages.\"\n",
    "* YAML is quite friendly to use and continues to gain in popularity"
   ]
  },
  {
   "cell_type": "markdown",
   "metadata": {
    "slideshow": {
     "slide_type": "subslide"
    }
   },
   "source": [
    "## `YAML` Anatomy\n",
    "```yaml\n",
    "shelterDogs:\n",
    "- {age: 3, attendPlaygroup: 'Yes', breed: Border Collie, name: Cloe}\n",
    "- {age: 7, attendPlaygroup: 'Yes', breed: Beagle, name: Karl}\n",
    "shelterStaff:\n",
    "- {Job: dogWalker, age: 100, name: Bob}\n",
    "- {Job: PlaygroupLeader, age: 47, name: Sally}\n",
    "```"
   ]
  },
  {
   "cell_type": "code",
   "execution_count": null,
   "metadata": {
    "slideshow": {
     "slide_type": "subslide"
    }
   },
   "outputs": [],
   "source": [
    "someshelter = {\"shelterDogs\": [{\"name\": \"Cloe\", \"age\": 3, \"breed\": \"Border Collie\", \"attendPlaygroup\": \"Yes\"}, \n",
    "                           {\"name\": \"Karl\", \"age\": 7, \"breed\": \"Beagle\", \"attendPlaygroup\": \"Yes\"}], \n",
    "               \"shelterStaff\": [{\"name\": \"Bob\", \"age\": 100, \"Job\": \"dogWalker\"}, \n",
    "                                {\"name\": \"Sally\", \"age\": 47, \"Job\": \"PlaygroupLeader\"}]}"
   ]
  },
  {
   "cell_type": "code",
   "execution_count": null,
   "metadata": {
    "slideshow": {
     "slide_type": "fragment"
    }
   },
   "outputs": [],
   "source": [
    "import yaml # Use conda install -c anaconda yaml if you need to install it\n",
    "print(yaml.dump(someshelter))"
   ]
  },
  {
   "cell_type": "markdown",
   "metadata": {
    "slideshow": {
     "slide_type": "subslide"
    }
   },
   "source": [
    "### Serialization"
   ]
  },
  {
   "cell_type": "code",
   "execution_count": null,
   "metadata": {
    "slideshow": {
     "slide_type": "fragment"
    }
   },
   "outputs": [],
   "source": [
    "with open(\"shelter_write.yaml\", \"w\") as write_dogs:\n",
    "    yaml.dump(someshelter, write_dogs)"
   ]
  },
  {
   "cell_type": "markdown",
   "metadata": {
    "slideshow": {
     "slide_type": "subslide"
    }
   },
   "source": [
    "### Deserialization"
   ]
  },
  {
   "cell_type": "code",
   "execution_count": null,
   "metadata": {
    "slideshow": {
     "slide_type": "fragment"
    }
   },
   "outputs": [],
   "source": [
    "with open (\"shelterdogs.yaml\", \"r\") as shelter_dogs:\n",
    "    some_shelter = yaml.load(shelter_dogs)"
   ]
  },
  {
   "cell_type": "code",
   "execution_count": null,
   "metadata": {
    "slideshow": {
     "slide_type": "fragment"
    }
   },
   "outputs": [],
   "source": [
    "print(some_shelter)"
   ]
  },
  {
   "cell_type": "code",
   "execution_count": null,
   "metadata": {
    "scrolled": true,
    "slideshow": {
     "slide_type": "fragment"
    }
   },
   "outputs": [],
   "source": [
    "print(some_shelter[\"shelterStaff\"])"
   ]
  },
  {
   "cell_type": "markdown",
   "metadata": {
    "slideshow": {
     "slide_type": "slide"
    }
   },
   "source": [
    "# What is `pickle`?\n",
    "* `Python` has it's own module for loading and writing `python` data\n",
    "* Part of the `python` standard library\n",
    "* Fast\n",
    "* Can store arbitrarily complex `Python` data structures"
   ]
  },
  {
   "cell_type": "markdown",
   "metadata": {
    "slideshow": {
     "slide_type": "subslide"
    }
   },
   "source": [
    "## Some caveats\n",
    "* `Python` specific:  no guarantee of cross-language compatibility\n",
    "* Not every `python` datastructure can be serialized by `pickle`\n",
    "* Older versions of `python` don't support newer serialization formats\n",
    "  - Lastest format can handle the most `python` datastructures\n",
    "  - They can also read in older datastructures\n",
    "  - Older formats cannot read in newer formats\n",
    "* Make sure to use *binary mode* when opening `pickle` files\n",
    "  - Data will get corrupted otherwise"
   ]
  },
  {
   "cell_type": "code",
   "execution_count": null,
   "metadata": {
    "slideshow": {
     "slide_type": "subslide"
    }
   },
   "outputs": [],
   "source": [
    "import pickle\n",
    "\n",
    "someshelter = {\"shelterDogs\": [{\"name\": \"Cloe\", \"age\": 3, \"breed\": \"Border Collie\", \"attendPlaygroup\": \"Yes\"}, \n",
    "                           {\"name\": \"Karl\", \"age\": 7, \"breed\": \"Beagle\", \"attendPlaygroup\": \"Yes\"}], \n",
    "               \"shelterStaff\": [{\"name\": \"Bob\", \"age\": 100, \"Job\": \"dogWalker\"}, \n",
    "                                {\"name\": \"Sally\", \"age\": 47, \"Job\": \"PlaygroupLeader\"}]}\n",
    "\n",
    "with open('data.pickle', 'wb') as f:\n",
    "    pickle.dump(someshelter, f, pickle.HIGHEST_PROTOCOL) # highest protocol is the most recent one"
   ]
  },
  {
   "cell_type": "code",
   "execution_count": null,
   "metadata": {
    "slideshow": {
     "slide_type": "fragment"
    }
   },
   "outputs": [],
   "source": [
    "with open('data.pickle', 'rb') as f:\n",
    "    data = pickle.load(f)\n",
    "\n",
    "print(data)"
   ]
  },
  {
   "cell_type": "code",
   "execution_count": null,
   "metadata": {
    "slideshow": {
     "slide_type": "fragment"
    }
   },
   "outputs": [],
   "source": [
    "%%bash\n",
    "cat \"data.pickle\""
   ]
  }
 ],
 "metadata": {
  "celltoolbar": "Slideshow",
  "kernelspec": {
   "display_name": "Python 3",
   "language": "python",
   "name": "python3"
  },
  "language_info": {
   "codemirror_mode": {
    "name": "ipython",
    "version": 3
   },
   "file_extension": ".py",
   "mimetype": "text/x-python",
   "name": "python",
   "nbconvert_exporter": "python",
   "pygments_lexer": "ipython3",
   "version": "3.6.6"
  }
 },
 "nbformat": 4,
 "nbformat_minor": 1
}
