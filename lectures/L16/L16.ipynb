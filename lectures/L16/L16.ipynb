{
 "cells": [
  {
   "cell_type": "markdown",
   "metadata": {
    "slideshow": {
     "slide_type": "slide"
    }
   },
   "source": [
    "# Lecture 16\n",
    "\n",
    "## Datastructures II\n",
    "\n",
    "### Thursday, October 25th 2018"
   ]
  },
  {
   "cell_type": "markdown",
   "metadata": {
    "slideshow": {
     "slide_type": "slide"
    }
   },
   "source": [
    "## Last time:\n",
    "* Data structures motivation\n",
    "* Abstract data types\n",
    "* Sequences\n",
    "* Linked lists\n",
    "\n",
    "## This time:\n",
    "* [Iterators and Iterables](https://docs.python.org/3/glossary.html#term-iterable)\n",
    "* Trees, B-trees, and BSTs"
   ]
  },
  {
   "cell_type": "markdown",
   "metadata": {
    "slideshow": {
     "slide_type": "slide"
    }
   },
   "source": [
    "# From pointers to iterators\n",
    "\n",
    "One can simply follow the `next` pointers to the next **position** in a linked list. \n",
    "\n",
    "This suggests an abstraction of the **position** to an **iterator**.\n",
    "\n",
    "Such an abstraction allows us to treat arrays and linked lists with an identical interface.\n",
    "\n",
    "The salient points of this abstraction are:\n",
    "- The notion of a `next`\n",
    "- The notion of a `first` to a `last`"
   ]
  },
  {
   "cell_type": "markdown",
   "metadata": {
    "slideshow": {
     "slide_type": "subslide"
    }
   },
   "source": [
    "We already implemented the sequence protocol.\n",
    "\n",
    "Now we suggest an additional abstraction that is more fundamental than the notion of a sequence: the **iterable**."
   ]
  },
  {
   "cell_type": "markdown",
   "metadata": {
    "slideshow": {
     "slide_type": "slide"
    }
   },
   "source": [
    "# Iterators and Iterables in `Python`\n",
    "\n",
    "Just as a sequence is something implementing `__getitem__` and `__len__`, an **iterable** is something implementing `__iter__`. \n",
    "\n",
    "`__len__` is not needed and indeed may not make sense.\n",
    "```python\n",
    "len(open('fname.txt')) # File iterator has no length\n",
    "```\n",
    "\n",
    "Example `14-1` in `Fluent Python`: The `Sentence` sequence and shows how it can be iterated upon."
   ]
  },
  {
   "cell_type": "code",
   "execution_count": null,
   "metadata": {
    "slideshow": {
     "slide_type": "subslide"
    }
   },
   "outputs": [],
   "source": [
    "import reprlib\n",
    "class Sentence:\n",
    "    def __init__(self, text): \n",
    "        self.text = text\n",
    "        self.words = text.split()\n",
    "        \n",
    "    def __getitem__(self, index):\n",
    "        return self.words[index] \n",
    "    \n",
    "    def __len__(self):\n",
    "        #completes sequence protocol, but not needed for iterable\n",
    "        return len(self.words) \n",
    "    \n",
    "    def __repr__(self):\n",
    "        return 'Sentence(%s)' % reprlib.repr(self.text)"
   ]
  },
  {
   "cell_type": "code",
   "execution_count": null,
   "metadata": {
    "slideshow": {
     "slide_type": "fragment"
    }
   },
   "outputs": [],
   "source": [
    "# Sequence'\n",
    "s = Sentence(\"Dogs will save the world.\")\n",
    "print(len(s), \"   \", s[3], \"   \",  s)"
   ]
  },
  {
   "cell_type": "markdown",
   "metadata": {
    "slideshow": {
     "slide_type": "subslide"
    }
   },
   "source": [
    "* `min()` and `max()` operate on iterables\n",
    "* They use [lexicographical ordering](https://en.wikipedia.org/wiki/Lexicographical_order) to do the sort"
   ]
  },
  {
   "cell_type": "code",
   "execution_count": null,
   "metadata": {
    "scrolled": true,
    "slideshow": {
     "slide_type": "fragment"
    }
   },
   "outputs": [],
   "source": [
    "min(s), max(s)"
   ]
  },
  {
   "cell_type": "markdown",
   "metadata": {
    "slideshow": {
     "slide_type": "fragment"
    }
   },
   "source": [
    "* `list()` also acts on iterables\n",
    "  - e.g. iterators, sequences, containers supporting iteration"
   ]
  },
  {
   "cell_type": "code",
   "execution_count": null,
   "metadata": {
    "slideshow": {
     "slide_type": "fragment"
    }
   },
   "outputs": [],
   "source": [
    "list(s)"
   ]
  },
  {
   "cell_type": "markdown",
   "metadata": {
    "slideshow": {
     "slide_type": "subslide"
    }
   },
   "source": [
    "To iterate over an object `x`, `Python` automatically calls `iter(x)` (i.e. `x.__iter__`). \n",
    "\n",
    "An **iterable** is something which, when `iter` is called on it, returns an **iterator**.\n",
    "\n",
    "(1) If `__iter__` is defined, it is called to implement an iterator.\n",
    "\n",
    "(2) If not, `__getitem__` is called starting from index `0`.\n",
    "\n",
    "(3) If no `__iter__` and no `__getitem__` then raise a `TypeError`.\n",
    "\n",
    "Any `Python` sequence is iterable because sequences implement `__getitem__`. The standard sequences also implement `__iter__`; for future proofing you should too because  (2) might be deprecated in a future version of `Python`."
   ]
  },
  {
   "cell_type": "markdown",
   "metadata": {
    "slideshow": {
     "slide_type": "subslide"
    }
   },
   "source": [
    "We know that `for` operates on iterables:"
   ]
  },
  {
   "cell_type": "code",
   "execution_count": null,
   "metadata": {
    "scrolled": true,
    "slideshow": {
     "slide_type": "fragment"
    }
   },
   "outputs": [],
   "source": [
    "for i in s:\n",
    "    print(i)"
   ]
  },
  {
   "cell_type": "markdown",
   "metadata": {
    "slideshow": {
     "slide_type": "fragment"
    }
   },
   "source": [
    "What's actually going on here?"
   ]
  },
  {
   "cell_type": "code",
   "execution_count": null,
   "metadata": {
    "scrolled": true,
    "slideshow": {
     "slide_type": "subslide"
    }
   },
   "outputs": [],
   "source": [
    "it = iter(s) # Build an iterator from an iterable\n",
    "while True:\n",
    "    try:\n",
    "        nextval = next(it) # Get the next item in the iterator\n",
    "        print(nextval)\n",
    "    except StopIteration:\n",
    "        del it # Iterator is exhausted.  Release reference and discard.\n",
    "        break"
   ]
  },
  {
   "cell_type": "markdown",
   "metadata": {
    "slideshow": {
     "slide_type": "subslide"
    }
   },
   "source": [
    "We can completely abstract away a sequence in favor of an iterable (i.e. we don't need to support indexing anymore)\n",
    "\n",
    "Example `14-4` in `Fluent Python`:"
   ]
  },
  {
   "cell_type": "code",
   "execution_count": null,
   "metadata": {
    "slideshow": {
     "slide_type": "subslide"
    }
   },
   "outputs": [],
   "source": [
    "class SentenceIterator: # has __next__ and __iter__\n",
    "    def __init__(self, words): \n",
    "        self.words = words \n",
    "        self.index = 0\n",
    "        \n",
    "    def __next__(self): \n",
    "        try:\n",
    "            word = self.words[self.index] \n",
    "        except IndexError:\n",
    "            raise StopIteration() \n",
    "        self.index += 1\n",
    "        return word \n",
    "\n",
    "    def __iter__(self):\n",
    "        return self"
   ]
  },
  {
   "cell_type": "code",
   "execution_count": null,
   "metadata": {
    "slideshow": {
     "slide_type": "subslide"
    }
   },
   "outputs": [],
   "source": [
    "class Sentence: # An iterable b/c it has __iter__\n",
    "    def __init__(self, text): \n",
    "        self.text = text\n",
    "        self.words = text.split()\n",
    "        \n",
    "    def __iter__(self):\n",
    "        return SentenceIterator(self.words) # Returns an instance of the iterator\n",
    "    \n",
    "    def __repr__(self):\n",
    "        return 'Sentence(%s)' % reprlib.repr(self.text)"
   ]
  },
  {
   "cell_type": "code",
   "execution_count": null,
   "metadata": {
    "slideshow": {
     "slide_type": "subslide"
    }
   },
   "outputs": [],
   "source": [
    "s2 = Sentence(\"What is data science?\")"
   ]
  },
  {
   "cell_type": "code",
   "execution_count": null,
   "metadata": {
    "slideshow": {
     "slide_type": "fragment"
    }
   },
   "outputs": [],
   "source": [
    "for i in s2:\n",
    "    print(i)"
   ]
  },
  {
   "cell_type": "code",
   "execution_count": null,
   "metadata": {
    "slideshow": {
     "slide_type": "fragment"
    }
   },
   "outputs": [],
   "source": [
    "s2it = iter(s2) # Make the iterable an iterator\n",
    "print(next(s2it), \"\\n\") # Get the next entry\n",
    "\n",
    "s2it2 = iter(s2) # Reset the iterator\n",
    "print(next(s2it), \"   \", next(s2it2)) # Get the next entry of s2it and s2it2"
   ]
  },
  {
   "cell_type": "markdown",
   "metadata": {
    "slideshow": {
     "slide_type": "subslide"
    }
   },
   "source": [
    "While we could have implemented `__next__` in Sentence itself, making it an iterator, we will run into the problem of \"exhausting an iterator\". \n",
    "\n",
    "The iterator above keeps state in `self.index` and we must be able to start anew by creating a new instance if we want to re-iterate. Thus the `__iter__` in the iterable simply returns the `SentenceIterator`.\n",
    "\n",
    "\"Relationship between iterables and iterators: Python obtains iterators from iterables.\""
   ]
  },
  {
   "cell_type": "markdown",
   "metadata": {
    "slideshow": {
     "slide_type": "subslide"
    }
   },
   "source": [
    "From `Fluent Python` (\"Sentence Take #2:  A Classic Iterator\"):\n",
    "> A common cause of errors in building iterables and iterators is to confuse the two. To be clear: iterables have an `__iter__` method that instantiates a new iterator every time. Iterators implement a `__next__` method that returns individual items, and an `__iter__` method that returns self."
   ]
  },
  {
   "cell_type": "markdown",
   "metadata": {
    "slideshow": {
     "slide_type": "subslide"
    }
   },
   "source": [
    "`min()` and `max()` also work even though we no longer satisfy the sequence protocol.\n",
    "\n",
    "`min` and `max` are pairwise comparisons and can be handled via iteration.\n",
    "\n",
    "The take home message is that in programming with these iterators we don't need either the length or indexing to work to implement many algorithms: we have abstracted these away."
   ]
  },
  {
   "cell_type": "code",
   "execution_count": null,
   "metadata": {
    "slideshow": {
     "slide_type": "fragment"
    }
   },
   "outputs": [],
   "source": [
    "min(s2), max(s2)"
   ]
  },
  {
   "cell_type": "markdown",
   "metadata": {
    "slideshow": {
     "slide_type": "slide"
    }
   },
   "source": [
    "# Trees\n",
    "\n",
    "- A tree is a hierarchical data structure that has a bunch of items.\n",
    "- Each item may have a value.\n",
    "- Items may point to other items or not (leaf nodes).\n",
    "- Each item is pointed to by exactly one other item with the sole exception of the root item.  Nothing points to the root item."
   ]
  },
  {
   "cell_type": "markdown",
   "metadata": {
    "slideshow": {
     "slide_type": "subslide"
    }
   },
   "source": [
    "There are many types of trees used to express data structures.  For example,\n",
    "* Binary Tree\n",
    "* B-Tree\n",
    "* Heap\n",
    "* Multi-way tree\n",
    "\n",
    "Each of these has many subtypes."
   ]
  },
  {
   "cell_type": "markdown",
   "metadata": {
    "slideshow": {
     "slide_type": "subslide"
    }
   },
   "source": [
    "#### Trees arise everywhere:\n",
    "\n",
    "- In parsing of code\n",
    "- Evolutionary trees in biology\n",
    "- Language origin trees\n",
    "- Unix file system\n",
    "- HTML tags\n",
    "\n",
    "Just like with lists, one can consider looking at a tree in two ways: a collection of nodes or a tree with a root and multiple sub-trees.\n",
    "\n",
    "Today, and in your homework, the focus is on Binary trees."
   ]
  },
  {
   "cell_type": "markdown",
   "metadata": {
    "slideshow": {
     "slide_type": "subslide"
    }
   },
   "source": [
    "Once again, one can represent trees using the recursive data structures we used to represent linked lists (from cs61a):\n",
    "\n",
    "![](http://wla.berkeley.edu/~cs61a/fa11/lectures/img/tree.png)\n",
    "\n"
   ]
  },
  {
   "cell_type": "markdown",
   "metadata": {
    "slideshow": {
     "slide_type": "fragment"
    }
   },
   "source": [
    "You could also use a tree in which the nodes all themselves have data. This is often used to represent a binary tree."
   ]
  },
  {
   "cell_type": "markdown",
   "metadata": {
    "slideshow": {
     "slide_type": "subslide"
    }
   },
   "source": [
    "## Some Terminology (Binary Tree)\n",
    "* The root node is the only node that has nothing pointing to it.\n",
    "* A node can point to other nodes called children.  \n",
    "* The node doing the pointing is called the parent node.\n",
    "* In a binary tree, a given node only points to two other nodes (maximum of two children).\n",
    "* If a child node does not contain a value, then it is said to be empty (or null).\n",
    "* A node with pointers to two empty values is called a leaf."
   ]
  },
  {
   "cell_type": "markdown",
   "metadata": {
    "slideshow": {
     "slide_type": "subslide"
    }
   },
   "source": [
    "![](figs/Binary_Tree_Anatomy.png)"
   ]
  },
  {
   "cell_type": "markdown",
   "metadata": {
    "slideshow": {
     "slide_type": "subslide"
    }
   },
   "source": [
    "## Binary Search Trees (BSTs)\n",
    "These are binary trees with the requirement that all children to the left of a particular node have lower values and all children to the right have higher values.\n",
    "\n",
    "There are ways of dealing with repeated values (e.g. storing a counter), but we will just use BSTs that do not have repeated values.\n",
    "\n",
    "A major benefit of BSTs:\n",
    "* Efficient searching:  Can be $O(\\log(n))$ for a balanced tree where $n$ is the height of the tree."
   ]
  },
  {
   "cell_type": "markdown",
   "metadata": {
    "slideshow": {
     "slide_type": "subslide"
    }
   },
   "source": [
    "An algorithm for the deletion of a node is as follows:\n",
    "1. If the node to be deleted has no children then just remove it.\n",
    "2. If the node to be deleted has only one child, remove the node and replace it with its child.\n",
    "3. If the node to be deleted has two children, replace the node to be deleted with the maximum value in the left subtree. Finally, delete the node with the maximum value in the left-subtree."
   ]
  },
  {
   "cell_type": "markdown",
   "metadata": {
    "slideshow": {
     "slide_type": "subslide"
    }
   },
   "source": [
    "## Practice\n",
    "\n",
    "In Homeworek 6, you will implement a BST.  The implementation should be able to insert new values and optionally be able to delete values from the tree.\n",
    "\n",
    "Consider the array $$\\left[13, 7, 19, 17, 3, 29, 5, 31, 2, 11\\right].$$  With your group, at your whiteboard, do the following:\n",
    "1. Draw a BST for the array \n",
    "2. Delete the node with value $13$"
   ]
  }
 ],
 "metadata": {
  "celltoolbar": "Slideshow",
  "kernelspec": {
   "display_name": "Python 3",
   "language": "python",
   "name": "python3"
  },
  "language_info": {
   "codemirror_mode": {
    "name": "ipython",
    "version": 3
   },
   "file_extension": ".py",
   "mimetype": "text/x-python",
   "name": "python",
   "nbconvert_exporter": "python",
   "pygments_lexer": "ipython3",
   "version": "3.6.6"
  }
 },
 "nbformat": 4,
 "nbformat_minor": 1
}
