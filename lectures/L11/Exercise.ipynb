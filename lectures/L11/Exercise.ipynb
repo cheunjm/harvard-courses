{
 "cells": [
  {
   "cell_type": "markdown",
   "metadata": {},
   "source": [
    "# Exercise:  Documentation and Testing\n",
    "The following little program needs some documentation and some tests.  Since you didn't write it, I'll tell you what it's supposed to do.  You'll need to document it.  Feel free to test for additional exceptions if you have time but start with it as it is.\n",
    "\n",
    "The point of the program is to compute the $L_{2}$ norm of a vector $v$.  A second argument, if provided, will be interpreted as a vector of weights.  The second argument must have the same length as the input vector.\n",
    "\n",
    "**NOTE:** The input type of the vectors for this program should be a list of numbers.\n",
    "\n",
    "As a reminder, the weighted $L_2$ norm of a vector $v$ is given by \n",
    "\\begin{align*}\n",
    "  \\|v\\|_{W} = \\sqrt{\\sum_{i=1}^{N}{\\left(w_{i}v_{i}\\right)^2}}\n",
    "\\end{align*}\n",
    "where $N$ is the length of the vector $v$, $v_{i}$ is the i-th component of the vector $v$ and $w_{i}$ is the i-th component of the weight vector.\n",
    "\n",
    "#### Requirements\n",
    "* You must write the documentation and a decent test suite.  Try to include some doctests as well!\n",
    "* Use the `pytest` module to run the doctests and unit tests and to assess the code coverage.\n",
    "\n",
    "If you don't already have `pytest`, you can install it using `pip install pytest`.  If you have trouble installing, here's the website: [`pytest` installation](https://docs.pytest.org/en/latest/getting-started.html)."
   ]
  },
  {
   "cell_type": "code",
   "execution_count": 1,
   "metadata": {},
   "outputs": [],
   "source": [
    "import numpy as np\n",
    "\n",
    "def L2(v, *args):\n",
    "    s = 0.0 # Initialize sum\n",
    "    if len(args) == 0: # No weight vector\n",
    "        for vi in v:\n",
    "            s += vi * vi\n",
    "    else: # Weight vector present\n",
    "        w = args[0] # Get the weight vector\n",
    "        if (len(w) != len(v)): # Check lengths of lists\n",
    "            raise ValueError(\"Length of list of weights must match length of target list.\")\n",
    "        for i, vi in enumerate(v):\n",
    "            s += w[i] * w[i] * vi * vi\n",
    "    return np.sqrt(s)"
   ]
  }
 ],
 "metadata": {
  "kernelspec": {
   "display_name": "Python 3",
   "language": "python",
   "name": "python3"
  },
  "language_info": {
   "codemirror_mode": {
    "name": "ipython",
    "version": 3
   },
   "file_extension": ".py",
   "mimetype": "text/x-python",
   "name": "python",
   "nbconvert_exporter": "python",
   "pygments_lexer": "ipython3",
   "version": "3.6.6"
  }
 },
 "nbformat": 4,
 "nbformat_minor": 2
}
