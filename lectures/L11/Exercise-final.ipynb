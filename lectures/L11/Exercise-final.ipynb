{
 "cells": [
  {
   "cell_type": "markdown",
   "metadata": {},
   "source": [
    "# Exercise:  Documentation and Testing\n",
    "The following little program needs some documentation and some tests.  Since you didn't write it, I'll tell you what it's supposed to do.  You'll need to document it.  Feel free to test for additional exceptions if you have time but start with it as it is.\n",
    "\n",
    "The point of the program is to compute the $L_{2}$ norm of a vector $v$.  A second argument, if provided, will be interpreted as a vector of weights.  The second argument must have the same length as the input vector.\n",
    "\n",
    "**NOTE:** The input type of the vectors for this program should be a list of numbers.\n",
    "\n",
    "As a reminder, the weighted $L_2$ norm of a vector $v$ is given by \n",
    "\\begin{align*}\n",
    "  \\|v\\|_{W} = \\sqrt{\\sum_{i=1}^{N}{\\left(w_{i}v_{i}\\right)^2}}\n",
    "\\end{align*}\n",
    "where $N$ is the length of the vector $v$, $v_{i}$ is the i-th component of the vector $v$ and $w_{i}$ is the i-th component of the weight vector.\n",
    "\n",
    "#### Requirements\n",
    "* You must write the documentation and a decent test suite.  Try to include some doctests as well!\n",
    "* Use the `pytest` module to run the doctests and unit tests and to assess the code coverage.\n",
    "\n",
    "If you don't already have `pytest`, you can install it using `pip install pytest`.  If you have trouble installing, here's the website: [`pytest` installation](https://docs.pytest.org/en/latest/getting-started.html)."
   ]
  },
  {
   "cell_type": "code",
   "execution_count": 19,
   "metadata": {},
   "outputs": [
    {
     "name": "stdout",
     "output_type": "stream",
     "text": [
      "Overwriting norm.py\n"
     ]
    }
   ],
   "source": [
    "%%file norm.py\n",
    "\n",
    "import numpy as np\n",
    "\n",
    "def L2(v, *args):\n",
    "    \"\"\"Computes the L2 norm of a vector\n",
    "    \n",
    "    INPUTS\n",
    "    ========\n",
    "    v: list, required\n",
    "       List of numbers\n",
    "    args: list, optional\n",
    "       A vector of weights. Must have the same length as the\n",
    "       input vector\n",
    "          \n",
    "    RETURNS\n",
    "    ========\n",
    "    L2 norm: float\n",
    "       A ValueError exception is raised if the dimension of the weights\n",
    "       and the vector does not match\n",
    "    \n",
    "    EXAMPLES\n",
    "    ========\n",
    "    >>> L2([3,4])\n",
    "    5.0\n",
    "    \"\"\"\n",
    "    s = 0.0 # Initialize sum\n",
    "    if len(args) == 0: # No weight vector\n",
    "        for vi in v:\n",
    "            s += vi * vi\n",
    "    else: # Weight vector present\n",
    "        w = args[0] # Get the weight vector\n",
    "        if (len(w) != len(v)): # Check lengths of lists\n",
    "            raise ValueError(\"Length of list of weights must match length of target list.\")\n",
    "        for i, vi in enumerate(v):\n",
    "            s += w[i] * w[i] * vi * vi\n",
    "    return np.sqrt(s)"
   ]
  },
  {
   "cell_type": "code",
   "execution_count": 20,
   "metadata": {},
   "outputs": [
    {
     "name": "stdout",
     "output_type": "stream",
     "text": [
      "Python Library Documentation: function L2 in module __main__\n",
      "\n",
      "L2(v, *args)\n",
      "    Computes the L2 norm of a vector\n",
      "    \n",
      "    INPUTS\n",
      "    ========\n",
      "    v: list, required\n",
      "       List of numbers\n",
      "    args: list, optional\n",
      "       A vector of weights. Must have the same length as the\n",
      "       input vector\n",
      "          \n",
      "    RETURNS\n",
      "    ========\n",
      "    L2 norm: float\n",
      "       A ValueError exception is raised if the dimension of the weights\n",
      "       and the vector does not match\n",
      "    \n",
      "    EXAMPLES\n",
      "    ========\n",
      "    >>> L2([3,4])\n",
      "    5.0\n"
     ]
    }
   ],
   "source": [
    "import pydoc\n",
    "pydoc.doc(L2)"
   ]
  },
  {
   "cell_type": "code",
   "execution_count": 21,
   "metadata": {},
   "outputs": [
    {
     "name": "stdout",
     "output_type": "stream",
     "text": [
      "Trying:\n",
      "    L2([3,4])\n",
      "Expecting:\n",
      "    5.0\n",
      "ok\n",
      "1 items had no tests:\n",
      "    __main__\n",
      "1 items passed all tests:\n",
      "   1 tests in __main__.L2\n",
      "1 tests in 2 items.\n",
      "1 passed and 0 failed.\n",
      "Test passed.\n"
     ]
    },
    {
     "data": {
      "text/plain": [
       "TestResults(failed=0, attempted=1)"
      ]
     },
     "execution_count": 21,
     "metadata": {},
     "output_type": "execute_result"
    }
   ],
   "source": [
    "import doctest\n",
    "doctest.testmod(verbose=True)"
   ]
  },
  {
   "cell_type": "code",
   "execution_count": 37,
   "metadata": {},
   "outputs": [
    {
     "name": "stdout",
     "output_type": "stream",
     "text": [
      "Overwriting test_norm.py\n"
     ]
    }
   ],
   "source": [
    "%%file test_norm.py\n",
    "\n",
    "import pytest\n",
    "import norm\n",
    "\n",
    "def test_norm_result():\n",
    "    assert norm.L2([3,4]) == 5.0\n",
    "    \n",
    "def test_norm_types():\n",
    "    with pytest.raises(TypeError):\n",
    "        norm.L2(3)\n",
    "def test_norm_dimension_mismatch():\n",
    "    with pytest.raises(ValueError):\n",
    "        norm.L2([3,4], [2])"
   ]
  },
  {
   "cell_type": "code",
   "execution_count": 38,
   "metadata": {},
   "outputs": [
    {
     "name": "stdout",
     "output_type": "stream",
     "text": [
      "\u001b[1m============================= test session starts ==============================\u001b[0m\n",
      "platform darwin -- Python 3.6.5, pytest-3.5.1, py-1.5.3, pluggy-0.6.0\n",
      "rootdir: /Users/jaemincheun/Documents/harvard/CS207/cs207_jaemin_cheun/lectures/L11, inifile:\n",
      "plugins: remotedata-0.2.1, openfiles-0.3.0, doctestplus-0.1.3, arraydiff-0.2\n",
      "collected 4 items                                                              \u001b[0m\u001b[1m\n",
      "\n",
      "norm.py .\u001b[36m                                                                [ 25%]\u001b[0m\n",
      "test_norm.py ...\u001b[36m                                                         [100%]\u001b[0m\n",
      "\n",
      "\u001b[32m\u001b[1m=========================== 4 passed in 0.02 seconds ===========================\u001b[0m\n"
     ]
    }
   ],
   "source": [
    "!pytest --doctest-modules"
   ]
  },
  {
   "cell_type": "code",
   "execution_count": null,
   "metadata": {},
   "outputs": [],
   "source": []
  }
 ],
 "metadata": {
  "kernelspec": {
   "display_name": "Python 3",
   "language": "python",
   "name": "python3"
  },
  "language_info": {
   "codemirror_mode": {
    "name": "ipython",
    "version": 3
   },
   "file_extension": ".py",
   "mimetype": "text/x-python",
   "name": "python",
   "nbconvert_exporter": "python",
   "pygments_lexer": "ipython3",
   "version": "3.6.5"
  }
 },
 "nbformat": 4,
 "nbformat_minor": 2
}
