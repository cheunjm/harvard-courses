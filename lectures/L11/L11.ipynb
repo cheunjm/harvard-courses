{
 "cells": [
  {
   "cell_type": "markdown",
   "metadata": {
    "slideshow": {
     "slide_type": "slide"
    }
   },
   "source": [
    "# Lecture 11\n",
    "## Tuesday, October 9th 2018\n",
    "\n",
    "## Software design, documentation, and testing"
   ]
  },
  {
   "cell_type": "markdown",
   "metadata": {
    "slideshow": {
     "slide_type": "slide"
    }
   },
   "source": [
    "## Design of a program\n",
    "\n",
    "From the Practice of Programming:\n",
    "\n",
    ">The essence of design is to balance competing goals and constraints. Although there may be many tradeoffs when one is writing a small self-contained system, the ramifications of particular choices remain within the system and affect only the individual programmer. But when code is to be used by others, decisions have wider repercussions."
   ]
  },
  {
   "cell_type": "markdown",
   "metadata": {
    "slideshow": {
     "slide_type": "slide"
    }
   },
   "source": [
    "## Software Design Desirables\n",
    "- Documentation\n",
    "    - names (understandable names)\n",
    "    - pre+post conditions or requirements\n",
    "- Maintainability\n",
    "    - Extensibility\n",
    "    - Modularity and Encapsulation\n",
    "- Portability\n",
    "- Installability"
   ]
  },
  {
   "cell_type": "markdown",
   "metadata": {
    "slideshow": {
     "slide_type": "subslide"
    }
   },
   "source": [
    "## Software Design Desirables (continued)\n",
    "- Generality\n",
    "    - Data Abstraction (change types, change data structures)\n",
    "    - Functional Abstraction (the object model, overloading)\n",
    "    - Robustness\n",
    "        - Provability: Invariants, preconditions, postconditions\n",
    "        - User Proofing, Adversarial Inputs \n",
    "- Efficiency\n",
    "    - Use of appropriate algorithms and data structures\n",
    "    - Optimization (but not premature optimization)"
   ]
  },
  {
   "cell_type": "markdown",
   "metadata": {
    "slideshow": {
     "slide_type": "slide"
    }
   },
   "source": [
    "## Issues to be aware of\n",
    "* **Interfaces**\n",
    "  Your program is being designed to be used by someone: either an end user, another programmer, or even yourself. This interface is a contract between you and the user.\n",
    "\n",
    "* **Hiding Information**\n",
    "  There is information hiding between layers (a higher up layer can be more abstract). Encapsulation,  abstraction, and modularization, are some of the techniques used here.\n",
    "\n",
    "* **Resource Management**\n",
    "  Who allocates storage for data structures?  Generally we want resource allocation/deallocation to happen in the same layer.\n",
    "\n",
    "* **How to Deal with Errors**\n",
    "  Do we return special values? Do we throw exceptions? Who handles them?"
   ]
  },
  {
   "cell_type": "markdown",
   "metadata": {
    "slideshow": {
     "slide_type": "subslide"
    }
   },
   "source": [
    "## Interface principles\n",
    "\n",
    "- hide implementation details\n",
    "- have a small set of operations exposed, the smallest possible, and these should be orthogonal. Be stingy with the user.\n",
    "- but be transparent with the user in what goes on behind the scenes\n",
    "- be consistent internally: library functions should have similar signature, classes similar methods, and externally programs should have the same Command Line Interface (CLI) flags\n",
    "\n",
    "**Testing should deal with ALL of the issues above, and each layer ought to be tested separately.** "
   ]
  },
  {
   "cell_type": "markdown",
   "metadata": {
    "slideshow": {
     "slide_type": "slide"
    }
   },
   "source": [
    "## Testing\n",
    "\n",
    "There are different kinds of tests inspired by the interface principles just described.\n",
    "- **acceptance tests** verify that a program meets a customer's expectations. In a sense these are a test of the *interface* to the customer: does the program do everything you promised the customer it would do?\n",
    "- **unit tests** are tests which test a unit of the program for use by another unit. These could test the interface for a client, but they must also test the internal functions that you want to use."
   ]
  },
  {
   "cell_type": "markdown",
   "metadata": {
    "slideshow": {
     "slide_type": "subslide"
    }
   },
   "source": [
    "## Testing Continued\n",
    "**Exploratory testing**, **regression testing**, and **integration testing** are done in both of these categories, with the latter trying to combine layers and subsystems, not necessarily at the level of an entire application. \n",
    "\n",
    "One can also performance test, random and exploratorily test, and stress test a system (to create adversarial situations)."
   ]
  },
  {
   "cell_type": "markdown",
   "metadata": {
    "slideshow": {
     "slide_type": "slide"
    }
   },
   "source": [
    "## Documentation\n",
    "**Documentation is a contract between a user (client) and an implementor (library writer).**"
   ]
  },
  {
   "cell_type": "markdown",
   "metadata": {
    "slideshow": {
     "slide_type": "subslide"
    }
   },
   "source": [
    "### Write good documentation\n",
    "* Follow standards of [PEP 257](https://www.python.org/dev/peps/pep-0257/)\n",
    "* Clearly outline the inputs, outputs, default values, and expected behavior\n",
    "* Include basic usage examples when possible"
   ]
  },
  {
   "cell_type": "code",
   "execution_count": 1,
   "metadata": {
    "slideshow": {
     "slide_type": "subslide"
    }
   },
   "outputs": [],
   "source": [
    "def quad_roots(a=1.0, b=2.0, c=0.0):\n",
    "    \"\"\"Returns the roots of a quadratic equation: ax^2 + bx + c = 0.\n",
    "    \n",
    "    INPUTS\n",
    "    =======\n",
    "    a: float, optional, default value is 1\n",
    "       Coefficient of quadratic term\n",
    "    b: float, optional, default value is 2\n",
    "       Coefficient of linear term\n",
    "    c: float, optional, default value is 0\n",
    "       Constant term\n",
    "    \n",
    "    RETURNS\n",
    "    ========\n",
    "    roots: 2-tuple of complex floats\n",
    "       Has the form (root1, root2) unless a = 0 \n",
    "       in which case a ValueError exception is raised\n",
    "    \n",
    "    EXAMPLES\n",
    "    =========\n",
    "    >>> quad_roots(1.0, 1.0, -12.0)\n",
    "    ((3+0j), (-4+0j))\n",
    "    \"\"\"\n",
    "    import cmath # Can return complex numbers from square roots\n",
    "    if a == 0:\n",
    "        raise ValueError(\"The quadratic coefficient is zero.  This is not a quadratic equation.\")\n",
    "    else:\n",
    "        sqrtdisc = cmath.sqrt(b * b - 4.0 * a * c)\n",
    "        r1 = -b + sqrtdisc\n",
    "        r2 = -b - sqrtdisc\n",
    "        twoa = 2.0 * a\n",
    "        return (r1 / twoa, r2 / twoa)"
   ]
  },
  {
   "cell_type": "markdown",
   "metadata": {
    "slideshow": {
     "slide_type": "subslide"
    }
   },
   "source": [
    "### Documenting Invariants\n",
    "* An invariant is something that is true at some point in the code.\n",
    "* Invariants and the contract are what we use to guide our implementation.\n",
    "* Pre-conditions and post-conditions are special cases of invariants.\n",
    "* Pre-conditions are true at function entry. They constrain the user.\n",
    "* Post-conditions are true at function exit. They constrain the implementation.\n",
    "\n",
    "You can change implementations, stuff under the hood, etc, but once the software is in the wild **you can't change the pre-conditions and post-conditions** since the client user is depending upon them."
   ]
  },
  {
   "cell_type": "code",
   "execution_count": null,
   "metadata": {
    "slideshow": {
     "slide_type": "subslide"
    }
   },
   "outputs": [],
   "source": [
    "def quad_roots(a=1.0, b=2.0, c=0.0):\n",
    "    \"\"\"Returns the roots of a quadratic equation: ax^2 + bx + c.\n",
    "    \n",
    "    INPUTS\n",
    "    =======\n",
    "    a: float, optional, default value is 1\n",
    "       Coefficient of quadratic term\n",
    "    b: float, optional, default value is 2\n",
    "       Coefficient of linear term\n",
    "    c: float, optional, default value is 0\n",
    "       Constant term\n",
    "    \n",
    "    RETURNS\n",
    "    ========\n",
    "    roots: 2-tuple of complex floats\n",
    "       Has the form (root1, root2) unless a = 0 \n",
    "       in which case a ValueError exception is raised\n",
    "\n",
    "    NOTES\n",
    "    =====\n",
    "    PRE: \n",
    "         - a, b, c have numeric type\n",
    "         - three or fewer inputs\n",
    "    POST:\n",
    "         - a, b, and c are not changed by this function\n",
    "         - raises a ValueError exception if a = 0\n",
    "         - returns a 2-tuple of roots\n",
    "\n",
    "    EXAMPLES\n",
    "    =========\n",
    "    >>> quad_roots(1.0, 1.0, -12.0)\n",
    "    ((3+0j), (-4+0j))\n",
    "    \"\"\"\n",
    "    import cmath # Can return complex numbers from square roots\n",
    "    if a == 0:\n",
    "        raise ValueError(\"The quadratic coefficient is zero.  This is not a quadratic equation.\")\n",
    "    else:\n",
    "        sqrtdisc = cmath.sqrt(b * b - 4.0 * a * c)\n",
    "        r1 = -b + sqrtdisc\n",
    "        r2 = -b - sqrtdisc\n",
    "        twoa = 2.0 * a\n",
    "        return (r1 / twoa, r2 / twoa)"
   ]
  },
  {
   "cell_type": "markdown",
   "metadata": {
    "slideshow": {
     "slide_type": "subslide"
    }
   },
   "source": [
    "### Accessing Documentation (1)\n",
    "* Documentation can be accessed by calling the `__doc__` special method\n",
    "* Simply calling `function_name.__doc__` will give a pretty ugly output\n",
    "* You can make it cleaner by making use of `splitlines()`"
   ]
  },
  {
   "cell_type": "code",
   "execution_count": 4,
   "metadata": {
    "scrolled": false,
    "slideshow": {
     "slide_type": "subslide"
    }
   },
   "outputs": [
    {
     "data": {
      "text/plain": [
       "['Returns the roots of a quadratic equation: ax^2 + bx + c = 0.',\n",
       " '    ',\n",
       " '    INPUTS',\n",
       " '    =======',\n",
       " '    a: float, optional, default value is 1',\n",
       " '       Coefficient of quadratic term',\n",
       " '    b: float, optional, default value is 2',\n",
       " '       Coefficient of linear term',\n",
       " '    c: float, optional, default value is 0',\n",
       " '       Constant term',\n",
       " '    ',\n",
       " '    RETURNS',\n",
       " '    ========',\n",
       " '    roots: 2-tuple of complex floats',\n",
       " '       Has the form (root1, root2) unless a = 0 ',\n",
       " '       in which case a ValueError exception is raised',\n",
       " '    ',\n",
       " '    EXAMPLES',\n",
       " '    =========',\n",
       " '    >>> quad_roots(1.0, 1.0, -12.0)',\n",
       " '    ((3+0j), (-4+0j))',\n",
       " '    ']"
      ]
     },
     "execution_count": 4,
     "metadata": {},
     "output_type": "execute_result"
    }
   ],
   "source": [
    "quad_roots.__doc__.splitlines()"
   ]
  },
  {
   "cell_type": "markdown",
   "metadata": {
    "slideshow": {
     "slide_type": "subslide"
    }
   },
   "source": [
    "### Accessing Documentation (2)\n",
    "A nice way to access the documentation is to use the [`pydoc` module](https://docs.python.org/2/library/pydoc.html)."
   ]
  },
  {
   "cell_type": "code",
   "execution_count": 5,
   "metadata": {
    "slideshow": {
     "slide_type": "subslide"
    }
   },
   "outputs": [
    {
     "name": "stdout",
     "output_type": "stream",
     "text": [
      "Python Library Documentation: function quad_roots in module __main__\n",
      "\n",
      "quad_roots(a=1.0, b=2.0, c=0.0)\n",
      "    Returns the roots of a quadratic equation: ax^2 + bx + c = 0.\n",
      "    \n",
      "    INPUTS\n",
      "    =======\n",
      "    a: float, optional, default value is 1\n",
      "       Coefficient of quadratic term\n",
      "    b: float, optional, default value is 2\n",
      "       Coefficient of linear term\n",
      "    c: float, optional, default value is 0\n",
      "       Constant term\n",
      "    \n",
      "    RETURNS\n",
      "    ========\n",
      "    roots: 2-tuple of complex floats\n",
      "       Has the form (root1, root2) unless a = 0 \n",
      "       in which case a ValueError exception is raised\n",
      "    \n",
      "    EXAMPLES\n",
      "    =========\n",
      "    >>> quad_roots(1.0, 1.0, -12.0)\n",
      "    ((3+0j), (-4+0j))\n"
     ]
    }
   ],
   "source": [
    "import pydoc\n",
    "pydoc.doc(quad_roots)"
   ]
  },
  {
   "cell_type": "markdown",
   "metadata": {
    "slideshow": {
     "slide_type": "slide"
    }
   },
   "source": [
    "## Testing"
   ]
  },
  {
   "cell_type": "markdown",
   "metadata": {
    "slideshow": {
     "slide_type": "skip"
    }
   },
   "source": [
    "There are different kinds of tests inspired by the interface principles just described.\n",
    "\n",
    "- **acceptance tests** verify that a program meets a customer's expectations. In a sense these are a test of the *interface* to the customer: does the program do everything you promised the customer it would do?\n",
    "\n",
    "- **unit tests** are tests which test a unit of the program for use by another unit. These could test the interface for a client, but they must also test the internal functions that you want to use.\n",
    "\n",
    "**Exploratory testing**, **regression testing**, and **integration testing** are done in both of these categories, with the latter trying to combine layers and subsystems, not necessarily at the level of an entire application. \n",
    "\n",
    "One can also performance test, random and exploratorily test, and stress test a system (to create adversarial situations)."
   ]
  },
  {
   "cell_type": "markdown",
   "metadata": {
    "slideshow": {
     "slide_type": "subslide"
    }
   },
   "source": [
    "### Testing of a program\n",
    "\n",
    "Test as you write your program.\n",
    "\n",
    "This is so important that I repeat it.\n",
    "\n",
    "**Test as you go**.\n",
    "\n",
    "[Test-driven Development](https://en.wikipedia.org/wiki/Test-driven_development)\n",
    "\n",
    "[Test Driven Development: what it is, and what it is not.](https://medium.freecodecamp.org/test-driven-development-what-it-is-and-what-it-is-not-41fa6bca02a2)"
   ]
  },
  {
   "cell_type": "markdown",
   "metadata": {
    "slideshow": {
     "slide_type": "subslide"
    }
   },
   "source": [
    "From The Practice of Programming:\n",
    "\n",
    "\n",
    ">The  effort  of  testing as  you  go  is  minimal  and  pays off  handsomely.  Thinking about testing as you  write a program will  lead to better code, because that's when you know  best  what the code should do.  **If  instead  you  wait  until  something breaks, you will  probably  have forgotten how  the code works**.  Working under  pressure, you  will need  to figure it  out again, which  takes time, and  the fixes  will  be  less  thorough  and more fragile because your refreshed understanding is  likely to be incomplete. "
   ]
  },
  {
   "cell_type": "markdown",
   "metadata": {
    "slideshow": {
     "slide_type": "subslide"
    }
   },
   "source": [
    "### `doctest`\n",
    "The `doctest` module allows us to test pieces of code that we put into our doc string.\n",
    "\n",
    "The doctests are a type of **unit test**, which document the interface of the function by example.\n",
    "\n",
    "Doctests are an example of a **test harness**.  We write some tests and execute them all at once.  Note that individual tests can be written and executed individually in an ad-hoc manner.  However, that is especially inefficient."
   ]
  },
  {
   "cell_type": "markdown",
   "metadata": {
    "slideshow": {
     "slide_type": "subslide"
    }
   },
   "source": [
    "### `doctest` Continued\n",
    "\n",
    "Of course, too many doctests clutter the documentation section.\n",
    "\n",
    "The doctests should not cover every case; they should describe the various ways a class or function can be used.  There are better ways to do more comprehensive testing."
   ]
  },
  {
   "cell_type": "code",
   "execution_count": 6,
   "metadata": {
    "slideshow": {
     "slide_type": "subslide"
    }
   },
   "outputs": [
    {
     "name": "stdout",
     "output_type": "stream",
     "text": [
      "Trying:\n",
      "    quad_roots(1.0, 1.0, -12.0)\n",
      "Expecting:\n",
      "    ((3+0j), (-4+0j))\n",
      "ok\n",
      "1 items had no tests:\n",
      "    __main__\n",
      "1 items passed all tests:\n",
      "   1 tests in __main__.quad_roots\n",
      "1 tests in 2 items.\n",
      "1 passed and 0 failed.\n",
      "Test passed.\n"
     ]
    },
    {
     "data": {
      "text/plain": [
       "TestResults(failed=0, attempted=1)"
      ]
     },
     "execution_count": 6,
     "metadata": {},
     "output_type": "execute_result"
    }
   ],
   "source": [
    "import doctest\n",
    "doctest.testmod(verbose=True)"
   ]
  },
  {
   "cell_type": "markdown",
   "metadata": {
    "slideshow": {
     "slide_type": "subslide"
    }
   },
   "source": [
    "### Principles of Testing\n",
    "* Test simple parts first\n",
    "* Test code at its boundaries\n",
    "  - The idea is that most errors happen at data boundaries such as empty input, single input item, exactly full array, weird values, etc. If a piece of code works at the boundaries, its likely to work elsewhere...\n",
    "* Automate using a test harness\n",
    "* Test incrementally\n"
   ]
  },
  {
   "cell_type": "markdown",
   "metadata": {
    "slideshow": {
     "slide_type": "subslide"
    }
   },
   "source": [
    "### Principles of Testing Continued\n",
    "* Program defensively\n",
    "   >\"Program  defensively.  A  useful  technique is  to  add  code  to  handle  \"can't  happen\" cases,  situations  where  it  is  not  logically  possible  for  something  to  happen  but (because of  some failure elsewhere) it might anyway.  Adding a test for zero or negative array lengths to avg  was one example.  As another example, a program  processing  grades might  expect  that  there  would  be  no  negative  or huge  values  but  should check anyway."
   ]
  },
  {
   "cell_type": "markdown",
   "metadata": {
    "slideshow": {
     "slide_type": "subslide"
    }
   },
   "source": [
    "#### Test simple parts first:\n",
    "A test for the `quad_roots` function:"
   ]
  },
  {
   "cell_type": "code",
   "execution_count": 9,
   "metadata": {
    "slideshow": {
     "slide_type": "-"
    }
   },
   "outputs": [],
   "source": [
    "def test_quadroots():\n",
    "    assert quad_roots(1.0, 1.0, -12.0) == ((3+0j), (-4+0j))\n",
    "\n",
    "test_quadroots()"
   ]
  },
  {
   "cell_type": "markdown",
   "metadata": {
    "slideshow": {
     "slide_type": "subslide"
    }
   },
   "source": [
    "#### Test at the boundaries\n",
    "\n",
    "Here we write a test to handle the crazy case in which the user passes strings in as the coefficients."
   ]
  },
  {
   "cell_type": "code",
   "execution_count": 10,
   "metadata": {
    "scrolled": true,
    "slideshow": {
     "slide_type": "-"
    }
   },
   "outputs": [],
   "source": [
    "import sys\n",
    "def test_quadroots_types():\n",
    "    try:\n",
    "        quad_roots(\"\", \"green\", \"hi\")\n",
    "    except TypeError as err:\n",
    "        assert(sys.exc_info()[0] == TypeError)\n",
    "\n",
    "test_quadroots_types()"
   ]
  },
  {
   "cell_type": "markdown",
   "metadata": {
    "slideshow": {
     "slide_type": "subslide"
    }
   },
   "source": [
    "We can also check to make sure the $a=0$ case is handled okay:"
   ]
  },
  {
   "cell_type": "code",
   "execution_count": 11,
   "metadata": {
    "slideshow": {
     "slide_type": "-"
    }
   },
   "outputs": [],
   "source": [
    "import sys\n",
    "def test_quadroots_zerocoeff():\n",
    "    try:\n",
    "        quad_roots(a=0.0)\n",
    "    except ValueError as err:\n",
    "        assert(sys.exc_info()[0] == ValueError)\n",
    "\n",
    "test_quadroots_zerocoeff()"
   ]
  },
  {
   "cell_type": "markdown",
   "metadata": {
    "slideshow": {
     "slide_type": "subslide"
    }
   },
   "source": [
    "#### When you get an error\n",
    "\n",
    "It could be that:\n",
    "\n",
    "- you messed up an implementation\n",
    "- you did not handle a case\n",
    "- your test was messed up (be careful of this)\n",
    "\n",
    "If the error was not found in an existing test, create a new test that represents the problem **before** you do anything else. The test should capture the essence of the problem: this process itself is useful in uncovering bugs. Then this error may even suggest more tests."
   ]
  },
  {
   "cell_type": "markdown",
   "metadata": {
    "slideshow": {
     "slide_type": "subslide"
    }
   },
   "source": [
    "### Automate Using a Test Harness\n",
    "\n",
    "Great!  So we've written some ad-hoc tests.  It's pretty clunky.  We should use a **test harness**.\n",
    "\n",
    "As mentioned already, `doctest` is a type of test harness.  It has it's uses, but gets messy quickly.\n",
    "\n",
    "We'll talk about **[`pytest`](https://docs.pytest.org/en/latest/)** here."
   ]
  },
  {
   "cell_type": "markdown",
   "metadata": {
    "slideshow": {
     "slide_type": "subslide"
    }
   },
   "source": [
    "#### Preliminaries\n",
    "1. The idea is that our code consists of several different pieces (or objects)\n",
    "2. The objects are grouped based on how they are related to each other\n",
    "  - e.g. you may have a class that contains different statistical operations\n",
    "3. For now, we can think of having related functions all in one file\n",
    "4. We want to test each of those functions\n",
    "  - Tests should include checking correctness of output, correctness of input, fringe cases, etc"
   ]
  },
  {
   "cell_type": "markdown",
   "metadata": {
    "slideshow": {
     "slide_type": "subslide"
    }
   },
   "source": [
    "#### Preliminaries\n",
    "\n",
    "I will work in the Jupyter notebook for demo purposes.\n",
    "\n",
    "To create and save a file in the Jupyter notebook, you type `%%file file_name.py`.\n",
    "\n",
    "I highly recommend that you actually write your code using a text editor (like `vim`) or an `IDE` like `Sypder`.\n",
    "\n",
    "The toy examples that we've been working with in the class so far can be done in Jupyter, but a real project can be done more efficiently through other means."
   ]
  },
  {
   "cell_type": "code",
   "execution_count": 12,
   "metadata": {
    "slideshow": {
     "slide_type": "subslide"
    }
   },
   "outputs": [
    {
     "name": "stdout",
     "output_type": "stream",
     "text": [
      "Writing roots.py\n"
     ]
    }
   ],
   "source": [
    "%%file roots.py\n",
    "def quad_roots(a=1.0, b=2.0, c=0.0):\n",
    "    \"\"\"Returns the roots of a quadratic equation: ax^2 + bx + c = 0.\n",
    "    \n",
    "    INPUTS\n",
    "    =======\n",
    "    a: float, optional, default value is 1\n",
    "       Coefficient of quadratic term\n",
    "    b: float, optional, default value is 2\n",
    "       Coefficient of linear term\n",
    "    c: float, optional, default value is 0\n",
    "       Constant term\n",
    "    \n",
    "    RETURNS\n",
    "    ========\n",
    "    roots: 2-tuple of complex floats\n",
    "       Has the form (root1, root2) unless a = 0 \n",
    "       in which case a ValueError exception is raised\n",
    "    \n",
    "    EXAMPLES\n",
    "    =========\n",
    "    >>> quad_roots(1.0, 1.0, -12.0)\n",
    "    ((3+0j), (-4+0j))\n",
    "    \"\"\"\n",
    "    import cmath # Can return complex numbers from square roots\n",
    "    if a == 0:\n",
    "        raise ValueError(\"The quadratic coefficient is zero.  This is not a quadratic equation.\")\n",
    "    else:\n",
    "        sqrtdisc = cmath.sqrt(b * b - 4.0 * a * c)\n",
    "        r1 = -b + sqrtdisc\n",
    "        r2 = -b - sqrtdisc\n",
    "        twoa = 2.0 * a\n",
    "        return (r1 / twoa, r2 / twoa)"
   ]
  },
  {
   "cell_type": "markdown",
   "metadata": {
    "slideshow": {
     "slide_type": "subslide"
    }
   },
   "source": [
    "Let's put our tests into one file."
   ]
  },
  {
   "cell_type": "code",
   "execution_count": 13,
   "metadata": {
    "slideshow": {
     "slide_type": "fragment"
    }
   },
   "outputs": [
    {
     "name": "stdout",
     "output_type": "stream",
     "text": [
      "Writing test_roots.py\n"
     ]
    }
   ],
   "source": [
    "%%file test_roots.py\n",
    "import pytest\n",
    "import roots\n",
    "\n",
    "def test_quadroots_result():\n",
    "    assert roots.quad_roots(1.0, 1.0, -12.0) == ((3+0j), (-4+0j))\n",
    "\n",
    "def test_quadroots_types():\n",
    "    with pytest.raises(TypeError):\n",
    "        roots.quad_roots(\"\", \"green\", \"hi\")\n",
    "\n",
    "def test_quadroots_zerocoeff():\n",
    "    with pytest.raises(ValueError):\n",
    "        roots.quad_roots(a=0.0)"
   ]
  },
  {
   "cell_type": "code",
   "execution_count": 14,
   "metadata": {
    "scrolled": true,
    "slideshow": {
     "slide_type": "subslide"
    }
   },
   "outputs": [
    {
     "name": "stdout",
     "output_type": "stream",
     "text": [
      "\u001b[1m============================= test session starts ==============================\u001b[0m\n",
      "platform darwin -- Python 3.6.6, pytest-3.8.2, py-1.6.0, pluggy-0.7.1\n",
      "rootdir: /Users/dsondak/Teaching/Harvard/CS207/cs207_david_sondak/lectures/L11, inifile:\n",
      "plugins: remotedata-0.3.0, openfiles-0.3.0, doctestplus-0.1.3, cov-2.5.1, arraydiff-0.2\n",
      "collected 3 items                                                              \u001b[0m\u001b[1m\n",
      "\n",
      "test_roots.py ...\u001b[36m                                                        [100%]\u001b[0m\n",
      "\n",
      "\u001b[32m\u001b[1m=========================== 3 passed in 0.04 seconds ===========================\u001b[0m\n"
     ]
    }
   ],
   "source": [
    "!pytest"
   ]
  },
  {
   "cell_type": "markdown",
   "metadata": {
    "slideshow": {
     "slide_type": "subslide"
    }
   },
   "source": [
    "### Code Coverage\n",
    "\n",
    "In some sense, it would be nice to somehow check that every line in a program has been covered by a test.  If you could do this, you might know that a particular line has not contributed to making something wrong. But this is hard to do: it would be hard to use normal input data to force a program to go through particular statements. So we settle for testing the important lines. The `pytest-cov` module makes sure that this works.\n",
    "\n",
    "Coverage does not mean that every edge case has been tried, but rather every critical statement has been tried.\n",
    "\n",
    "Let's add a new function to our roots file."
   ]
  },
  {
   "cell_type": "code",
   "execution_count": 15,
   "metadata": {
    "slideshow": {
     "slide_type": "subslide"
    }
   },
   "outputs": [
    {
     "name": "stdout",
     "output_type": "stream",
     "text": [
      "Overwriting roots.py\n"
     ]
    }
   ],
   "source": [
    "%%file roots.py\n",
    "def linear_roots(a=1.0, b=0.0):\n",
    "    \"\"\"Returns the roots of a linear equation: ax+ b = 0.\n",
    "    \n",
    "    INPUTS\n",
    "    =======\n",
    "    a: float, optional, default value is 1\n",
    "       Coefficient of linear term\n",
    "    b: float, optional, default value is 0\n",
    "       Coefficient of constant term\n",
    "    \n",
    "    RETURNS\n",
    "    ========\n",
    "    roots: 1-tuple of real floats\n",
    "       Has the form (root) unless a = 0 \n",
    "       in which case a ValueError exception is raised\n",
    "    \n",
    "    EXAMPLES\n",
    "    =========\n",
    "    >>> linear_roots(1.0, 2.0)\n",
    "    -2.0\n",
    "    \"\"\"\n",
    "    if a == 0:\n",
    "        raise ValueError(\"The linear coefficient is zero.  This is not a linear equation.\")\n",
    "    else:\n",
    "        return ((-b / a))\n",
    "\n",
    "def quad_roots(a=1.0, b=2.0, c=0.0):\n",
    "    \"\"\"Returns the roots of a quadratic equation: ax^2 + bx + c = 0.\n",
    "    \n",
    "    INPUTS\n",
    "    =======\n",
    "    a: float, optional, default value is 1\n",
    "       Coefficient of quadratic term\n",
    "    b: float, optional, default value is 2\n",
    "       Coefficient of linear term\n",
    "    c: float, optional, default value is 0\n",
    "       Constant term\n",
    "    \n",
    "    RETURNS\n",
    "    ========\n",
    "    roots: 2-tuple of complex floats\n",
    "       Has the form (root1, root2) unless a = 0 \n",
    "       in which case a ValueError exception is raised\n",
    "    \n",
    "    EXAMPLES\n",
    "    =========\n",
    "    >>> quad_roots(1.0, 1.0, -12.0)\n",
    "    ((3+0j), (-4+0j))\n",
    "    \"\"\"\n",
    "    import cmath # Can return complex numbers from square roots\n",
    "    if a == 0:\n",
    "        raise ValueError(\"The quadratic coefficient is zero.  This is not a quadratic equation.\")\n",
    "    else:\n",
    "        sqrtdisc = cmath.sqrt(b * b - 4.0 * a * c)\n",
    "        r1 = -b + sqrtdisc\n",
    "        r2 = -b - sqrtdisc\n",
    "        twoa = 2.0 * a\n",
    "        return (r1 / twoa, r2 / twoa)"
   ]
  },
  {
   "cell_type": "markdown",
   "metadata": {
    "slideshow": {
     "slide_type": "subslide"
    }
   },
   "source": [
    "#### Run the tests and check code coverage"
   ]
  },
  {
   "cell_type": "code",
   "execution_count": 16,
   "metadata": {
    "scrolled": true,
    "slideshow": {
     "slide_type": "subslide"
    }
   },
   "outputs": [
    {
     "name": "stdout",
     "output_type": "stream",
     "text": [
      "\u001b[1m============================= test session starts ==============================\u001b[0m\n",
      "platform darwin -- Python 3.6.6, pytest-3.8.2, py-1.6.0, pluggy-0.7.1\n",
      "rootdir: /Users/dsondak/Teaching/Harvard/CS207/cs207_david_sondak/lectures/L11, inifile:\n",
      "plugins: remotedata-0.3.0, openfiles-0.3.0, doctestplus-0.1.3, cov-2.5.1, arraydiff-0.2\n",
      "collected 3 items                                                              \u001b[0m\u001b[1m\n",
      "\n",
      "test_roots.py ...\u001b[36m                                                        [100%]\u001b[0m\n",
      "\n",
      "---------- coverage: platform darwin, python 3.6.6-final-0 -----------\n",
      "Name            Stmts   Miss  Cover\n",
      "-----------------------------------\n",
      "roots.py           13      3    77%\n",
      "test_roots.py      10      0   100%\n",
      "-----------------------------------\n",
      "TOTAL              23      3    87%\n",
      "\n",
      "\n",
      "\u001b[32m\u001b[1m=========================== 3 passed in 0.04 seconds ===========================\u001b[0m\n"
     ]
    }
   ],
   "source": [
    "!pytest --cov"
   ]
  },
  {
   "cell_type": "markdown",
   "metadata": {
    "slideshow": {
     "slide_type": "subslide"
    }
   },
   "source": [
    "#### Run the tests, report code coverage, and report missing lines."
   ]
  },
  {
   "cell_type": "code",
   "execution_count": 17,
   "metadata": {},
   "outputs": [
    {
     "name": "stdout",
     "output_type": "stream",
     "text": [
      "\u001b[1m============================= test session starts ==============================\u001b[0m\r\n",
      "platform darwin -- Python 3.6.6, pytest-3.8.2, py-1.6.0, pluggy-0.7.1\r\n",
      "rootdir: /Users/dsondak/Teaching/Harvard/CS207/cs207_david_sondak/lectures/L11, inifile:\r\n",
      "plugins: remotedata-0.3.0, openfiles-0.3.0, doctestplus-0.1.3, cov-2.5.1, arraydiff-0.2\r\n",
      "\u001b[1m\r",
      "collecting 0 items                                                             \u001b[0m\u001b[1m\r",
      "collecting 3 items                                                             \u001b[0m\u001b[1m\r",
      "collected 3 items                                                              \u001b[0m\r\n",
      "\r\n",
      "test_roots.py ...\u001b[36m                                                        [100%]\u001b[0m\r\n",
      "\r\n",
      "---------- coverage: platform darwin, python 3.6.6-final-0 -----------\r\n",
      "Name            Stmts   Miss  Cover   Missing\r\n",
      "---------------------------------------------\r\n",
      "roots.py           13      3    77%   22-25\r\n",
      "test_roots.py      10      0   100%\r\n",
      "---------------------------------------------\r\n",
      "TOTAL              23      3    87%\r\n",
      "\r\n",
      "\r\n",
      "\u001b[32m\u001b[1m=========================== 3 passed in 0.03 seconds ===========================\u001b[0m\r\n"
     ]
    }
   ],
   "source": [
    "!pytest --cov --cov-report term-missing"
   ]
  },
  {
   "cell_type": "markdown",
   "metadata": {
    "slideshow": {
     "slide_type": "subslide"
    }
   },
   "source": [
    "#### Run tests, **including the doctests**, report code coverage, and report missing lines."
   ]
  },
  {
   "cell_type": "code",
   "execution_count": 18,
   "metadata": {
    "scrolled": true
   },
   "outputs": [
    {
     "name": "stdout",
     "output_type": "stream",
     "text": [
      "\u001b[1m============================= test session starts ==============================\u001b[0m\n",
      "platform darwin -- Python 3.6.6, pytest-3.8.2, py-1.6.0, pluggy-0.7.1\n",
      "rootdir: /Users/dsondak/Teaching/Harvard/CS207/cs207_david_sondak/lectures/L11, inifile:\n",
      "plugins: remotedata-0.3.0, openfiles-0.3.0, doctestplus-0.1.3, cov-2.5.1, arraydiff-0.2\n",
      "collected 5 items                                                              \u001b[0m\u001b[1m\n",
      "\n",
      "roots.py ..\u001b[36m                                                              [ 40%]\u001b[0m\n",
      "test_roots.py ...\u001b[36m                                                        [100%]\u001b[0m\n",
      "\n",
      "---------- coverage: platform darwin, python 3.6.6-final-0 -----------\n",
      "Name            Stmts   Miss  Cover   Missing\n",
      "---------------------------------------------\n",
      "roots.py           13      1    92%   23\n",
      "test_roots.py      10      0   100%\n",
      "---------------------------------------------\n",
      "TOTAL              23      1    96%\n",
      "\n",
      "\n",
      "\u001b[32m\u001b[1m=========================== 5 passed in 0.06 seconds ===========================\u001b[0m\n"
     ]
    }
   ],
   "source": [
    "!pytest --doctest-modules --cov --cov-report term-missing"
   ]
  },
  {
   "cell_type": "markdown",
   "metadata": {
    "slideshow": {
     "slide_type": "subslide"
    }
   },
   "source": [
    "#### Let's put some tests in for the linear roots function."
   ]
  },
  {
   "cell_type": "code",
   "execution_count": 19,
   "metadata": {},
   "outputs": [
    {
     "name": "stdout",
     "output_type": "stream",
     "text": [
      "Overwriting test_roots.py\n"
     ]
    }
   ],
   "source": [
    "%%file test_roots.py\n",
    "import pytest\n",
    "import roots\n",
    "\n",
    "def test_quadroots_result():\n",
    "    assert roots.quad_roots(1.0, 1.0, -12.0) == ((3+0j), (-4+0j))\n",
    "\n",
    "def test_quadroots_types():\n",
    "    with pytest.raises(TypeError):\n",
    "        roots.quad_roots(\"\", \"green\", \"hi\")\n",
    "\n",
    "def test_quadroots_zerocoeff():\n",
    "    with pytest.raises(ValueError):\n",
    "        roots.quad_roots(a=0.0)\n",
    "\n",
    "def test_linearoots_result():\n",
    "    assert roots.linear_roots(2.0, -3.0) == 1.5\n",
    "\n",
    "def test_linearroots_types():\n",
    "    with pytest.raises(TypeError):\n",
    "        roots.linear_roots(\"ocean\", 6.0)\n",
    "\n",
    "def test_linearroots_zerocoeff():\n",
    "    with pytest.raises(ValueError):\n",
    "        roots.linear_roots(a=0.0)"
   ]
  },
  {
   "cell_type": "markdown",
   "metadata": {
    "slideshow": {
     "slide_type": "subslide"
    }
   },
   "source": [
    "#### Now run the tests and check code coverage."
   ]
  },
  {
   "cell_type": "code",
   "execution_count": 20,
   "metadata": {
    "slideshow": {
     "slide_type": "subslide"
    }
   },
   "outputs": [
    {
     "name": "stdout",
     "output_type": "stream",
     "text": [
      "\u001b[1m============================= test session starts ==============================\u001b[0m\n",
      "platform darwin -- Python 3.6.6, pytest-3.8.2, py-1.6.0, pluggy-0.7.1\n",
      "rootdir: /Users/dsondak/Teaching/Harvard/CS207/cs207_david_sondak/lectures/L11, inifile:\n",
      "plugins: remotedata-0.3.0, openfiles-0.3.0, doctestplus-0.1.3, cov-2.5.1, arraydiff-0.2\n",
      "collected 8 items                                                              \u001b[0m\u001b[1m\n",
      "\n",
      "roots.py ..\u001b[36m                                                              [ 25%]\u001b[0m\n",
      "test_roots.py ......\u001b[36m                                                     [100%]\u001b[0m\n",
      "\n",
      "---------- coverage: platform darwin, python 3.6.6-final-0 -----------\n",
      "Name            Stmts   Miss  Cover   Missing\n",
      "---------------------------------------------\n",
      "roots.py           13      0   100%\n",
      "test_roots.py      18      0   100%\n",
      "---------------------------------------------\n",
      "TOTAL              31      0   100%\n",
      "\n",
      "\n",
      "\u001b[32m\u001b[1m=========================== 8 passed in 0.08 seconds ===========================\u001b[0m\n"
     ]
    }
   ],
   "source": [
    "!pytest --doctest-modules --cov --cov-report term-missing"
   ]
  }
 ],
 "metadata": {
  "celltoolbar": "Slideshow",
  "kernelspec": {
   "display_name": "Python 3",
   "language": "python",
   "name": "python3"
  },
  "language_info": {
   "codemirror_mode": {
    "name": "ipython",
    "version": 3
   },
   "file_extension": ".py",
   "mimetype": "text/x-python",
   "name": "python",
   "nbconvert_exporter": "python",
   "pygments_lexer": "ipython3",
   "version": "3.6.5"
  }
 },
 "nbformat": 4,
 "nbformat_minor": 2
}
