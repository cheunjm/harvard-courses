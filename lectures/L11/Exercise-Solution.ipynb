{
 "cells": [
  {
   "cell_type": "markdown",
   "metadata": {},
   "source": [
    "# Exercise:  Documentation and Testing\n",
    "The following little program needs some documentation and some tests.  Since you didn't write it, I'll tell you what it's supposed to do.  You'll need to document it.  Feel free to test for additional exceptions if you have time but start with it as it is.\n",
    "\n",
    "The point of the program is to compute the $L_{2}$ norm of a vector $v$.  A second argument, if provided, will be interpreted as a vector of weights.  The second argument must have the same length as the input vector.\n",
    "\n",
    "**NOTE:** The input type of the vectors for this program should be a list of numbers.\n",
    "\n",
    "As a reminder, the weighted $L_2$ norm of a vector $v$ is given by \n",
    "\\begin{align*}\n",
    "  \\|v\\|_{W} = \\sqrt{\\sum_{i=1}^{N}{\\left(w_{i}v_{i}\\right)^2}}\n",
    "\\end{align*}\n",
    "where $N$ is the length of the vector $v$, $v_{i}$ is the i-th component of the vector $v$ and $w_{i}$ is the i-th component of the weight vector.\n",
    "\n",
    "#### Requirements\n",
    "* You must write the documentation and a decent test suite.  Try to include some doctests as well!\n",
    "* Use the `pytest` module to run the doctests and unit tests and to assess the code coverage.\n",
    "\n",
    "If you don't already have `pytest`, you can install it using `pip install pytest`.  If you have trouble installing, here's the website: [`pytest` installation](https://docs.pytest.org/en/latest/getting-started.html)."
   ]
  },
  {
   "cell_type": "markdown",
   "metadata": {},
   "source": [
    "## Solution\n",
    "The tests can be found in the file `test_L2.py` and the function can be found in `L2.py`.\n",
    "\n",
    "Run `pytest --doctest-modules --cov --cov-report term-missing` from inside the directory to run the test suite.  Please don't use the Jupyter notebook this time."
   ]
  },
  {
   "cell_type": "markdown",
   "metadata": {},
   "source": [
    "#### Interpreter\n",
    "Now we'll use the Jupyter notebook as a `Python` interpreter."
   ]
  },
  {
   "cell_type": "code",
   "execution_count": 1,
   "metadata": {},
   "outputs": [],
   "source": [
    "# Import our module\n",
    "import L2"
   ]
  },
  {
   "cell_type": "code",
   "execution_count": 2,
   "metadata": {
    "scrolled": false
   },
   "outputs": [
    {
     "name": "stdout",
     "output_type": "stream",
     "text": [
      "Python Library Documentation: module L2\n",
      "\n",
      "NAME\n",
      "    L2\n",
      "\n",
      "FUNCTIONS\n",
      "    L2(v, *args)\n",
      "        Compute the weighted L2 norm.\n",
      "        \n",
      "        INPUTS\n",
      "        =======\n",
      "        v: a list of floats\n",
      "        args: a list of variable input arguments\n",
      "           args[0]: a list of weights, floats\n",
      "        \n",
      "        RETURNS\n",
      "        ========\n",
      "        s: the weighted L2 norm of the input v\n",
      "        \n",
      "        NOTES\n",
      "        =====\n",
      "        PRE: \n",
      "             - v is a list of floats\n",
      "             - the weights are stored in args[0]\n",
      "        POST:\n",
      "             - a, b, and c are not changed by this function\n",
      "             - raises a ValueError exception if len(v) .ne. len(args[0])\n",
      "             - returns a float\n",
      "        \n",
      "        EXAMPLES\n",
      "        =========\n",
      "        >>> L2([3.0, 4.0], [1.0, 2.0])\n",
      "        8.54400374531753\n",
      "\n",
      "FILE\n",
      "    /Users/dsondak/Teaching/Harvard/CS207/cs207_david_sondak/lectures/L11/L2.py\n",
      "\n"
     ]
    }
   ],
   "source": [
    "# Print the documentation\n",
    "import pydoc\n",
    "pydoc.doc(L2)"
   ]
  },
  {
   "cell_type": "code",
   "execution_count": 3,
   "metadata": {},
   "outputs": [
    {
     "name": "stdout",
     "output_type": "stream",
     "text": [
      "Trying:\n",
      "    L2([3.0, 4.0], [1.0, 2.0])\n",
      "Expecting:\n",
      "    8.54400374531753\n",
      "ok\n",
      "1 items had no tests:\n",
      "    L2\n",
      "1 items passed all tests:\n",
      "   1 tests in L2.L2\n",
      "1 tests in 2 items.\n",
      "1 passed and 0 failed.\n",
      "Test passed.\n"
     ]
    },
    {
     "data": {
      "text/plain": [
       "TestResults(failed=0, attempted=1)"
      ]
     },
     "execution_count": 3,
     "metadata": {},
     "output_type": "execute_result"
    }
   ],
   "source": [
    "# Run the doctests\n",
    "import doctest\n",
    "doctest.testmod(L2, verbose=True)"
   ]
  }
 ],
 "metadata": {
  "kernelspec": {
   "display_name": "Python 3",
   "language": "python",
   "name": "python3"
  },
  "language_info": {
   "codemirror_mode": {
    "name": "ipython",
    "version": 3
   },
   "file_extension": ".py",
   "mimetype": "text/x-python",
   "name": "python",
   "nbconvert_exporter": "python",
   "pygments_lexer": "ipython3",
   "version": "3.6.6"
  }
 },
 "nbformat": 4,
 "nbformat_minor": 2
}
