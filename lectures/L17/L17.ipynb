{
 "cells": [
  {
   "cell_type": "markdown",
   "metadata": {
    "slideshow": {
     "slide_type": "slide"
    }
   },
   "source": [
    "# Lecture 17\n",
    "\n",
    "### Tuesday, October 30th 2018"
   ]
  },
  {
   "cell_type": "markdown",
   "metadata": {
    "slideshow": {
     "slide_type": "slide"
    }
   },
   "source": [
    "## Last time:\n",
    "* Iterators and Iterables\n",
    "* Trees, Binary trees, and BSTs\n",
    "\n",
    "## This time:\n",
    "* BST Traversal\n",
    "* Generators\n",
    "* Memory layouts\n",
    "* Heaps?"
   ]
  },
  {
   "cell_type": "markdown",
   "metadata": {
    "slideshow": {
     "slide_type": "slide"
    }
   },
   "source": [
    "# BST Traversal\n",
    "\n",
    "* We've stored our data in a BST\n",
    "* This seemed like a good idea at the time because BSTs have some nice properties\n",
    "* To be able to access/use our data, we need to be able to traverse the tree"
   ]
  },
  {
   "cell_type": "markdown",
   "metadata": {
    "slideshow": {
     "slide_type": "subslide"
    }
   },
   "source": [
    "#### Traversal Choices\n",
    "\n",
    "There are three traversal choices based on an implicit ordering of the tree from left to right:\n",
    "\n",
    "1. In-order: Traverse left-subtree, then current root, then right sub tree\n",
    "2. Post-order: Traverse left subtree, then traverse right subtree, and then current root\n",
    "3. Pre-order: Current root, then traverse left subtree, then traverse right subtree"
   ]
  },
  {
   "cell_type": "markdown",
   "metadata": {
    "slideshow": {
     "slide_type": "subslide"
    }
   },
   "source": [
    "* Traversing a tree means performing some operation\n",
    "* In our examples, the operation will be \"displaying the data\"\n",
    "* However, an operation could be \"deleting files\""
   ]
  },
  {
   "cell_type": "markdown",
   "metadata": {
    "slideshow": {
     "slide_type": "subslide"
    }
   },
   "source": [
    "## Exercise\n",
    "Traverse the BST below using *in-order*, *post-order*, and *pre-order* traversals.  Write the resulting sorted data structure (as a list is fine).\n",
    "![BST_primes](figs/BST_primes.png)"
   ]
  },
  {
   "cell_type": "markdown",
   "metadata": {
    "slideshow": {
     "slide_type": "slide"
    }
   },
   "source": [
    "# Heaps\n",
    "We listed several types of data structures at the beginning of our data structures unit.\n",
    "\n",
    "So far, we have discussed lists and trees (in particular binary trees and binary search trees).\n",
    "\n",
    "Heaps are a type of tree, a little different from binary trees."
   ]
  },
  {
   "cell_type": "markdown",
   "metadata": {
    "slideshow": {
     "slide_type": "subslide"
    }
   },
   "source": [
    "### Some Motivation:  priority queues\n",
    "\n",
    "* People may come to your customer service counter in a certain order, but you might want to serve your executive class first! \n",
    "* In other words, there is an \"ordering\" on your customers and you want to serve people in the order of the most VIP.\n",
    "* This problem requires us to then sort things by importance and then evaluate things in this sorted order.\n",
    "* A priority queue is a data structure for this, which allows us to do things more efficiently than simple sorting every time a new thing comes in.\n",
    "\n",
    "Items are inserted at one end and deleted from the other end of a queue (first in, first out [FIFO] buffer)."
   ]
  },
  {
   "cell_type": "markdown",
   "metadata": {
    "slideshow": {
     "slide_type": "subslide"
    }
   },
   "source": [
    "The basic priority queue is defined to be supporting three primary operations:\n",
    "1. *Insert*: insert an item with \"key\" (e.g. an importance) $k$ into priority queue $Q$.\n",
    "2. *Find Minimum*: get the item, or a pointer to the item, whose key value is smaller than any other key in $Q$.\n",
    "3. *Delete Minimum*: Remove the item with minimum $k$ from $Q$."
   ]
  },
  {
   "cell_type": "markdown",
   "metadata": {
    "slideshow": {
     "slide_type": "subslide"
    }
   },
   "source": [
    "### Comments on Implementation of Priorty Queues\n",
    "\n",
    "One could use an unsorted array and store a pointer to the minimum index; accessing the minimum is an $\\mathcal{O}(1)$ operation.\n",
    "* It's cheap to update the pointer when new items are inserted into the array because we update it in $\\mathcal{O}(1)$ only when the new value is less than the current one.\n",
    "* Finding a new minimum after deleting the old one requires a scan of the array ($\\mathcal{O}(n)$ operation) and then resetting the pointer."
   ]
  },
  {
   "cell_type": "markdown",
   "metadata": {
    "slideshow": {
     "slide_type": "subslide"
    }
   },
   "source": [
    "One could alternatively implement the priority queue with a *balanced* binary tree structure.  Then we'll get performance of $\\displaystyle\\mathcal{O}\\left(\\log(n)\\right)$!"
   ]
  },
  {
   "cell_type": "markdown",
   "metadata": {
    "slideshow": {
     "slide_type": "fragment"
    }
   },
   "source": [
    "This leads us to *heaps*.  Heaps are a type of balanced binary tree.\n",
    "\n",
    "* A heap providing access to minimum values is called a *min-heap*\n",
    "* A heap providing access to maximum values is called a *max-heap*\n",
    "* Note that you can't have a *min-heap* and *max-heap* together"
   ]
  },
  {
   "cell_type": "markdown",
   "metadata": {
    "slideshow": {
     "slide_type": "subslide"
    }
   },
   "source": [
    "### Heapsort\n",
    "* Implementing a priority queue with [`selection sort`](https://en.wikipedia.org/wiki/Selection_sort) takes $\\displaystyle\\mathcal{O}\\left(n^{2}\\right)$ operations\n",
    "* Using a heap takes $\\mathcal{O}(n\\log(n))$ operations\n",
    "\n",
    "Implementing a sorting algorithm using a heap is called `heapsort`.\n",
    "\n",
    "`Heapsort` is an *in-place* sort and requires no extra memory.\n",
    "\n",
    "Note that there are many sorting algorithms nowadays.  `Python` uses [`Timsort`](https://en.wikipedia.org/wiki/Timsort)."
   ]
  },
  {
   "cell_type": "markdown",
   "metadata": {
    "slideshow": {
     "slide_type": "fragment"
    }
   },
   "source": [
    "Let's get back to heaps."
   ]
  },
  {
   "cell_type": "markdown",
   "metadata": {
    "slideshow": {
     "slide_type": "subslide"
    }
   },
   "source": [
    "A heap has two properties:\n",
    "\n",
    "1. Shape property\n",
    "   * A leaf node at depth $k>0$ can exist only if all the nodes at the previous depth exist. Nodes at any partially filled level are added \"from left to right\".\n",
    "2. Heap property\n",
    "   * For a *min-heap*, each node in the tree contains a key less than or equal to either of its two children (if they exist).\n",
    "     - This is also known as the labeling of a \"parent node\" dominating that of its children. \n",
    "   * For max heaps we use greater-than-or-equal."
   ]
  },
  {
   "cell_type": "markdown",
   "metadata": {
    "slideshow": {
     "slide_type": "subslide"
    }
   },
   "source": [
    "#### Heap Mechanics\n",
    "\n",
    "* The first element in the array is the root key\n",
    "* The next two elements make up the first level of children.  This is done from left to right\n",
    "* Then the next four and so on."
   ]
  },
  {
   "cell_type": "markdown",
   "metadata": {
    "slideshow": {
     "slide_type": "subslide"
    }
   },
   "source": [
    "#### Construct a Heap\n",
    "\n",
    "To construct a heap, insert each new element that comes in at the left-most open spot. \n",
    "\n",
    "This maintains the shape property but not the heap property."
   ]
  },
  {
   "cell_type": "markdown",
   "metadata": {
    "slideshow": {
     "slide_type": "subslide"
    }
   },
   "source": [
    "#### Restore the Heap Property by \"Bubbling Up\"\n",
    "Look at the parent and if the child \"dominates\" we swap parent and child. Repeat this process until we bubble up to the root.\n",
    "\n",
    "Identifying the dominant is now easy because it will be at the top of the tree.\n",
    "\n",
    "This process is called `heapify` and must also be done at the first construction of the heap."
   ]
  },
  {
   "cell_type": "markdown",
   "metadata": {
    "slideshow": {
     "slide_type": "subslide"
    }
   },
   "source": [
    "#### Deletion\n",
    "Removing the dominant key creates a hole at the top (the first position in the array).\n",
    "\n",
    "**Fill this hole with the rightmost position in the array**, or the rightmost leaf node.\n",
    "\n",
    "This destroys the heap property!\n",
    "\n",
    "So we now bubble this key down until it dominates all its children."
   ]
  },
  {
   "cell_type": "markdown",
   "metadata": {
    "slideshow": {
     "slide_type": "subslide"
    }
   },
   "source": [
    "## Exercise\n",
    "1. Construct a *min-heap* for the array $$\\left[1, 8, 5, 9, 23, 2, 45, 6, 7, 99, -5\\right].$$\n",
    "2. Delete $-5$ and update the *min-heap*."
   ]
  }
 ],
 "metadata": {
  "celltoolbar": "Slideshow",
  "kernelspec": {
   "display_name": "Python 3",
   "language": "python",
   "name": "python3"
  },
  "language_info": {
   "codemirror_mode": {
    "name": "ipython",
    "version": 3
   },
   "file_extension": ".py",
   "mimetype": "text/x-python",
   "name": "python",
   "nbconvert_exporter": "python",
   "pygments_lexer": "ipython3",
   "version": "3.6.6"
  }
 },
 "nbformat": 4,
 "nbformat_minor": 1
}
