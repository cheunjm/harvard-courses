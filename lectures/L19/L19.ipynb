{
 "cells": [
  {
   "cell_type": "markdown",
   "metadata": {
    "slideshow": {
     "slide_type": "slide"
    }
   },
   "source": [
    "# Lecture 19\n",
    "## Databases\n",
    "### Tuesday, November 6th 2018"
   ]
  },
  {
   "cell_type": "markdown",
   "metadata": {
    "slideshow": {
     "slide_type": "slide"
    }
   },
   "source": [
    "# Introduction"
   ]
  },
  {
   "cell_type": "markdown",
   "metadata": {
    "slideshow": {
     "slide_type": "subslide"
    }
   },
   "source": [
    "## Why Learn Databases"
   ]
  },
  {
   "cell_type": "markdown",
   "metadata": {
    "slideshow": {
     "slide_type": "fragment"
    }
   },
   "source": [
    "- You will see many databases in your career."
   ]
  },
  {
   "cell_type": "markdown",
   "metadata": {
    "slideshow": {
     "slide_type": "fragment"
    }
   },
   "source": [
    "- `SQL` (Structured Query Language) is still very popular and will remain so for a long time.  Hence, you will need to code `SQL`.\n",
    "  * `SQL` is the language used to query a relational database."
   ]
  },
  {
   "cell_type": "markdown",
   "metadata": {
    "slideshow": {
     "slide_type": "fragment"
    }
   },
   "source": [
    "- You will have to deal with systematic storage of structured and unstructured data at some point."
   ]
  },
  {
   "cell_type": "markdown",
   "metadata": {
    "slideshow": {
     "slide_type": "subslide"
    }
   },
   "source": [
    "## More Database Motivation"
   ]
  },
  {
   "cell_type": "markdown",
   "metadata": {
    "slideshow": {
     "slide_type": "fragment"
    }
   },
   "source": [
    "- It is very hard to implement a database well, but you must understand how they work."
   ]
  },
  {
   "cell_type": "markdown",
   "metadata": {
    "slideshow": {
     "slide_type": "fragment"
    }
   },
   "source": [
    "- Data storage/wrangling are not just database concerns; packages such as `dplyr` and `pandas` require a similar knowledge-base."
   ]
  },
  {
   "cell_type": "markdown",
   "metadata": {
    "slideshow": {
     "slide_type": "fragment"
    }
   },
   "source": [
    "- It is very important to make an informed decision on a storage engine that is sufficient for your program."
   ]
  },
  {
   "cell_type": "markdown",
   "metadata": {
    "slideshow": {
     "slide_type": "subslide"
    }
   },
   "source": [
    "## More Database Motivation\n",
    "- Important to understand query performance."
   ]
  },
  {
   "cell_type": "markdown",
   "metadata": {
    "slideshow": {
     "slide_type": "fragment"
    }
   },
   "source": [
    "- Transaction processing is not optimal for analytics."
   ]
  },
  {
   "cell_type": "markdown",
   "metadata": {
    "slideshow": {
     "slide_type": "subslide"
    }
   },
   "source": [
    "## What kind of data access do you need?"
   ]
  },
  {
   "cell_type": "markdown",
   "metadata": {
    "slideshow": {
     "slide_type": "fragment"
    }
   },
   "source": [
    "The answer depends on your problem and the resources you have available."
   ]
  },
  {
   "cell_type": "markdown",
   "metadata": {
    "slideshow": {
     "slide_type": "fragment"
    }
   },
   "source": [
    "|Database Genre     | Examples                 |\n",
    "| :-----------:     | :------:                 |\n",
    "| relational        | SQL and its derivatives |\n",
    "| document oriented | MongoDB, CouchDB         |\n",
    "| key-value         | Riak, Memcached, leveldb |\n",
    "| graph oriented    | Neo4J                    |\n",
    "| columnar          | HBase                    |"
   ]
  },
  {
   "cell_type": "markdown",
   "metadata": {
    "slideshow": {
     "slide_type": "slide"
    }
   },
   "source": [
    "# A Sampling of Database Genres"
   ]
  },
  {
   "cell_type": "markdown",
   "metadata": {
    "slideshow": {
     "slide_type": "slide"
    }
   },
   "source": [
    "## Relational Model\n",
    "- A relation (table) is a collection of tuples. Each tuple is called a *row*."
   ]
  },
  {
   "cell_type": "markdown",
   "metadata": {
    "slideshow": {
     "slide_type": "fragment"
    }
   },
   "source": [
    "- A collection of tables related to each other through common data values."
   ]
  },
  {
   "cell_type": "markdown",
   "metadata": {
    "slideshow": {
     "slide_type": "fragment"
    }
   },
   "source": [
    "- Items in a column are values of one attribute."
   ]
  },
  {
   "cell_type": "markdown",
   "metadata": {
    "slideshow": {
     "slide_type": "subslide"
    }
   },
   "source": [
    "## Relational Model Continued\n",
    "- A cell is expected to be atomic"
   ]
  },
  {
   "cell_type": "markdown",
   "metadata": {
    "slideshow": {
     "slide_type": "fragment"
    }
   },
   "source": [
    "- Tables are related to each other if they have columns (called keys) which represent the same values."
   ]
  },
  {
   "cell_type": "markdown",
   "metadata": {
    "slideshow": {
     "slide_type": "fragment"
    }
   },
   "source": [
    "- SQL (Structured Query Language) is a declarative model: a query optimizer decides how to execute the query."
   ]
  },
  {
   "cell_type": "markdown",
   "metadata": {
    "slideshow": {
     "slide_type": "subslide"
    }
   },
   "source": [
    "### Example from CS109:\n",
    "![](https://github.com/cs109/2015/raw/master/Lectures/Lecture4/contributors.png)"
   ]
  },
  {
   "cell_type": "markdown",
   "metadata": {
    "slideshow": {
     "slide_type": "subslide"
    }
   },
   "source": [
    "![](https://github.com/cs109/2015/raw/master/Lectures/Lecture4/candidates.png)"
   ]
  },
  {
   "cell_type": "markdown",
   "metadata": {
    "slideshow": {
     "slide_type": "subslide"
    }
   },
   "source": [
    "## Key-Value Model\n",
    "\n",
    "- like a dictionary\n",
    "- the database is the index"
   ]
  },
  {
   "cell_type": "markdown",
   "metadata": {
    "slideshow": {
     "slide_type": "subslide"
    }
   },
   "source": [
    "## Document Model\n",
    "\n",
    "- stores nested records\n",
    "- bad for many-to-many\n",
    "- storage locality good for access, bad for writing"
   ]
  },
  {
   "cell_type": "markdown",
   "metadata": {
    "slideshow": {
     "slide_type": "slide"
    }
   },
   "source": [
    "## Components to a database\n",
    "\n",
    "1. Client connection manager: what to do with incoming data\n",
    "2. Transactional storage\n",
    "    - storage data structures and the log\n",
    "    - transactions and ACID: atomicity, consistency, isolation, durability\n",
    "3. Process model: coroutines, threads, processes\n",
    "4. Query model and language: query optimization"
   ]
  },
  {
   "cell_type": "markdown",
   "metadata": {
    "slideshow": {
     "slide_type": "slide"
    }
   },
   "source": [
    "# Working with Databases"
   ]
  },
  {
   "cell_type": "markdown",
   "metadata": {
    "slideshow": {
     "slide_type": "subslide"
    }
   },
   "source": [
    "## Relational Grammar of Data\n",
    "\n",
    "- We want a language to help us easily query items in the database.\n",
    "- Provide simple verbs for simple things.\n",
    "- [`Pandas`](http://pandas.pydata.org/) is a library for `Python` that allows users to work with data structures and relational databases.\n",
    "- The `dplyr` package offers a bunch of data manipulation tools including those for working with relational databases with the `R` programming lanuage."
   ]
  },
  {
   "cell_type": "markdown",
   "metadata": {
    "slideshow": {
     "slide_type": "subslide"
    }
   },
   "source": [
    "The [`dplyr_pandas`](https://gist.github.com/TomAugspurger/6e052140eaa5fdb6e8c0/) notebook by Tom Augspurger contains a table comparing `dplyr` and `pandas`.  The following table is a modification to that table:\n",
    "\n",
    "<table>\n",
    "  <tr>\n",
    "    <th><b>VERB</b></th>\n",
    "    <th><b>dplyr</b></th>\n",
    "    <th><b>pandas</b></th>\n",
    "    <th><b>SQL</b></th>\n",
    "  </tr>\n",
    "  <tr>\n",
    "    <td>QUERY/SELECTION</td>\n",
    "    <td>filter() (and slice())</td>\n",
    "    <td>query() (and loc[], iloc[])</td>\n",
    "    <td>SELECT WHERE</td>\n",
    "  </tr>\n",
    "  <tr>\n",
    "    <td>SORT</td>\n",
    "    <td>arrange()</td>\n",
    "    <td>sort()</td>\n",
    "    <td>ORDER BY</td>\n",
    "  </tr>\n",
    "  <tr>\n",
    "    <td>SELECT-COLUMNS/PROJECTION</td>\n",
    "    <td>select() (and rename())</td>\n",
    "    <td>[](__getitem__) (and rename())</td>\n",
    "    <td>SELECT COLUMN</td>\n",
    "  </tr>\n",
    "  <tr>\n",
    "    <td>SELECT-DISTINCT</td>\n",
    "    <td>distinct()</td>\n",
    "    <td>unique(),drop_duplicates()</td>\n",
    "    <td>SELECT DISTINCT COLUMN</td>\n",
    "  </tr>\n",
    "  <tr>\n",
    "    <td>ASSIGN</td>\n",
    "    <td>mutate() (and transmute())</td>\n",
    "    <td>assign</td>\n",
    "    <td>ALTER/UPDATE</td>\n",
    "  </tr>\n",
    "  <tr>\n",
    "    <td>AGGREGATE</td>\n",
    "    <td>summarise()</td>\n",
    "    <td>describe(), mean(), max()</td>\n",
    "    <td>None, AVG(),MAX()</td>\n",
    "  </tr>\n",
    "  <tr>\n",
    "    <td>SAMPLE</td>\n",
    "    <td>sample_n() and sample_frac()</td>\n",
    "    <td>sample()</td>\n",
    "    <td>implementation dep, use RAND()</td>\n",
    "  </tr>\n",
    "  <tr>\n",
    "    <td>GROUP-AGG</td>\n",
    "    <td>group_by/summarize</td>\n",
    "    <td>groupby/agg, count, mean</td>\n",
    "    <td>GROUP BY</td>\n",
    "  </tr>\n",
    "  <tr>\n",
    "    <td>DELETE</td>\n",
    "    <td>?</td>\n",
    "    <td>drop/masking</td>\n",
    "    <td>DELETE/WHERE</td>\n",
    "  </tr>\n",
    "</table>"
   ]
  },
  {
   "cell_type": "markdown",
   "metadata": {
    "slideshow": {
     "slide_type": "subslide"
    }
   },
   "source": [
    "##  `SQL` and `SQLite`"
   ]
  },
  {
   "cell_type": "markdown",
   "metadata": {
    "slideshow": {
     "slide_type": "fragment"
    }
   },
   "source": [
    "`NoSQL` databases are gaining in popularity.  However, we will stick with traditional relational databases in the course."
   ]
  },
  {
   "cell_type": "markdown",
   "metadata": {
    "slideshow": {
     "slide_type": "fragment"
    }
   },
   "source": [
    "* We need a way of querying a given relational database.  There are several languages for such a purpose.  We will focus on `SQL` (Structured Query Language)."
   ]
  },
  {
   "cell_type": "markdown",
   "metadata": {
    "slideshow": {
     "slide_type": "fragment"
    }
   },
   "source": [
    "* `SQL` has a long history.  Because of this (or in spite of it), there are many versions of `SQL` available today."
   ]
  },
  {
   "cell_type": "markdown",
   "metadata": {
    "slideshow": {
     "slide_type": "subslide"
    }
   },
   "source": [
    "## `SQLite`\n",
    "* Here are some great references: \n",
    "  - [`SQLite` Homepage](https://www.sqlite.org/)\n",
    "  - [A thorough guide to SQLite database operations in Python](http://sebastianraschka.com/Articles/2014_sqlite_in_python_tutorial.html)\n",
    "  - [SQL-Tutorial](https://github.com/tthibo/SQL-Tutorial)"
   ]
  },
  {
   "cell_type": "markdown",
   "metadata": {
    "slideshow": {
     "slide_type": "fragment"
    }
   },
   "source": [
    "* `SQLite` is built into `Python`.\n",
    "  - `Python` implements a standard database API for all databases called DBAPI2.  Some references:  [DBAPI2](http://cewing.github.io/training.codefellows/lectures/day21/intro_to_dbapi2.html) and [PEP 249](https://www.python.org/dev/peps/pep-0249/)."
   ]
  },
  {
   "cell_type": "markdown",
   "metadata": {
    "slideshow": {
     "slide_type": "fragment"
    }
   },
   "source": [
    "* Note:  There is an even higher level API available, called [SQLAlchemy](http://www.sqlalchemy.org)."
   ]
  },
  {
   "cell_type": "markdown",
   "metadata": {
    "slideshow": {
     "slide_type": "subslide"
    }
   },
   "source": [
    "* You can install `SQLite` if you need to: https://www.sqlite.org/download.html.\n",
    "* You may find the `SQLite` browser useful: http://sqlitebrowser.org.\n",
    "* You can access the command line interface by downloading the `SQLite` CLI:, [`SQLite` CLI](https://www.sqlite.org/cli.html)"
   ]
  },
  {
   "cell_type": "markdown",
   "metadata": {
    "slideshow": {
     "slide_type": "slide"
    }
   },
   "source": [
    "# `SQLite` Basics"
   ]
  },
  {
   "cell_type": "markdown",
   "metadata": {
    "slideshow": {
     "slide_type": "subslide"
    }
   },
   "source": [
    "## The Plan\n",
    "* We're going to work with the `sqlite3` package in `Python`."
   ]
  },
  {
   "cell_type": "markdown",
   "metadata": {
    "slideshow": {
     "slide_type": "fragment"
    }
   },
   "source": [
    "* This package will allow us to execute basic `SQLite` commands in `Python` to build and manipulate our database."
   ]
  },
  {
   "cell_type": "markdown",
   "metadata": {
    "slideshow": {
     "slide_type": "fragment"
    }
   },
   "source": [
    "* We'll start by creating a `SQL` database and work up from there."
   ]
  },
  {
   "cell_type": "markdown",
   "metadata": {
    "slideshow": {
     "slide_type": "subslide"
    }
   },
   "source": [
    "## More of The Plan\n",
    "* Ultimately, we'd like to work with `pandas` to make our lives easier."
   ]
  },
  {
   "cell_type": "markdown",
   "metadata": {
    "slideshow": {
     "slide_type": "fragment"
    }
   },
   "source": [
    "* At least in the beginning, we'll just work directly with the `SQLite` commands to get the basics down."
   ]
  },
  {
   "cell_type": "markdown",
   "metadata": {
    "slideshow": {
     "slide_type": "subslide"
    }
   },
   "source": [
    "## The Essentials\n",
    "### Core Commands\n",
    "* SELECT --- Select a table name\n",
    "* INSERT --- Insert data into the table\n",
    "* UPDATE --- Change data values in the table\n",
    "* DELETE --- Delete data in the table\n",
    "\n",
    "We can string these commands together to perform our basic operations on the database."
   ]
  },
  {
   "cell_type": "markdown",
   "metadata": {
    "slideshow": {
     "slide_type": "subslide"
    }
   },
   "source": [
    "### Structural Commands\n",
    "These commands are used to modify the structure of the table in a database.\n",
    "\n",
    "* CREATE --- Create a table in a database\n",
    "* DROP --- Delete a table in the database\n",
    "* ALTER --- Add, delete, or modify columns in an existing table"
   ]
  },
  {
   "cell_type": "markdown",
   "metadata": {
    "collapsed": true,
    "slideshow": {
     "slide_type": "subslide"
    }
   },
   "source": [
    "## Starting a Database\n",
    "We'll start by using the simplest of the commands.  Ultimately, we will create a database with tables of presidential candidates (from 2012) and their contributors."
   ]
  },
  {
   "cell_type": "markdown",
   "metadata": {
    "slideshow": {
     "slide_type": "fragment"
    }
   },
   "source": [
    "We begin by importing `sqlite3` into `Python`."
   ]
  },
  {
   "cell_type": "code",
   "execution_count": null,
   "metadata": {
    "slideshow": {
     "slide_type": "fragment"
    }
   },
   "outputs": [],
   "source": [
    "import sqlite3"
   ]
  },
  {
   "cell_type": "markdown",
   "metadata": {
    "slideshow": {
     "slide_type": "subslide"
    }
   },
   "source": [
    "* Next, we create a connection to the database.  A new one will be created if it doesn't already exist.\n",
    "* Then we'll place the \"cursor\" on the database."
   ]
  },
  {
   "cell_type": "code",
   "execution_count": null,
   "metadata": {
    "slideshow": {
     "slide_type": "fragment"
    }
   },
   "outputs": [],
   "source": [
    "db = sqlite3.connect('test_db.sqlite')\n",
    "cursor = db.cursor()\n",
    "cursor.execute(\"DROP TABLE IF EXISTS candidates\") # Convenient in case you want to start over\n",
    "cursor.execute(\"DROP TABLE IF EXISTS contributors\") # Convenient in case you want to start over"
   ]
  },
  {
   "cell_type": "code",
   "execution_count": null,
   "metadata": {
    "slideshow": {
     "slide_type": "fragment"
    }
   },
   "outputs": [],
   "source": [
    "# This strange command turns on FOREIGN KEY support in SQLite.\n",
    "# By default, this support is off.\n",
    "# We'll talk about foreign keys later on.  Just setting things up here.\n",
    "cursor.execute(\"PRAGMA foreign_keys=1\")"
   ]
  },
  {
   "cell_type": "markdown",
   "metadata": {
    "slideshow": {
     "slide_type": "subslide"
    }
   },
   "source": [
    "## Creating a First Table in the Database\n",
    "We have a connection to a database, but that database doesn't have a table in it.\n",
    "\n",
    "We'll create a table for the candidates with the following columns:  `id`, `first_name`, `last_name`, `middle_initial`, and `party`.\n",
    "\n",
    "We require `id` to be of type integer and the rest to be a string."
   ]
  },
  {
   "cell_type": "code",
   "execution_count": null,
   "metadata": {
    "slideshow": {
     "slide_type": "fragment"
    }
   },
   "outputs": [],
   "source": [
    "cursor.execute('''CREATE TABLE candidates (\n",
    "               id INTEGER PRIMARY KEY NOT NULL, \n",
    "               first_name TEXT, \n",
    "               last_name TEXT, \n",
    "               middle_init TEXT, \n",
    "               party TEXT NOT NULL)''')\n",
    "\n",
    "db.commit() # Commit changes to the database"
   ]
  },
  {
   "cell_type": "markdown",
   "metadata": {
    "slideshow": {
     "slide_type": "subslide"
    }
   },
   "source": [
    "### Discussion\n",
    "What did we just do?  Some of the commands are obvious (like `CREATE TABLE`) but others are not (like `PRIMARY KEY`)."
   ]
  },
  {
   "cell_type": "markdown",
   "metadata": {
    "slideshow": {
     "slide_type": "subslide"
    }
   },
   "source": [
    "1. `cursor.execute()` runs the `SQLite` command, which we pass in as a string."
   ]
  },
  {
   "cell_type": "markdown",
   "metadata": {
    "slideshow": {
     "slide_type": "fragment"
    }
   },
   "source": [
    "2. The `id` column:\n",
    "  * Has integer values.\n",
    "  * Is the `PRIMARY KEY`.  This means that those field values are *unique* and cannot have `NULL` values.  A table can only have one `PRIMARY KEY`.\n",
    "  * Prohibit `NULL` values."
   ]
  },
  {
   "cell_type": "markdown",
   "metadata": {
    "slideshow": {
     "slide_type": "subslide"
    }
   },
   "source": [
    "3. `first_name`, `last_name`, `middle_init` are all `TEXT` fields of unlimited length.\n",
    "  * Note that `SQL` has other types such as `VARCHAR(N)` and `CHAR(N)`.  `VARCHAR(N)` allows variable text lengths up to `N` characters in length and `CHAR(N)` expects text of *exactly* `N` characters."
   ]
  },
  {
   "cell_type": "markdown",
   "metadata": {
    "slideshow": {
     "slide_type": "fragment"
    }
   },
   "source": [
    "4. `party` is also entered as `TEXT` and cannot have `NULL` values."
   ]
  },
  {
   "cell_type": "markdown",
   "metadata": {
    "slideshow": {
     "slide_type": "subslide"
    }
   },
   "source": [
    "We have followed a convention wherein `SQL` commands are issued in capital letters and table fields are written in lowercase text.\n",
    "\n",
    "**NOTE:** Always commit changes to your database!  If you don't, you will lose them when you close the database."
   ]
  },
  {
   "cell_type": "markdown",
   "metadata": {
    "slideshow": {
     "slide_type": "subslide"
    }
   },
   "source": [
    "## Adding Values"
   ]
  },
  {
   "cell_type": "code",
   "execution_count": null,
   "metadata": {
    "slideshow": {
     "slide_type": "fragment"
    }
   },
   "outputs": [],
   "source": [
    "cursor.execute('''INSERT INTO candidates\n",
    "               (id, first_name, last_name, middle_init, party)\n",
    "               VALUES (?, ?, ?, ?, ?)''', \n",
    "                (16, \"Mike\", \"Huckabee\", \"\", \"R\"))\n",
    "db.commit()"
   ]
  },
  {
   "cell_type": "markdown",
   "metadata": {
    "slideshow": {
     "slide_type": "subslide"
    }
   },
   "source": [
    "### Discussion\n",
    "* We executed the `INSERT` command in order to insert some values into the `candidates` table."
   ]
  },
  {
   "cell_type": "markdown",
   "metadata": {
    "slideshow": {
     "slide_type": "fragment"
    }
   },
   "source": [
    "* This could be read as: \"Insert into the `candidates` table into the columns (...) the values (?,?,?,?,?)\""
   ]
  },
  {
   "cell_type": "markdown",
   "metadata": {
    "slideshow": {
     "slide_type": "subslide"
    }
   },
   "source": [
    "* Why all the question marks?\n",
    "  - The question marks are not necessary, but they are important.  You can use `Python's` string formatting to insert parameters into the `execute()` method.\n",
    "  - However, there are two pretty good reasons for using the ? placeholders instead:\n",
    "    1. They leave the burden of correctly encoding and escaping data items to the database module\n",
    "    2. More importantly, they improve security because they prevent arbitrary `SQL` from being injected into a query.\n",
    "    ![](xkcd_SQL.png)"
   ]
  },
  {
   "cell_type": "markdown",
   "metadata": {
    "slideshow": {
     "slide_type": "subslide"
    }
   },
   "source": [
    "![](figs/xkcd_SQL.png)"
   ]
  },
  {
   "cell_type": "markdown",
   "metadata": {
    "slideshow": {
     "slide_type": "subslide"
    }
   },
   "source": [
    "## Some Queries\n",
    "First, let's add another entry or two."
   ]
  },
  {
   "cell_type": "code",
   "execution_count": null,
   "metadata": {
    "slideshow": {
     "slide_type": "fragment"
    }
   },
   "outputs": [],
   "source": [
    "cursor.execute('''INSERT INTO candidates\n",
    "               (id, first_name, last_name, middle_init, party)\n",
    "               VALUES (?, ?, ?, ?, ?)''', \n",
    "                (34, \"Hillary\", \"Clinton\", \"R.\", \"D\"))\n",
    "db.commit()"
   ]
  },
  {
   "cell_type": "markdown",
   "metadata": {
    "slideshow": {
     "slide_type": "subslide"
    }
   },
   "source": [
    "### Getting All Rows from a Table"
   ]
  },
  {
   "cell_type": "code",
   "execution_count": null,
   "metadata": {
    "slideshow": {
     "slide_type": "fragment"
    }
   },
   "outputs": [],
   "source": [
    "cursor.execute(\"SELECT * FROM candidates\")\n",
    "all_rows = cursor.fetchall()\n",
    "print(all_rows)"
   ]
  },
  {
   "cell_type": "markdown",
   "metadata": {
    "slideshow": {
     "slide_type": "subslide"
    }
   },
   "source": [
    "### Selecting Specifics"
   ]
  },
  {
   "cell_type": "code",
   "execution_count": null,
   "metadata": {
    "slideshow": {
     "slide_type": "fragment"
    }
   },
   "outputs": [],
   "source": [
    "cursor.execute(\"SELECT * FROM candidates WHERE first_name = 'Joseph'\")\n",
    "all_rows = cursor.fetchall()\n",
    "print(all_rows)"
   ]
  },
  {
   "cell_type": "code",
   "execution_count": null,
   "metadata": {
    "slideshow": {
     "slide_type": "fragment"
    }
   },
   "outputs": [],
   "source": [
    "cursor.execute(\"SELECT first_name FROM candidates\")\n",
    "all_rows = cursor.fetchall()\n",
    "print(all_rows)"
   ]
  },
  {
   "cell_type": "markdown",
   "metadata": {
    "slideshow": {
     "slide_type": "subslide"
    }
   },
   "source": [
    "### An Exercise\n",
    "Read data from the `candidates.txt` file and enter it into the `candidates` table that you just created."
   ]
  },
  {
   "cell_type": "markdown",
   "metadata": {
    "slideshow": {
     "slide_type": "subslide"
    }
   },
   "source": [
    "## Another Table\n",
    "We'll add another table to our database and introduce a few new `SQL` commands and ideas.\n",
    "\n",
    "The new table will contain data on contributors and their contributions to each candidate."
   ]
  },
  {
   "cell_type": "code",
   "execution_count": null,
   "metadata": {
    "slideshow": {
     "slide_type": "subslide"
    }
   },
   "outputs": [],
   "source": [
    "cursor.execute('''CREATE TABLE contributors (\n",
    "          id INTEGER PRIMARY KEY AUTOINCREMENT NOT NULL, \n",
    "          last_name TEXT, \n",
    "          first_name TEXT, \n",
    "          middle_name TEXT, \n",
    "          street_1 TEXT, \n",
    "          street_2 TEXT, \n",
    "          city TEXT, \n",
    "          state TEXT, \n",
    "          zip TEXT, \n",
    "          amount INTEGER, \n",
    "          date DATETIME, \n",
    "          candidate_id INTEGER NOT NULL, \n",
    "          FOREIGN KEY(candidate_id) REFERENCES candidates(id))''')\n",
    "\n",
    "db.commit()"
   ]
  },
  {
   "cell_type": "markdown",
   "metadata": {
    "slideshow": {
     "slide_type": "subslide"
    }
   },
   "source": [
    "### Discussion\n",
    "The creation of our new table includes a few new commands:\n",
    "* `AUTOINCREMENT`:  The `id` for a new entry to the table will be automatically generated.  No need to enter this explicitly.  The increment starts at 1.\n",
    "* `DATETIME`:  Gives the date in the format YYYY-MM-DD HH:MM:SS\n",
    "* `FOREIGN KEY`:  This allows us to link the two tables (candidates and contributors).  More below."
   ]
  },
  {
   "cell_type": "markdown",
   "metadata": {
    "slideshow": {
     "slide_type": "subslide"
    }
   },
   "source": [
    "### Discussion:  FOREIGN KEY\n",
    "* We'd like to be able to keep track of the contributions to each candidate."
   ]
  },
  {
   "cell_type": "markdown",
   "metadata": {
    "slideshow": {
     "slide_type": "fragment"
    }
   },
   "source": [
    "* In order to accomplish this, we need to link the candidates and contributors tables somehow."
   ]
  },
  {
   "cell_type": "markdown",
   "metadata": {
    "slideshow": {
     "slide_type": "fragment"
    }
   },
   "source": [
    "* A reference between the two tables is created by a common field in each table."
   ]
  },
  {
   "cell_type": "markdown",
   "metadata": {
    "slideshow": {
     "slide_type": "subslide"
    }
   },
   "source": [
    "### Discussion on `FOREIGN KEY` continued\n",
    "* We define the `FOREIGN KEY` in the second table and it references a *unique* key in the first table.  Often, this unique key is the `PRIMARY KEY`."
   ]
  },
  {
   "cell_type": "markdown",
   "metadata": {
    "slideshow": {
     "slide_type": "fragment"
    }
   },
   "source": [
    "So, in our example, we create a new field in the contributors table called `candidate_id`.  We declare it to be a `FOREIGN KEY` that references the `id` field in the candidates table."
   ]
  },
  {
   "cell_type": "markdown",
   "metadata": {
    "slideshow": {
     "slide_type": "fragment"
    }
   },
   "source": [
    "Let's add a contributor."
   ]
  },
  {
   "cell_type": "markdown",
   "metadata": {
    "slideshow": {
     "slide_type": "subslide"
    }
   },
   "source": [
    "### Adding Some Data to Contributors Table"
   ]
  },
  {
   "cell_type": "code",
   "execution_count": null,
   "metadata": {
    "slideshow": {
     "slide_type": "fragment"
    }
   },
   "outputs": [],
   "source": [
    "contributors = [(\"Agee\", \"Steven\", \"\", \"549 Laurel Branch Road\", \"\", \"Floyd\", \"VA\", int(24091), int(500), 2007-6-30, 16),\n",
    "                (\"Aaron\", \"Carole\", \"\", \"PO Box 1806\", \"\", \"Ogunqui\", \"ME\", int(3907), int(70), 2008-2-7, 34)]\n",
    "\n",
    "cursor.executemany('INSERT INTO contributors (last_name, first_name, middle_name, street_1, street_2, city, state, zip, amount, date, candidate_id) VALUES (?, ?, ?, ?, ?, ?, ?, ?, ?, ?, ?)', contributors)\n",
    "db.commit()\n"
   ]
  },
  {
   "cell_type": "code",
   "execution_count": null,
   "metadata": {
    "scrolled": true,
    "slideshow": {
     "slide_type": "fragment"
    }
   },
   "outputs": [],
   "source": [
    "cursor.execute(\"SELECT last_name FROM contributors where amount < 100\")\n",
    "for c in cursor.fetchall():\n",
    "    print(c)"
   ]
  },
  {
   "cell_type": "markdown",
   "metadata": {
    "slideshow": {
     "slide_type": "subslide"
    }
   },
   "source": [
    "Now let's try to add a contributor who contributed to a candidate who's id is not in the candidates table."
   ]
  },
  {
   "cell_type": "code",
   "execution_count": null,
   "metadata": {
    "slideshow": {
     "slide_type": "fragment"
    }
   },
   "outputs": [],
   "source": [
    "cursor.execute('INSERT INTO contributors (last_name, first_name, middle_name, street_1, street_2, city, state, zip, amount, date, candidate_id) VALUES (?, ?, ?, ?, ?, ?, ?, ?, ?, ?, ?)', (\"Buckler\", \"Steve\", \"\", \"24351 Armada Dr.\", \"\", \"Dana Point\", \"CA\", int(926291), int(50), 2007-7-30, 20))\n"
   ]
  },
  {
   "cell_type": "markdown",
   "metadata": {
    "slideshow": {
     "slide_type": "subslide"
    }
   },
   "source": [
    "### Observations\n",
    "We got an error!\n",
    "\n",
    "This is because the `FOREIGN KEY` constraint was violated."
   ]
  }
 ],
 "metadata": {
  "anaconda-cloud": {},
  "celltoolbar": "Slideshow",
  "kernelspec": {
   "display_name": "Python 3",
   "language": "python",
   "name": "python3"
  },
  "language_info": {
   "codemirror_mode": {
    "name": "ipython",
    "version": 3
   },
   "file_extension": ".py",
   "mimetype": "text/x-python",
   "name": "python",
   "nbconvert_exporter": "python",
   "pygments_lexer": "ipython3",
   "version": "3.6.6"
  }
 },
 "nbformat": 4,
 "nbformat_minor": 1
}
