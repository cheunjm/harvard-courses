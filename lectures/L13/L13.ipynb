{
 "cells": [
  {
   "cell_type": "markdown",
   "metadata": {
    "slideshow": {
     "slide_type": "slide"
    }
   },
   "source": [
    "# Lecture 13\n",
    "## Tuesday, October 16th 2018"
   ]
  },
  {
   "cell_type": "markdown",
   "metadata": {
    "slideshow": {
     "slide_type": "slide"
    }
   },
   "source": [
    "# Practice with Packaging and Deployment\n",
    "\n",
    "* Virtual environments\n",
    "  * Motivation\n",
    "  * `virtualenv`\n",
    "  * `pipenv`\n",
    "  * Others:  [Why is pipenv the recommended packaging tool by the community and `PyPA`?](https://www.reddit.com/r/Python/comments/8jd6aq/why_is_pipenv_the_recommended_packaging_tool_by/)\n",
    "* Deployment"
   ]
  },
  {
   "cell_type": "markdown",
   "metadata": {
    "slideshow": {
     "slide_type": "slide"
    }
   },
   "source": [
    "# Last Time\n",
    "\n",
    "## The package\n",
    "Take 30 minutes (or so) to write a package based off of the `ComplexClass`.\n",
    "\n",
    "**Do not** develop in the Jupyter notebook.\n",
    "\n",
    "Do your development work in a text editor or an IDE.\n",
    "\n",
    "Work from your CS207 working directory (not necessarily your course repo)."
   ]
  },
  {
   "cell_type": "markdown",
   "metadata": {
    "slideshow": {
     "slide_type": "subslide"
    }
   },
   "source": [
    "## Package Requirements\n",
    "\n",
    "* Come up with a basic project directory structure (this one will be pretty bare bones).  For example:\n",
    "  ```\n",
    "     myproj\\\n",
    "           myproj\\\n",
    "                 __init__.py\n",
    "                 module.py\n",
    "                 tests/\n",
    "                      __init__.py\n",
    "           README.md\n",
    "           setup.py\n",
    "           LICENSE\n",
    "  ```\n",
    "\n",
    "* Note: I'm using the [\"Tests as part of application code\"](https://docs.pytest.org/en/latest/goodpractices.html#test-discovery) from the `pytest` documentation."
   ]
  },
  {
   "cell_type": "markdown",
   "metadata": {
    "slideshow": {
     "slide_type": "subslide"
    }
   },
   "source": [
    "## Package Requirements\n",
    "* You must build up the class a little bit.  At a minimum:\n",
    "  * Methods for getting the complex conjugate, magnitude, and argument (that is, angle) of the complex number\n",
    "  * Overload addition by defining `__add__` and `__radd__`\n",
    "  * A docstring (see [PEP257](https://www.python.org/dev/peps/pep-0257/) for some details on docstrings for classes and modules)\n",
    "  * Basic doctests\n",
    "* Your project *must* have a test suite."
   ]
  },
  {
   "cell_type": "markdown",
   "metadata": {
    "slideshow": {
     "slide_type": "slide"
    }
   },
   "source": [
    "# Virtual Environments\n",
    "* You've got a package ready to go\n",
    "* You probably (hopefully) developed it in the CS207 working directory\n",
    "* What if you're developing many packages with different requirements?\n",
    "* How do you deploy it?"
   ]
  },
  {
   "cell_type": "markdown",
   "metadata": {
    "slideshow": {
     "slide_type": "subslide"
    }
   },
   "source": [
    "## Virtual Environments\n",
    "\n",
    "* A virtual environment allows the developer to develop (and deploy) a package without having to worry about dependencies\n",
    "  * For example, your project may include several external dependencies\n",
    "  * You don't want to muck up or pollute your global environment with all these dependencies\n",
    "  * However, you need to install those dependencies to use the package!"
   ]
  },
  {
   "cell_type": "markdown",
   "metadata": {
    "slideshow": {
     "slide_type": "subslide"
    }
   },
   "source": [
    "## Virtual Environments\n",
    "\n",
    "* You may have different packages with different dependencies and you'd like to keep those environments separate while developing\n",
    "* You may want to make it easy for a user to install dependencies so they can get up and running with your package right away"
   ]
  },
  {
   "cell_type": "markdown",
   "metadata": {
    "slideshow": {
     "slide_type": "subslide"
    }
   },
   "source": [
    "## `virtualenv`\n",
    "* `virtualenv` has historically been an indispensable tool for managing virtual environments\n",
    "* Nowadays, `virtualenv` has been incorporated into broader tools such as [`pipenv`](https://pipenv.readthedocs.io/en/latest/)\n",
    "* `virtualenv` is still a great way of illustrating the basic ideas\n",
    "* `virtualenv` is shipped with `Anaconda`"
   ]
  },
  {
   "cell_type": "markdown",
   "metadata": {
    "slideshow": {
     "slide_type": "subslide"
    }
   },
   "source": [
    "## Getting Going with `virtualenv`\n",
    "1. You probably already have `virtualenv`, but just in case type `sudo easy_install virtualenv`\n",
    "2. Now, navigate to the top level of your project directory and type `virtualenv env`\n",
    "   - What do you see when you do `ls`?\n",
    "3. Next type `source env/bin/activate`\n",
    "   - What do you see?"
   ]
  },
  {
   "cell_type": "markdown",
   "metadata": {
    "slideshow": {
     "slide_type": "subslide"
    }
   },
   "source": [
    "## Comments on `virtualenv`\n",
    "* You created and activated a virtual environment called `env`\n",
    "* Now everything you install will be in that virtual environment\n",
    "* Within the virtual environment type `pip install sparsegrad`. (See [`sparsegrad`](https://pypi.org/project/sparsegrad/))\n",
    "  - Type `python` to start the `python` interpreter\n",
    "  - In the `python` interpreter type `import sparsegrad`\n",
    "  - It works!"
   ]
  },
  {
   "cell_type": "markdown",
   "metadata": {
    "slideshow": {
     "slide_type": "subslide"
    }
   },
   "source": [
    "## More comments on `virtualenv`\n",
    "* Now exit the `python` interpreter\n",
    "* And exit the virtual environment (Just type `deactivate`)\n",
    "* Open the `python` interpreter again\n",
    "  - Notice that you're going to run `python` outside of the virtual environment\n",
    "* Type `import sparsegrad`\n",
    "* It's not there!"
   ]
  },
  {
   "cell_type": "markdown",
   "metadata": {
    "slideshow": {
     "slide_type": "subslide"
    }
   },
   "source": [
    "## Summary so Far\n",
    "Hopefully you have the basic idea now of the utility of virtual environments for development purposes.\n",
    "\n",
    "They can also be useful for developers to share codes (deployment).\n",
    "\n",
    "Suppose you have a package that you want to share with me.\n",
    "\n",
    "You want to make it easy for me to install the dependencies, but otherwise you trust that I more or less know what I'm doing."
   ]
  },
  {
   "cell_type": "markdown",
   "metadata": {
    "slideshow": {
     "slide_type": "subslide"
    }
   },
   "source": [
    "## `virtualenv` and deployment\n",
    "* Reactivate your virtual environment (`source env/bin/activate`)\n",
    "* Type `pip freeze`\n",
    "  - You get a list of all the packages that were installed!\n",
    "* Put the list of installed packages into a file called `requirements.txt`"
   ]
  },
  {
   "cell_type": "markdown",
   "metadata": {
    "slideshow": {
     "slide_type": "subslide"
    }
   },
   "source": [
    "## A Scenario\n",
    "Here's a possible scenario:\n",
    "\n",
    "  * You send me the package (probably in an archive file like `.tar.gz`) and the `requirements.txt` file\n",
    "  * I create a directory called `myproj` and unpack the project into that directory\n",
    "  * Then I do the following:\n",
    "    - `virtualenv env`\n",
    "    - `source env/bin/activate`\n",
    "    - `pip install -r requirements.txt`"
   ]
  },
  {
   "cell_type": "markdown",
   "metadata": {
    "slideshow": {
     "slide_type": "subslide"
    }
   },
   "source": [
    "## Emulating a Scenario\n",
    "\n",
    "* Go into your `myproj` directory\n",
    "* Type `virtualenv env_dev` to make a new virtual enviroment\n",
    "* Type `source env_dev/bin/activate`\n",
    "* Type `pip install -r requirements.txt`\n",
    "\n",
    "Test it out by opening a `python` interpreter and trying to import `sparsegrad`."
   ]
  },
  {
   "cell_type": "markdown",
   "metadata": {
    "slideshow": {
     "slide_type": "subslide"
    }
   },
   "source": [
    "## Concluding Remarks\n",
    "\n",
    "#### Advantages\n",
    "* Pretty useful stuff if you're working with a fellow developer.\n",
    "* To remove all the things that we don't want, just remove the `env` and `env_dev` virtual environment directories.\n",
    "\n",
    "#### Disadvantages\n",
    "* Not so great if we want to deploy our package to a wider audience\n",
    "* The process can be streamlined a fair bit (e.g. [`Pipenv`](https://pipenv.readthedocs.io/en/latest/))"
   ]
  },
  {
   "cell_type": "markdown",
   "metadata": {
    "slideshow": {
     "slide_type": "slide"
    }
   },
   "source": [
    "# Deployment\n",
    "Now let's say you want to make your `Complex` package more widely available.\n",
    "\n",
    "You should follow the tutorial at [Packaging Python Projects](https://packaging.python.org/tutorials/packaging-projects/).\n",
    "\n",
    "Be sure to work with your package and not the tutorial practice package.\n",
    "\n",
    "Notes:  \n",
    "* Might need to use `conda install -c conda-forge twine` to get `twine`\n",
    "* You will need to verify your email address after you sign up for [`TestPyPI`](https://test.pypi.org/)"
   ]
  },
  {
   "cell_type": "markdown",
   "metadata": {
    "slideshow": {
     "slide_type": "subslide"
    }
   },
   "source": [
    "## Further notes on Deployment\n",
    "* Packaging in `python` can be a contentious topic (see the link at the beginning of this notebook)\n",
    "* For a pretty nice discussion on packaging in `python` refer to [An Overview of Packaging for Python](https://packaging.python.org/overview/)\n",
    "* For some more details on packaging in `python` see [Packaging and distributing projects](https://packaging.python.org/guides/distributing-packages-using-setuptools/)\n",
    "* Another packaging tutorial:  [How To Package Your Python Code](https://python-packaging.readthedocs.io/en/latest/index.html)"
   ]
  }
 ],
 "metadata": {
  "celltoolbar": "Slideshow",
  "kernelspec": {
   "display_name": "Python 3",
   "language": "python",
   "name": "python3"
  },
  "language_info": {
   "codemirror_mode": {
    "name": "ipython",
    "version": 3
   },
   "file_extension": ".py",
   "mimetype": "text/x-python",
   "name": "python",
   "nbconvert_exporter": "python",
   "pygments_lexer": "ipython3",
   "version": "3.6.6"
  }
 },
 "nbformat": 4,
 "nbformat_minor": 2
}
