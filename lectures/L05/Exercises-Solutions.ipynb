{
 "cells": [
  {
   "cell_type": "markdown",
   "metadata": {},
   "source": [
    "# Exercise 1\n",
    "\n",
    "Write a `Circle` class.\n",
    "\n",
    "#### Background\n",
    "The equation of a circle centered at the point $\\displaystyle \\left(x_{c}, y_{c}\\right)$ is given by \n",
    "\\begin{align}\n",
    "  \\left(x - x_{c}\\right)^{2} + \\left(y - y_{c}\\right)^{2} = r^{2}\n",
    "\\end{align}\n",
    "where $r$ is the radius of the circle.\n",
    "\n",
    "#### Requirements:\n",
    "* An instance of the `Circle` class should be initialized with two points: $\\left(x_{c}, y_{c}\\right)$ and $\\left(x, y\\right)$.  The first point is the point at which the circle is centered and the second point is any point that the circle should pass through.\n",
    "* You must include the initializer constructor (`__init__`).\n",
    "* Include methods to compute the radius, area, and circumference of the circle\n",
    "* Demo your `Circle` class\n",
    "\n",
    "#### Comments\n",
    "- You can write the class however you want, as long as it follows the interface outlined above.  For example, you could pass the points in as `tuples` or a `list` or a bunch of `scalars` or something else entirely.\n",
    "- You should test for and handle exceptions where necessary."
   ]
  },
  {
   "cell_type": "markdown",
   "metadata": {},
   "source": [
    "## Solution"
   ]
  },
  {
   "cell_type": "code",
   "execution_count": 1,
   "metadata": {},
   "outputs": [],
   "source": [
    "import numpy as np\n",
    "\n",
    "class Circle:\n",
    "    '''A class for circles\n",
    "      Constructor is initialized with two tuples, one for the center of the circle\n",
    "      and the other for a point on the circle.\n",
    "      \n",
    "      Methods include radius, area, and circum.  None of these methods accept any arguments.\n",
    "      \n",
    "      The user is not required to pre-compute the radius of the circle.  Exception testing is \n",
    "      done in area and circum to check for a circle radius.  If it doesn't exist, a radius is \n",
    "      computed.\n",
    "    '''\n",
    "    \n",
    "    def __init__(self, center, point):\n",
    "        self.xc = center[0]\n",
    "        self.yc = center[1]\n",
    "        self.x = point[0]\n",
    "        self.y = point[1]\n",
    "    \n",
    "    def radius(self):\n",
    "        x = self.x - self.xc\n",
    "        y = self.y - self.yc\n",
    "        self.R = np.sqrt(x * x + y * y)\n",
    "    \n",
    "    def area(self):\n",
    "        try:\n",
    "            self.A = np.pi * self.R* self.R\n",
    "        except AttributeError:\n",
    "            x = self.x - self.xc\n",
    "            y = self.y - self.yc\n",
    "            r = np.sqrt(x * x + y * y)\n",
    "            self.R = r\n",
    "            self.A = np.pi * r * r\n",
    "    \n",
    "    def circum(self):\n",
    "        try:\n",
    "            self.C =  2.0 * np.pi * self.R\n",
    "        except AttributeError:\n",
    "            x = self.x - self.xc\n",
    "            y = self.y - self.yc\n",
    "            r = np.sqrt(x * x + y * y)\n",
    "            self.R = r\n",
    "            self.C = 2.0 * np.pi * r"
   ]
  },
  {
   "cell_type": "code",
   "execution_count": 2,
   "metadata": {},
   "outputs": [
    {
     "name": "stdout",
     "output_type": "stream",
     "text": [
      "This circle has radius 3.1622776601683795.\n",
      "This circle has area 31.4159265358979347.\n",
      "This circle has circumference 19.8691765315922027.\n"
     ]
    }
   ],
   "source": [
    "centered_at = (1.0, 1.0) # Circle center\n",
    "through_point = (2.0, 4.0) # A point on the circle\n",
    "\n",
    "C1 = Circle(centered_at, through_point)\n",
    "\n",
    "C1.radius()\n",
    "C1.area()\n",
    "C1.circum()\n",
    "\n",
    "print(\"This circle has radius {0:17.16f}.\".format(C1.R))\n",
    "print(\"This circle has area {0:17.16f}.\".format(C1.A))\n",
    "print(\"This circle has circumference {0:17.16f}.\".format(C1.C))"
   ]
  }
 ],
 "metadata": {
  "kernelspec": {
   "display_name": "Python 3",
   "language": "python",
   "name": "python3"
  },
  "language_info": {
   "codemirror_mode": {
    "name": "ipython",
    "version": 3
   },
   "file_extension": ".py",
   "mimetype": "text/x-python",
   "name": "python",
   "nbconvert_exporter": "python",
   "pygments_lexer": "ipython3",
   "version": "3.6.5"
  }
 },
 "nbformat": 4,
 "nbformat_minor": 2
}
