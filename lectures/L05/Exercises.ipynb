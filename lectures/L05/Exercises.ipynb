{
 "cells": [
  {
   "cell_type": "markdown",
   "metadata": {},
   "source": [
    "# Exercise 1\n",
    "\n",
    "Write a `Circle` class.\n",
    "\n",
    "#### Background\n",
    "The equation of a circle centered at the point $\\displaystyle \\left(x_{c}, y_{c}\\right)$ is given by \n",
    "\\begin{align}\n",
    "  \\left(x - x_{c}\\right)^{2} + \\left(y - y_{c}\\right)^{2} = r^{2}\n",
    "\\end{align}\n",
    "where $r$ is the radius of the circle.\n",
    "\n",
    "#### Requirements:\n",
    "* An instance of the `Circle` class should be initialized with two points: $\\left(x_{c}, y_{c}\\right)$ and $\\left(x, y\\right)$.  The first point is the point at which the circle is centered and the second point is any point that the circle should pass through.\n",
    "* You must include the initializer constructor (`__init__`).\n",
    "* Include methods to compute the radius, area, and circumference of the circle\n",
    "* Demo your `Circle` class\n",
    "\n",
    "#### Comments\n",
    "- You can write the class however you want, as long as it follows the interface outlined above.  For example, you could pass the points in as `tuples` or a `list` or a bunch of `scalars` or something else entirely.\n",
    "- You should test for and handle exceptions where necessary."
   ]
  }
 ],
 "metadata": {
  "kernelspec": {
   "display_name": "Python 3",
   "language": "python",
   "name": "python3"
  },
  "language_info": {
   "codemirror_mode": {
    "name": "ipython",
    "version": 3
   },
   "file_extension": ".py",
   "mimetype": "text/x-python",
   "name": "python",
   "nbconvert_exporter": "python",
   "pygments_lexer": "ipython3",
   "version": "3.6.5"
  }
 },
 "nbformat": 4,
 "nbformat_minor": 2
}
