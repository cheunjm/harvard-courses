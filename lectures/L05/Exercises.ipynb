{
 "cells": [
  {
   "cell_type": "markdown",
   "metadata": {},
   "source": [
    "# Exercise 1\n",
    "\n",
    "Write a `Circle` class.\n",
    "\n",
    "#### Background\n",
    "The equation of a circle centered at the point $\\displaystyle \\left(x_{c}, y_{c}\\right)$ is given by \n",
    "\\begin{align}\n",
    "  \\left(x - x_{c}\\right)^{2} + \\left(y - y_{c}\\right)^{2} = r^{2}\n",
    "\\end{align}\n",
    "where $r$ is the radius of the circle.\n",
    "\n",
    "#### Requirements:\n",
    "* An instance of the `Circle` class should be initialized with two points: $\\left(x_{c}, y_{c}\\right)$ and $\\left(x, y\\right)$.  The first point is the point at which the circle is centered and the second point is any point that the circle should pass through.\n",
    "* You must include the initializer constructor (`__init__`).\n",
    "* Include methods to compute the radius, area, and circumference of the circle\n",
    "* Demo your `Circle` class\n",
    "\n",
    "#### Comments\n",
    "- You can write the class however you want, as long as it follows the interface outlined above.  For example, you could pass the points in as `tuples` or a `list` or a bunch of `scalars` or something else entirely.\n",
    "- You should test for and handle exceptions where necessary."
   ]
  },
  {
   "cell_type": "code",
   "execution_count": 71,
   "metadata": {},
   "outputs": [],
   "source": [
    "import math\n",
    "class Circle():\n",
    "    def __init__(self, center, point):\n",
    "        self.center = center\n",
    "        self.point = point\n",
    "    def radius(self):\n",
    "        return math.sqrt((self.point[0] - self.center[0])**2 + (self.point[1] - self.center[1])**2)\n",
    "    def area(self):\n",
    "        return math.pi * self.radius()**2\n",
    "    def circum(self):\n",
    "        return 2 * math.pi * self.radius()\n",
    "    "
   ]
  },
  {
   "cell_type": "code",
   "execution_count": 72,
   "metadata": {},
   "outputs": [],
   "source": [
    "center = (0,0)\n",
    "point = (1,1)\n",
    "c1 = Circle(center, point)"
   ]
  },
  {
   "cell_type": "code",
   "execution_count": 73,
   "metadata": {},
   "outputs": [
    {
     "data": {
      "text/plain": [
       "1.4142135623730951"
      ]
     },
     "execution_count": 73,
     "metadata": {},
     "output_type": "execute_result"
    }
   ],
   "source": [
    "c1.radius()"
   ]
  },
  {
   "cell_type": "code",
   "execution_count": 74,
   "metadata": {},
   "outputs": [
    {
     "data": {
      "text/plain": [
       "6.283185307179588"
      ]
     },
     "execution_count": 74,
     "metadata": {},
     "output_type": "execute_result"
    }
   ],
   "source": [
    "c1.area()"
   ]
  },
  {
   "cell_type": "code",
   "execution_count": 75,
   "metadata": {},
   "outputs": [
    {
     "data": {
      "text/plain": [
       "8.885765876316732"
      ]
     },
     "execution_count": 75,
     "metadata": {},
     "output_type": "execute_result"
    }
   ],
   "source": [
    "c1.circum()"
   ]
  },
  {
   "cell_type": "code",
   "execution_count": 76,
   "metadata": {},
   "outputs": [
    {
     "data": {
      "text/plain": [
       "6.283185307179588"
      ]
     },
     "execution_count": 76,
     "metadata": {},
     "output_type": "execute_result"
    }
   ],
   "source": [
    "c2 = Circle(center,point)\n",
    "c2.area()"
   ]
  },
  {
   "cell_type": "code",
   "execution_count": null,
   "metadata": {},
   "outputs": [],
   "source": []
  }
 ],
 "metadata": {
  "kernelspec": {
   "display_name": "Python 3",
   "language": "python",
   "name": "python3"
  },
  "language_info": {
   "codemirror_mode": {
    "name": "ipython",
    "version": 3
   },
   "file_extension": ".py",
   "mimetype": "text/x-python",
   "name": "python",
   "nbconvert_exporter": "python",
   "pygments_lexer": "ipython3",
   "version": "3.6.5"
  }
 },
 "nbformat": 4,
 "nbformat_minor": 2
}
