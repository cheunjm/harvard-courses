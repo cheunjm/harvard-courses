{
 "cells": [
  {
   "cell_type": "markdown",
   "metadata": {},
   "source": [
    "# Exercise: \"Private\" Methods and Names in Python\n",
    "\n",
    "## Background\n",
    "We will consider two extensions to the real numbers:  complex numbers and dual numbers.  A complex number is defined as $$z = a + ib$$ where $i^{2} = -1$.  $a$ is the real part and $b$ is the imaginary part.  The polar form of a complex number is $$z = \\left|z\\right|e^{i\\theta}$$ where $\\left|z\\right| = zz^{*} = a^{2} + b^{2}$ and $z^{*} = a - ib$ is the complex conjugate of $z$.  The angle between $a$ and $b$ is given by $$\\theta = \\tan^{-1}\\left(\\frac{b}{a}\\right).$$\n",
    "\n",
    "The dual numbers look similar.  We have $d = a + \\epsilon b$ where $\\epsilon$ is a number (not zero!) such that $\\epsilon^{2} = 0$.  Once again $a$ is the real part, but here $b$ is the dual part.  The polar form of this number is \n",
    "$$d = \\displaystyle a\\left(1 + \\epsilon \\frac{b}{a}\\right).$$  Note that the magnitude of the dual number $\\left|d\\right| = a$ since $dd^{*} = \\left(a + \\epsilon b\\right)\\left(a - \\epsilon b\\right) = a$ where $d^{*} = a - \\epsilon b$ is the conjugate of $d$.\n",
    "\n",
    "Dual numbers are a route to automatic differentiation.  We'll mention them again next week in the AD lectures.\n",
    "\n",
    "## Problem Description\n",
    "\n",
    "### Part 1\n",
    "For today, your task is to write a module called `mynumbers.py`.  The module should contain, at a minimum the following:\n",
    "* A base class called `RealExtensions` with a constructor that accepts $a$ and $b$.\n",
    "* A subclass called `Complex` (inherits from `RealExtensions`) that has the following methods:\n",
    "  * Compute the magnitude of the complex number\n",
    "    * **Note:** This method should be preceeded by a single underscore to indicate that it should not be accessed by a user.\n",
    "  * Compute the \"angle\" of the complex number\n",
    "    * **Note:** This method should be preceeded by a single underscore to indicate that it should not be accessed by a user.\n",
    "  * Compute the polar form of the complex number using `_magnitude()` and `_angle()`\n",
    "* A subclass called `Dual` (inherits from `RealExtensions`) that has methods for compute the magnitude and \"angle\" of the dual number.\n",
    "  * Compute the magnitude of the dual number\n",
    "    * **Note:** This method should be preceeded by a single underscore to indicate that it should not be accessed by a user.\n",
    "  * Compute the \"angle\" of the dual number\n",
    "    * **Note:** This method should be preceeded by a single underscore to indicate that it should not be accessed by a user.\n",
    "  * Compute the polar form of the dual number using `_magnitude()` and `_angle()`\n",
    "\n",
    "The choice of \"hiding\" the `magnitude()` and `angle()` methods may not be a good one.  The goal is to show that this is not really privacy; it's more of a contract between people using the code.  Note that a user can still access `_magnitude()` and `_angle()`.\n",
    "\n",
    "#### Import your module using `import mynumbers` and play around with creating complex and dual numbers.\n",
    "\n",
    "### Part 2\n",
    "Once you're happy with your module, make the following change:\n",
    "* Rename the `Complex` subclass as `_Complex`\n",
    "* Now import your module using `from mynumbers import *`\n",
    "* Try to create a complex number.  What happens?\n",
    "  * **Note:** You can use `dir()` to see what's in your namespace.\n",
    "\n",
    "### Part 3\n",
    "This part is open-ended.  Can you think of a situation in which you may want to use name-mangling for this problem?  Think about a case where a subclass might redefine a method or name from the superclass, but the superclass should still have access to the name."
   ]
  },
  {
   "cell_type": "code",
   "execution_count": 1,
   "metadata": {},
   "outputs": [
    {
     "name": "stdout",
     "output_type": "stream",
     "text": [
      "5\n",
      "(1.4142135623730951, 0.7853981633974483)\n",
      "(2, 1.5)\n"
     ]
    }
   ],
   "source": [
    "# Part 1\n",
    "import mynumbers\n",
    "\n",
    "c1 = mynumbers.Complex(1, 1)\n",
    "print(c1.polar())\n",
    "\n",
    "c2 = mynumbers.Dual(2, 3)\n",
    "print(c2.polar())"
   ]
  },
  {
   "cell_type": "code",
   "execution_count": 2,
   "metadata": {},
   "outputs": [
    {
     "ename": "AttributeError",
     "evalue": "'super' object has no attribute '_Complex__magnitude'",
     "output_type": "error",
     "traceback": [
      "\u001b[0;31m---------------------------------------------------------------------------\u001b[0m",
      "\u001b[0;31mAttributeError\u001b[0m                            Traceback (most recent call last)",
      "\u001b[0;32m<ipython-input-2-6fff76d78270>\u001b[0m in \u001b[0;36m<module>\u001b[0;34m()\u001b[0m\n\u001b[1;32m      3\u001b[0m \u001b[0;34m\u001b[0m\u001b[0m\n\u001b[1;32m      4\u001b[0m \u001b[0mc1\u001b[0m \u001b[0;34m=\u001b[0m \u001b[0mComplex\u001b[0m\u001b[0;34m(\u001b[0m\u001b[0;36m1\u001b[0m\u001b[0;34m,\u001b[0m \u001b[0;36m1\u001b[0m\u001b[0;34m)\u001b[0m\u001b[0;34m\u001b[0m\u001b[0m\n\u001b[0;32m----> 5\u001b[0;31m \u001b[0mprint\u001b[0m\u001b[0;34m(\u001b[0m\u001b[0mc1\u001b[0m\u001b[0;34m.\u001b[0m\u001b[0mpolar\u001b[0m\u001b[0;34m(\u001b[0m\u001b[0;34m)\u001b[0m\u001b[0;34m)\u001b[0m\u001b[0;34m\u001b[0m\u001b[0m\n\u001b[0m",
      "\u001b[0;32m~/Documents/harvard/CS207/cs207_jaemin_cheun/lectures/L08/mynumbers.py\u001b[0m in \u001b[0;36mpolar\u001b[0;34m(self)\u001b[0m\n\u001b[1;32m     20\u001b[0m     \u001b[0;32mreturn\u001b[0m \u001b[0mmath\u001b[0m\u001b[0;34m.\u001b[0m\u001b[0matan2\u001b[0m\u001b[0;34m(\u001b[0m\u001b[0mself\u001b[0m\u001b[0;34m.\u001b[0m\u001b[0mb\u001b[0m\u001b[0;34m,\u001b[0m \u001b[0mself\u001b[0m\u001b[0;34m.\u001b[0m\u001b[0ma\u001b[0m\u001b[0;34m)\u001b[0m\u001b[0;34m\u001b[0m\u001b[0m\n\u001b[1;32m     21\u001b[0m   \u001b[0;32mdef\u001b[0m \u001b[0mpolar\u001b[0m\u001b[0;34m(\u001b[0m\u001b[0mself\u001b[0m\u001b[0;34m)\u001b[0m\u001b[0;34m:\u001b[0m\u001b[0;34m\u001b[0m\u001b[0m\n\u001b[0;32m---> 22\u001b[0;31m     \u001b[0;32mreturn\u001b[0m \u001b[0;34m(\u001b[0m\u001b[0mself\u001b[0m\u001b[0;34m.\u001b[0m\u001b[0m_magnitude\u001b[0m\u001b[0;34m(\u001b[0m\u001b[0;34m)\u001b[0m\u001b[0;34m,\u001b[0m \u001b[0mself\u001b[0m\u001b[0;34m.\u001b[0m\u001b[0m_angle\u001b[0m\u001b[0;34m(\u001b[0m\u001b[0;34m)\u001b[0m\u001b[0;34m)\u001b[0m\u001b[0;34m\u001b[0m\u001b[0m\n\u001b[0m\u001b[1;32m     23\u001b[0m \u001b[0;34m\u001b[0m\u001b[0m\n\u001b[1;32m     24\u001b[0m \u001b[0;32mclass\u001b[0m \u001b[0mDual\u001b[0m\u001b[0;34m(\u001b[0m\u001b[0mRealExtensions\u001b[0m\u001b[0;34m)\u001b[0m\u001b[0;34m:\u001b[0m\u001b[0;34m\u001b[0m\u001b[0m\n",
      "\u001b[0;32m~/Documents/harvard/CS207/cs207_jaemin_cheun/lectures/L08/mynumbers.py\u001b[0m in \u001b[0;36m_magnitude\u001b[0;34m(self)\u001b[0m\n\u001b[1;32m     15\u001b[0m \u001b[0;32mclass\u001b[0m \u001b[0mComplex\u001b[0m\u001b[0;34m(\u001b[0m\u001b[0mRealExtensions\u001b[0m\u001b[0;34m)\u001b[0m\u001b[0;34m:\u001b[0m\u001b[0;34m\u001b[0m\u001b[0m\n\u001b[1;32m     16\u001b[0m   \u001b[0;32mdef\u001b[0m \u001b[0m_magnitude\u001b[0m\u001b[0;34m(\u001b[0m\u001b[0mself\u001b[0m\u001b[0;34m)\u001b[0m\u001b[0;34m:\u001b[0m\u001b[0;34m\u001b[0m\u001b[0m\n\u001b[0;32m---> 17\u001b[0;31m     \u001b[0msuper\u001b[0m\u001b[0;34m(\u001b[0m\u001b[0;34m)\u001b[0m\u001b[0;34m.\u001b[0m\u001b[0m_magnitude\u001b[0m\u001b[0;34m(\u001b[0m\u001b[0mself\u001b[0m\u001b[0;34m)\u001b[0m\u001b[0;34m\u001b[0m\u001b[0m\n\u001b[0m\u001b[1;32m     18\u001b[0m     \u001b[0;32mreturn\u001b[0m \u001b[0mmath\u001b[0m\u001b[0;34m.\u001b[0m\u001b[0msqrt\u001b[0m\u001b[0;34m(\u001b[0m\u001b[0mself\u001b[0m\u001b[0;34m.\u001b[0m\u001b[0ma\u001b[0m \u001b[0;34m**\u001b[0m \u001b[0;36m2\u001b[0m \u001b[0;34m+\u001b[0m \u001b[0mself\u001b[0m\u001b[0;34m.\u001b[0m\u001b[0mb\u001b[0m \u001b[0;34m**\u001b[0m \u001b[0;36m2\u001b[0m\u001b[0;34m)\u001b[0m\u001b[0;34m\u001b[0m\u001b[0m\n\u001b[1;32m     19\u001b[0m   \u001b[0;32mdef\u001b[0m \u001b[0m_angle\u001b[0m\u001b[0;34m(\u001b[0m\u001b[0mself\u001b[0m\u001b[0;34m)\u001b[0m\u001b[0;34m:\u001b[0m\u001b[0;34m\u001b[0m\u001b[0m\n",
      "\u001b[0;31mAttributeError\u001b[0m: 'super' object has no attribute '_Complex__magnitude'"
     ]
    }
   ],
   "source": [
    "# Part 2\n",
    "from mynumbers import *\n",
    "\n",
    "c1 = Complex(1, 1)\n",
    "print(c1.polar())"
   ]
  },
  {
   "cell_type": "markdown",
   "metadata": {},
   "source": [
    "As we can see, class Complex is not found (is private)"
   ]
  },
  {
   "cell_type": "code",
   "execution_count": 2,
   "metadata": {
    "scrolled": true
   },
   "outputs": [
    {
     "data": {
      "text/plain": [
       "['Complex',\n",
       " 'Dual',\n",
       " 'RealExtensions',\n",
       " '__builtins__',\n",
       " '__cached__',\n",
       " '__doc__',\n",
       " '__file__',\n",
       " '__loader__',\n",
       " '__name__',\n",
       " '__package__',\n",
       " '__spec__',\n",
       " 'math']"
      ]
     },
     "execution_count": 2,
     "metadata": {},
     "output_type": "execute_result"
    }
   ],
   "source": [
    "import mynumbers\n",
    "dir(mynumbers)"
   ]
  },
  {
   "cell_type": "markdown",
   "metadata": {},
   "source": [
    "### part 3"
   ]
  },
  {
   "cell_type": "markdown",
   "metadata": {},
   "source": [
    "Imagine a case where users are allowed to access the angle method only from the Dual Class, not from the Complex Class. In this case, we will put an underscore for the angle method in Complex Class. However, because there is no underscore for the RealExtensions class, the angle method from the subclasses that extends "
   ]
  },
  {
   "cell_type": "code",
   "execution_count": null,
   "metadata": {},
   "outputs": [],
   "source": []
  }
 ],
 "metadata": {
  "kernelspec": {
   "display_name": "Python 3",
   "language": "python",
   "name": "python3"
  },
  "language_info": {
   "codemirror_mode": {
    "name": "ipython",
    "version": 3
   },
   "file_extension": ".py",
   "mimetype": "text/x-python",
   "name": "python",
   "nbconvert_exporter": "python",
   "pygments_lexer": "ipython3",
   "version": "3.6.5"
  }
 },
 "nbformat": 4,
 "nbformat_minor": 2
}
